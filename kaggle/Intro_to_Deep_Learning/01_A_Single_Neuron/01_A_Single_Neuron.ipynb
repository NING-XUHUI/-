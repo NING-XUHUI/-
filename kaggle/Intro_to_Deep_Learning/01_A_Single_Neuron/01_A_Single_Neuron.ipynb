{
 "cells": [
  {
   "cell_type": "code",
   "execution_count": 1,
   "metadata": {
    "collapsed": true
   },
   "outputs": [],
   "source": [
    "import matplotlib.pyplot as plt\n",
    "\n",
    "plt.style.use('seaborn-whitegrid')\n",
    "# Set Matplotlib defaults\n",
    "plt.rc('figure', autolayout=True)\n",
    "plt.rc('axes', labelweight='bold', labelsize='large',\n",
    "       titleweight='bold', titlesize=18, titlepad=10)"
   ]
  },
  {
   "cell_type": "code",
   "execution_count": 2,
   "outputs": [
    {
     "data": {
      "text/plain": "   fixed acidity  volatile acidity  citric acid  residual sugar  chlorides  \\\n0            7.4              0.70         0.00             1.9      0.076   \n1            7.8              0.88         0.00             2.6      0.098   \n2            7.8              0.76         0.04             2.3      0.092   \n3           11.2              0.28         0.56             1.9      0.075   \n4            7.4              0.70         0.00             1.9      0.076   \n\n   free sulfur dioxide  total sulfur dioxide  density    pH  sulphates  \\\n0                 11.0                  34.0   0.9978  3.51       0.56   \n1                 25.0                  67.0   0.9968  3.20       0.68   \n2                 15.0                  54.0   0.9970  3.26       0.65   \n3                 17.0                  60.0   0.9980  3.16       0.58   \n4                 11.0                  34.0   0.9978  3.51       0.56   \n\n   alcohol  quality  \n0      9.4        5  \n1      9.8        5  \n2      9.8        5  \n3      9.8        6  \n4      9.4        5  ",
      "text/html": "<div>\n<style scoped>\n    .dataframe tbody tr th:only-of-type {\n        vertical-align: middle;\n    }\n\n    .dataframe tbody tr th {\n        vertical-align: top;\n    }\n\n    .dataframe thead th {\n        text-align: right;\n    }\n</style>\n<table border=\"1\" class=\"dataframe\">\n  <thead>\n    <tr style=\"text-align: right;\">\n      <th></th>\n      <th>fixed acidity</th>\n      <th>volatile acidity</th>\n      <th>citric acid</th>\n      <th>residual sugar</th>\n      <th>chlorides</th>\n      <th>free sulfur dioxide</th>\n      <th>total sulfur dioxide</th>\n      <th>density</th>\n      <th>pH</th>\n      <th>sulphates</th>\n      <th>alcohol</th>\n      <th>quality</th>\n    </tr>\n  </thead>\n  <tbody>\n    <tr>\n      <th>0</th>\n      <td>7.4</td>\n      <td>0.70</td>\n      <td>0.00</td>\n      <td>1.9</td>\n      <td>0.076</td>\n      <td>11.0</td>\n      <td>34.0</td>\n      <td>0.9978</td>\n      <td>3.51</td>\n      <td>0.56</td>\n      <td>9.4</td>\n      <td>5</td>\n    </tr>\n    <tr>\n      <th>1</th>\n      <td>7.8</td>\n      <td>0.88</td>\n      <td>0.00</td>\n      <td>2.6</td>\n      <td>0.098</td>\n      <td>25.0</td>\n      <td>67.0</td>\n      <td>0.9968</td>\n      <td>3.20</td>\n      <td>0.68</td>\n      <td>9.8</td>\n      <td>5</td>\n    </tr>\n    <tr>\n      <th>2</th>\n      <td>7.8</td>\n      <td>0.76</td>\n      <td>0.04</td>\n      <td>2.3</td>\n      <td>0.092</td>\n      <td>15.0</td>\n      <td>54.0</td>\n      <td>0.9970</td>\n      <td>3.26</td>\n      <td>0.65</td>\n      <td>9.8</td>\n      <td>5</td>\n    </tr>\n    <tr>\n      <th>3</th>\n      <td>11.2</td>\n      <td>0.28</td>\n      <td>0.56</td>\n      <td>1.9</td>\n      <td>0.075</td>\n      <td>17.0</td>\n      <td>60.0</td>\n      <td>0.9980</td>\n      <td>3.16</td>\n      <td>0.58</td>\n      <td>9.8</td>\n      <td>6</td>\n    </tr>\n    <tr>\n      <th>4</th>\n      <td>7.4</td>\n      <td>0.70</td>\n      <td>0.00</td>\n      <td>1.9</td>\n      <td>0.076</td>\n      <td>11.0</td>\n      <td>34.0</td>\n      <td>0.9978</td>\n      <td>3.51</td>\n      <td>0.56</td>\n      <td>9.4</td>\n      <td>5</td>\n    </tr>\n  </tbody>\n</table>\n</div>"
     },
     "execution_count": 2,
     "metadata": {},
     "output_type": "execute_result"
    }
   ],
   "source": [
    "import pandas as pd\n",
    "\n",
    "red_wine = pd.read_csv('../../datasets/Intro_to_Deep_Learning/winequality-red.csv')\n",
    "red_wine.head()"
   ],
   "metadata": {
    "collapsed": false,
    "pycharm": {
     "name": "#%%\n"
    }
   }
  },
  {
   "cell_type": "code",
   "execution_count": 3,
   "outputs": [
    {
     "data": {
      "text/plain": "(1599, 12)"
     },
     "execution_count": 3,
     "metadata": {},
     "output_type": "execute_result"
    }
   ],
   "source": [
    "red_wine.shape"
   ],
   "metadata": {
    "collapsed": false,
    "pycharm": {
     "name": "#%%\n"
    }
   }
  },
  {
   "cell_type": "markdown",
   "source": [
    "# Input shape\n",
    "\n",
    "How well can we predict a wine's perceived quality from the physiochemical measurements ?\n",
    "\n",
    "The traget is `quality`, and the remaining columns are the features. How would you set the\n",
    "`input_shape` parameter for Keras model on this task ?\n",
    "\n"
   ],
   "metadata": {
    "collapsed": false,
    "pycharm": {
     "name": "#%% md\n"
    }
   }
  },
  {
   "cell_type": "code",
   "execution_count": 4,
   "outputs": [],
   "source": [
    "input_shape = [11]\n"
   ],
   "metadata": {
    "collapsed": false,
    "pycharm": {
     "name": "#%%\n"
    }
   }
  },
  {
   "cell_type": "markdown",
   "source": [
    "# Define a linear model\n",
    "\n",
    "Now define a linear model appropriate for this task. Pay attention to how many inputs\n",
    "and outputs the model should have.\n",
    "\n"
   ],
   "metadata": {
    "collapsed": false,
    "pycharm": {
     "name": "#%% md\n"
    }
   }
  },
  {
   "cell_type": "code",
   "execution_count": 5,
   "outputs": [],
   "source": [
    "from tensorflow import keras\n",
    "from tensorflow.keras import layers\n",
    "\n",
    "model = keras.Sequential([\n",
    "    layers.Dense(units=1, input_shape=input_shape)\n",
    "])"
   ],
   "metadata": {
    "collapsed": false,
    "pycharm": {
     "name": "#%%\n"
    }
   }
  },
  {
   "cell_type": "markdown",
   "source": [
    "# Look at the weights\n",
    "\n",
    "Internally, Keras represents the weights of a neural network with tensors. Tensors are\n",
    "basically TensorFlow's version of a Numpy array with a few differences that make them\n",
    "better suited to deep learning. One of the most important is that tensors are compatible\n",
    "with GPU and TPU accelerators. TPUs, in fact, are designed specifically for tensor computations\n",
    "\n",
    "A model's weights are kept in its `weights` attribute as a list of tensors. Get the weights\n",
    "of the model you defined above."
   ],
   "metadata": {
    "collapsed": false,
    "pycharm": {
     "name": "#%% md\n"
    }
   }
  },
  {
   "cell_type": "code",
   "execution_count": 6,
   "outputs": [],
   "source": [
    "w, b = model.weights"
   ],
   "metadata": {
    "collapsed": false,
    "pycharm": {
     "name": "#%%\n"
    }
   }
  },
  {
   "cell_type": "code",
   "execution_count": 7,
   "outputs": [
    {
     "name": "stdout",
     "output_type": "stream",
     "text": [
      "Weight\n",
      "<tf.Variable 'dense/kernel:0' shape=(11, 1) dtype=float32, numpy=\n",
      "array([[ 0.57458574],\n",
      "       [-0.1868397 ],\n",
      "       [-0.22611445],\n",
      "       [ 0.40740222],\n",
      "       [-0.13250327],\n",
      "       [-0.41260836],\n",
      "       [ 0.6218403 ],\n",
      "       [-0.08806312],\n",
      "       [ 0.23242807],\n",
      "       [-0.5536336 ],\n",
      "       [ 0.62915164]], dtype=float32)>\n",
      "\n",
      "Bias\n",
      "<tf.Variable 'dense/bias:0' shape=(1,) dtype=float32, numpy=array([0.], dtype=float32)>\n"
     ]
    }
   ],
   "source": [
    "print(\"Weight\\n{}\\n\\nBias\\n{}\".format(w, b))"
   ],
   "metadata": {
    "collapsed": false,
    "pycharm": {
     "name": "#%%\n"
    }
   }
  },
  {
   "cell_type": "markdown",
   "source": [
    "# Optional :Plot the output of an untrained linear model"
   ],
   "metadata": {
    "collapsed": false,
    "pycharm": {
     "name": "#%% md\n"
    }
   }
  },
  {
   "cell_type": "code",
   "execution_count": 12,
   "outputs": [],
   "source": [
    "import tensorflow as tf\n",
    "import matplotlib.pyplot as plt\n",
    "\n",
    "model = keras.Sequential([\n",
    "    layers.Dense(1, input_shape=[1]),\n",
    "])\n",
    "\n",
    "x = tf.linspace(-1.0, 1.0, 100)\n",
    "y = model(x)"
   ],
   "metadata": {
    "collapsed": false,
    "pycharm": {
     "name": "#%%\n"
    }
   }
  },
  {
   "cell_type": "code",
   "execution_count": 13,
   "outputs": [
    {
     "data": {
      "text/plain": "<tf.Tensor: shape=(100,), dtype=float32, numpy=\narray([-1.        , -0.97979796, -0.959596  , -0.93939394, -0.9191919 ,\n       -0.8989899 , -0.8787879 , -0.85858583, -0.83838385, -0.8181818 ,\n       -0.79797983, -0.7777778 , -0.75757575, -0.7373737 , -0.7171717 ,\n       -0.6969697 , -0.6767677 , -0.65656567, -0.6363636 , -0.6161616 ,\n       -0.5959596 , -0.57575756, -0.5555556 , -0.53535354, -0.5151515 ,\n       -0.49494952, -0.47474748, -0.45454544, -0.43434346, -0.41414142,\n       -0.39393938, -0.3737374 , -0.35353535, -0.3333333 , -0.31313133,\n       -0.2929293 , -0.27272725, -0.25252527, -0.23232323, -0.21212119,\n       -0.19191921, -0.17171717, -0.15151513, -0.13131315, -0.1111111 ,\n       -0.09090906, -0.07070708, -0.05050504, -0.030303  , -0.01010102,\n        0.01010096,  0.030303  ,  0.05050504,  0.07070708,  0.09090912,\n        0.11111116,  0.13131309,  0.15151513,  0.17171717,  0.19191921,\n        0.21212125,  0.23232329,  0.2525252 ,  0.27272725,  0.2929293 ,\n        0.31313133,  0.33333337,  0.3535353 ,  0.37373734,  0.39393938,\n        0.41414142,  0.43434346,  0.4545455 ,  0.47474742,  0.49494946,\n        0.5151515 ,  0.53535354,  0.5555556 ,  0.5757576 ,  0.59595954,\n        0.6161616 ,  0.6363636 ,  0.65656567,  0.6767677 ,  0.69696975,\n        0.71717167,  0.7373737 ,  0.75757575,  0.7777778 ,  0.79797983,\n        0.8181819 ,  0.8383838 ,  0.85858583,  0.8787879 ,  0.8989899 ,\n        0.91919196,  0.939394  ,  0.9595959 ,  0.97979796,  1.        ],\n      dtype=float32)>"
     },
     "execution_count": 13,
     "metadata": {},
     "output_type": "execute_result"
    }
   ],
   "source": [
    "x"
   ],
   "metadata": {
    "collapsed": false,
    "pycharm": {
     "name": "#%%\n"
    }
   }
  },
  {
   "cell_type": "code",
   "execution_count": 14,
   "outputs": [
    {
     "data": {
      "text/plain": "<tf.Tensor: shape=(100, 1), dtype=float32, numpy=\narray([[ 0.8860037 ],\n       [ 0.8681046 ],\n       [ 0.85020554],\n       [ 0.8323065 ],\n       [ 0.8144074 ],\n       [ 0.7965084 ],\n       [ 0.7786093 ],\n       [ 0.7607102 ],\n       [ 0.7428112 ],\n       [ 0.7249121 ],\n       [ 0.7070131 ],\n       [ 0.689114  ],\n       [ 0.6712149 ],\n       [ 0.65331584],\n       [ 0.6354168 ],\n       [ 0.6175177 ],\n       [ 0.5996187 ],\n       [ 0.5817196 ],\n       [ 0.5638205 ],\n       [ 0.54592144],\n       [ 0.5280224 ],\n       [ 0.5101233 ],\n       [ 0.49222428],\n       [ 0.4743252 ],\n       [ 0.4564261 ],\n       [ 0.4385271 ],\n       [ 0.420628  ],\n       [ 0.40272892],\n       [ 0.3848299 ],\n       [ 0.3669308 ],\n       [ 0.34903175],\n       [ 0.3311327 ],\n       [ 0.3132336 ],\n       [ 0.29533455],\n       [ 0.2774355 ],\n       [ 0.25953642],\n       [ 0.24163735],\n       [ 0.22373831],\n       [ 0.20583923],\n       [ 0.18794015],\n       [ 0.17004113],\n       [ 0.15214205],\n       [ 0.13424295],\n       [ 0.11634393],\n       [ 0.09844485],\n       [ 0.08054577],\n       [ 0.06264673],\n       [ 0.04474765],\n       [ 0.02684857],\n       [ 0.00894954],\n       [-0.00894949],\n       [-0.02684857],\n       [-0.04474765],\n       [-0.06264673],\n       [-0.08054582],\n       [-0.0984449 ],\n       [-0.11634388],\n       [-0.13424295],\n       [-0.15214205],\n       [-0.17004113],\n       [-0.18794021],\n       [-0.20583929],\n       [-0.22373827],\n       [-0.24163735],\n       [-0.25953642],\n       [-0.2774355 ],\n       [-0.2953346 ],\n       [-0.31323358],\n       [-0.33113265],\n       [-0.34903175],\n       [-0.3669308 ],\n       [-0.3848299 ],\n       [-0.40272897],\n       [-0.42062795],\n       [-0.43852705],\n       [-0.4564261 ],\n       [-0.4743252 ],\n       [-0.49222428],\n       [-0.5101234 ],\n       [-0.52802235],\n       [-0.54592144],\n       [-0.5638205 ],\n       [-0.5817196 ],\n       [-0.5996187 ],\n       [-0.61751777],\n       [-0.63541675],\n       [-0.65331584],\n       [-0.6712149 ],\n       [-0.689114  ],\n       [-0.7070131 ],\n       [-0.72491217],\n       [-0.74281114],\n       [-0.7607102 ],\n       [-0.7786093 ],\n       [-0.7965084 ],\n       [-0.81440747],\n       [-0.8323065 ],\n       [-0.8502055 ],\n       [-0.8681046 ],\n       [-0.8860037 ]], dtype=float32)>"
     },
     "execution_count": 14,
     "metadata": {},
     "output_type": "execute_result"
    }
   ],
   "source": [
    "y"
   ],
   "metadata": {
    "collapsed": false,
    "pycharm": {
     "name": "#%%\n"
    }
   }
  },
  {
   "cell_type": "code",
   "execution_count": 15,
   "outputs": [
    {
     "data": {
      "text/plain": "<Figure size 600x400 with 1 Axes>",
      "image/png": "[encoded data removed]"
     },
     "metadata": {},
     "output_type": "display_data"
    }
   ],
   "source": [
    "plt.figure(dpi=100)\n",
    "plt.plot(x, y, 'k')\n",
    "plt.xlim(-1, 1)\n",
    "plt.ylim(-1, 1)\n",
    "plt.xlabel(\"Input: x\")\n",
    "plt.ylabel(\"Target y\")\n",
    "w, b = model.weights\n",
    "plt.title(\"Weight:{:0.2f}\\nBias:{:0.2f}\".format(w[0][0], b[0]))\n",
    "plt.show()"
   ],
   "metadata": {
    "collapsed": false,
    "pycharm": {
     "name": "#%%\n"
    }
   }
  },
  {
   "cell_type": "code",
   "execution_count": null,
   "outputs": [],
   "source": [],
   "metadata": {
    "collapsed": false,
    "pycharm": {
     "name": "#%%\n"
    }
   }
  }
 ],
 "metadata": {
  "kernelspec": {
   "display_name": "Python 3",
   "language": "python",
   "name": "python3"
  },
  "language_info": {
   "codemirror_mode": {
    "name": "ipython",
    "version": 2
   },
   "file_extension": ".py",
   "mimetype": "text/x-python",
   "name": "python",
   "nbconvert_exporter": "python",
   "pygments_lexer": "ipython2",
   "version": "2.7.6"
  }
 },
 "nbformat": 4,
 "nbformat_minor": 0
}