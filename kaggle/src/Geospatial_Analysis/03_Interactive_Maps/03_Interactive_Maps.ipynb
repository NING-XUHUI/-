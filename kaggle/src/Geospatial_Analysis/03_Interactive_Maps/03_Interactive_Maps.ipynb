{
 "cells": [
  {
   "cell_type": "code",
   "execution_count": 1,
   "metadata": {
    "collapsed": true,
    "pycharm": {
     "name": "#%%\n"
    }
   },
   "outputs": [],
   "source": [
    "import folium\n",
    "import pandas as pd\n",
    "import geopandas as gpd\n",
    "from folium import Choropleth\n",
    "from folium.plugins import HeatMap\n",
    "\n",
    "from learntools.core import binder\n",
    "binder.bind(globals())\n",
    "from learntools.geospatial.ex3 import *"
   ]
  },
  {
   "cell_type": "code",
   "execution_count": 2,
   "outputs": [],
   "source": [
    "def embed_map(m, file_name):\n",
    "    from IPython.display import IFrame\n",
    "    m.save(file_name)\n",
    "    return IFrame(file_name, width='100%', height='500px')"
   ],
   "metadata": {
    "collapsed": false,
    "pycharm": {
     "name": "#%%\n"
    }
   }
  },
  {
   "cell_type": "markdown",
   "source": [
    "## Do earthquake coincide with plate boundaries ?"
   ],
   "metadata": {
    "collapsed": false,
    "pycharm": {
     "name": "#%% md\n"
    }
   }
  },
  {
   "cell_type": "code",
   "execution_count": 3,
   "outputs": [
    {
     "data": {
      "text/plain": "  HAZ_PLATES                                         HAZ_PLAT_1  HAZ_PLAT_2  \\\n0     TRENCH                              SERAM TROUGH (ACTIVE)        6722   \n1     TRENCH                                       WETAR THRUST        6722   \n2     TRENCH  TRENCH WEST OF LUZON (MANILA TRENCH) NORTHERN ...        6621   \n3     TRENCH                                       BONIN TRENCH        9821   \n4     TRENCH                                  NEW GUINEA TRENCH        8001   \n\n   Shape_Leng                                        coordinates  \n0    5.843467  [(133.6808931800001, -5.444200361999947), (133...  \n1    1.829013  [(125.47879802900002, -7.760600482999962), (12...  \n2    6.743604  [(120.09999798800004, 19.817899819000047), (12...  \n3    8.329381  [(143.20620700100005, 26.175899215000072), (14...  \n4   11.998145  [(132.8273013480001, 0.41880004000006466), (13...  ",
      "text/html": "<div>\n<style scoped>\n    .dataframe tbody tr th:only-of-type {\n        vertical-align: middle;\n    }\n\n    .dataframe tbody tr th {\n        vertical-align: top;\n    }\n\n    .dataframe thead th {\n        text-align: right;\n    }\n</style>\n<table border=\"1\" class=\"dataframe\">\n  <thead>\n    <tr style=\"text-align: right;\">\n      <th></th>\n      <th>HAZ_PLATES</th>\n      <th>HAZ_PLAT_1</th>\n      <th>HAZ_PLAT_2</th>\n      <th>Shape_Leng</th>\n      <th>coordinates</th>\n    </tr>\n  </thead>\n  <tbody>\n    <tr>\n      <th>0</th>\n      <td>TRENCH</td>\n      <td>SERAM TROUGH (ACTIVE)</td>\n      <td>6722</td>\n      <td>5.843467</td>\n      <td>[(133.6808931800001, -5.444200361999947), (133...</td>\n    </tr>\n    <tr>\n      <th>1</th>\n      <td>TRENCH</td>\n      <td>WETAR THRUST</td>\n      <td>6722</td>\n      <td>1.829013</td>\n      <td>[(125.47879802900002, -7.760600482999962), (12...</td>\n    </tr>\n    <tr>\n      <th>2</th>\n      <td>TRENCH</td>\n      <td>TRENCH WEST OF LUZON (MANILA TRENCH) NORTHERN ...</td>\n      <td>6621</td>\n      <td>6.743604</td>\n      <td>[(120.09999798800004, 19.817899819000047), (12...</td>\n    </tr>\n    <tr>\n      <th>3</th>\n      <td>TRENCH</td>\n      <td>BONIN TRENCH</td>\n      <td>9821</td>\n      <td>8.329381</td>\n      <td>[(143.20620700100005, 26.175899215000072), (14...</td>\n    </tr>\n    <tr>\n      <th>4</th>\n      <td>TRENCH</td>\n      <td>NEW GUINEA TRENCH</td>\n      <td>8001</td>\n      <td>11.998145</td>\n      <td>[(132.8273013480001, 0.41880004000006466), (13...</td>\n    </tr>\n  </tbody>\n</table>\n</div>"
     },
     "execution_count": 3,
     "metadata": {},
     "output_type": "execute_result"
    }
   ],
   "source": [
    "plate_boundaries = gpd.read_file('../../../datasets/Geospatial_Analysis/geospatial-learn-course-data/Plate_Boundaries/Plate_Boundaries/Plate_Boundaries.shp')\n",
    "plate_boundaries['coordinates'] = plate_boundaries.apply(lambda x:[(b, a) for (b, a) in list(x.geometry.coords)], axis='columns')\n",
    "plate_boundaries.drop('geometry', axis=1, inplace=True)\n",
    "\n",
    "plate_boundaries.head()"
   ],
   "metadata": {
    "collapsed": false,
    "pycharm": {
     "name": "#%%\n"
    }
   }
  },
  {
   "cell_type": "code",
   "execution_count": 4,
   "outputs": [
    {
     "data": {
      "text/plain": "                 DateTime  Latitude  Longitude  Depth  Magnitude MagType  \\\n0 1970-01-04 17:00:40.200    24.139    102.503   31.0        7.5      Ms   \n1 1970-01-06 05:35:51.800    -9.628    151.458    8.0        6.2      Ms   \n2 1970-01-08 17:12:39.100   -34.741    178.568  179.0        6.1      Mb   \n3 1970-01-10 12:07:08.600     6.825    126.737   73.0        6.1      Mb   \n4 1970-01-16 08:05:39.000    60.280   -152.660   85.0        6.0      ML   \n\n   NbStations  Gap  Distance  RMS Source       EventID  \n0        90.0  NaN       NaN  0.0    NEI  1.970010e+09  \n1        85.0  NaN       NaN  0.0    NEI  1.970011e+09  \n2        59.0  NaN       NaN  0.0    NEI  1.970011e+09  \n3        91.0  NaN       NaN  0.0    NEI  1.970011e+09  \n4         0.0  NaN       NaN  NaN     AK           NaN  ",
      "text/html": "<div>\n<style scoped>\n    .dataframe tbody tr th:only-of-type {\n        vertical-align: middle;\n    }\n\n    .dataframe tbody tr th {\n        vertical-align: top;\n    }\n\n    .dataframe thead th {\n        text-align: right;\n    }\n</style>\n<table border=\"1\" class=\"dataframe\">\n  <thead>\n    <tr style=\"text-align: right;\">\n      <th></th>\n      <th>DateTime</th>\n      <th>Latitude</th>\n      <th>Longitude</th>\n      <th>Depth</th>\n      <th>Magnitude</th>\n      <th>MagType</th>\n      <th>NbStations</th>\n      <th>Gap</th>\n      <th>Distance</th>\n      <th>RMS</th>\n      <th>Source</th>\n      <th>EventID</th>\n    </tr>\n  </thead>\n  <tbody>\n    <tr>\n      <th>0</th>\n      <td>1970-01-04 17:00:40.200</td>\n      <td>24.139</td>\n      <td>102.503</td>\n      <td>31.0</td>\n      <td>7.5</td>\n      <td>Ms</td>\n      <td>90.0</td>\n      <td>NaN</td>\n      <td>NaN</td>\n      <td>0.0</td>\n      <td>NEI</td>\n      <td>1.970010e+09</td>\n    </tr>\n    <tr>\n      <th>1</th>\n      <td>1970-01-06 05:35:51.800</td>\n      <td>-9.628</td>\n      <td>151.458</td>\n      <td>8.0</td>\n      <td>6.2</td>\n      <td>Ms</td>\n      <td>85.0</td>\n      <td>NaN</td>\n      <td>NaN</td>\n      <td>0.0</td>\n      <td>NEI</td>\n      <td>1.970011e+09</td>\n    </tr>\n    <tr>\n      <th>2</th>\n      <td>1970-01-08 17:12:39.100</td>\n      <td>-34.741</td>\n      <td>178.568</td>\n      <td>179.0</td>\n      <td>6.1</td>\n      <td>Mb</td>\n      <td>59.0</td>\n      <td>NaN</td>\n      <td>NaN</td>\n      <td>0.0</td>\n      <td>NEI</td>\n      <td>1.970011e+09</td>\n    </tr>\n    <tr>\n      <th>3</th>\n      <td>1970-01-10 12:07:08.600</td>\n      <td>6.825</td>\n      <td>126.737</td>\n      <td>73.0</td>\n      <td>6.1</td>\n      <td>Mb</td>\n      <td>91.0</td>\n      <td>NaN</td>\n      <td>NaN</td>\n      <td>0.0</td>\n      <td>NEI</td>\n      <td>1.970011e+09</td>\n    </tr>\n    <tr>\n      <th>4</th>\n      <td>1970-01-16 08:05:39.000</td>\n      <td>60.280</td>\n      <td>-152.660</td>\n      <td>85.0</td>\n      <td>6.0</td>\n      <td>ML</td>\n      <td>0.0</td>\n      <td>NaN</td>\n      <td>NaN</td>\n      <td>NaN</td>\n      <td>AK</td>\n      <td>NaN</td>\n    </tr>\n  </tbody>\n</table>\n</div>"
     },
     "execution_count": 4,
     "metadata": {},
     "output_type": "execute_result"
    }
   ],
   "source": [
    "earthquake = pd.read_csv('../../../datasets/Geospatial_Analysis/geospatial-learn-course-data/earthquakes1970-2014.csv', parse_dates=['DateTime'])\n",
    "earthquake.head()"
   ],
   "metadata": {
    "collapsed": false,
    "pycharm": {
     "name": "#%%\n"
    }
   }
  },
  {
   "cell_type": "code",
   "execution_count": 5,
   "outputs": [
    {
     "data": {
      "text/plain": "<IPython.core.display.Javascript object>",
      "application/javascript": "parent.postMessage({\"jupyterEvent\": \"custom.exercise_interaction\", \"data\": {\"interactionType\": 2, \"questionType\": 2, \"questionId\": \"1.1_Q1P\", \"learnToolsVersion\": \"0.3.4\", \"valueTowardsCompletion\": 0.0, \"failureMessage\": \"\", \"exceptionClass\": \"\", \"trace\": \"\", \"outcomeType\": 4}}, \"*\")"
     },
     "metadata": {},
     "output_type": "display_data"
    },
    {
     "data": {
      "text/plain": "Hint: Use `folium.plugins.HeatMap()` to add a heatmap. Set `data` to a DataFrame containing the latitude and longitude locations.  We got fairly good results by setting `radius=15`. Don't forget to add it to the map with the `add_to()` method!",
      "text/markdown": "<span style=\"color:#3366cc\">Hint:</span> Use `folium.plugins.HeatMap()` to add a heatmap. Set `data` to a DataFrame containing the latitude and longitude locations.  We got fairly good results by setting `radius=15`. Don't forget to add it to the map with the `add_to()` method!"
     },
     "metadata": {},
     "output_type": "display_data"
    },
    {
     "data": {
      "text/plain": "<IPython.lib.display.IFrame at 0x162a5cee0>",
      "text/html": "\n        <iframe\n            width=\"100%\"\n            height=\"500px\"\n            src=\"/Users/ningxuhui/Documents/GitHub/python_all/kaggle/src/Geospatial_Analysis/03_Interactive_Maps/q_1.html\"\n            frameborder=\"0\"\n            allowfullscreen\n        ></iframe>\n        "
     },
     "execution_count": 5,
     "metadata": {},
     "output_type": "execute_result"
    }
   ],
   "source": [
    "# Create a base map with plate boundaries\n",
    "m_1 = folium.Map(location=[35,136], tiles='cartodbpositron', zoom_start=5)\n",
    "for i in range(len(plate_boundaries)):\n",
    "    folium.PolyLine(locations=plate_boundaries.coordinates.iloc[i], weight=2, color='black').add_to(m_1)\n",
    "\n",
    "# Your code here: Add a heatmap to the map\n",
    "HeatMap(data=earthquake[['Latitude', 'Longitude']], radius=15).add_to(m_1)\n",
    "\n",
    "# Uncomment to see a hint\n",
    "q_1.a.hint()\n",
    "\n",
    "# Show the map\n",
    "embed_map(m_1, '/Users/ningxuhui/Documents/GitHub/python_all/kaggle/src/Geospatial_Analysis/03_Interactive_Maps/q_1.html')"
   ],
   "metadata": {
    "collapsed": false,
    "pycharm": {
     "name": "#%%\n"
    }
   }
  },
  {
   "cell_type": "code",
   "execution_count": 12,
   "outputs": [
    {
     "data": {
      "text/plain": "<IPython.lib.display.IFrame at 0x165065b20>",
      "text/html": "\n        <iframe\n            width=\"100%\"\n            height=\"500px\"\n            src=\"q_2.html\"\n            frameborder=\"0\"\n            allowfullscreen\n        ></iframe>\n        "
     },
     "execution_count": 12,
     "metadata": {},
     "output_type": "execute_result"
    }
   ],
   "source": [
    "m_2 = folium.Map(location=[35, 136], tiles='cartodbpositron', zoom_start=5)\n",
    "for i in range(len(plate_boundaries)):\n",
    "    folium.PolyLine(locations=plate_boundaries.coordinates.iloc[i], weight=2, color='black').add_to(m_2)\n",
    "\n",
    "def color_producer(val):\n",
    "    if val < 50:\n",
    "        return 'forestgreen'\n",
    "    elif val < 100:\n",
    "        return 'darkorange'\n",
    "    else:\n",
    "        return 'darked'\n",
    "\n",
    "\n",
    "for i in range(0, len(earthquake)):\n",
    "    folium.Circle(\n",
    "        location=[earthquake.iloc[i]['Latitude'], earthquake.iloc[i]['Longitude']],\n",
    "        radius=2000,\n",
    "        color=color_producer(earthquake.iloc[i]['Depth'])).add_to(m_2)\n",
    "\n",
    "embed_map(m_2, 'q_2.html')"
   ],
   "metadata": {
    "collapsed": false,
    "pycharm": {
     "name": "#%%\n"
    }
   }
  },
  {
   "cell_type": "code",
   "execution_count": 13,
   "outputs": [
    {
     "data": {
      "text/plain": "                                                     geometry\nprefecture                                                   \nAichi       MULTIPOLYGON (((137.09523 34.65330, 137.09546 ...\nAkita       MULTIPOLYGON (((139.55725 39.20330, 139.55765 ...\nAomori      MULTIPOLYGON (((141.39860 40.92472, 141.39806 ...\nChiba       MULTIPOLYGON (((139.82488 34.98967, 139.82434 ...\nEhime       MULTIPOLYGON (((132.55859 32.91224, 132.55904 ...",
      "text/html": "<div>\n<style scoped>\n    .dataframe tbody tr th:only-of-type {\n        vertical-align: middle;\n    }\n\n    .dataframe tbody tr th {\n        vertical-align: top;\n    }\n\n    .dataframe thead th {\n        text-align: right;\n    }\n</style>\n<table border=\"1\" class=\"dataframe\">\n  <thead>\n    <tr style=\"text-align: right;\">\n      <th></th>\n      <th>geometry</th>\n    </tr>\n    <tr>\n      <th>prefecture</th>\n      <th></th>\n    </tr>\n  </thead>\n  <tbody>\n    <tr>\n      <th>Aichi</th>\n      <td>MULTIPOLYGON (((137.09523 34.65330, 137.09546 ...</td>\n    </tr>\n    <tr>\n      <th>Akita</th>\n      <td>MULTIPOLYGON (((139.55725 39.20330, 139.55765 ...</td>\n    </tr>\n    <tr>\n      <th>Aomori</th>\n      <td>MULTIPOLYGON (((141.39860 40.92472, 141.39806 ...</td>\n    </tr>\n    <tr>\n      <th>Chiba</th>\n      <td>MULTIPOLYGON (((139.82488 34.98967, 139.82434 ...</td>\n    </tr>\n    <tr>\n      <th>Ehime</th>\n      <td>MULTIPOLYGON (((132.55859 32.91224, 132.55904 ...</td>\n    </tr>\n  </tbody>\n</table>\n</div>"
     },
     "execution_count": 13,
     "metadata": {},
     "output_type": "execute_result"
    }
   ],
   "source": [
    "# GeoDataFrame with prefecture boundaries\n",
    "prefectures = gpd.read_file('../../../datasets/Geospatial_Analysis/geospatial-learn-course-data/japan-prefecture-boundaries/japan-prefecture-boundaries/japan-prefecture-boundaries.shp')\n",
    "prefectures.set_index('prefecture', inplace=True)\n",
    "prefectures.head()"
   ],
   "metadata": {
    "collapsed": false,
    "pycharm": {
     "name": "#%%\n"
    }
   }
  },
  {
   "cell_type": "code",
   "execution_count": 14,
   "outputs": [
    {
     "data": {
      "text/plain": "            population    area_sqkm      density\nprefecture                                      \nTokyo         12868000  1800.614782  7146.448049\nKanagawa       8943000  2383.038975  3752.771186\nOsaka          8801000  1923.151529  4576.342460\nAichi          7418000  5164.400005  1436.372085\nSaitama        7130000  3794.036890  1879.264806",
      "text/html": "<div>\n<style scoped>\n    .dataframe tbody tr th:only-of-type {\n        vertical-align: middle;\n    }\n\n    .dataframe tbody tr th {\n        vertical-align: top;\n    }\n\n    .dataframe thead th {\n        text-align: right;\n    }\n</style>\n<table border=\"1\" class=\"dataframe\">\n  <thead>\n    <tr style=\"text-align: right;\">\n      <th></th>\n      <th>population</th>\n      <th>area_sqkm</th>\n      <th>density</th>\n    </tr>\n    <tr>\n      <th>prefecture</th>\n      <th></th>\n      <th></th>\n      <th></th>\n    </tr>\n  </thead>\n  <tbody>\n    <tr>\n      <th>Tokyo</th>\n      <td>12868000</td>\n      <td>1800.614782</td>\n      <td>7146.448049</td>\n    </tr>\n    <tr>\n      <th>Kanagawa</th>\n      <td>8943000</td>\n      <td>2383.038975</td>\n      <td>3752.771186</td>\n    </tr>\n    <tr>\n      <th>Osaka</th>\n      <td>8801000</td>\n      <td>1923.151529</td>\n      <td>4576.342460</td>\n    </tr>\n    <tr>\n      <th>Aichi</th>\n      <td>7418000</td>\n      <td>5164.400005</td>\n      <td>1436.372085</td>\n    </tr>\n    <tr>\n      <th>Saitama</th>\n      <td>7130000</td>\n      <td>3794.036890</td>\n      <td>1879.264806</td>\n    </tr>\n  </tbody>\n</table>\n</div>"
     },
     "execution_count": 14,
     "metadata": {},
     "output_type": "execute_result"
    }
   ],
   "source": [
    "population = pd.read_csv('../../../datasets/Geospatial_Analysis/geospatial-learn-course-data/japan-prefecture-population.csv')\n",
    "population.set_index('prefecture', inplace=True)\n",
    "\n",
    "area_sqkm = pd.Series(prefectures.geometry.to_crs(epsg=32654).area / 10**6, name='area_sqkm')\n",
    "stats = population.join(area_sqkm)\n",
    "\n",
    "stats['density'] = stats['population'] / stats['area_sqkm']\n",
    "stats.head()"
   ],
   "metadata": {
    "collapsed": false,
    "pycharm": {
     "name": "#%%\n"
    }
   }
  },
  {
   "cell_type": "code",
   "execution_count": 15,
   "outputs": [
    {
     "data": {
      "text/plain": "<IPython.lib.display.IFrame at 0x168ef3ca0>",
      "text/html": "\n        <iframe\n            width=\"100%\"\n            height=\"500px\"\n            src=\"q_3.html\"\n            frameborder=\"0\"\n            allowfullscreen\n        ></iframe>\n        "
     },
     "execution_count": 15,
     "metadata": {},
     "output_type": "execute_result"
    }
   ],
   "source": [
    "# Create a base map\n",
    "m_3 = folium.Map(location=[35,136], tiles='cartodbpositron', zoom_start=5)\n",
    "\n",
    "# Your code here: create a choropleth map to visualize population density\n",
    "Choropleth(geo_data=prefectures['geometry'].__geo_interface__,\n",
    "           data=stats['density'],\n",
    "           key_on=\"feature.id\",\n",
    "           fill_color='YlGnBu',\n",
    "           legend_name='Population density (per square kilometer)'\n",
    "          ).add_to(m_3)\n",
    "\n",
    "embed_map(m_3, 'q_3.html')"
   ],
   "metadata": {
    "collapsed": false,
    "pycharm": {
     "name": "#%%\n"
    }
   }
  },
  {
   "cell_type": "code",
   "execution_count": 16,
   "outputs": [
    {
     "data": {
      "text/plain": "<IPython.lib.display.IFrame at 0x17702c1f0>",
      "text/html": "\n        <iframe\n            width=\"100%\"\n            height=\"500px\"\n            src=\"q_4.html\"\n            frameborder=\"0\"\n            allowfullscreen\n        ></iframe>\n        "
     },
     "execution_count": 16,
     "metadata": {},
     "output_type": "execute_result"
    }
   ],
   "source": [
    "m_4 = folium.Map(location=[35,136], tiles='cartodbpositron', zoom_start=5)\n",
    "\n",
    "def color_producer(magnitude):\n",
    "    if magnitude > 6.5:\n",
    "        return 'red'\n",
    "    else:\n",
    "        return 'green'\n",
    "\n",
    "Choropleth(\n",
    "    geo_data=prefectures['geometry'].__geo_interface__,\n",
    "    data=stats['density'],\n",
    "    key_on=\"feature.id\",\n",
    "    fill_color='BuPu',\n",
    "    legend_name='Population density (per square kilometer)').add_to(m_4)\n",
    "\n",
    "for i in range(0,len(earthquake)):\n",
    "    folium.Circle(\n",
    "        location=[earthquake.iloc[i]['Latitude'], earthquake.iloc[i]['Longitude']],\n",
    "        popup=(\"{} ({})\").format(\n",
    "            earthquake.iloc[i]['Magnitude'],\n",
    "            earthquake.iloc[i]['DateTime'].year),\n",
    "        radius=earthquake.iloc[i]['Magnitude']**5.5,\n",
    "        color=color_producer(earthquake.iloc[i]['Magnitude'])).add_to(m_4)\n",
    "\n",
    "\n",
    "embed_map(m_4, 'q_4.html')"
   ],
   "metadata": {
    "collapsed": false,
    "pycharm": {
     "name": "#%%\n"
    }
   }
  },
  {
   "cell_type": "code",
   "execution_count": null,
   "outputs": [],
   "source": [],
   "metadata": {
    "collapsed": false,
    "pycharm": {
     "name": "#%%\n"
    }
   }
  }
 ],
 "metadata": {
  "kernelspec": {
   "display_name": "Python 3",
   "language": "python",
   "name": "python3"
  },
  "language_info": {
   "codemirror_mode": {
    "name": "ipython",
    "version": 2
   },
   "file_extension": ".py",
   "mimetype": "text/x-python",
   "name": "python",
   "nbconvert_exporter": "python",
   "pygments_lexer": "ipython2",
   "version": "2.7.6"
  }
 },
 "nbformat": 4,
 "nbformat_minor": 0
}