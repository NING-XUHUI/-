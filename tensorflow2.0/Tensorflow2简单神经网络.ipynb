{
 "cells": [
  {
   "cell_type": "code",
   "execution_count": 1,
   "metadata": {},
   "outputs": [],
   "source": [
    "import numpy as np\n",
    "import tensorflow as tf\n",
    "from sklearn.datasets import load_digits\n",
    "from sklearn.model_selection import train_test_split"
   ]
  },
  {
   "cell_type": "code",
   "execution_count": 2,
   "metadata": {},
   "outputs": [
    {
     "data": {
      "text/plain": "((1437, 64), (1437, 10), (360, 64), (360, 10))"
     },
     "execution_count": 2,
     "metadata": {},
     "output_type": "execute_result"
    }
   ],
   "source": [
    "digits = load_digits()\n",
    "digits_y = np.eye(10)[digits.target]\n",
    "X_train, X_test, y_train, y_test = train_test_split(digits.data, digits_y,\n",
    "                                                   test_size=0.2, random_state=1)\n",
    "\n",
    "X_train.shape, y_train.shape, X_test.shape, y_test.shape"
   ]
  },
  {
   "cell_type": "code",
   "execution_count": 9,
   "metadata": {},
   "outputs": [
    {
     "data": {
      "text/plain": [
       "array([0., 1., 0., 0., 0., 0., 0., 0., 0., 0.])"
      ]
     },
     "execution_count": 9,
     "metadata": {},
     "output_type": "execute_result"
    }
   ],
   "source": [
    "y_test[0]"
   ]
  },
  {
   "cell_type": "markdown",
   "metadata": {},
   "source": [
    "# 低阶API构建"
   ]
  },
  {
   "cell_type": "code",
   "execution_count": 10,
   "metadata": {},
   "outputs": [],
   "source": [
    "class Model(object):\n",
    "    def __init__(self):\n",
    "        self.W1 = tf.Variable(tf.random.normal([64,30]))\n",
    "        self.b1 = tf.Variable(tf.random.normal([30]))\n",
    "        self.W2 = tf.Variable(tf.random.normal([30,10]))\n",
    "        self.b2 = tf.Variable(tf.random.normal([10]))\n",
    "    \n",
    "    def __call__(self, x):\n",
    "        x = tf.cast(x, tf.float32)\n",
    "        \n",
    "        fc1 = tf.nn.relu(tf.add(tf.matmul(x, self.W1), self.b1))\n",
    "        fc2 = tf.add(tf.matmul(fc1, self.W2), self.b2)\n",
    "        return fc2"
   ]
  },
  {
   "cell_type": "code",
   "execution_count": 11,
   "metadata": {},
   "outputs": [],
   "source": [
    "def loss_fn(model, x, y):\n",
    "    preds = model(x)\n",
    "    return tf.reduce_mean(tf.nn.softmax_cross_entropy_with_logits(logits=preds, labels=y))"
   ]
  },
  {
   "cell_type": "code",
   "execution_count": 12,
   "metadata": {},
   "outputs": [],
   "source": [
    "def accuracy_fn(logits, labels):\n",
    "    preds = tf.argmax(logits, axis=1)\n",
    "    labels = tf.argmax(logits, axis=1)\n",
    "    return tf.reduce_mean(tf.cast(tf.equal(preds, labels), tf.float32))"
   ]
  },
  {
   "cell_type": "code",
   "execution_count": 15,
   "metadata": {},
   "outputs": [
    {
     "name": "stdout",
     "output_type": "stream",
     "text": [
      "Epoch [10/100], Train loss: 62.54087829589844, Test accuracy: 1.0\n",
      "Epoch [20/100], Train loss: 25.038129806518555, Test accuracy: 1.0\n",
      "Epoch [30/100], Train loss: 17.026206970214844, Test accuracy: 1.0\n",
      "Epoch [40/100], Train loss: 14.189234733581543, Test accuracy: 1.0\n",
      "Epoch [50/100], Train loss: 12.31187915802002, Test accuracy: 1.0\n",
      "Epoch [60/100], Train loss: 10.96162223815918, Test accuracy: 1.0\n",
      "Epoch [70/100], Train loss: 10.112123489379883, Test accuracy: 1.0\n",
      "Epoch [80/100], Train loss: 9.474594116210938, Test accuracy: 1.0\n",
      "Epoch [90/100], Train loss: 9.049287796020508, Test accuracy: 1.0\n",
      "Epoch [100/100], Train loss: 8.688253402709961, Test accuracy: 1.0\n"
     ]
    }
   ],
   "source": [
    "EPOCHS = 100\n",
    "LEARNING_RATE = 0.02\n",
    "model = Model()\n",
    "\n",
    "for epoch in range(EPOCHS):\n",
    "    with tf.GradientTape() as tape:\n",
    "        loss = loss_fn(model, X_train, y_train)\n",
    "    \n",
    "    trainable_variables = [model.W1, model.b1, model.b1, model.W2, model.b2]\n",
    "    grads = tape.gradient(loss, trainable_variables)\n",
    "    \n",
    "    optimizer = tf.optimizers.Adam(learning_rate=LEARNING_RATE)\n",
    "    optimizer.apply_gradients(zip(grads, trainable_variables))\n",
    "    accuracy = accuracy_fn(model(X_test),y_test)\n",
    "    \n",
    "    if (epoch + 1) % 10 == 0:\n",
    "        print(f'Epoch [{epoch + 1}/{EPOCHS}], Train loss: {loss}, Test accuracy: {accuracy}')"
   ]
  },
  {
   "cell_type": "markdown",
   "metadata": {},
   "source": [
    "# Keras高阶API实现"
   ]
  },
  {
   "cell_type": "markdown",
   "metadata": {},
   "source": [
    "##### 顺序模型"
   ]
  },
  {
   "cell_type": "code",
   "execution_count": 17,
   "metadata": {},
   "outputs": [
    {
     "name": "stdout",
     "output_type": "stream",
     "text": [
      "Model: \"sequential\"\n",
      "_________________________________________________________________\n",
      "Layer (type)                 Output Shape              Param #   \n",
      "=================================================================\n",
      "dense (Dense)                (None, 30)                1950      \n",
      "_________________________________________________________________\n",
      "dense_1 (Dense)              (None, 10)                310       \n",
      "=================================================================\n",
      "Total params: 2,260\n",
      "Trainable params: 2,260\n",
      "Non-trainable params: 0\n",
      "_________________________________________________________________\n"
     ]
    }
   ],
   "source": [
    "model = tf.keras.Sequential()\n",
    "model.add(tf.keras.layers.Dense(units=30,input_dim=64,activation='relu'))\n",
    "model.add(tf.keras.layers.Dense(units=10,activation='softmax'))\n",
    "model.summary()"
   ]
  },
  {
   "cell_type": "code",
   "execution_count": 18,
   "metadata": {},
   "outputs": [
    {
     "name": "stdout",
     "output_type": "stream",
     "text": [
      "Train on 1437 samples, validate on 360 samples\n",
      "Epoch 1/20\n",
      "1437/1437 [==============================] - 1s 483us/sample - loss: 5.3006 - accuracy: 0.0877 - val_loss: 3.2257 - val_accuracy: 0.2056\n",
      "Epoch 2/20\n",
      "1437/1437 [==============================] - 0s 31us/sample - loss: 2.6535 - accuracy: 0.2714 - val_loss: 1.9372 - val_accuracy: 0.4194\n",
      "Epoch 3/20\n",
      "1437/1437 [==============================] - 0s 32us/sample - loss: 1.6865 - accuracy: 0.4600 - val_loss: 1.2828 - val_accuracy: 0.5556\n",
      "Epoch 4/20\n",
      "1437/1437 [==============================] - 0s 28us/sample - loss: 1.1497 - accuracy: 0.6228 - val_loss: 0.8339 - val_accuracy: 0.7361\n",
      "Epoch 5/20\n",
      "1437/1437 [==============================] - 0s 37us/sample - loss: 0.8337 - accuracy: 0.7279 - val_loss: 0.6371 - val_accuracy: 0.7917\n",
      "Epoch 6/20\n",
      "1437/1437 [==============================] - 0s 34us/sample - loss: 0.6541 - accuracy: 0.7850 - val_loss: 0.5137 - val_accuracy: 0.8500\n",
      "Epoch 7/20\n",
      "1437/1437 [==============================] - 0s 40us/sample - loss: 0.5371 - accuracy: 0.8253 - val_loss: 0.4359 - val_accuracy: 0.8750\n",
      "Epoch 8/20\n",
      "1437/1437 [==============================] - 0s 41us/sample - loss: 0.4454 - accuracy: 0.8678 - val_loss: 0.3749 - val_accuracy: 0.8917\n",
      "Epoch 9/20\n",
      "1437/1437 [==============================] - 0s 31us/sample - loss: 0.3728 - accuracy: 0.8894 - val_loss: 0.3364 - val_accuracy: 0.9083\n",
      "Epoch 10/20\n",
      "1437/1437 [==============================] - 0s 34us/sample - loss: 0.3244 - accuracy: 0.9054 - val_loss: 0.2990 - val_accuracy: 0.9194\n",
      "Epoch 11/20\n",
      "1437/1437 [==============================] - 0s 38us/sample - loss: 0.2803 - accuracy: 0.9172 - val_loss: 0.2747 - val_accuracy: 0.9194\n",
      "Epoch 12/20\n",
      "1437/1437 [==============================] - 0s 33us/sample - loss: 0.2491 - accuracy: 0.9262 - val_loss: 0.2614 - val_accuracy: 0.9194\n",
      "Epoch 13/20\n",
      "1437/1437 [==============================] - 0s 30us/sample - loss: 0.2237 - accuracy: 0.9339 - val_loss: 0.2435 - val_accuracy: 0.9278\n",
      "Epoch 14/20\n",
      "1437/1437 [==============================] - 0s 29us/sample - loss: 0.1938 - accuracy: 0.9429 - val_loss: 0.2273 - val_accuracy: 0.9333\n",
      "Epoch 15/20\n",
      "1437/1437 [==============================] - 0s 30us/sample - loss: 0.1723 - accuracy: 0.9478 - val_loss: 0.2218 - val_accuracy: 0.9444\n",
      "Epoch 16/20\n",
      "1437/1437 [==============================] - 0s 28us/sample - loss: 0.1540 - accuracy: 0.9520 - val_loss: 0.2080 - val_accuracy: 0.9417\n",
      "Epoch 17/20\n",
      "1437/1437 [==============================] - 0s 29us/sample - loss: 0.1405 - accuracy: 0.9582 - val_loss: 0.2004 - val_accuracy: 0.9528\n",
      "Epoch 18/20\n",
      "1437/1437 [==============================] - 0s 29us/sample - loss: 0.1278 - accuracy: 0.9624 - val_loss: 0.1920 - val_accuracy: 0.9528\n",
      "Epoch 19/20\n",
      "1437/1437 [==============================] - 0s 30us/sample - loss: 0.1173 - accuracy: 0.9638 - val_loss: 0.1857 - val_accuracy: 0.9583\n",
      "Epoch 20/20\n",
      "1437/1437 [==============================] - 0s 28us/sample - loss: 0.1065 - accuracy: 0.9680 - val_loss: 0.1768 - val_accuracy: 0.9528\n"
     ]
    },
    {
     "data": {
      "text/plain": [
       "<tensorflow.python.keras.callbacks.History at 0x7fed0e26bd10>"
      ]
     },
     "execution_count": 18,
     "metadata": {},
     "output_type": "execute_result"
    }
   ],
   "source": [
    "model.compile(optimizer='adam', loss='categorical_crossentropy',metrics=['accuracy'])\n",
    "model.fit(X_train, y_train, batch_size=64, epochs=20, validation_data=(X_test,y_test))"
   ]
  },
  {
   "cell_type": "markdown",
   "metadata": {},
   "source": [
    "##### 函数式模型"
   ]
  },
  {
   "cell_type": "code",
   "execution_count": 20,
   "metadata": {},
   "outputs": [
    {
     "name": "stdout",
     "output_type": "stream",
     "text": [
      "Model: \"model\"\n",
      "_________________________________________________________________\n",
      "Layer (type)                 Output Shape              Param #   \n",
      "=================================================================\n",
      "input_1 (InputLayer)         [(None, 64)]              0         \n",
      "_________________________________________________________________\n",
      "dense_2 (Dense)              (None, 30)                1950      \n",
      "_________________________________________________________________\n",
      "dense_3 (Dense)              (None, 10)                310       \n",
      "=================================================================\n",
      "Total params: 2,260\n",
      "Trainable params: 2,260\n",
      "Non-trainable params: 0\n",
      "_________________________________________________________________\n"
     ]
    }
   ],
   "source": [
    "\n",
    "inputs = tf.keras.Input(shape=(64,))\n",
    "x = tf.keras.layers.Dense(30,activation='relu')(inputs)\n",
    "outputs = tf.keras.layers.Dense(10,activation='softmax')(x)\n",
    "\n",
    "model = tf.keras.Model(inputs=inputs, outputs=outputs)\n",
    "\n",
    "model.summary()"
   ]
  },
  {
   "cell_type": "code",
   "execution_count": 21,
   "metadata": {},
   "outputs": [
    {
     "name": "stdout",
     "output_type": "stream",
     "text": [
      "Train on 1437 samples, validate on 360 samples\n",
      "Epoch 1/20\n",
      "1437/1437 [==============================] - 0s 273us/sample - loss: 6.8276 - accuracy: 0.1009 - val_loss: 3.8485 - val_accuracy: 0.1944\n",
      "Epoch 2/20\n",
      "1437/1437 [==============================] - 0s 27us/sample - loss: 2.9547 - accuracy: 0.2345 - val_loss: 2.2692 - val_accuracy: 0.3444\n",
      "Epoch 3/20\n",
      "1437/1437 [==============================] - 0s 29us/sample - loss: 1.9326 - accuracy: 0.4099 - val_loss: 1.6642 - val_accuracy: 0.4917\n",
      "Epoch 4/20\n",
      "1437/1437 [==============================] - 0s 28us/sample - loss: 1.4483 - accuracy: 0.5324 - val_loss: 1.2909 - val_accuracy: 0.5833\n",
      "Epoch 5/20\n",
      "1437/1437 [==============================] - 0s 27us/sample - loss: 1.1338 - accuracy: 0.6256 - val_loss: 1.0375 - val_accuracy: 0.6722\n",
      "Epoch 6/20\n",
      "1437/1437 [==============================] - 0s 27us/sample - loss: 0.9156 - accuracy: 0.7035 - val_loss: 0.8567 - val_accuracy: 0.7444\n",
      "Epoch 7/20\n",
      "1437/1437 [==============================] - 0s 28us/sample - loss: 0.7553 - accuracy: 0.7620 - val_loss: 0.7260 - val_accuracy: 0.7806\n",
      "Epoch 8/20\n",
      "1437/1437 [==============================] - 0s 33us/sample - loss: 0.6306 - accuracy: 0.7905 - val_loss: 0.6272 - val_accuracy: 0.8111\n",
      "Epoch 9/20\n",
      "1437/1437 [==============================] - 0s 30us/sample - loss: 0.5376 - accuracy: 0.8225 - val_loss: 0.5473 - val_accuracy: 0.8167\n",
      "Epoch 10/20\n",
      "1437/1437 [==============================] - 0s 28us/sample - loss: 0.4566 - accuracy: 0.8469 - val_loss: 0.4870 - val_accuracy: 0.8417\n",
      "Epoch 11/20\n",
      "1437/1437 [==============================] - 0s 32us/sample - loss: 0.3854 - accuracy: 0.8768 - val_loss: 0.4277 - val_accuracy: 0.8611\n",
      "Epoch 12/20\n",
      "1437/1437 [==============================] - 0s 30us/sample - loss: 0.3304 - accuracy: 0.9005 - val_loss: 0.3820 - val_accuracy: 0.8861\n",
      "Epoch 13/20\n",
      "1437/1437 [==============================] - 0s 29us/sample - loss: 0.2840 - accuracy: 0.9102 - val_loss: 0.3448 - val_accuracy: 0.9083\n",
      "Epoch 14/20\n",
      "1437/1437 [==============================] - 0s 30us/sample - loss: 0.2460 - accuracy: 0.9221 - val_loss: 0.3163 - val_accuracy: 0.9083\n",
      "Epoch 15/20\n",
      "1437/1437 [==============================] - 0s 27us/sample - loss: 0.2202 - accuracy: 0.9283 - val_loss: 0.3026 - val_accuracy: 0.9222\n",
      "Epoch 16/20\n",
      "1437/1437 [==============================] - 0s 34us/sample - loss: 0.2024 - accuracy: 0.9332 - val_loss: 0.2730 - val_accuracy: 0.9278\n",
      "Epoch 17/20\n",
      "1437/1437 [==============================] - 0s 35us/sample - loss: 0.1790 - accuracy: 0.9443 - val_loss: 0.2623 - val_accuracy: 0.9222\n",
      "Epoch 18/20\n",
      "1437/1437 [==============================] - 0s 28us/sample - loss: 0.1644 - accuracy: 0.9541 - val_loss: 0.2562 - val_accuracy: 0.9333\n",
      "Epoch 19/20\n",
      "1437/1437 [==============================] - 0s 29us/sample - loss: 0.1536 - accuracy: 0.9555 - val_loss: 0.2437 - val_accuracy: 0.9333\n",
      "Epoch 20/20\n",
      "1437/1437 [==============================] - 0s 31us/sample - loss: 0.1437 - accuracy: 0.9589 - val_loss: 0.2370 - val_accuracy: 0.9389\n"
     ]
    },
    {
     "data": {
      "text/plain": [
       "<tensorflow.python.keras.callbacks.History at 0x7fed082c7ed0>"
      ]
     },
     "execution_count": 21,
     "metadata": {},
     "output_type": "execute_result"
    }
   ],
   "source": [
    "model.compile(optimizer='adam', loss='categorical_crossentropy',metrics=['accuracy'])\n",
    "model.fit(X_train, y_train, batch_size=64, epochs=20, validation_data=(X_test,y_test))"
   ]
  },
  {
   "cell_type": "markdown",
   "metadata": {},
   "source": [
    "##### 混合模型"
   ]
  },
  {
   "cell_type": "code",
   "execution_count": 22,
   "metadata": {},
   "outputs": [],
   "source": [
    "class Model(tf.keras.Model):\n",
    "    def __init__(self):\n",
    "        super(Model, self).__init__()\n",
    "        self.dense_1 = tf.keras.layers.Dense(30, activation='relu')\n",
    "        self.dense_2 = tf.keras.layers.Dense(10, activation='softmax')\n",
    "    \n",
    "    def call(self,inputs):\n",
    "        x = self.dense_1(inputs)\n",
    "        return self.dense_2(x)"
   ]
  },
  {
   "cell_type": "code",
   "execution_count": 23,
   "metadata": {},
   "outputs": [
    {
     "name": "stdout",
     "output_type": "stream",
     "text": [
      "Train on 1437 samples, validate on 360 samples\n",
      "Epoch 1/10\n",
      "1437/1437 [==============================] - 0s 265us/sample - loss: 5.8186 - accuracy: 0.1823 - val_loss: 3.1257 - val_accuracy: 0.2333\n",
      "Epoch 2/10\n",
      "1437/1437 [==============================] - 0s 27us/sample - loss: 2.5164 - accuracy: 0.3145 - val_loss: 1.7864 - val_accuracy: 0.4361\n",
      "Epoch 3/10\n",
      "1437/1437 [==============================] - 0s 28us/sample - loss: 1.5599 - accuracy: 0.5226 - val_loss: 1.2321 - val_accuracy: 0.5972\n",
      "Epoch 4/10\n",
      "1437/1437 [==============================] - 0s 28us/sample - loss: 1.1094 - accuracy: 0.6444 - val_loss: 0.9435 - val_accuracy: 0.6889\n",
      "Epoch 5/10\n",
      "1437/1437 [==============================] - 0s 27us/sample - loss: 0.8529 - accuracy: 0.7321 - val_loss: 0.7376 - val_accuracy: 0.7667\n",
      "Epoch 6/10\n",
      "1437/1437 [==============================] - 0s 29us/sample - loss: 0.6855 - accuracy: 0.7850 - val_loss: 0.6161 - val_accuracy: 0.8056\n",
      "Epoch 7/10\n",
      "1437/1437 [==============================] - 0s 27us/sample - loss: 0.5660 - accuracy: 0.8281 - val_loss: 0.5293 - val_accuracy: 0.8278\n",
      "Epoch 8/10\n",
      "1437/1437 [==============================] - 0s 29us/sample - loss: 0.4796 - accuracy: 0.8539 - val_loss: 0.4700 - val_accuracy: 0.8528\n",
      "Epoch 9/10\n",
      "1437/1437 [==============================] - 0s 27us/sample - loss: 0.4165 - accuracy: 0.8733 - val_loss: 0.4251 - val_accuracy: 0.8722\n",
      "Epoch 10/10\n",
      "1437/1437 [==============================] - 0s 29us/sample - loss: 0.3742 - accuracy: 0.8845 - val_loss: 0.3740 - val_accuracy: 0.8972\n"
     ]
    },
    {
     "data": {
      "text/plain": [
       "<tensorflow.python.keras.callbacks.History at 0x7fecf01d0590>"
      ]
     },
     "execution_count": 23,
     "metadata": {},
     "output_type": "execute_result"
    }
   ],
   "source": [
    "model = Model()\n",
    "model.compile(optimizer='adam', loss='categorical_crossentropy', metrics=['accuracy'])\n",
    "model.fit(X_train, y_train, batch_size=64, epochs=10, validation_data=(X_test, y_test))"
   ]
  },
  {
   "cell_type": "code",
   "execution_count": null,
   "metadata": {},
   "outputs": [],
   "source": []
  }
 ],
 "metadata": {
  "kernelspec": {
   "display_name": "Python 3",
   "language": "python",
   "name": "python3"
  },
  "language_info": {
   "codemirror_mode": {
    "name": "ipython",
    "version": 3
   },
   "file_extension": ".py",
   "mimetype": "text/x-python",
   "name": "python",
   "nbconvert_exporter": "python",
   "pygments_lexer": "ipython3",
   "version": "3.7.8"
  }
 },
 "nbformat": 4,
 "nbformat_minor": 4
}