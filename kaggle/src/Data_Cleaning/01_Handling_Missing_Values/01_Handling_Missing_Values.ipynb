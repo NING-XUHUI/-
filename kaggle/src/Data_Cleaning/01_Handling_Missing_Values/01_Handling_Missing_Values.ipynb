{
 "cells": [
  {
   "cell_type": "code",
   "execution_count": 1,
   "metadata": {
    "collapsed": true
   },
   "outputs": [
    {
     "name": "stderr",
     "output_type": "stream",
     "text": [
      "/Users/ningxuhui/opt/anaconda3/envs/cv/lib/python3.8/site-packages/IPython/core/interactiveshell.py:3146: DtypeWarning: Columns (22,32) have mixed types.Specify dtype option on import or set low_memory=False.\n",
      "  has_raised = await self.run_ast_nodes(code_ast.body, cell_name,\n"
     ]
    }
   ],
   "source": [
    "import pandas as pd\n",
    "import numpy as np\n",
    "\n",
    "sf_permits = pd.read_csv('../../../datasets/Data_Cleaning/building-permit-applications-data/Building_Permits.csv')\n",
    "\n",
    "np.random.seed(0)"
   ]
  },
  {
   "cell_type": "code",
   "execution_count": 2,
   "outputs": [
    {
     "data": {
      "text/plain": "       Permit Number  Permit Type            Permit Type Definition  \\\n0       201505065519            4                      sign - erect   \n1       201604195146            4                      sign - erect   \n2       201605278609            3  additions alterations or repairs   \n3       201611072166            8            otc alterations permit   \n4       201611283529            6                       demolitions   \n...              ...          ...                               ...   \n198895       M862628            8            otc alterations permit   \n198896  201712055595            8            otc alterations permit   \n198897       M863507            8            otc alterations permit   \n198898       M863747            8            otc alterations permit   \n198899       M864287            8            otc alterations permit   \n\n       Permit Creation Date Block   Lot  Street Number Street Number Suffix  \\\n0                05/06/2015  0326   023            140                  NaN   \n1                04/19/2016  0306   007            440                  NaN   \n2                05/27/2016  0595   203           1647                  NaN   \n3                11/07/2016  0156   011           1230                  NaN   \n4                11/28/2016  0342   001            950                  NaN   \n...                     ...   ...   ...            ...                  ...   \n198895           12/05/2017  0113  017A           1228                  NaN   \n198896           12/05/2017  0271   014            580                  NaN   \n198897           12/06/2017  4318   019           1568                  NaN   \n198898           12/06/2017  0298   029            795                  NaN   \n198899           12/07/2017  0160   006            838                  NaN   \n\n       Street Name Street Suffix  ...  Existing Construction Type  \\\n0            Ellis            St  ...                         3.0   \n1            Geary            St  ...                         3.0   \n2          Pacific            Av  ...                         1.0   \n3          Pacific            Av  ...                         5.0   \n4           Market            St  ...                         3.0   \n...            ...           ...  ...                         ...   \n198895  Montgomery            St  ...                         NaN   \n198896        Bush            St  ...                         5.0   \n198897     Indiana            St  ...                         NaN   \n198898      Sutter            St  ...                         NaN   \n198899     Pacific            Av  ...                         NaN   \n\n       Existing Construction Type Description Proposed Construction Type  \\\n0                               constr type 3                        NaN   \n1                               constr type 3                        NaN   \n2                               constr type 1                        1.0   \n3                              wood frame (5)                        5.0   \n4                               constr type 3                        NaN   \n...                                       ...                        ...   \n198895                                    NaN                        NaN   \n198896                         wood frame (5)                        5.0   \n198897                                    NaN                        NaN   \n198898                                    NaN                        NaN   \n198899                                    NaN                        NaN   \n\n       Proposed Construction Type Description Site Permit Supervisor District  \\\n0                                         NaN         NaN                 3.0   \n1                                         NaN         NaN                 3.0   \n2                               constr type 1         NaN                 3.0   \n3                              wood frame (5)         NaN                 3.0   \n4                                         NaN         NaN                 6.0   \n...                                       ...         ...                 ...   \n198895                                    NaN         NaN                 NaN   \n198896                         wood frame (5)         NaN                 NaN   \n198897                                    NaN         NaN                 NaN   \n198898                                    NaN         NaN                 NaN   \n198899                                    NaN         NaN                 NaN   \n\n       Neighborhoods - Analysis Boundaries  Zipcode  \\\n0                               Tenderloin  94102.0   \n1                               Tenderloin  94102.0   \n2                             Russian Hill  94109.0   \n3                                 Nob Hill  94109.0   \n4                               Tenderloin  94102.0   \n...                                    ...      ...   \n198895                                 NaN      NaN   \n198896                                 NaN      NaN   \n198897                                 NaN      NaN   \n198898                                 NaN      NaN   \n198899                                 NaN      NaN   \n\n                                         Location      Record ID  \n0       (37.785719256680785, -122.40852313194863)  1380611233945  \n1        (37.78733980600732, -122.41063199757738)  1420164406718  \n2         (37.7946573324287, -122.42232562979227)  1424856504716  \n3        (37.79595867909168, -122.41557405519474)  1443574295566  \n4        (37.78315261897309, -122.40950883997789)   144548169992  \n...                                           ...            ...  \n198895                                        NaN  1489337276729  \n198896                                        NaN  1489462354993  \n198897                                        NaN  1489539379952  \n198898                                        NaN  1489608233656  \n198899                                        NaN  1489796283803  \n\n[198900 rows x 43 columns]",
      "text/html": "<div>\n<style scoped>\n    .dataframe tbody tr th:only-of-type {\n        vertical-align: middle;\n    }\n\n    .dataframe tbody tr th {\n        vertical-align: top;\n    }\n\n    .dataframe thead th {\n        text-align: right;\n    }\n</style>\n<table border=\"1\" class=\"dataframe\">\n  <thead>\n    <tr style=\"text-align: right;\">\n      <th></th>\n      <th>Permit Number</th>\n      <th>Permit Type</th>\n      <th>Permit Type Definition</th>\n      <th>Permit Creation Date</th>\n      <th>Block</th>\n      <th>Lot</th>\n      <th>Street Number</th>\n      <th>Street Number Suffix</th>\n      <th>Street Name</th>\n      <th>Street Suffix</th>\n      <th>...</th>\n      <th>Existing Construction Type</th>\n      <th>Existing Construction Type Description</th>\n      <th>Proposed Construction Type</th>\n      <th>Proposed Construction Type Description</th>\n      <th>Site Permit</th>\n      <th>Supervisor District</th>\n      <th>Neighborhoods - Analysis Boundaries</th>\n      <th>Zipcode</th>\n      <th>Location</th>\n      <th>Record ID</th>\n    </tr>\n  </thead>\n  <tbody>\n    <tr>\n      <th>0</th>\n      <td>201505065519</td>\n      <td>4</td>\n      <td>sign - erect</td>\n      <td>05/06/2015</td>\n      <td>0326</td>\n      <td>023</td>\n      <td>140</td>\n      <td>NaN</td>\n      <td>Ellis</td>\n      <td>St</td>\n      <td>...</td>\n      <td>3.0</td>\n      <td>constr type 3</td>\n      <td>NaN</td>\n      <td>NaN</td>\n      <td>NaN</td>\n      <td>3.0</td>\n      <td>Tenderloin</td>\n      <td>94102.0</td>\n      <td>(37.785719256680785, -122.40852313194863)</td>\n      <td>1380611233945</td>\n    </tr>\n    <tr>\n      <th>1</th>\n      <td>201604195146</td>\n      <td>4</td>\n      <td>sign - erect</td>\n      <td>04/19/2016</td>\n      <td>0306</td>\n      <td>007</td>\n      <td>440</td>\n      <td>NaN</td>\n      <td>Geary</td>\n      <td>St</td>\n      <td>...</td>\n      <td>3.0</td>\n      <td>constr type 3</td>\n      <td>NaN</td>\n      <td>NaN</td>\n      <td>NaN</td>\n      <td>3.0</td>\n      <td>Tenderloin</td>\n      <td>94102.0</td>\n      <td>(37.78733980600732, -122.41063199757738)</td>\n      <td>1420164406718</td>\n    </tr>\n    <tr>\n      <th>2</th>\n      <td>201605278609</td>\n      <td>3</td>\n      <td>additions alterations or repairs</td>\n      <td>05/27/2016</td>\n      <td>0595</td>\n      <td>203</td>\n      <td>1647</td>\n      <td>NaN</td>\n      <td>Pacific</td>\n      <td>Av</td>\n      <td>...</td>\n      <td>1.0</td>\n      <td>constr type 1</td>\n      <td>1.0</td>\n      <td>constr type 1</td>\n      <td>NaN</td>\n      <td>3.0</td>\n      <td>Russian Hill</td>\n      <td>94109.0</td>\n      <td>(37.7946573324287, -122.42232562979227)</td>\n      <td>1424856504716</td>\n    </tr>\n    <tr>\n      <th>3</th>\n      <td>201611072166</td>\n      <td>8</td>\n      <td>otc alterations permit</td>\n      <td>11/07/2016</td>\n      <td>0156</td>\n      <td>011</td>\n      <td>1230</td>\n      <td>NaN</td>\n      <td>Pacific</td>\n      <td>Av</td>\n      <td>...</td>\n      <td>5.0</td>\n      <td>wood frame (5)</td>\n      <td>5.0</td>\n      <td>wood frame (5)</td>\n      <td>NaN</td>\n      <td>3.0</td>\n      <td>Nob Hill</td>\n      <td>94109.0</td>\n      <td>(37.79595867909168, -122.41557405519474)</td>\n      <td>1443574295566</td>\n    </tr>\n    <tr>\n      <th>4</th>\n      <td>201611283529</td>\n      <td>6</td>\n      <td>demolitions</td>\n      <td>11/28/2016</td>\n      <td>0342</td>\n      <td>001</td>\n      <td>950</td>\n      <td>NaN</td>\n      <td>Market</td>\n      <td>St</td>\n      <td>...</td>\n      <td>3.0</td>\n      <td>constr type 3</td>\n      <td>NaN</td>\n      <td>NaN</td>\n      <td>NaN</td>\n      <td>6.0</td>\n      <td>Tenderloin</td>\n      <td>94102.0</td>\n      <td>(37.78315261897309, -122.40950883997789)</td>\n      <td>144548169992</td>\n    </tr>\n    <tr>\n      <th>...</th>\n      <td>...</td>\n      <td>...</td>\n      <td>...</td>\n      <td>...</td>\n      <td>...</td>\n      <td>...</td>\n      <td>...</td>\n      <td>...</td>\n      <td>...</td>\n      <td>...</td>\n      <td>...</td>\n      <td>...</td>\n      <td>...</td>\n      <td>...</td>\n      <td>...</td>\n      <td>...</td>\n      <td>...</td>\n      <td>...</td>\n      <td>...</td>\n      <td>...</td>\n      <td>...</td>\n    </tr>\n    <tr>\n      <th>198895</th>\n      <td>M862628</td>\n      <td>8</td>\n      <td>otc alterations permit</td>\n      <td>12/05/2017</td>\n      <td>0113</td>\n      <td>017A</td>\n      <td>1228</td>\n      <td>NaN</td>\n      <td>Montgomery</td>\n      <td>St</td>\n      <td>...</td>\n      <td>NaN</td>\n      <td>NaN</td>\n      <td>NaN</td>\n      <td>NaN</td>\n      <td>NaN</td>\n      <td>NaN</td>\n      <td>NaN</td>\n      <td>NaN</td>\n      <td>NaN</td>\n      <td>1489337276729</td>\n    </tr>\n    <tr>\n      <th>198896</th>\n      <td>201712055595</td>\n      <td>8</td>\n      <td>otc alterations permit</td>\n      <td>12/05/2017</td>\n      <td>0271</td>\n      <td>014</td>\n      <td>580</td>\n      <td>NaN</td>\n      <td>Bush</td>\n      <td>St</td>\n      <td>...</td>\n      <td>5.0</td>\n      <td>wood frame (5)</td>\n      <td>5.0</td>\n      <td>wood frame (5)</td>\n      <td>NaN</td>\n      <td>NaN</td>\n      <td>NaN</td>\n      <td>NaN</td>\n      <td>NaN</td>\n      <td>1489462354993</td>\n    </tr>\n    <tr>\n      <th>198897</th>\n      <td>M863507</td>\n      <td>8</td>\n      <td>otc alterations permit</td>\n      <td>12/06/2017</td>\n      <td>4318</td>\n      <td>019</td>\n      <td>1568</td>\n      <td>NaN</td>\n      <td>Indiana</td>\n      <td>St</td>\n      <td>...</td>\n      <td>NaN</td>\n      <td>NaN</td>\n      <td>NaN</td>\n      <td>NaN</td>\n      <td>NaN</td>\n      <td>NaN</td>\n      <td>NaN</td>\n      <td>NaN</td>\n      <td>NaN</td>\n      <td>1489539379952</td>\n    </tr>\n    <tr>\n      <th>198898</th>\n      <td>M863747</td>\n      <td>8</td>\n      <td>otc alterations permit</td>\n      <td>12/06/2017</td>\n      <td>0298</td>\n      <td>029</td>\n      <td>795</td>\n      <td>NaN</td>\n      <td>Sutter</td>\n      <td>St</td>\n      <td>...</td>\n      <td>NaN</td>\n      <td>NaN</td>\n      <td>NaN</td>\n      <td>NaN</td>\n      <td>NaN</td>\n      <td>NaN</td>\n      <td>NaN</td>\n      <td>NaN</td>\n      <td>NaN</td>\n      <td>1489608233656</td>\n    </tr>\n    <tr>\n      <th>198899</th>\n      <td>M864287</td>\n      <td>8</td>\n      <td>otc alterations permit</td>\n      <td>12/07/2017</td>\n      <td>0160</td>\n      <td>006</td>\n      <td>838</td>\n      <td>NaN</td>\n      <td>Pacific</td>\n      <td>Av</td>\n      <td>...</td>\n      <td>NaN</td>\n      <td>NaN</td>\n      <td>NaN</td>\n      <td>NaN</td>\n      <td>NaN</td>\n      <td>NaN</td>\n      <td>NaN</td>\n      <td>NaN</td>\n      <td>NaN</td>\n      <td>1489796283803</td>\n    </tr>\n  </tbody>\n</table>\n<p>198900 rows × 43 columns</p>\n</div>"
     },
     "execution_count": 2,
     "metadata": {},
     "output_type": "execute_result"
    }
   ],
   "source": [
    "sf_permits"
   ],
   "metadata": {
    "collapsed": false,
    "pycharm": {
     "name": "#%%\n"
    }
   }
  },
  {
   "cell_type": "code",
   "execution_count": 3,
   "outputs": [
    {
     "data": {
      "text/plain": "Permit Number                                  0\nPermit Type                                    0\nPermit Type Definition                         0\nPermit Creation Date                           0\nBlock                                          0\nLot                                            0\nStreet Number                                  0\nStreet Number Suffix                      196684\nStreet Name                                    0\nStreet Suffix                               2768\nUnit                                      169421\nUnit Suffix                               196939\nDescription                                  290\nCurrent Status                                 0\nCurrent Status Date                            0\nFiled Date                                     0\nIssued Date                                14940\nCompleted Date                            101709\nFirst Construction Document Date           14946\nStructural Notification                   191978\nNumber of Existing Stories                 42784\nNumber of Proposed Stories                 42868\nVoluntary Soft-Story Retrofit             198865\nFire Only Permit                          180073\nPermit Expiration Date                     51880\nEstimated Cost                             38066\nRevised Cost                                6066\nExisting Use                               41114\nExisting Units                             51538\nProposed Use                               42439\nProposed Units                             50911\nPlansets                                   37309\nTIDF Compliance                           198898\nExisting Construction Type                 43366\nExisting Construction Type Description     43366\nProposed Construction Type                 43162\nProposed Construction Type Description     43162\nSite Permit                               193541\nSupervisor District                         1717\nNeighborhoods - Analysis Boundaries         1725\nZipcode                                     1716\nLocation                                    1700\nRecord ID                                      0\ndtype: int64"
     },
     "execution_count": 3,
     "metadata": {},
     "output_type": "execute_result"
    }
   ],
   "source": [
    "missing_value_count = sf_permits.isnull().sum()\n",
    "missing_value_count"
   ],
   "metadata": {
    "collapsed": false,
    "pycharm": {
     "name": "#%%\n"
    }
   }
  },
  {
   "cell_type": "code",
   "execution_count": 4,
   "outputs": [
    {
     "data": {
      "text/plain": "26.26002315058403"
     },
     "execution_count": 4,
     "metadata": {},
     "output_type": "execute_result"
    }
   ],
   "source": [
    "total_cells = np.product(sf_permits.shape)\n",
    "total_missing = missing_value_count.sum()\n",
    "\n",
    "percent_missing = (total_missing/total_cells) * 100\n",
    "percent_missing"
   ],
   "metadata": {
    "collapsed": false,
    "pycharm": {
     "name": "#%%\n"
    }
   }
  },
  {
   "cell_type": "code",
   "execution_count": 6,
   "outputs": [
    {
     "data": {
      "text/plain": "31"
     },
     "execution_count": 6,
     "metadata": {},
     "output_type": "execute_result"
    }
   ],
   "source": [
    "sf_permits_with_na_dropped = sf_permits.dropna(axis=1)\n",
    "\n",
    "cols_in_original_dataset = sf_permits.shape[1]\n",
    "cols_in_na_dropped = sf_permits_with_na_dropped.shape[1]\n",
    "\n",
    "dropped_columns = cols_in_original_dataset - cols_in_na_dropped\n",
    "dropped_columns"
   ],
   "metadata": {
    "collapsed": false,
    "pycharm": {
     "name": "#%%\n"
    }
   }
  },
  {
   "cell_type": "code",
   "execution_count": 8,
   "outputs": [],
   "source": [
    "# or\n",
    "dropped_columns = len([col for col in sf_permits.columns if\n",
    "                       sf_permits[col].isna().any()])"
   ],
   "metadata": {
    "collapsed": false,
    "pycharm": {
     "name": "#%%\n"
    }
   }
  },
  {
   "cell_type": "code",
   "execution_count": 9,
   "outputs": [
    {
     "data": {
      "text/plain": "31"
     },
     "execution_count": 9,
     "metadata": {},
     "output_type": "execute_result"
    }
   ],
   "source": [
    "dropped_columns"
   ],
   "metadata": {
    "collapsed": false,
    "pycharm": {
     "name": "#%%\n"
    }
   }
  },
  {
   "cell_type": "code",
   "execution_count": 22,
   "outputs": [],
   "source": [
    "sf_permits_with_na__imputed = sf_permits.fillna(method='bfill', axis=0).fillna(0)"
   ],
   "metadata": {
    "collapsed": false,
    "pycharm": {
     "name": "#%%\n"
    }
   }
  },
  {
   "cell_type": "code",
   "execution_count": 23,
   "outputs": [
    {
     "data": {
      "text/plain": "       Permit Number  Permit Type            Permit Type Definition  \\\n0       201505065519            4                      sign - erect   \n1       201604195146            4                      sign - erect   \n2       201605278609            3  additions alterations or repairs   \n3       201611072166            8            otc alterations permit   \n4       201611283529            6                       demolitions   \n...              ...          ...                               ...   \n198895       M862628            8            otc alterations permit   \n198896  201712055595            8            otc alterations permit   \n198897       M863507            8            otc alterations permit   \n198898       M863747            8            otc alterations permit   \n198899       M864287            8            otc alterations permit   \n\n       Permit Creation Date Block   Lot  Street Number Street Number Suffix  \\\n0                05/06/2015  0326   023            140                    A   \n1                04/19/2016  0306   007            440                    A   \n2                05/27/2016  0595   203           1647                    A   \n3                11/07/2016  0156   011           1230                    A   \n4                11/28/2016  0342   001            950                    A   \n...                     ...   ...   ...            ...                  ...   \n198895           12/05/2017  0113  017A           1228                    0   \n198896           12/05/2017  0271   014            580                    0   \n198897           12/06/2017  4318   019           1568                    0   \n198898           12/06/2017  0298   029            795                    0   \n198899           12/07/2017  0160   006            838                    0   \n\n       Street Name Street Suffix  ...  Existing Construction Type  \\\n0            Ellis            St  ...                         3.0   \n1            Geary            St  ...                         3.0   \n2          Pacific            Av  ...                         1.0   \n3          Pacific            Av  ...                         5.0   \n4           Market            St  ...                         3.0   \n...            ...           ...  ...                         ...   \n198895  Montgomery            St  ...                         5.0   \n198896        Bush            St  ...                         5.0   \n198897     Indiana            St  ...                         0.0   \n198898      Sutter            St  ...                         0.0   \n198899     Pacific            Av  ...                         0.0   \n\n       Existing Construction Type Description Proposed Construction Type  \\\n0                               constr type 3                        1.0   \n1                               constr type 3                        1.0   \n2                               constr type 1                        1.0   \n3                              wood frame (5)                        5.0   \n4                               constr type 3                        1.0   \n...                                       ...                        ...   \n198895                         wood frame (5)                        5.0   \n198896                         wood frame (5)                        5.0   \n198897                                      0                        0.0   \n198898                                      0                        0.0   \n198899                                      0                        0.0   \n\n       Proposed Construction Type Description Site Permit Supervisor District  \\\n0                               constr type 1           Y                 3.0   \n1                               constr type 1           Y                 3.0   \n2                               constr type 1           Y                 3.0   \n3                              wood frame (5)           Y                 3.0   \n4                               constr type 1           Y                 6.0   \n...                                       ...         ...                 ...   \n198895                         wood frame (5)           0                 0.0   \n198896                         wood frame (5)           0                 0.0   \n198897                                      0           0                 0.0   \n198898                                      0           0                 0.0   \n198899                                      0           0                 0.0   \n\n       Neighborhoods - Analysis Boundaries  Zipcode  \\\n0                               Tenderloin  94102.0   \n1                               Tenderloin  94102.0   \n2                             Russian Hill  94109.0   \n3                                 Nob Hill  94109.0   \n4                               Tenderloin  94102.0   \n...                                    ...      ...   \n198895                                   0      0.0   \n198896                                   0      0.0   \n198897                                   0      0.0   \n198898                                   0      0.0   \n198899                                   0      0.0   \n\n                                         Location      Record ID  \n0       (37.785719256680785, -122.40852313194863)  1380611233945  \n1        (37.78733980600732, -122.41063199757738)  1420164406718  \n2         (37.7946573324287, -122.42232562979227)  1424856504716  \n3        (37.79595867909168, -122.41557405519474)  1443574295566  \n4        (37.78315261897309, -122.40950883997789)   144548169992  \n...                                           ...            ...  \n198895                                          0  1489337276729  \n198896                                          0  1489462354993  \n198897                                          0  1489539379952  \n198898                                          0  1489608233656  \n198899                                          0  1489796283803  \n\n[198900 rows x 43 columns]",
      "text/html": "<div>\n<style scoped>\n    .dataframe tbody tr th:only-of-type {\n        vertical-align: middle;\n    }\n\n    .dataframe tbody tr th {\n        vertical-align: top;\n    }\n\n    .dataframe thead th {\n        text-align: right;\n    }\n</style>\n<table border=\"1\" class=\"dataframe\">\n  <thead>\n    <tr style=\"text-align: right;\">\n      <th></th>\n      <th>Permit Number</th>\n      <th>Permit Type</th>\n      <th>Permit Type Definition</th>\n      <th>Permit Creation Date</th>\n      <th>Block</th>\n      <th>Lot</th>\n      <th>Street Number</th>\n      <th>Street Number Suffix</th>\n      <th>Street Name</th>\n      <th>Street Suffix</th>\n      <th>...</th>\n      <th>Existing Construction Type</th>\n      <th>Existing Construction Type Description</th>\n      <th>Proposed Construction Type</th>\n      <th>Proposed Construction Type Description</th>\n      <th>Site Permit</th>\n      <th>Supervisor District</th>\n      <th>Neighborhoods - Analysis Boundaries</th>\n      <th>Zipcode</th>\n      <th>Location</th>\n      <th>Record ID</th>\n    </tr>\n  </thead>\n  <tbody>\n    <tr>\n      <th>0</th>\n      <td>201505065519</td>\n      <td>4</td>\n      <td>sign - erect</td>\n      <td>05/06/2015</td>\n      <td>0326</td>\n      <td>023</td>\n      <td>140</td>\n      <td>A</td>\n      <td>Ellis</td>\n      <td>St</td>\n      <td>...</td>\n      <td>3.0</td>\n      <td>constr type 3</td>\n      <td>1.0</td>\n      <td>constr type 1</td>\n      <td>Y</td>\n      <td>3.0</td>\n      <td>Tenderloin</td>\n      <td>94102.0</td>\n      <td>(37.785719256680785, -122.40852313194863)</td>\n      <td>1380611233945</td>\n    </tr>\n    <tr>\n      <th>1</th>\n      <td>201604195146</td>\n      <td>4</td>\n      <td>sign - erect</td>\n      <td>04/19/2016</td>\n      <td>0306</td>\n      <td>007</td>\n      <td>440</td>\n      <td>A</td>\n      <td>Geary</td>\n      <td>St</td>\n      <td>...</td>\n      <td>3.0</td>\n      <td>constr type 3</td>\n      <td>1.0</td>\n      <td>constr type 1</td>\n      <td>Y</td>\n      <td>3.0</td>\n      <td>Tenderloin</td>\n      <td>94102.0</td>\n      <td>(37.78733980600732, -122.41063199757738)</td>\n      <td>1420164406718</td>\n    </tr>\n    <tr>\n      <th>2</th>\n      <td>201605278609</td>\n      <td>3</td>\n      <td>additions alterations or repairs</td>\n      <td>05/27/2016</td>\n      <td>0595</td>\n      <td>203</td>\n      <td>1647</td>\n      <td>A</td>\n      <td>Pacific</td>\n      <td>Av</td>\n      <td>...</td>\n      <td>1.0</td>\n      <td>constr type 1</td>\n      <td>1.0</td>\n      <td>constr type 1</td>\n      <td>Y</td>\n      <td>3.0</td>\n      <td>Russian Hill</td>\n      <td>94109.0</td>\n      <td>(37.7946573324287, -122.42232562979227)</td>\n      <td>1424856504716</td>\n    </tr>\n    <tr>\n      <th>3</th>\n      <td>201611072166</td>\n      <td>8</td>\n      <td>otc alterations permit</td>\n      <td>11/07/2016</td>\n      <td>0156</td>\n      <td>011</td>\n      <td>1230</td>\n      <td>A</td>\n      <td>Pacific</td>\n      <td>Av</td>\n      <td>...</td>\n      <td>5.0</td>\n      <td>wood frame (5)</td>\n      <td>5.0</td>\n      <td>wood frame (5)</td>\n      <td>Y</td>\n      <td>3.0</td>\n      <td>Nob Hill</td>\n      <td>94109.0</td>\n      <td>(37.79595867909168, -122.41557405519474)</td>\n      <td>1443574295566</td>\n    </tr>\n    <tr>\n      <th>4</th>\n      <td>201611283529</td>\n      <td>6</td>\n      <td>demolitions</td>\n      <td>11/28/2016</td>\n      <td>0342</td>\n      <td>001</td>\n      <td>950</td>\n      <td>A</td>\n      <td>Market</td>\n      <td>St</td>\n      <td>...</td>\n      <td>3.0</td>\n      <td>constr type 3</td>\n      <td>1.0</td>\n      <td>constr type 1</td>\n      <td>Y</td>\n      <td>6.0</td>\n      <td>Tenderloin</td>\n      <td>94102.0</td>\n      <td>(37.78315261897309, -122.40950883997789)</td>\n      <td>144548169992</td>\n    </tr>\n    <tr>\n      <th>...</th>\n      <td>...</td>\n      <td>...</td>\n      <td>...</td>\n      <td>...</td>\n      <td>...</td>\n      <td>...</td>\n      <td>...</td>\n      <td>...</td>\n      <td>...</td>\n      <td>...</td>\n      <td>...</td>\n      <td>...</td>\n      <td>...</td>\n      <td>...</td>\n      <td>...</td>\n      <td>...</td>\n      <td>...</td>\n      <td>...</td>\n      <td>...</td>\n      <td>...</td>\n      <td>...</td>\n    </tr>\n    <tr>\n      <th>198895</th>\n      <td>M862628</td>\n      <td>8</td>\n      <td>otc alterations permit</td>\n      <td>12/05/2017</td>\n      <td>0113</td>\n      <td>017A</td>\n      <td>1228</td>\n      <td>0</td>\n      <td>Montgomery</td>\n      <td>St</td>\n      <td>...</td>\n      <td>5.0</td>\n      <td>wood frame (5)</td>\n      <td>5.0</td>\n      <td>wood frame (5)</td>\n      <td>0</td>\n      <td>0.0</td>\n      <td>0</td>\n      <td>0.0</td>\n      <td>0</td>\n      <td>1489337276729</td>\n    </tr>\n    <tr>\n      <th>198896</th>\n      <td>201712055595</td>\n      <td>8</td>\n      <td>otc alterations permit</td>\n      <td>12/05/2017</td>\n      <td>0271</td>\n      <td>014</td>\n      <td>580</td>\n      <td>0</td>\n      <td>Bush</td>\n      <td>St</td>\n      <td>...</td>\n      <td>5.0</td>\n      <td>wood frame (5)</td>\n      <td>5.0</td>\n      <td>wood frame (5)</td>\n      <td>0</td>\n      <td>0.0</td>\n      <td>0</td>\n      <td>0.0</td>\n      <td>0</td>\n      <td>1489462354993</td>\n    </tr>\n    <tr>\n      <th>198897</th>\n      <td>M863507</td>\n      <td>8</td>\n      <td>otc alterations permit</td>\n      <td>12/06/2017</td>\n      <td>4318</td>\n      <td>019</td>\n      <td>1568</td>\n      <td>0</td>\n      <td>Indiana</td>\n      <td>St</td>\n      <td>...</td>\n      <td>0.0</td>\n      <td>0</td>\n      <td>0.0</td>\n      <td>0</td>\n      <td>0</td>\n      <td>0.0</td>\n      <td>0</td>\n      <td>0.0</td>\n      <td>0</td>\n      <td>1489539379952</td>\n    </tr>\n    <tr>\n      <th>198898</th>\n      <td>M863747</td>\n      <td>8</td>\n      <td>otc alterations permit</td>\n      <td>12/06/2017</td>\n      <td>0298</td>\n      <td>029</td>\n      <td>795</td>\n      <td>0</td>\n      <td>Sutter</td>\n      <td>St</td>\n      <td>...</td>\n      <td>0.0</td>\n      <td>0</td>\n      <td>0.0</td>\n      <td>0</td>\n      <td>0</td>\n      <td>0.0</td>\n      <td>0</td>\n      <td>0.0</td>\n      <td>0</td>\n      <td>1489608233656</td>\n    </tr>\n    <tr>\n      <th>198899</th>\n      <td>M864287</td>\n      <td>8</td>\n      <td>otc alterations permit</td>\n      <td>12/07/2017</td>\n      <td>0160</td>\n      <td>006</td>\n      <td>838</td>\n      <td>0</td>\n      <td>Pacific</td>\n      <td>Av</td>\n      <td>...</td>\n      <td>0.0</td>\n      <td>0</td>\n      <td>0.0</td>\n      <td>0</td>\n      <td>0</td>\n      <td>0.0</td>\n      <td>0</td>\n      <td>0.0</td>\n      <td>0</td>\n      <td>1489796283803</td>\n    </tr>\n  </tbody>\n</table>\n<p>198900 rows × 43 columns</p>\n</div>"
     },
     "execution_count": 23,
     "metadata": {},
     "output_type": "execute_result"
    }
   ],
   "source": [
    "sf_permits_with_na__imputed"
   ],
   "metadata": {
    "collapsed": false,
    "pycharm": {
     "name": "#%%\n"
    }
   }
  },
  {
   "cell_type": "code",
   "execution_count": 24,
   "outputs": [
    {
     "data": {
      "text/plain": "0"
     },
     "execution_count": 24,
     "metadata": {},
     "output_type": "execute_result"
    }
   ],
   "source": [
    "na_cols = len([col for col in sf_permits_with_na__imputed.columns if\n",
    "               sf_permits_with_na__imputed[col].isna().any()])\n",
    "na_cols"
   ],
   "metadata": {
    "collapsed": false,
    "pycharm": {
     "name": "#%%\n"
    }
   }
  },
  {
   "cell_type": "code",
   "execution_count": null,
   "outputs": [],
   "source": [],
   "metadata": {
    "collapsed": false,
    "pycharm": {
     "name": "#%%\n"
    }
   }
  }
 ],
 "metadata": {
  "kernelspec": {
   "display_name": "Python 3",
   "language": "python",
   "name": "python3"
  },
  "language_info": {
   "codemirror_mode": {
    "name": "ipython",
    "version": 2
   },
   "file_extension": ".py",
   "mimetype": "text/x-python",
   "name": "python",
   "nbconvert_exporter": "python",
   "pygments_lexer": "ipython2",
   "version": "2.7.6"
  }
 },
 "nbformat": 4,
 "nbformat_minor": 0
}