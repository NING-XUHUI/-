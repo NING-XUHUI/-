{
 "cells": [
  {
   "cell_type": "code",
   "execution_count": 2,
   "metadata": {
    "collapsed": true,
    "pycharm": {
     "is_executing": false
    }
   },
   "outputs": [],
   "source": [
    "import pandas as pd"
   ]
  },
  {
   "cell_type": "code",
   "execution_count": 3,
   "outputs": [],
   "source": [
    "pd.Series?"
   ],
   "metadata": {
    "collapsed": false,
    "pycharm": {
     "name": "#%%\n",
     "is_executing": false
    }
   }
  },
  {
   "cell_type": "code",
   "execution_count": 4,
   "outputs": [
    {
     "data": {
      "text/plain": "0    tiger\n1     bear\n2    moose\ndtype: object"
     },
     "metadata": {},
     "output_type": "execute_result",
     "execution_count": 4
    }
   ],
   "source": [
    "animals = ['tiger','bear','moose']\n",
    "pd.Series(animals)"
   ],
   "metadata": {
    "collapsed": false,
    "pycharm": {
     "name": "#%%\n",
     "is_executing": false
    }
   }
  },
  {
   "cell_type": "code",
   "execution_count": 5,
   "outputs": [
    {
     "data": {
      "text/plain": "0    1\n1    2\n2    3\ndtype: int64"
     },
     "metadata": {},
     "output_type": "execute_result",
     "execution_count": 5
    }
   ],
   "source": [
    "numbers = [1,2,3]\n",
    "pd.Series(numbers)"
   ],
   "metadata": {
    "collapsed": false,
    "pycharm": {
     "name": "#%%\n",
     "is_executing": false
    }
   }
  },
  {
   "cell_type": "code",
   "execution_count": 6,
   "outputs": [
    {
     "data": {
      "text/plain": "0    tiger\n1     bear\n2     None\ndtype: object"
     },
     "metadata": {},
     "output_type": "execute_result",
     "execution_count": 6
    }
   ],
   "source": [
    "animals = ['tiger','bear',None]\n",
    "pd.Series(animals)"
   ],
   "metadata": {
    "collapsed": false,
    "pycharm": {
     "name": "#%%\n",
     "is_executing": false
    }
   }
  },
  {
   "cell_type": "code",
   "execution_count": 7,
   "outputs": [
    {
     "data": {
      "text/plain": "0    1.0\n1    2.0\n2    NaN\ndtype: float64"
     },
     "metadata": {},
     "output_type": "execute_result",
     "execution_count": 7
    }
   ],
   "source": [
    "numbers = [1,2,None]\n",
    "pd.Series(numbers)"
   ],
   "metadata": {
    "collapsed": false,
    "pycharm": {
     "name": "#%%\n",
     "is_executing": false
    }
   }
  },
  {
   "cell_type": "code",
   "execution_count": 9,
   "outputs": [
    {
     "data": {
      "text/plain": "False"
     },
     "metadata": {},
     "output_type": "execute_result",
     "execution_count": 9
    }
   ],
   "source": [
    "import numpy as np\n",
    "np.nan == None"
   ],
   "metadata": {
    "collapsed": false,
    "pycharm": {
     "name": "#%%\n",
     "is_executing": false
    }
   }
  },
  {
   "cell_type": "code",
   "execution_count": 10,
   "outputs": [
    {
     "data": {
      "text/plain": "True"
     },
     "metadata": {},
     "output_type": "execute_result",
     "execution_count": 10
    }
   ],
   "source": [
    "np.isnan(np.nan)\n",
    "\n"
   ],
   "metadata": {
    "collapsed": false,
    "pycharm": {
     "name": "#%%\n",
     "is_executing": false
    }
   }
  },
  {
   "cell_type": "code",
   "execution_count": 11,
   "outputs": [
    {
     "data": {
      "text/plain": "Archery           Bhutan\nGolf            Scotland\nSumo               Japan\nTaekwondo    South Korea\ndtype: object"
     },
     "metadata": {},
     "output_type": "execute_result",
     "execution_count": 11
    }
   ],
   "source": [
    "sports = {'Archery':'Bhutan',\n",
    "          'Golf':'Scotland',\n",
    "          'Sumo':'Japan',\n",
    "          'Taekwondo':'South Korea'}\n",
    "s = pd.Series(sports)\n",
    "s"
   ],
   "metadata": {
    "collapsed": false,
    "pycharm": {
     "name": "#%%\n",
     "is_executing": false
    }
   }
  },
  {
   "cell_type": "code",
   "execution_count": 13,
   "outputs": [
    {
     "data": {
      "text/plain": "Index(['Archery', 'Golf', 'Sumo', 'Taekwondo'], dtype='object')"
     },
     "metadata": {},
     "output_type": "execute_result",
     "execution_count": 13
    }
   ],
   "source": [
    "s.index\n"
   ],
   "metadata": {
    "collapsed": false,
    "pycharm": {
     "name": "#%%\n",
     "is_executing": false
    }
   }
  },
  {
   "cell_type": "code",
   "execution_count": 14,
   "outputs": [
    {
     "data": {
      "text/plain": "india     tiger\nusa        bear\ncanada    moose\ndtype: object"
     },
     "metadata": {},
     "output_type": "execute_result",
     "execution_count": 14
    }
   ],
   "source": [
    "s = pd.Series(['tiger','bear','moose'],index=['india','usa','canada'])\n",
    "s"
   ],
   "metadata": {
    "collapsed": false,
    "pycharm": {
     "name": "#%%\n",
     "is_executing": false
    }
   }
  },
  {
   "cell_type": "code",
   "execution_count": 15,
   "outputs": [
    {
     "data": {
      "text/plain": "{'Archery': 'Bhutan',\n 'Golf': 'Scotland',\n 'Sumo': 'Japan',\n 'Taekwondo': 'South Korea'}"
     },
     "metadata": {},
     "output_type": "execute_result",
     "execution_count": 15
    }
   ],
   "source": [
    "sports"
   ],
   "metadata": {
    "collapsed": false,
    "pycharm": {
     "name": "#%%\n",
     "is_executing": false
    }
   }
  },
  {
   "cell_type": "code",
   "execution_count": 20,
   "outputs": [],
   "source": [
    "sports = pd.Series(sports)"
   ],
   "metadata": {
    "collapsed": false,
    "pycharm": {
     "name": "#%%\n",
     "is_executing": false
    }
   }
  },
  {
   "cell_type": "code",
   "execution_count": 21,
   "outputs": [
    {
     "data": {
      "text/plain": "'South Korea'"
     },
     "metadata": {},
     "output_type": "execute_result",
     "execution_count": 21
    }
   ],
   "source": [
    "sports.iloc[3]"
   ],
   "metadata": {
    "collapsed": false,
    "pycharm": {
     "name": "#%%\n",
     "is_executing": false
    }
   }
  },
  {
   "cell_type": "code",
   "execution_count": 22,
   "outputs": [
    {
     "data": {
      "text/plain": "'Scotland'"
     },
     "metadata": {},
     "output_type": "execute_result",
     "execution_count": 22
    }
   ],
   "source": [
    "sports.loc['Golf']"
   ],
   "metadata": {
    "collapsed": false,
    "pycharm": {
     "name": "#%%\n",
     "is_executing": false
    }
   }
  },
  {
   "cell_type": "code",
   "execution_count": 23,
   "outputs": [
    {
     "data": {
      "text/plain": "'South Korea'"
     },
     "metadata": {},
     "output_type": "execute_result",
     "execution_count": 23
    }
   ],
   "source": [
    "sports[3]"
   ],
   "metadata": {
    "collapsed": false,
    "pycharm": {
     "name": "#%%\n",
     "is_executing": false
    }
   }
  },
  {
   "cell_type": "code",
   "execution_count": 25,
   "outputs": [
    {
     "data": {
      "text/plain": "'Scotland'"
     },
     "metadata": {},
     "output_type": "execute_result",
     "execution_count": 25
    }
   ],
   "source": [
    "sports['Golf']"
   ],
   "metadata": {
    "collapsed": false,
    "pycharm": {
     "name": "#%%\n",
     "is_executing": false
    }
   }
  },
  {
   "cell_type": "code",
   "execution_count": 31,
   "outputs": [],
   "source": [
    "sports = {99:'Bhutan',\n",
    "          100:'Scotland',\n",
    "          101:'Japan',\n",
    "          102:'South Korea'}\n",
    "s = pd.Series(sports)"
   ],
   "metadata": {
    "collapsed": false,
    "pycharm": {
     "name": "#%%\n",
     "is_executing": false
    }
   }
  },
  {
   "cell_type": "code",
   "execution_count": 27,
   "outputs": [
    {
     "traceback": [
      "\u001b[0;31m---------------------------------------------------------------------------\u001b[0m",
      "\u001b[0;31mKeyError\u001b[0m                                  Traceback (most recent call last)",
      "\u001b[0;32m~/Leon/github/机器学习/data_science/venv/lib/python3.7/site-packages/pandas/core/indexes/base.py\u001b[0m in \u001b[0;36mget_loc\u001b[0;34m(self, key, method, tolerance)\u001b[0m\n\u001b[1;32m   2888\u001b[0m             \u001b[0;32mtry\u001b[0m\u001b[0;34m:\u001b[0m\u001b[0;34m\u001b[0m\u001b[0;34m\u001b[0m\u001b[0m\n\u001b[0;32m-> 2889\u001b[0;31m                 \u001b[0;32mreturn\u001b[0m \u001b[0mself\u001b[0m\u001b[0;34m.\u001b[0m\u001b[0m_engine\u001b[0m\u001b[0;34m.\u001b[0m\u001b[0mget_loc\u001b[0m\u001b[0;34m(\u001b[0m\u001b[0mcasted_key\u001b[0m\u001b[0;34m)\u001b[0m\u001b[0;34m\u001b[0m\u001b[0;34m\u001b[0m\u001b[0m\n\u001b[0m\u001b[1;32m   2890\u001b[0m             \u001b[0;32mexcept\u001b[0m \u001b[0mKeyError\u001b[0m \u001b[0;32mas\u001b[0m \u001b[0merr\u001b[0m\u001b[0;34m:\u001b[0m\u001b[0;34m\u001b[0m\u001b[0;34m\u001b[0m\u001b[0m\n",
      "\u001b[0;32mpandas/_libs/index.pyx\u001b[0m in \u001b[0;36mpandas._libs.index.IndexEngine.get_loc\u001b[0;34m()\u001b[0m\n",
      "\u001b[0;32mpandas/_libs/index.pyx\u001b[0m in \u001b[0;36mpandas._libs.index.IndexEngine.get_loc\u001b[0;34m()\u001b[0m\n",
      "\u001b[0;32mpandas/_libs/hashtable_class_helper.pxi\u001b[0m in \u001b[0;36mpandas._libs.hashtable.Int64HashTable.get_item\u001b[0;34m()\u001b[0m\n",
      "\u001b[0;32mpandas/_libs/hashtable_class_helper.pxi\u001b[0m in \u001b[0;36mpandas._libs.hashtable.Int64HashTable.get_item\u001b[0;34m()\u001b[0m\n",
      "\u001b[0;31mKeyError\u001b[0m: 0",
      "\nThe above exception was the direct cause of the following exception:\n",
      "\u001b[0;31mKeyError\u001b[0m                                  Traceback (most recent call last)",
      "\u001b[0;32m<ipython-input-27-20975799c6a9>\u001b[0m in \u001b[0;36m<module>\u001b[0;34m\u001b[0m\n\u001b[0;32m----> 1\u001b[0;31m \u001b[0ms\u001b[0m\u001b[0;34m[\u001b[0m\u001b[0;36m0\u001b[0m\u001b[0;34m]\u001b[0m\u001b[0;34m\u001b[0m\u001b[0;34m\u001b[0m\u001b[0m\n\u001b[0m\u001b[1;32m      2\u001b[0m \u001b[0;34m\u001b[0m\u001b[0m\n\u001b[1;32m      3\u001b[0m \u001b[0;34m\u001b[0m\u001b[0m\n",
      "\u001b[0;32m~/Leon/github/机器学习/data_science/venv/lib/python3.7/site-packages/pandas/core/series.py\u001b[0m in \u001b[0;36m__getitem__\u001b[0;34m(self, key)\u001b[0m\n\u001b[1;32m    880\u001b[0m \u001b[0;34m\u001b[0m\u001b[0m\n\u001b[1;32m    881\u001b[0m         \u001b[0;32melif\u001b[0m \u001b[0mkey_is_scalar\u001b[0m\u001b[0;34m:\u001b[0m\u001b[0;34m\u001b[0m\u001b[0;34m\u001b[0m\u001b[0m\n\u001b[0;32m--> 882\u001b[0;31m             \u001b[0;32mreturn\u001b[0m \u001b[0mself\u001b[0m\u001b[0;34m.\u001b[0m\u001b[0m_get_value\u001b[0m\u001b[0;34m(\u001b[0m\u001b[0mkey\u001b[0m\u001b[0;34m)\u001b[0m\u001b[0;34m\u001b[0m\u001b[0;34m\u001b[0m\u001b[0m\n\u001b[0m\u001b[1;32m    883\u001b[0m \u001b[0;34m\u001b[0m\u001b[0m\n\u001b[1;32m    884\u001b[0m         if (\n",
      "\u001b[0;32m~/Leon/github/机器学习/data_science/venv/lib/python3.7/site-packages/pandas/core/series.py\u001b[0m in \u001b[0;36m_get_value\u001b[0;34m(self, label, takeable)\u001b[0m\n\u001b[1;32m    989\u001b[0m \u001b[0;34m\u001b[0m\u001b[0m\n\u001b[1;32m    990\u001b[0m         \u001b[0;31m# Similar to Index.get_value, but we do not fall back to positional\u001b[0m\u001b[0;34m\u001b[0m\u001b[0;34m\u001b[0m\u001b[0;34m\u001b[0m\u001b[0m\n\u001b[0;32m--> 991\u001b[0;31m         \u001b[0mloc\u001b[0m \u001b[0;34m=\u001b[0m \u001b[0mself\u001b[0m\u001b[0;34m.\u001b[0m\u001b[0mindex\u001b[0m\u001b[0;34m.\u001b[0m\u001b[0mget_loc\u001b[0m\u001b[0;34m(\u001b[0m\u001b[0mlabel\u001b[0m\u001b[0;34m)\u001b[0m\u001b[0;34m\u001b[0m\u001b[0;34m\u001b[0m\u001b[0m\n\u001b[0m\u001b[1;32m    992\u001b[0m         \u001b[0;32mreturn\u001b[0m \u001b[0mself\u001b[0m\u001b[0;34m.\u001b[0m\u001b[0mindex\u001b[0m\u001b[0;34m.\u001b[0m\u001b[0m_get_values_for_loc\u001b[0m\u001b[0;34m(\u001b[0m\u001b[0mself\u001b[0m\u001b[0;34m,\u001b[0m \u001b[0mloc\u001b[0m\u001b[0;34m,\u001b[0m \u001b[0mlabel\u001b[0m\u001b[0;34m)\u001b[0m\u001b[0;34m\u001b[0m\u001b[0;34m\u001b[0m\u001b[0m\n\u001b[1;32m    993\u001b[0m \u001b[0;34m\u001b[0m\u001b[0m\n",
      "\u001b[0;32m~/Leon/github/机器学习/data_science/venv/lib/python3.7/site-packages/pandas/core/indexes/base.py\u001b[0m in \u001b[0;36mget_loc\u001b[0;34m(self, key, method, tolerance)\u001b[0m\n\u001b[1;32m   2889\u001b[0m                 \u001b[0;32mreturn\u001b[0m \u001b[0mself\u001b[0m\u001b[0;34m.\u001b[0m\u001b[0m_engine\u001b[0m\u001b[0;34m.\u001b[0m\u001b[0mget_loc\u001b[0m\u001b[0;34m(\u001b[0m\u001b[0mcasted_key\u001b[0m\u001b[0;34m)\u001b[0m\u001b[0;34m\u001b[0m\u001b[0;34m\u001b[0m\u001b[0m\n\u001b[1;32m   2890\u001b[0m             \u001b[0;32mexcept\u001b[0m \u001b[0mKeyError\u001b[0m \u001b[0;32mas\u001b[0m \u001b[0merr\u001b[0m\u001b[0;34m:\u001b[0m\u001b[0;34m\u001b[0m\u001b[0;34m\u001b[0m\u001b[0m\n\u001b[0;32m-> 2891\u001b[0;31m                 \u001b[0;32mraise\u001b[0m \u001b[0mKeyError\u001b[0m\u001b[0;34m(\u001b[0m\u001b[0mkey\u001b[0m\u001b[0;34m)\u001b[0m \u001b[0;32mfrom\u001b[0m \u001b[0merr\u001b[0m\u001b[0;34m\u001b[0m\u001b[0;34m\u001b[0m\u001b[0m\n\u001b[0m\u001b[1;32m   2892\u001b[0m \u001b[0;34m\u001b[0m\u001b[0m\n\u001b[1;32m   2893\u001b[0m         \u001b[0;32mif\u001b[0m \u001b[0mtolerance\u001b[0m \u001b[0;32mis\u001b[0m \u001b[0;32mnot\u001b[0m \u001b[0;32mNone\u001b[0m\u001b[0;34m:\u001b[0m\u001b[0;34m\u001b[0m\u001b[0;34m\u001b[0m\u001b[0m\n",
      "\u001b[0;31mKeyError\u001b[0m: 0"
     ],
     "ename": "KeyError",
     "evalue": "0",
     "output_type": "error"
    }
   ],
   "source": [
    "s[0]\n",
    "\n"
   ],
   "metadata": {
    "collapsed": false,
    "pycharm": {
     "name": "#%%\n",
     "is_executing": false
    }
   }
  },
  {
   "cell_type": "code",
   "execution_count": 34,
   "outputs": [],
   "source": [
    "s = pd.Series([100.00,120.00,101.00,3.00])\n",
    "\n"
   ],
   "metadata": {
    "collapsed": false,
    "pycharm": {
     "name": "#%%\n",
     "is_executing": false
    }
   }
  },
  {
   "cell_type": "code",
   "execution_count": 35,
   "outputs": [
    {
     "data": {
      "text/plain": "0    100.0\n1    120.0\n2    101.0\n3      3.0\ndtype: float64"
     },
     "metadata": {},
     "output_type": "execute_result",
     "execution_count": 35
    }
   ],
   "source": [
    "s"
   ],
   "metadata": {
    "collapsed": false,
    "pycharm": {
     "name": "#%%\n",
     "is_executing": false
    }
   }
  },
  {
   "cell_type": "code",
   "execution_count": 36,
   "outputs": [
    {
     "data": {
      "text/plain": "100.0"
     },
     "metadata": {},
     "output_type": "execute_result",
     "execution_count": 36
    }
   ],
   "source": [
    "s[0]"
   ],
   "metadata": {
    "collapsed": false,
    "pycharm": {
     "name": "#%%\n",
     "is_executing": false
    }
   }
  },
  {
   "cell_type": "code",
   "execution_count": 37,
   "outputs": [
    {
     "data": {
      "text/plain": "0    100.0\n1    120.0\n2    101.0\n3      3.0\ndtype: float64"
     },
     "metadata": {},
     "output_type": "execute_result",
     "execution_count": 37
    }
   ],
   "source": [
    "s"
   ],
   "metadata": {
    "collapsed": false,
    "pycharm": {
     "name": "#%%\n",
     "is_executing": false
    }
   }
  },
  {
   "cell_type": "code",
   "execution_count": 38,
   "outputs": [
    {
     "name": "stdout",
     "text": [
      "324.0\n"
     ],
     "output_type": "stream"
    }
   ],
   "source": [
    "total = 0\n",
    "for item in s:\n",
    "    total += item\n",
    "    \n",
    "print(total)"
   ],
   "metadata": {
    "collapsed": false,
    "pycharm": {
     "name": "#%%\n",
     "is_executing": false
    }
   }
  },
  {
   "cell_type": "code",
   "execution_count": 39,
   "outputs": [
    {
     "data": {
      "text/plain": "324.0"
     },
     "metadata": {},
     "output_type": "execute_result",
     "execution_count": 39
    }
   ],
   "source": [
    "import numpy as np\n",
    "total = np.sum(s)\n",
    "total"
   ],
   "metadata": {
    "collapsed": false,
    "pycharm": {
     "name": "#%%\n",
     "is_executing": false
    }
   }
  },
  {
   "cell_type": "code",
   "execution_count": 40,
   "outputs": [
    {
     "data": {
      "text/plain": "0    209\n1    628\n2    341\n3    365\n4    182\ndtype: int64"
     },
     "metadata": {},
     "output_type": "execute_result",
     "execution_count": 40
    }
   ],
   "source": [
    "s = pd.Series(np.random.randint(0,1000,10000))\n",
    "s.head()"
   ],
   "metadata": {
    "collapsed": false,
    "pycharm": {
     "name": "#%%\n",
     "is_executing": false
    }
   }
  },
  {
   "cell_type": "code",
   "execution_count": 41,
   "outputs": [
    {
     "data": {
      "text/plain": "10000"
     },
     "metadata": {},
     "output_type": "execute_result",
     "execution_count": 41
    }
   ],
   "source": [
    "len(s)\n",
    "\n"
   ],
   "metadata": {
    "collapsed": false,
    "pycharm": {
     "name": "#%%\n",
     "is_executing": false
    }
   }
  },
  {
   "cell_type": "code",
   "execution_count": 42,
   "outputs": [
    {
     "name": "stdout",
     "text": [
      "1.63 ms ± 192 µs per loop (mean ± std. dev. of 7 runs, 100 loops each)\n"
     ],
     "output_type": "stream"
    }
   ],
   "source": [
    "%%timeit -n 100\n",
    "summary = 0\n",
    "for item in s:\n",
    "    summary += item\n",
    "    "
   ],
   "metadata": {
    "collapsed": false,
    "pycharm": {
     "name": "#%%\n",
     "is_executing": false
    }
   }
  },
  {
   "cell_type": "code",
   "execution_count": 43,
   "outputs": [
    {
     "name": "stdout",
     "text": [
      "78.9 µs ± 22.8 µs per loop (mean ± std. dev. of 7 runs, 100 loops each)\n"
     ],
     "output_type": "stream"
    }
   ],
   "source": [
    "%%timeit -n 100\n",
    "summary = np.sum(s)"
   ],
   "metadata": {
    "collapsed": false,
    "pycharm": {
     "name": "#%%\n",
     "is_executing": false
    }
   }
  },
  {
   "cell_type": "code",
   "execution_count": 44,
   "outputs": [
    {
     "data": {
      "text/plain": "0       209\n1       628\n2       341\n3       365\n4       182\n       ... \n9995     20\n9996    549\n9997    886\n9998    314\n9999    379\nLength: 10000, dtype: int64"
     },
     "metadata": {},
     "output_type": "execute_result",
     "execution_count": 44
    }
   ],
   "source": [
    "s"
   ],
   "metadata": {
    "collapsed": false,
    "pycharm": {
     "name": "#%%\n",
     "is_executing": false
    }
   }
  },
  {
   "cell_type": "code",
   "execution_count": 45,
   "outputs": [],
   "source": [
    "s += 2"
   ],
   "metadata": {
    "collapsed": false,
    "pycharm": {
     "name": "#%%\n",
     "is_executing": false
    }
   }
  },
  {
   "cell_type": "code",
   "execution_count": 46,
   "outputs": [
    {
     "data": {
      "text/plain": "0    211\n1    630\n2    343\n3    367\n4    184\ndtype: int64"
     },
     "metadata": {},
     "output_type": "execute_result",
     "execution_count": 46
    }
   ],
   "source": [
    "s.head()"
   ],
   "metadata": {
    "collapsed": false,
    "pycharm": {
     "name": "#%%\n",
     "is_executing": false
    }
   }
  },
  {
   "cell_type": "code",
   "execution_count": 47,
   "outputs": [
    {
     "data": {
      "text/plain": "0    213\n1    632\n2    345\n3    369\n4    186\ndtype: int64"
     },
     "metadata": {},
     "output_type": "execute_result",
     "execution_count": 47
    }
   ],
   "source": [
    "for label, value in s.iteritems():\n",
    "    s._set_value(label, value+2)\n",
    "\n",
    "s.head()\n",
    "    "
   ],
   "metadata": {
    "collapsed": false,
    "pycharm": {
     "name": "#%%\n",
     "is_executing": false
    }
   }
  },
  {
   "cell_type": "code",
   "execution_count": 48,
   "outputs": [
    {
     "name": "stdout",
     "text": [
      "436 µs ± 85.1 µs per loop (mean ± std. dev. of 7 runs, 10 loops each)\n"
     ],
     "output_type": "stream"
    }
   ],
   "source": [
    "%%timeit -n 10\n",
    "s = pd.Series(np.random.randint(0,1000,10000))\n",
    "s += 2"
   ],
   "metadata": {
    "collapsed": false,
    "pycharm": {
     "name": "#%%\n",
     "is_executing": false
    }
   }
  },
  {
   "cell_type": "code",
   "execution_count": 49,
   "outputs": [
    {
     "data": {
      "text/plain": "0             1\n1             2\n2             3\nanimal    bears\ndtype: object"
     },
     "metadata": {},
     "output_type": "execute_result",
     "execution_count": 49
    }
   ],
   "source": [
    "s = pd.Series([1,2,3])\n",
    "s.loc['animal'] = 'bears'\n",
    "s"
   ],
   "metadata": {
    "collapsed": false,
    "pycharm": {
     "name": "#%%\n",
     "is_executing": false
    }
   }
  },
  {
   "cell_type": "code",
   "execution_count": 2,
   "outputs": [],
   "source": [
    "import numpy as np\n",
    "import pandas as pd\n",
    "original_sports = pd.Series({'Archery':'Bhutan',\n",
    "                             'Golf':'Scotland',\n",
    "                             'Sumo':'Japan',\n",
    "                             'Tiasd':'South Europe'})\n",
    "\n"
   ],
   "metadata": {
    "collapsed": false,
    "pycharm": {
     "name": "#%%\n",
     "is_executing": false
    }
   }
  },
  {
   "cell_type": "code",
   "execution_count": 3,
   "outputs": [],
   "source": [
    "cricket_loving_countries = pd.Series(['Austrilia',\n",
    "                                      'Barbados',\n",
    "                                      'Pakistan',\n",
    "                                      'England'],\n",
    "                                     index=['Cricket',\n",
    "                                            'Cricket',\n",
    "                                            'Cricket',\n",
    "                                            'Cricket'])\n",
    "all_countries = original_sports.append(cricket_loving_countries)\n"
   ],
   "metadata": {
    "collapsed": false,
    "pycharm": {
     "name": "#%%\n",
     "is_executing": false
    }
   }
  },
  {
   "cell_type": "code",
   "execution_count": 4,
   "outputs": [
    {
     "data": {
      "text/plain": "Archery          Bhutan\nGolf           Scotland\nSumo              Japan\nTiasd      South Europe\nCricket       Austrilia\nCricket        Barbados\nCricket        Pakistan\nCricket         England\ndtype: object"
     },
     "metadata": {},
     "output_type": "execute_result",
     "execution_count": 4
    }
   ],
   "source": [
    "\n",
    "all_countries"
   ],
   "metadata": {
    "collapsed": false,
    "pycharm": {
     "name": "#%%\n",
     "is_executing": false
    }
   }
  },
  {
   "cell_type": "code",
   "execution_count": 5,
   "outputs": [
    {
     "data": {
      "text/plain": "          Name Item Purchased  Cost\nStore 1  Chris       Dog Food  22.5\nStore 1  Kevyn   Kitty Litter   2.5\nStore 2  Vinod      Bird Seed   5.0",
      "text/html": "<div>\n<style scoped>\n    .dataframe tbody tr th:only-of-type {\n        vertical-align: middle;\n    }\n\n    .dataframe tbody tr th {\n        vertical-align: top;\n    }\n\n    .dataframe thead th {\n        text-align: right;\n    }\n</style>\n<table border=\"1\" class=\"dataframe\">\n  <thead>\n    <tr style=\"text-align: right;\">\n      <th></th>\n      <th>Name</th>\n      <th>Item Purchased</th>\n      <th>Cost</th>\n    </tr>\n  </thead>\n  <tbody>\n    <tr>\n      <th>Store 1</th>\n      <td>Chris</td>\n      <td>Dog Food</td>\n      <td>22.5</td>\n    </tr>\n    <tr>\n      <th>Store 1</th>\n      <td>Kevyn</td>\n      <td>Kitty Litter</td>\n      <td>2.5</td>\n    </tr>\n    <tr>\n      <th>Store 2</th>\n      <td>Vinod</td>\n      <td>Bird Seed</td>\n      <td>5.0</td>\n    </tr>\n  </tbody>\n</table>\n</div>"
     },
     "metadata": {},
     "output_type": "execute_result",
     "execution_count": 5
    }
   ],
   "source": [
    "purchase_1 = pd.Series({'Name':'Chris',\n",
    "                        'Item Purchased':'Dog Food',\n",
    "                        'Cost':22.50})\n",
    "\n",
    "purchase_2 = pd.Series({'Name':'Kevyn',\n",
    "                        'Item Purchased':'Kitty Litter',\n",
    "                        'Cost':2.50})\n",
    "\n",
    "purchase_3 = pd.Series({'Name':'Vinod',\n",
    "                        'Item Purchased':'Bird Seed',\n",
    "                        'Cost':5.00})\n",
    "df = pd.DataFrame([purchase_1, purchase_2, purchase_3], index = ['Store 1','Store 1','Store 2'])\n",
    "df.head()"
   ],
   "metadata": {
    "collapsed": false,
    "pycharm": {
     "name": "#%%\n",
     "is_executing": false
    }
   }
  },
  {
   "cell_type": "code",
   "execution_count": 6,
   "outputs": [
    {
     "data": {
      "text/plain": "Name                  Vinod\nItem Purchased    Bird Seed\nCost                      5\nName: Store 2, dtype: object"
     },
     "metadata": {},
     "output_type": "execute_result",
     "execution_count": 6
    }
   ],
   "source": [
    "df.loc['Store 2']"
   ],
   "metadata": {
    "collapsed": false,
    "pycharm": {
     "name": "#%%\n",
     "is_executing": false
    }
   }
  },
  {
   "cell_type": "code",
   "execution_count": 7,
   "outputs": [
    {
     "data": {
      "text/plain": "pandas.core.series.Series"
     },
     "metadata": {},
     "output_type": "execute_result",
     "execution_count": 7
    }
   ],
   "source": [
    "type(df.loc['Store 2'])"
   ],
   "metadata": {
    "collapsed": false,
    "pycharm": {
     "name": "#%%\n",
     "is_executing": false
    }
   }
  },
  {
   "cell_type": "code",
   "execution_count": 8,
   "outputs": [
    {
     "data": {
      "text/plain": "          Name Item Purchased  Cost\nStore 1  Chris       Dog Food  22.5\nStore 1  Kevyn   Kitty Litter   2.5",
      "text/html": "<div>\n<style scoped>\n    .dataframe tbody tr th:only-of-type {\n        vertical-align: middle;\n    }\n\n    .dataframe tbody tr th {\n        vertical-align: top;\n    }\n\n    .dataframe thead th {\n        text-align: right;\n    }\n</style>\n<table border=\"1\" class=\"dataframe\">\n  <thead>\n    <tr style=\"text-align: right;\">\n      <th></th>\n      <th>Name</th>\n      <th>Item Purchased</th>\n      <th>Cost</th>\n    </tr>\n  </thead>\n  <tbody>\n    <tr>\n      <th>Store 1</th>\n      <td>Chris</td>\n      <td>Dog Food</td>\n      <td>22.5</td>\n    </tr>\n    <tr>\n      <th>Store 1</th>\n      <td>Kevyn</td>\n      <td>Kitty Litter</td>\n      <td>2.5</td>\n    </tr>\n  </tbody>\n</table>\n</div>"
     },
     "metadata": {},
     "output_type": "execute_result",
     "execution_count": 8
    }
   ],
   "source": [
    "df.loc['Store 1']"
   ],
   "metadata": {
    "collapsed": false,
    "pycharm": {
     "name": "#%%\n",
     "is_executing": false
    }
   }
  },
  {
   "cell_type": "code",
   "execution_count": 10,
   "outputs": [
    {
     "data": {
      "text/plain": "Store 1    22.5\nStore 1     2.5\nName: Cost, dtype: float64"
     },
     "metadata": {},
     "output_type": "execute_result",
     "execution_count": 10
    }
   ],
   "source": [
    "df.loc['Store 1','Cost']"
   ],
   "metadata": {
    "collapsed": false,
    "pycharm": {
     "name": "#%%\n",
     "is_executing": false
    }
   }
  },
  {
   "cell_type": "code",
   "execution_count": 11,
   "outputs": [
    {
     "data": {
      "text/plain": "                 Store 1       Store 1    Store 2\nName               Chris         Kevyn      Vinod\nItem Purchased  Dog Food  Kitty Litter  Bird Seed\nCost                22.5           2.5          5",
      "text/html": "<div>\n<style scoped>\n    .dataframe tbody tr th:only-of-type {\n        vertical-align: middle;\n    }\n\n    .dataframe tbody tr th {\n        vertical-align: top;\n    }\n\n    .dataframe thead th {\n        text-align: right;\n    }\n</style>\n<table border=\"1\" class=\"dataframe\">\n  <thead>\n    <tr style=\"text-align: right;\">\n      <th></th>\n      <th>Store 1</th>\n      <th>Store 1</th>\n      <th>Store 2</th>\n    </tr>\n  </thead>\n  <tbody>\n    <tr>\n      <th>Name</th>\n      <td>Chris</td>\n      <td>Kevyn</td>\n      <td>Vinod</td>\n    </tr>\n    <tr>\n      <th>Item Purchased</th>\n      <td>Dog Food</td>\n      <td>Kitty Litter</td>\n      <td>Bird Seed</td>\n    </tr>\n    <tr>\n      <th>Cost</th>\n      <td>22.5</td>\n      <td>2.5</td>\n      <td>5</td>\n    </tr>\n  </tbody>\n</table>\n</div>"
     },
     "metadata": {},
     "output_type": "execute_result",
     "execution_count": 11
    }
   ],
   "source": [
    "df.T\n",
    "\n"
   ],
   "metadata": {
    "collapsed": false,
    "pycharm": {
     "name": "#%%\n",
     "is_executing": false
    }
   }
  },
  {
   "cell_type": "code",
   "execution_count": 12,
   "outputs": [
    {
     "data": {
      "text/plain": "Store 1    22.5\nStore 1     2.5\nStore 2       5\nName: Cost, dtype: object"
     },
     "metadata": {},
     "output_type": "execute_result",
     "execution_count": 12
    }
   ],
   "source": [
    "df.T.loc['Cost']\n",
    "\n"
   ],
   "metadata": {
    "collapsed": false,
    "pycharm": {
     "name": "#%%\n",
     "is_executing": false
    }
   }
  },
  {
   "cell_type": "code",
   "execution_count": 14,
   "outputs": [
    {
     "data": {
      "text/plain": "Store 1        Dog Food\nStore 1    Kitty Litter\nName: Item Purchased, dtype: object"
     },
     "metadata": {},
     "output_type": "execute_result",
     "execution_count": 14
    }
   ],
   "source": [
    "df.T.loc['Item Purchased','Store 1']\n"
   ],
   "metadata": {
    "collapsed": false,
    "pycharm": {
     "name": "#%%\n",
     "is_executing": false
    }
   }
  },
  {
   "cell_type": "code",
   "execution_count": 16,
   "outputs": [
    {
     "data": {
      "text/plain": "          Name  Cost\nStore 1  Chris  22.5\nStore 1  Kevyn   2.5\nStore 2  Vinod   5.0",
      "text/html": "<div>\n<style scoped>\n    .dataframe tbody tr th:only-of-type {\n        vertical-align: middle;\n    }\n\n    .dataframe tbody tr th {\n        vertical-align: top;\n    }\n\n    .dataframe thead th {\n        text-align: right;\n    }\n</style>\n<table border=\"1\" class=\"dataframe\">\n  <thead>\n    <tr style=\"text-align: right;\">\n      <th></th>\n      <th>Name</th>\n      <th>Cost</th>\n    </tr>\n  </thead>\n  <tbody>\n    <tr>\n      <th>Store 1</th>\n      <td>Chris</td>\n      <td>22.5</td>\n    </tr>\n    <tr>\n      <th>Store 1</th>\n      <td>Kevyn</td>\n      <td>2.5</td>\n    </tr>\n    <tr>\n      <th>Store 2</th>\n      <td>Vinod</td>\n      <td>5.0</td>\n    </tr>\n  </tbody>\n</table>\n</div>"
     },
     "metadata": {},
     "output_type": "execute_result",
     "execution_count": 16
    }
   ],
   "source": [
    "df.loc[:,['Name','Cost']]"
   ],
   "metadata": {
    "collapsed": false,
    "pycharm": {
     "name": "#%%\n",
     "is_executing": false
    }
   }
  },
  {
   "cell_type": "code",
   "execution_count": 17,
   "outputs": [
    {
     "data": {
      "text/plain": "          Name Item Purchased  Cost\nStore 2  Vinod      Bird Seed   5.0",
      "text/html": "<div>\n<style scoped>\n    .dataframe tbody tr th:only-of-type {\n        vertical-align: middle;\n    }\n\n    .dataframe tbody tr th {\n        vertical-align: top;\n    }\n\n    .dataframe thead th {\n        text-align: right;\n    }\n</style>\n<table border=\"1\" class=\"dataframe\">\n  <thead>\n    <tr style=\"text-align: right;\">\n      <th></th>\n      <th>Name</th>\n      <th>Item Purchased</th>\n      <th>Cost</th>\n    </tr>\n  </thead>\n  <tbody>\n    <tr>\n      <th>Store 2</th>\n      <td>Vinod</td>\n      <td>Bird Seed</td>\n      <td>5.0</td>\n    </tr>\n  </tbody>\n</table>\n</div>"
     },
     "metadata": {},
     "output_type": "execute_result",
     "execution_count": 17
    }
   ],
   "source": [
    "df.drop('Store 1')"
   ],
   "metadata": {
    "collapsed": false,
    "pycharm": {
     "name": "#%%\n",
     "is_executing": false
    }
   }
  },
  {
   "cell_type": "code",
   "execution_count": 18,
   "outputs": [
    {
     "data": {
      "text/plain": "          Name Item Purchased  Cost\nStore 1  Chris       Dog Food  22.5\nStore 1  Kevyn   Kitty Litter   2.5\nStore 2  Vinod      Bird Seed   5.0",
      "text/html": "<div>\n<style scoped>\n    .dataframe tbody tr th:only-of-type {\n        vertical-align: middle;\n    }\n\n    .dataframe tbody tr th {\n        vertical-align: top;\n    }\n\n    .dataframe thead th {\n        text-align: right;\n    }\n</style>\n<table border=\"1\" class=\"dataframe\">\n  <thead>\n    <tr style=\"text-align: right;\">\n      <th></th>\n      <th>Name</th>\n      <th>Item Purchased</th>\n      <th>Cost</th>\n    </tr>\n  </thead>\n  <tbody>\n    <tr>\n      <th>Store 1</th>\n      <td>Chris</td>\n      <td>Dog Food</td>\n      <td>22.5</td>\n    </tr>\n    <tr>\n      <th>Store 1</th>\n      <td>Kevyn</td>\n      <td>Kitty Litter</td>\n      <td>2.5</td>\n    </tr>\n    <tr>\n      <th>Store 2</th>\n      <td>Vinod</td>\n      <td>Bird Seed</td>\n      <td>5.0</td>\n    </tr>\n  </tbody>\n</table>\n</div>"
     },
     "metadata": {},
     "output_type": "execute_result",
     "execution_count": 18
    }
   ],
   "source": [
    "df"
   ],
   "metadata": {
    "collapsed": false,
    "pycharm": {
     "name": "#%%\n",
     "is_executing": false
    }
   }
  },
  {
   "cell_type": "code",
   "execution_count": 21,
   "outputs": [
    {
     "data": {
      "text/plain": "          Name Item Purchased  Cost\nStore 2  Vinod      Bird Seed   5.0",
      "text/html": "<div>\n<style scoped>\n    .dataframe tbody tr th:only-of-type {\n        vertical-align: middle;\n    }\n\n    .dataframe tbody tr th {\n        vertical-align: top;\n    }\n\n    .dataframe thead th {\n        text-align: right;\n    }\n</style>\n<table border=\"1\" class=\"dataframe\">\n  <thead>\n    <tr style=\"text-align: right;\">\n      <th></th>\n      <th>Name</th>\n      <th>Item Purchased</th>\n      <th>Cost</th>\n    </tr>\n  </thead>\n  <tbody>\n    <tr>\n      <th>Store 2</th>\n      <td>Vinod</td>\n      <td>Bird Seed</td>\n      <td>5.0</td>\n    </tr>\n  </tbody>\n</table>\n</div>"
     },
     "metadata": {},
     "output_type": "execute_result",
     "execution_count": 21
    }
   ],
   "source": [
    "copy_df = df.copy()\n",
    "copy_df = copy_df.drop('Store 1')\n",
    "copy_df"
   ],
   "metadata": {
    "collapsed": false,
    "pycharm": {
     "name": "#%%\n",
     "is_executing": false
    }
   }
  },
  {
   "cell_type": "code",
   "execution_count": 22,
   "outputs": [
    {
     "data": {
      "text/plain": "        Item Purchased  Cost\nStore 2      Bird Seed   5.0",
      "text/html": "<div>\n<style scoped>\n    .dataframe tbody tr th:only-of-type {\n        vertical-align: middle;\n    }\n\n    .dataframe tbody tr th {\n        vertical-align: top;\n    }\n\n    .dataframe thead th {\n        text-align: right;\n    }\n</style>\n<table border=\"1\" class=\"dataframe\">\n  <thead>\n    <tr style=\"text-align: right;\">\n      <th></th>\n      <th>Item Purchased</th>\n      <th>Cost</th>\n    </tr>\n  </thead>\n  <tbody>\n    <tr>\n      <th>Store 2</th>\n      <td>Bird Seed</td>\n      <td>5.0</td>\n    </tr>\n  </tbody>\n</table>\n</div>"
     },
     "metadata": {},
     "output_type": "execute_result",
     "execution_count": 22
    }
   ],
   "source": [
    "del copy_df['Name']\n",
    "copy_df"
   ],
   "metadata": {
    "collapsed": false,
    "pycharm": {
     "name": "#%%\n",
     "is_executing": false
    }
   }
  },
  {
   "cell_type": "code",
   "execution_count": 23,
   "outputs": [],
   "source": [
    "df['Location'] = None"
   ],
   "metadata": {
    "collapsed": false,
    "pycharm": {
     "name": "#%%\n",
     "is_executing": false
    }
   }
  },
  {
   "cell_type": "code",
   "execution_count": 24,
   "outputs": [
    {
     "data": {
      "text/plain": "          Name Item Purchased  Cost Location\nStore 1  Chris       Dog Food  22.5     None\nStore 1  Kevyn   Kitty Litter   2.5     None\nStore 2  Vinod      Bird Seed   5.0     None",
      "text/html": "<div>\n<style scoped>\n    .dataframe tbody tr th:only-of-type {\n        vertical-align: middle;\n    }\n\n    .dataframe tbody tr th {\n        vertical-align: top;\n    }\n\n    .dataframe thead th {\n        text-align: right;\n    }\n</style>\n<table border=\"1\" class=\"dataframe\">\n  <thead>\n    <tr style=\"text-align: right;\">\n      <th></th>\n      <th>Name</th>\n      <th>Item Purchased</th>\n      <th>Cost</th>\n      <th>Location</th>\n    </tr>\n  </thead>\n  <tbody>\n    <tr>\n      <th>Store 1</th>\n      <td>Chris</td>\n      <td>Dog Food</td>\n      <td>22.5</td>\n      <td>None</td>\n    </tr>\n    <tr>\n      <th>Store 1</th>\n      <td>Kevyn</td>\n      <td>Kitty Litter</td>\n      <td>2.5</td>\n      <td>None</td>\n    </tr>\n    <tr>\n      <th>Store 2</th>\n      <td>Vinod</td>\n      <td>Bird Seed</td>\n      <td>5.0</td>\n      <td>None</td>\n    </tr>\n  </tbody>\n</table>\n</div>"
     },
     "metadata": {},
     "output_type": "execute_result",
     "execution_count": 24
    }
   ],
   "source": [
    "df"
   ],
   "metadata": {
    "collapsed": false,
    "pycharm": {
     "name": "#%%\n",
     "is_executing": false
    }
   }
  },
  {
   "cell_type": "code",
   "execution_count": 25,
   "outputs": [
    {
     "data": {
      "text/plain": "Store 1    22.5\nStore 1     2.5\nStore 2     5.0\nName: Cost, dtype: float64"
     },
     "metadata": {},
     "output_type": "execute_result",
     "execution_count": 25
    }
   ],
   "source": [
    "costs = df['Cost']\n",
    "costs\n"
   ],
   "metadata": {
    "collapsed": false,
    "pycharm": {
     "name": "#%%\n",
     "is_executing": false
    }
   }
  },
  {
   "cell_type": "code",
   "execution_count": 27,
   "outputs": [
    {
     "data": {
      "text/plain": "Store 1    24.5\nStore 1     4.5\nStore 2     7.0\nName: Cost, dtype: float64"
     },
     "metadata": {},
     "output_type": "execute_result",
     "execution_count": 27
    }
   ],
   "source": [
    "costs += 2\n",
    "costs\n"
   ],
   "metadata": {
    "collapsed": false,
    "pycharm": {
     "name": "#%%\n",
     "is_executing": false
    }
   }
  },
  {
   "cell_type": "code",
   "execution_count": 28,
   "outputs": [
    {
     "data": {
      "text/plain": "          Name Item Purchased  Cost Location\nStore 1  Chris       Dog Food  22.5     None\nStore 1  Kevyn   Kitty Litter   2.5     None\nStore 2  Vinod      Bird Seed   5.0     None",
      "text/html": "<div>\n<style scoped>\n    .dataframe tbody tr th:only-of-type {\n        vertical-align: middle;\n    }\n\n    .dataframe tbody tr th {\n        vertical-align: top;\n    }\n\n    .dataframe thead th {\n        text-align: right;\n    }\n</style>\n<table border=\"1\" class=\"dataframe\">\n  <thead>\n    <tr style=\"text-align: right;\">\n      <th></th>\n      <th>Name</th>\n      <th>Item Purchased</th>\n      <th>Cost</th>\n      <th>Location</th>\n    </tr>\n  </thead>\n  <tbody>\n    <tr>\n      <th>Store 1</th>\n      <td>Chris</td>\n      <td>Dog Food</td>\n      <td>22.5</td>\n      <td>None</td>\n    </tr>\n    <tr>\n      <th>Store 1</th>\n      <td>Kevyn</td>\n      <td>Kitty Litter</td>\n      <td>2.5</td>\n      <td>None</td>\n    </tr>\n    <tr>\n      <th>Store 2</th>\n      <td>Vinod</td>\n      <td>Bird Seed</td>\n      <td>5.0</td>\n      <td>None</td>\n    </tr>\n  </tbody>\n</table>\n</div>"
     },
     "metadata": {},
     "output_type": "execute_result",
     "execution_count": 28
    }
   ],
   "source": [
    "df\n"
   ],
   "metadata": {
    "collapsed": false,
    "pycharm": {
     "name": "#%%\n",
     "is_executing": false
    }
   }
  },
  {
   "cell_type": "code",
   "execution_count": 29,
   "outputs": [
    {
     "name": "stdout",
     "text": [
      "0,1,2,3,4,5,6,7,8,9,10,11,12,13,14,15\r\n",
      ",? Summer,01 !,02 !,03 !,Total,? Winter,01 !,02 !,03 !,Total,? Games,01 !,02 !,03 !,Combined total\r\n",
      "Afghanistan (AFG),13,0,0,2,2,0,0,0,0,0,13,0,0,2,2\r\n",
      "Algeria (ALG),12,5,2,8,15,3,0,0,0,0,15,5,2,8,15\r\n",
      "Argentina (ARG),23,18,24,28,70,18,0,0,0,0,41,18,24,28,70\r\n",
      "Armenia (ARM),5,1,2,9,12,6,0,0,0,0,11,1,2,9,12\r\n",
      "Australasia (ANZ) [ANZ],2,3,4,5,12,0,0,0,0,0,2,3,4,5,12\r\n",
      "Australia (AUS) [AUS] [Z],25,139,152,177,468,18,5,3,4,12,43,144,155,181,480\r\n",
      "Austria (AUT),26,18,33,35,86,22,59,78,81,218,48,77,111,116,304\r\n",
      "Azerbaijan (AZE),5,6,5,15,26,5,0,0,0,0,10,6,5,15,26\r\n",
      "Bahamas (BAH),15,5,2,5,12,0,0,0,0,0,15,5,2,5,12\r\n",
      "Bahrain (BRN),8,0,0,1,1,0,0,0,0,0,8,0,0,1,1\r\n",
      "Barbados (BAR) [BAR],11,0,0,1,1,0,0,0,0,0,11,0,0,1,1\r\n",
      "Belarus (BLR),5,12,24,39,75,6,6,4,5,15,11,18,28,44,90\r\n",
      "Belgium (BEL),25,37,52,53,142,20,1,1,3,5,45,38,53,56,147\r\n",
      "Bermuda (BER),17,0,0,1,1,7,0,0,0,0,24,0,0,1,1\r\n",
      "Bohemia (BOH) [BOH] [Z],3,0,1,3,4,0,0,0,0,0,3,0,1,3,4\r\n",
      "Botswana (BOT),9,0,1,0,1,0,0,0,0,0,9,0,1,0,1\r\n",
      "Brazil (BRA),21,23,30,55,108,7,0,0,0,0,28,23,30,55,108\r\n",
      "British West Indies (BWI) [BWI],1,0,0,2,2,0,0,0,0,0,1,0,0,2,2\r\n",
      "Bulgaria (BUL) [H],19,51,85,78,214,19,1,2,3,6,38,52,87,81,220\r\n",
      "Burundi (BDI),5,1,0,0,1,0,0,0,0,0,5,1,0,0,1\r\n",
      "Cameroon (CMR),13,3,1,1,5,1,0,0,0,0,14,3,1,1,5\r\n",
      "Canada (CAN),25,59,99,121,279,22,62,56,52,170,47,121,155,173,449\r\n",
      "Chile (CHI) [I],22,2,7,4,13,16,0,0,0,0,38,2,7,4,13\r\n",
      "China (CHN) [CHN],9,201,146,126,473,10,12,22,19,53,19,213,168,145,526\r\n",
      "Colombia (COL),18,2,6,11,19,1,0,0,0,0,19,2,6,11,19\r\n",
      "Costa Rica (CRC),14,1,1,2,4,6,0,0,0,0,20,1,1,2,4\r\n",
      "Ivory Coast (CIV) [CIV],12,0,1,0,1,0,0,0,0,0,12,0,1,0,1\r\n",
      "Croatia (CRO),6,6,7,10,23,7,4,6,1,11,13,10,13,11,34\r\n",
      "Cuba (CUB) [Z],19,72,67,70,209,0,0,0,0,0,19,72,67,70,209\r\n",
      "Cyprus (CYP),9,0,1,0,1,10,0,0,0,0,19,0,1,0,1\r\n",
      "Czech Republic (CZE) [CZE],5,14,15,15,44,6,7,9,8,24,11,21,24,23,68\r\n",
      "Czechoslovakia (TCH) [TCH],16,49,49,45,143,16,2,8,15,25,32,51,57,60,168\r\n",
      "Denmark (DEN) [Z],26,43,68,68,179,13,0,1,0,1,39,43,69,68,180\r\n",
      "Djibouti (DJI) [B],7,0,0,1,1,0,0,0,0,0,7,0,0,1,1\r\n",
      "Dominican Republic (DOM),13,3,2,1,6,0,0,0,0,0,13,3,2,1,6\r\n",
      "Ecuador (ECU),13,1,1,0,2,0,0,0,0,0,13,1,1,0,2\r\n",
      "Egypt (EGY) [EGY] [Z],21,7,9,10,26,1,0,0,0,0,22,7,9,10,26\r\n",
      "Eritrea (ERI),4,0,0,1,1,0,0,0,0,0,4,0,0,1,1\r\n",
      "Estonia (EST),11,9,9,15,33,9,4,2,1,7,20,13,11,16,40\r\n",
      "Ethiopia (ETH),12,21,7,17,45,2,0,0,0,0,14,21,7,17,45\r\n",
      "Finland (FIN),24,101,84,117,302,22,42,62,57,161,46,143,146,174,463\r\n",
      "France (FRA) [O] [P] [Z],27,202,223,246,671,22,31,31,47,109,49,233,254,293,780\r\n",
      "Gabon (GAB),9,0,1,0,1,0,0,0,0,0,9,0,1,0,1\r\n",
      "Georgia (GEO),5,6,5,14,25,6,0,0,0,0,11,6,5,14,25\r\n",
      "Germany (GER) [GER] [Z],15,174,182,217,573,11,78,78,53,209,26,252,260,270,782\r\n",
      "United Team of Germany (EUA) [EUA],3,28,54,36,118,3,8,6,5,19,6,36,60,41,137\r\n",
      "East Germany (GDR) [GDR],5,153,129,127,409,6,39,36,35,110,11,192,165,162,519\r\n",
      "West Germany (FRG) [FRG],5,56,67,81,204,6,11,15,13,39,11,67,82,94,243\r\n",
      "Ghana (GHA) [GHA],13,0,1,3,4,1,0,0,0,0,14,0,1,3,4\r\n",
      "Great Britain (GBR) [GBR] [Z],27,236,272,272,780,22,10,4,12,26,49,246,276,284,806\r\n",
      "Greece (GRE) [Z],27,30,42,39,111,18,0,0,0,0,45,30,42,39,111\r\n",
      "Grenada (GRN),8,1,0,0,1,0,0,0,0,0,8,1,0,0,1\r\n",
      "Guatemala (GUA),13,0,1,0,1,1,0,0,0,0,14,0,1,0,1\r\n",
      "Guyana (GUY) [GUY],16,0,0,1,1,0,0,0,0,0,16,0,0,1,1\r\n",
      "Haiti (HAI) [J],14,0,1,1,2,0,0,0,0,0,14,0,1,1,2\r\n",
      "Hong Kong (HKG) [HKG],15,1,1,1,3,4,0,0,0,0,19,1,1,1,3\r\n",
      "Hungary (HUN),25,167,144,165,476,22,0,2,4,6,47,167,146,169,482\r\n",
      "Iceland (ISL),19,0,2,2,4,17,0,0,0,0,36,0,2,2,4\r\n",
      "India (IND) [F],23,9,6,11,26,9,0,0,0,0,32,9,6,11,26\r\n",
      "Indonesia (INA),14,6,10,11,27,0,0,0,0,0,14,6,10,11,27\r\n",
      "Iran (IRI) [K],15,15,20,25,60,10,0,0,0,0,25,15,20,25,60\r\n",
      "Iraq (IRQ),13,0,0,1,1,0,0,0,0,0,13,0,0,1,1\r\n",
      "Ireland (IRL),20,9,8,12,29,6,0,0,0,0,26,9,8,12,29\r\n",
      "Israel (ISR),15,1,1,5,7,6,0,0,0,0,21,1,1,5,7\r\n",
      "Italy (ITA) [M] [S],26,198,166,185,549,22,37,34,43,114,48,235,200,228,663\r\n",
      "Jamaica (JAM) [JAM],16,17,30,20,67,7,0,0,0,0,23,17,30,20,67\r\n",
      "Japan (JPN),21,130,126,142,398,20,10,17,18,45,41,140,143,160,443\r\n",
      "Kazakhstan (KAZ),5,16,17,19,52,6,1,3,3,7,11,17,20,22,59\r\n",
      "Kenya (KEN),13,25,32,29,86,3,0,0,0,0,16,25,32,29,86\r\n",
      "North Korea (PRK),9,14,12,21,47,8,0,1,1,2,17,14,13,22,49\r\n",
      "South Korea (KOR),16,81,82,80,243,17,26,17,10,53,33,107,99,90,296\r\n",
      "Kuwait (KUW),12,0,0,2,2,0,0,0,0,0,12,0,0,2,2\r\n",
      "Kyrgyzstan (KGZ),5,0,1,2,3,6,0,0,0,0,11,0,1,2,3\r\n",
      "Latvia (LAT),10,3,11,5,19,10,0,4,3,7,20,3,15,8,26\r\n",
      "Lebanon (LIB),16,0,2,2,4,16,0,0,0,0,32,0,2,2,4\r\n",
      "Liechtenstein (LIE),16,0,0,0,0,18,2,2,5,9,34,2,2,5,9\r\n",
      "Lithuania (LTU),8,6,5,10,21,8,0,0,0,0,16,6,5,10,21\r\n",
      "Luxembourg (LUX) [O],22,1,1,0,2,8,0,2,0,2,30,1,3,0,4\r\n",
      "Macedonia (MKD),5,0,0,1,1,5,0,0,0,0,10,0,0,1,1\r\n",
      "Malaysia (MAS) [MAS],12,0,3,3,6,0,0,0,0,0,12,0,3,3,6\r\n",
      "Mauritius (MRI),8,0,0,1,1,0,0,0,0,0,8,0,0,1,1\r\n",
      "Mexico (MEX),22,13,21,28,62,8,0,0,0,0,30,13,21,28,62\r\n",
      "Moldova (MDA),5,0,2,5,7,6,0,0,0,0,11,0,2,5,7\r\n",
      "Mongolia (MGL),12,2,9,13,24,13,0,0,0,0,25,2,9,13,24\r\n",
      "Montenegro (MNE),2,0,1,0,1,2,0,0,0,0,4,0,1,0,1\r\n",
      "Morocco (MAR),13,6,5,11,22,6,0,0,0,0,19,6,5,11,22\r\n",
      "Mozambique (MOZ),9,1,0,1,2,0,0,0,0,0,9,1,0,1,2\r\n",
      "Namibia (NAM),6,0,4,0,4,0,0,0,0,0,6,0,4,0,4\r\n",
      "Netherlands (NED) [Z],25,77,85,104,266,20,37,38,35,110,45,114,123,139,376\r\n",
      "Netherlands Antilles (AHO) [AHO] [I],13,0,1,0,1,2,0,0,0,0,15,0,1,0,1\r\n",
      "New Zealand (NZL) [NZL],22,42,18,39,99,15,0,1,0,1,37,42,19,39,100\r\n",
      "Niger (NIG),11,0,0,1,1,0,0,0,0,0,11,0,0,1,1\r\n",
      "Nigeria (NGR),15,3,8,12,23,0,0,0,0,0,15,3,8,12,23\r\n",
      "Norway (NOR) [Q],24,56,49,43,148,22,118,111,100,329,46,174,160,143,477\r\n",
      "Pakistan (PAK),16,3,3,4,10,2,0,0,0,0,18,3,3,4,10\r\n",
      "Panama (PAN),16,1,0,2,3,0,0,0,0,0,16,1,0,2,3\r\n",
      "Paraguay (PAR),11,0,1,0,1,1,0,0,0,0,12,0,1,0,1\r\n",
      "Peru (PER) [L],17,1,3,0,4,2,0,0,0,0,19,1,3,0,4\r\n",
      "Philippines (PHI),20,0,2,7,9,4,0,0,0,0,24,0,2,7,9\r\n",
      "Poland (POL),20,64,82,125,271,22,6,7,7,20,42,70,89,132,291\r\n",
      "Portugal (POR),23,4,8,11,23,7,0,0,0,0,30,4,8,11,23\r\n",
      "Puerto Rico (PUR),17,0,2,6,8,6,0,0,0,0,23,0,2,6,8\r\n",
      "Qatar (QAT),8,0,0,4,4,0,0,0,0,0,8,0,0,4,4\r\n",
      "Romania (ROU),20,88,94,119,301,20,0,0,1,1,40,88,94,120,302\r\n",
      "Russia (RUS) [RUS],5,132,121,142,395,6,49,40,35,124,11,181,161,177,519\r\n",
      "Russian Empire (RU1) [RU1],3,1,4,3,8,0,0,0,0,0,3,1,4,3,8\r\n",
      "Soviet Union (URS) [URS],9,395,319,296,1010,9,78,57,59,194,18,473,376,355,1204\r\n",
      "Unified Team (EUN) [EUN],1,45,38,29,112,1,9,6,8,23,2,54,44,37,135\r\n",
      "Saudi Arabia (KSA),10,0,1,2,3,0,0,0,0,0,10,0,1,2,3\r\n",
      "Senegal (SEN),13,0,1,0,1,5,0,0,0,0,18,0,1,0,1\r\n",
      "Serbia (SRB) [SRB],3,1,2,4,7,2,0,0,0,0,5,1,2,4,7\r\n",
      "Serbia and Montenegro (SCG) [SCG],3,2,4,3,9,3,0,0,0,0,6,2,4,3,9\r\n",
      "Singapore (SIN),15,0,2,2,4,0,0,0,0,0,15,0,2,2,4\r\n",
      "Slovakia (SVK) [SVK],5,7,9,8,24,6,2,2,1,5,11,9,11,9,29\r\n",
      "Slovenia (SLO),6,4,6,9,19,7,2,4,9,15,13,6,10,18,34\r\n",
      "South Africa (RSA),18,23,26,27,76,6,0,0,0,0,24,23,26,27,76\r\n",
      "Spain (ESP) [Z],22,37,59,35,131,19,1,0,1,2,41,38,59,36,133\r\n",
      "Sri Lanka (SRI) [SRI],16,0,2,0,2,0,0,0,0,0,16,0,2,0,2\r\n",
      "Sudan (SUD),11,0,1,0,1,0,0,0,0,0,11,0,1,0,1\r\n",
      "Suriname (SUR) [E],11,1,0,1,2,0,0,0,0,0,11,1,0,1,2\r\n",
      "Sweden (SWE) [Z],26,143,164,176,483,22,50,40,54,144,48,193,204,230,627\r\n",
      "Switzerland (SUI),27,47,73,65,185,22,50,40,48,138,49,97,113,113,323\r\n",
      "Syria (SYR),12,1,1,1,3,0,0,0,0,0,12,1,1,1,3\r\n",
      "Chinese Taipei (TPE) [TPE] [TPE2],13,2,7,12,21,11,0,0,0,0,24,2,7,12,21\r\n",
      "Tajikistan (TJK),5,0,1,2,3,4,0,0,0,0,9,0,1,2,3\r\n",
      "Tanzania (TAN) [TAN],12,0,2,0,2,0,0,0,0,0,12,0,2,0,2\r\n",
      "Thailand (THA),15,7,6,11,24,3,0,0,0,0,18,7,6,11,24\r\n",
      "Togo (TOG),9,0,0,1,1,1,0,0,0,0,10,0,0,1,1\r\n",
      "Tonga (TGA),8,0,1,0,1,1,0,0,0,0,9,0,1,0,1\r\n",
      "Trinidad and Tobago (TRI) [TRI],16,2,5,11,18,3,0,0,0,0,19,2,5,11,18\r\n",
      "Tunisia (TUN),13,3,3,4,10,0,0,0,0,0,13,3,3,4,10\r\n",
      "Turkey (TUR),21,39,25,24,88,16,0,0,0,0,37,39,25,24,88\r\n",
      "Uganda (UGA),14,2,3,2,7,0,0,0,0,0,14,2,3,2,7\r\n",
      "Ukraine (UKR),5,33,27,55,115,6,2,1,4,7,11,35,28,59,122\r\n",
      "United Arab Emirates (UAE),8,1,0,0,1,0,0,0,0,0,8,1,0,0,1\r\n",
      "United States (USA) [P] [Q] [R] [Z],26,976,757,666,2399,22,96,102,84,282,48,1072,859,750,2681\r\n",
      "Uruguay (URU),20,2,2,6,10,1,0,0,0,0,21,2,2,6,10\r\n",
      "Uzbekistan (UZB),5,5,5,10,20,6,1,0,0,1,11,6,5,10,21\r\n",
      "Venezuela (VEN),17,2,2,8,12,4,0,0,0,0,21,2,2,8,12\r\n",
      "Vietnam (VIE),14,0,2,0,2,0,0,0,0,0,14,0,2,0,2\r\n",
      "Virgin Islands (ISV),11,0,1,0,1,7,0,0,0,0,18,0,1,0,1\r\n",
      "Yugoslavia (YUG) [YUG],16,26,29,28,83,14,0,3,1,4,30,26,32,29,87\r\n",
      "Independent Olympic Participants (IOP) [IOP],1,0,1,2,3,0,0,0,0,0,1,0,1,2,3\r\n",
      "Zambia (ZAM) [ZAM],12,0,1,1,2,0,0,0,0,0,12,0,1,1,2\r\n",
      "Zimbabwe (ZIM) [ZIM],12,3,4,1,8,1,0,0,0,0,13,3,4,1,8\r\n",
      "Mixed team (ZZX) [ZZX],3,8,5,4,17,0,0,0,0,0,3,8,5,4,17\r\n",
      "Totals,27,4809,4775,5130,14714,22,959,958,948,2865,49,5768,5733,6078,17579"
     ],
     "output_type": "stream"
    }
   ],
   "source": [
    "!cat olympics.csv"
   ],
   "metadata": {
    "collapsed": false,
    "pycharm": {
     "name": "#%%\n",
     "is_executing": false
    }
   }
  },
  {
   "cell_type": "code",
   "execution_count": 30,
   "outputs": [
    {
     "data": {
      "text/plain": "                   0         1     2     3     4      5         6     7     8  \\\n0                NaN  ? Summer  01 !  02 !  03 !  Total  ? Winter  01 !  02 !   \n1  Afghanistan (AFG)        13     0     0     2      2         0     0     0   \n2      Algeria (ALG)        12     5     2     8     15         3     0     0   \n3    Argentina (ARG)        23    18    24    28     70        18     0     0   \n4      Armenia (ARM)         5     1     2     9     12         6     0     0   \n\n      9     10       11    12    13    14              15  \n0  03 !  Total  ? Games  01 !  02 !  03 !  Combined total  \n1     0      0       13     0     0     2               2  \n2     0      0       15     5     2     8              15  \n3     0      0       41    18    24    28              70  \n4     0      0       11     1     2     9              12  ",
      "text/html": "<div>\n<style scoped>\n    .dataframe tbody tr th:only-of-type {\n        vertical-align: middle;\n    }\n\n    .dataframe tbody tr th {\n        vertical-align: top;\n    }\n\n    .dataframe thead th {\n        text-align: right;\n    }\n</style>\n<table border=\"1\" class=\"dataframe\">\n  <thead>\n    <tr style=\"text-align: right;\">\n      <th></th>\n      <th>0</th>\n      <th>1</th>\n      <th>2</th>\n      <th>3</th>\n      <th>4</th>\n      <th>5</th>\n      <th>6</th>\n      <th>7</th>\n      <th>8</th>\n      <th>9</th>\n      <th>10</th>\n      <th>11</th>\n      <th>12</th>\n      <th>13</th>\n      <th>14</th>\n      <th>15</th>\n    </tr>\n  </thead>\n  <tbody>\n    <tr>\n      <th>0</th>\n      <td>NaN</td>\n      <td>? Summer</td>\n      <td>01 !</td>\n      <td>02 !</td>\n      <td>03 !</td>\n      <td>Total</td>\n      <td>? Winter</td>\n      <td>01 !</td>\n      <td>02 !</td>\n      <td>03 !</td>\n      <td>Total</td>\n      <td>? Games</td>\n      <td>01 !</td>\n      <td>02 !</td>\n      <td>03 !</td>\n      <td>Combined total</td>\n    </tr>\n    <tr>\n      <th>1</th>\n      <td>Afghanistan (AFG)</td>\n      <td>13</td>\n      <td>0</td>\n      <td>0</td>\n      <td>2</td>\n      <td>2</td>\n      <td>0</td>\n      <td>0</td>\n      <td>0</td>\n      <td>0</td>\n      <td>0</td>\n      <td>13</td>\n      <td>0</td>\n      <td>0</td>\n      <td>2</td>\n      <td>2</td>\n    </tr>\n    <tr>\n      <th>2</th>\n      <td>Algeria (ALG)</td>\n      <td>12</td>\n      <td>5</td>\n      <td>2</td>\n      <td>8</td>\n      <td>15</td>\n      <td>3</td>\n      <td>0</td>\n      <td>0</td>\n      <td>0</td>\n      <td>0</td>\n      <td>15</td>\n      <td>5</td>\n      <td>2</td>\n      <td>8</td>\n      <td>15</td>\n    </tr>\n    <tr>\n      <th>3</th>\n      <td>Argentina (ARG)</td>\n      <td>23</td>\n      <td>18</td>\n      <td>24</td>\n      <td>28</td>\n      <td>70</td>\n      <td>18</td>\n      <td>0</td>\n      <td>0</td>\n      <td>0</td>\n      <td>0</td>\n      <td>41</td>\n      <td>18</td>\n      <td>24</td>\n      <td>28</td>\n      <td>70</td>\n    </tr>\n    <tr>\n      <th>4</th>\n      <td>Armenia (ARM)</td>\n      <td>5</td>\n      <td>1</td>\n      <td>2</td>\n      <td>9</td>\n      <td>12</td>\n      <td>6</td>\n      <td>0</td>\n      <td>0</td>\n      <td>0</td>\n      <td>0</td>\n      <td>11</td>\n      <td>1</td>\n      <td>2</td>\n      <td>9</td>\n      <td>12</td>\n    </tr>\n  </tbody>\n</table>\n</div>"
     },
     "metadata": {},
     "output_type": "execute_result",
     "execution_count": 30
    }
   ],
   "source": [
    "df = pd.read_csv('olympics.csv')\n",
    "df.head()"
   ],
   "metadata": {
    "collapsed": false,
    "pycharm": {
     "name": "#%%\n",
     "is_executing": false
    }
   }
  },
  {
   "cell_type": "code",
   "execution_count": 42,
   "outputs": [
    {
     "data": {
      "text/plain": "                                              ? Summer  01 !  02 !  03 !  \\\nAfghanistan (AFG)                                   13     0     0     2   \nAlgeria (ALG)                                       12     5     2     8   \nArgentina (ARG)                                     23    18    24    28   \nArmenia (ARM)                                        5     1     2     9   \nAustralasia (ANZ) [ANZ]                              2     3     4     5   \n...                                                ...   ...   ...   ...   \nIndependent Olympic Participants (IOP) [IOP]         1     0     1     2   \nZambia (ZAM) [ZAM]                                  12     0     1     1   \nZimbabwe (ZIM) [ZIM]                                12     3     4     1   \nMixed team (ZZX) [ZZX]                               3     8     5     4   \nTotals                                              27  4809  4775  5130   \n\n                                              Total  ? Winter  01 !.1  02 !.1  \\\nAfghanistan (AFG)                                 2         0       0       0   \nAlgeria (ALG)                                    15         3       0       0   \nArgentina (ARG)                                  70        18       0       0   \nArmenia (ARM)                                    12         6       0       0   \nAustralasia (ANZ) [ANZ]                          12         0       0       0   \n...                                             ...       ...     ...     ...   \nIndependent Olympic Participants (IOP) [IOP]      3         0       0       0   \nZambia (ZAM) [ZAM]                                2         0       0       0   \nZimbabwe (ZIM) [ZIM]                              8         1       0       0   \nMixed team (ZZX) [ZZX]                           17         0       0       0   \nTotals                                        14714        22     959     958   \n\n                                              03 !.1  Total.1  ? Games  \\\nAfghanistan (AFG)                                  0        0       13   \nAlgeria (ALG)                                      0        0       15   \nArgentina (ARG)                                    0        0       41   \nArmenia (ARM)                                      0        0       11   \nAustralasia (ANZ) [ANZ]                            0        0        2   \n...                                              ...      ...      ...   \nIndependent Olympic Participants (IOP) [IOP]       0        0        1   \nZambia (ZAM) [ZAM]                                 0        0       12   \nZimbabwe (ZIM) [ZIM]                               0        0       13   \nMixed team (ZZX) [ZZX]                             0        0        3   \nTotals                                           948     2865       49   \n\n                                              01 !.2  02 !.2  03 !.2  \\\nAfghanistan (AFG)                                  0       0       2   \nAlgeria (ALG)                                      5       2       8   \nArgentina (ARG)                                   18      24      28   \nArmenia (ARM)                                      1       2       9   \nAustralasia (ANZ) [ANZ]                            3       4       5   \n...                                              ...     ...     ...   \nIndependent Olympic Participants (IOP) [IOP]       0       1       2   \nZambia (ZAM) [ZAM]                                 0       1       1   \nZimbabwe (ZIM) [ZIM]                               3       4       1   \nMixed team (ZZX) [ZZX]                             8       5       4   \nTotals                                          5768    5733    6078   \n\n                                              Combined total  \nAfghanistan (AFG)                                          2  \nAlgeria (ALG)                                             15  \nArgentina (ARG)                                           70  \nArmenia (ARM)                                             12  \nAustralasia (ANZ) [ANZ]                                   12  \n...                                                      ...  \nIndependent Olympic Participants (IOP) [IOP]               3  \nZambia (ZAM) [ZAM]                                         2  \nZimbabwe (ZIM) [ZIM]                                       8  \nMixed team (ZZX) [ZZX]                                    17  \nTotals                                                 17579  \n\n[147 rows x 15 columns]",
      "text/html": "<div>\n<style scoped>\n    .dataframe tbody tr th:only-of-type {\n        vertical-align: middle;\n    }\n\n    .dataframe tbody tr th {\n        vertical-align: top;\n    }\n\n    .dataframe thead th {\n        text-align: right;\n    }\n</style>\n<table border=\"1\" class=\"dataframe\">\n  <thead>\n    <tr style=\"text-align: right;\">\n      <th></th>\n      <th>? Summer</th>\n      <th>01 !</th>\n      <th>02 !</th>\n      <th>03 !</th>\n      <th>Total</th>\n      <th>? Winter</th>\n      <th>01 !.1</th>\n      <th>02 !.1</th>\n      <th>03 !.1</th>\n      <th>Total.1</th>\n      <th>? Games</th>\n      <th>01 !.2</th>\n      <th>02 !.2</th>\n      <th>03 !.2</th>\n      <th>Combined total</th>\n    </tr>\n  </thead>\n  <tbody>\n    <tr>\n      <th>Afghanistan (AFG)</th>\n      <td>13</td>\n      <td>0</td>\n      <td>0</td>\n      <td>2</td>\n      <td>2</td>\n      <td>0</td>\n      <td>0</td>\n      <td>0</td>\n      <td>0</td>\n      <td>0</td>\n      <td>13</td>\n      <td>0</td>\n      <td>0</td>\n      <td>2</td>\n      <td>2</td>\n    </tr>\n    <tr>\n      <th>Algeria (ALG)</th>\n      <td>12</td>\n      <td>5</td>\n      <td>2</td>\n      <td>8</td>\n      <td>15</td>\n      <td>3</td>\n      <td>0</td>\n      <td>0</td>\n      <td>0</td>\n      <td>0</td>\n      <td>15</td>\n      <td>5</td>\n      <td>2</td>\n      <td>8</td>\n      <td>15</td>\n    </tr>\n    <tr>\n      <th>Argentina (ARG)</th>\n      <td>23</td>\n      <td>18</td>\n      <td>24</td>\n      <td>28</td>\n      <td>70</td>\n      <td>18</td>\n      <td>0</td>\n      <td>0</td>\n      <td>0</td>\n      <td>0</td>\n      <td>41</td>\n      <td>18</td>\n      <td>24</td>\n      <td>28</td>\n      <td>70</td>\n    </tr>\n    <tr>\n      <th>Armenia (ARM)</th>\n      <td>5</td>\n      <td>1</td>\n      <td>2</td>\n      <td>9</td>\n      <td>12</td>\n      <td>6</td>\n      <td>0</td>\n      <td>0</td>\n      <td>0</td>\n      <td>0</td>\n      <td>11</td>\n      <td>1</td>\n      <td>2</td>\n      <td>9</td>\n      <td>12</td>\n    </tr>\n    <tr>\n      <th>Australasia (ANZ) [ANZ]</th>\n      <td>2</td>\n      <td>3</td>\n      <td>4</td>\n      <td>5</td>\n      <td>12</td>\n      <td>0</td>\n      <td>0</td>\n      <td>0</td>\n      <td>0</td>\n      <td>0</td>\n      <td>2</td>\n      <td>3</td>\n      <td>4</td>\n      <td>5</td>\n      <td>12</td>\n    </tr>\n    <tr>\n      <th>...</th>\n      <td>...</td>\n      <td>...</td>\n      <td>...</td>\n      <td>...</td>\n      <td>...</td>\n      <td>...</td>\n      <td>...</td>\n      <td>...</td>\n      <td>...</td>\n      <td>...</td>\n      <td>...</td>\n      <td>...</td>\n      <td>...</td>\n      <td>...</td>\n      <td>...</td>\n    </tr>\n    <tr>\n      <th>Independent Olympic Participants (IOP) [IOP]</th>\n      <td>1</td>\n      <td>0</td>\n      <td>1</td>\n      <td>2</td>\n      <td>3</td>\n      <td>0</td>\n      <td>0</td>\n      <td>0</td>\n      <td>0</td>\n      <td>0</td>\n      <td>1</td>\n      <td>0</td>\n      <td>1</td>\n      <td>2</td>\n      <td>3</td>\n    </tr>\n    <tr>\n      <th>Zambia (ZAM) [ZAM]</th>\n      <td>12</td>\n      <td>0</td>\n      <td>1</td>\n      <td>1</td>\n      <td>2</td>\n      <td>0</td>\n      <td>0</td>\n      <td>0</td>\n      <td>0</td>\n      <td>0</td>\n      <td>12</td>\n      <td>0</td>\n      <td>1</td>\n      <td>1</td>\n      <td>2</td>\n    </tr>\n    <tr>\n      <th>Zimbabwe (ZIM) [ZIM]</th>\n      <td>12</td>\n      <td>3</td>\n      <td>4</td>\n      <td>1</td>\n      <td>8</td>\n      <td>1</td>\n      <td>0</td>\n      <td>0</td>\n      <td>0</td>\n      <td>0</td>\n      <td>13</td>\n      <td>3</td>\n      <td>4</td>\n      <td>1</td>\n      <td>8</td>\n    </tr>\n    <tr>\n      <th>Mixed team (ZZX) [ZZX]</th>\n      <td>3</td>\n      <td>8</td>\n      <td>5</td>\n      <td>4</td>\n      <td>17</td>\n      <td>0</td>\n      <td>0</td>\n      <td>0</td>\n      <td>0</td>\n      <td>0</td>\n      <td>3</td>\n      <td>8</td>\n      <td>5</td>\n      <td>4</td>\n      <td>17</td>\n    </tr>\n    <tr>\n      <th>Totals</th>\n      <td>27</td>\n      <td>4809</td>\n      <td>4775</td>\n      <td>5130</td>\n      <td>14714</td>\n      <td>22</td>\n      <td>959</td>\n      <td>958</td>\n      <td>948</td>\n      <td>2865</td>\n      <td>49</td>\n      <td>5768</td>\n      <td>5733</td>\n      <td>6078</td>\n      <td>17579</td>\n    </tr>\n  </tbody>\n</table>\n<p>147 rows × 15 columns</p>\n</div>"
     },
     "metadata": {},
     "output_type": "execute_result",
     "execution_count": 42
    }
   ],
   "source": [
    "df = pd.read_csv('olympics.csv', index_col=0,skiprows=1)\n",
    "df"
   ],
   "metadata": {
    "collapsed": false,
    "pycharm": {
     "name": "#%%\n",
     "is_executing": false
    }
   }
  },
  {
   "cell_type": "code",
   "execution_count": 33,
   "outputs": [
    {
     "data": {
      "text/plain": "Index(['? Summer', '01 !', '02 !', '03 !', 'Total', '? Winter', '01 !.1',\n       '02 !.1', '03 !.1', 'Total.1', '? Games', '01 !.2', '02 !.2', '03 !.2',\n       'Combined total'],\n      dtype='object')"
     },
     "metadata": {},
     "output_type": "execute_result",
     "execution_count": 33
    }
   ],
   "source": [
    "df.columns"
   ],
   "metadata": {
    "collapsed": false,
    "pycharm": {
     "name": "#%%\n",
     "is_executing": false
    }
   }
  },
  {
   "cell_type": "code",
   "execution_count": 44,
   "outputs": [
    {
     "data": {
      "text/plain": "                         ? Summer  Gold  Silver  Bronze  Total  ? Winter  \\\nAfghanistan (AFG)              13     0       0       2      2         0   \nAlgeria (ALG)                  12     5       2       8     15         3   \nArgentina (ARG)                23    18      24      28     70        18   \nArmenia (ARM)                   5     1       2       9     12         6   \nAustralasia (ANZ) [ANZ]         2     3       4       5     12         0   \n\n                         Gold.1  Silver.1  Bronze.1  Total.1  ? Games  Gold.2  \\\nAfghanistan (AFG)             0         0         0        0       13       0   \nAlgeria (ALG)                 0         0         0        0       15       5   \nArgentina (ARG)               0         0         0        0       41      18   \nArmenia (ARM)                 0         0         0        0       11       1   \nAustralasia (ANZ) [ANZ]       0         0         0        0        2       3   \n\n                         Silver.2  Bronze.2  Combined total  \nAfghanistan (AFG)               0         2               2  \nAlgeria (ALG)                   2         8              15  \nArgentina (ARG)                24        28              70  \nArmenia (ARM)                   2         9              12  \nAustralasia (ANZ) [ANZ]         4         5              12  ",
      "text/html": "<div>\n<style scoped>\n    .dataframe tbody tr th:only-of-type {\n        vertical-align: middle;\n    }\n\n    .dataframe tbody tr th {\n        vertical-align: top;\n    }\n\n    .dataframe thead th {\n        text-align: right;\n    }\n</style>\n<table border=\"1\" class=\"dataframe\">\n  <thead>\n    <tr style=\"text-align: right;\">\n      <th></th>\n      <th>? Summer</th>\n      <th>Gold</th>\n      <th>Silver</th>\n      <th>Bronze</th>\n      <th>Total</th>\n      <th>? Winter</th>\n      <th>Gold.1</th>\n      <th>Silver.1</th>\n      <th>Bronze.1</th>\n      <th>Total.1</th>\n      <th>? Games</th>\n      <th>Gold.2</th>\n      <th>Silver.2</th>\n      <th>Bronze.2</th>\n      <th>Combined total</th>\n    </tr>\n  </thead>\n  <tbody>\n    <tr>\n      <th>Afghanistan (AFG)</th>\n      <td>13</td>\n      <td>0</td>\n      <td>0</td>\n      <td>2</td>\n      <td>2</td>\n      <td>0</td>\n      <td>0</td>\n      <td>0</td>\n      <td>0</td>\n      <td>0</td>\n      <td>13</td>\n      <td>0</td>\n      <td>0</td>\n      <td>2</td>\n      <td>2</td>\n    </tr>\n    <tr>\n      <th>Algeria (ALG)</th>\n      <td>12</td>\n      <td>5</td>\n      <td>2</td>\n      <td>8</td>\n      <td>15</td>\n      <td>3</td>\n      <td>0</td>\n      <td>0</td>\n      <td>0</td>\n      <td>0</td>\n      <td>15</td>\n      <td>5</td>\n      <td>2</td>\n      <td>8</td>\n      <td>15</td>\n    </tr>\n    <tr>\n      <th>Argentina (ARG)</th>\n      <td>23</td>\n      <td>18</td>\n      <td>24</td>\n      <td>28</td>\n      <td>70</td>\n      <td>18</td>\n      <td>0</td>\n      <td>0</td>\n      <td>0</td>\n      <td>0</td>\n      <td>41</td>\n      <td>18</td>\n      <td>24</td>\n      <td>28</td>\n      <td>70</td>\n    </tr>\n    <tr>\n      <th>Armenia (ARM)</th>\n      <td>5</td>\n      <td>1</td>\n      <td>2</td>\n      <td>9</td>\n      <td>12</td>\n      <td>6</td>\n      <td>0</td>\n      <td>0</td>\n      <td>0</td>\n      <td>0</td>\n      <td>11</td>\n      <td>1</td>\n      <td>2</td>\n      <td>9</td>\n      <td>12</td>\n    </tr>\n    <tr>\n      <th>Australasia (ANZ) [ANZ]</th>\n      <td>2</td>\n      <td>3</td>\n      <td>4</td>\n      <td>5</td>\n      <td>12</td>\n      <td>0</td>\n      <td>0</td>\n      <td>0</td>\n      <td>0</td>\n      <td>0</td>\n      <td>2</td>\n      <td>3</td>\n      <td>4</td>\n      <td>5</td>\n      <td>12</td>\n    </tr>\n  </tbody>\n</table>\n</div>"
     },
     "metadata": {},
     "output_type": "execute_result",
     "execution_count": 44
    }
   ],
   "source": [
    "for col in df.columns:\n",
    "    if col[:2] == '01':\n",
    "        df.rename(columns={col:'Gold' + col[4:]},inplace=True)\n",
    "    if col[:2] == '02':\n",
    "        df.rename(columns={col:'Silver' + col[4:]},inplace=True)\n",
    "    if col[:2] == '03':\n",
    "        df.rename(columns={col:'Bronze' + col[4:]},inplace=True)\n",
    "    if col[:1] == '':\n",
    "        df.rename(columns={col:'#' + col[4:]},inplace=True)\n",
    "        \n",
    "df.head()"
   ],
   "metadata": {
    "collapsed": false,
    "pycharm": {
     "name": "#%%\n",
     "is_executing": false
    }
   }
  },
  {
   "cell_type": "code",
   "execution_count": 45,
   "outputs": [
    {
     "data": {
      "text/plain": "Afghanistan (AFG)                               False\nAlgeria (ALG)                                    True\nArgentina (ARG)                                  True\nArmenia (ARM)                                    True\nAustralasia (ANZ) [ANZ]                          True\n                                                ...  \nIndependent Olympic Participants (IOP) [IOP]    False\nZambia (ZAM) [ZAM]                              False\nZimbabwe (ZIM) [ZIM]                             True\nMixed team (ZZX) [ZZX]                           True\nTotals                                           True\nName: Gold, Length: 147, dtype: bool"
     },
     "metadata": {},
     "output_type": "execute_result",
     "execution_count": 45
    }
   ],
   "source": [
    "df['Gold'] > 0"
   ],
   "metadata": {
    "collapsed": false,
    "pycharm": {
     "name": "#%%\n",
     "is_executing": false
    }
   }
  },
  {
   "cell_type": "code",
   "execution_count": 46,
   "outputs": [],
   "source": [
    "only_gold = df.where(df['Gold'] > 0)"
   ],
   "metadata": {
    "collapsed": false,
    "pycharm": {
     "name": "#%%\n",
     "is_executing": false
    }
   }
  },
  {
   "cell_type": "code",
   "execution_count": 47,
   "outputs": [
    {
     "data": {
      "text/plain": "                                              ? Summer    Gold  Silver  \\\nAfghanistan (AFG)                                  NaN     NaN     NaN   \nAlgeria (ALG)                                     12.0     5.0     2.0   \nArgentina (ARG)                                   23.0    18.0    24.0   \nArmenia (ARM)                                      5.0     1.0     2.0   \nAustralasia (ANZ) [ANZ]                            2.0     3.0     4.0   \n...                                                ...     ...     ...   \nIndependent Olympic Participants (IOP) [IOP]       NaN     NaN     NaN   \nZambia (ZAM) [ZAM]                                 NaN     NaN     NaN   \nZimbabwe (ZIM) [ZIM]                              12.0     3.0     4.0   \nMixed team (ZZX) [ZZX]                             3.0     8.0     5.0   \nTotals                                            27.0  4809.0  4775.0   \n\n                                              Bronze    Total  ? Winter  \\\nAfghanistan (AFG)                                NaN      NaN       NaN   \nAlgeria (ALG)                                    8.0     15.0       3.0   \nArgentina (ARG)                                 28.0     70.0      18.0   \nArmenia (ARM)                                    9.0     12.0       6.0   \nAustralasia (ANZ) [ANZ]                          5.0     12.0       0.0   \n...                                              ...      ...       ...   \nIndependent Olympic Participants (IOP) [IOP]     NaN      NaN       NaN   \nZambia (ZAM) [ZAM]                               NaN      NaN       NaN   \nZimbabwe (ZIM) [ZIM]                             1.0      8.0       1.0   \nMixed team (ZZX) [ZZX]                           4.0     17.0       0.0   \nTotals                                        5130.0  14714.0      22.0   \n\n                                              Gold.1  Silver.1  Bronze.1  \\\nAfghanistan (AFG)                                NaN       NaN       NaN   \nAlgeria (ALG)                                    0.0       0.0       0.0   \nArgentina (ARG)                                  0.0       0.0       0.0   \nArmenia (ARM)                                    0.0       0.0       0.0   \nAustralasia (ANZ) [ANZ]                          0.0       0.0       0.0   \n...                                              ...       ...       ...   \nIndependent Olympic Participants (IOP) [IOP]     NaN       NaN       NaN   \nZambia (ZAM) [ZAM]                               NaN       NaN       NaN   \nZimbabwe (ZIM) [ZIM]                             0.0       0.0       0.0   \nMixed team (ZZX) [ZZX]                           0.0       0.0       0.0   \nTotals                                         959.0     958.0     948.0   \n\n                                              Total.1  ? Games  Gold.2  \\\nAfghanistan (AFG)                                 NaN      NaN     NaN   \nAlgeria (ALG)                                     0.0     15.0     5.0   \nArgentina (ARG)                                   0.0     41.0    18.0   \nArmenia (ARM)                                     0.0     11.0     1.0   \nAustralasia (ANZ) [ANZ]                           0.0      2.0     3.0   \n...                                               ...      ...     ...   \nIndependent Olympic Participants (IOP) [IOP]      NaN      NaN     NaN   \nZambia (ZAM) [ZAM]                                NaN      NaN     NaN   \nZimbabwe (ZIM) [ZIM]                              0.0     13.0     3.0   \nMixed team (ZZX) [ZZX]                            0.0      3.0     8.0   \nTotals                                         2865.0     49.0  5768.0   \n\n                                              Silver.2  Bronze.2  \\\nAfghanistan (AFG)                                  NaN       NaN   \nAlgeria (ALG)                                      2.0       8.0   \nArgentina (ARG)                                   24.0      28.0   \nArmenia (ARM)                                      2.0       9.0   \nAustralasia (ANZ) [ANZ]                            4.0       5.0   \n...                                                ...       ...   \nIndependent Olympic Participants (IOP) [IOP]       NaN       NaN   \nZambia (ZAM) [ZAM]                                 NaN       NaN   \nZimbabwe (ZIM) [ZIM]                               4.0       1.0   \nMixed team (ZZX) [ZZX]                             5.0       4.0   \nTotals                                          5733.0    6078.0   \n\n                                              Combined total  \nAfghanistan (AFG)                                        NaN  \nAlgeria (ALG)                                           15.0  \nArgentina (ARG)                                         70.0  \nArmenia (ARM)                                           12.0  \nAustralasia (ANZ) [ANZ]                                 12.0  \n...                                                      ...  \nIndependent Olympic Participants (IOP) [IOP]             NaN  \nZambia (ZAM) [ZAM]                                       NaN  \nZimbabwe (ZIM) [ZIM]                                     8.0  \nMixed team (ZZX) [ZZX]                                  17.0  \nTotals                                               17579.0  \n\n[147 rows x 15 columns]",
      "text/html": "<div>\n<style scoped>\n    .dataframe tbody tr th:only-of-type {\n        vertical-align: middle;\n    }\n\n    .dataframe tbody tr th {\n        vertical-align: top;\n    }\n\n    .dataframe thead th {\n        text-align: right;\n    }\n</style>\n<table border=\"1\" class=\"dataframe\">\n  <thead>\n    <tr style=\"text-align: right;\">\n      <th></th>\n      <th>? Summer</th>\n      <th>Gold</th>\n      <th>Silver</th>\n      <th>Bronze</th>\n      <th>Total</th>\n      <th>? Winter</th>\n      <th>Gold.1</th>\n      <th>Silver.1</th>\n      <th>Bronze.1</th>\n      <th>Total.1</th>\n      <th>? Games</th>\n      <th>Gold.2</th>\n      <th>Silver.2</th>\n      <th>Bronze.2</th>\n      <th>Combined total</th>\n    </tr>\n  </thead>\n  <tbody>\n    <tr>\n      <th>Afghanistan (AFG)</th>\n      <td>NaN</td>\n      <td>NaN</td>\n      <td>NaN</td>\n      <td>NaN</td>\n      <td>NaN</td>\n      <td>NaN</td>\n      <td>NaN</td>\n      <td>NaN</td>\n      <td>NaN</td>\n      <td>NaN</td>\n      <td>NaN</td>\n      <td>NaN</td>\n      <td>NaN</td>\n      <td>NaN</td>\n      <td>NaN</td>\n    </tr>\n    <tr>\n      <th>Algeria (ALG)</th>\n      <td>12.0</td>\n      <td>5.0</td>\n      <td>2.0</td>\n      <td>8.0</td>\n      <td>15.0</td>\n      <td>3.0</td>\n      <td>0.0</td>\n      <td>0.0</td>\n      <td>0.0</td>\n      <td>0.0</td>\n      <td>15.0</td>\n      <td>5.0</td>\n      <td>2.0</td>\n      <td>8.0</td>\n      <td>15.0</td>\n    </tr>\n    <tr>\n      <th>Argentina (ARG)</th>\n      <td>23.0</td>\n      <td>18.0</td>\n      <td>24.0</td>\n      <td>28.0</td>\n      <td>70.0</td>\n      <td>18.0</td>\n      <td>0.0</td>\n      <td>0.0</td>\n      <td>0.0</td>\n      <td>0.0</td>\n      <td>41.0</td>\n      <td>18.0</td>\n      <td>24.0</td>\n      <td>28.0</td>\n      <td>70.0</td>\n    </tr>\n    <tr>\n      <th>Armenia (ARM)</th>\n      <td>5.0</td>\n      <td>1.0</td>\n      <td>2.0</td>\n      <td>9.0</td>\n      <td>12.0</td>\n      <td>6.0</td>\n      <td>0.0</td>\n      <td>0.0</td>\n      <td>0.0</td>\n      <td>0.0</td>\n      <td>11.0</td>\n      <td>1.0</td>\n      <td>2.0</td>\n      <td>9.0</td>\n      <td>12.0</td>\n    </tr>\n    <tr>\n      <th>Australasia (ANZ) [ANZ]</th>\n      <td>2.0</td>\n      <td>3.0</td>\n      <td>4.0</td>\n      <td>5.0</td>\n      <td>12.0</td>\n      <td>0.0</td>\n      <td>0.0</td>\n      <td>0.0</td>\n      <td>0.0</td>\n      <td>0.0</td>\n      <td>2.0</td>\n      <td>3.0</td>\n      <td>4.0</td>\n      <td>5.0</td>\n      <td>12.0</td>\n    </tr>\n    <tr>\n      <th>...</th>\n      <td>...</td>\n      <td>...</td>\n      <td>...</td>\n      <td>...</td>\n      <td>...</td>\n      <td>...</td>\n      <td>...</td>\n      <td>...</td>\n      <td>...</td>\n      <td>...</td>\n      <td>...</td>\n      <td>...</td>\n      <td>...</td>\n      <td>...</td>\n      <td>...</td>\n    </tr>\n    <tr>\n      <th>Independent Olympic Participants (IOP) [IOP]</th>\n      <td>NaN</td>\n      <td>NaN</td>\n      <td>NaN</td>\n      <td>NaN</td>\n      <td>NaN</td>\n      <td>NaN</td>\n      <td>NaN</td>\n      <td>NaN</td>\n      <td>NaN</td>\n      <td>NaN</td>\n      <td>NaN</td>\n      <td>NaN</td>\n      <td>NaN</td>\n      <td>NaN</td>\n      <td>NaN</td>\n    </tr>\n    <tr>\n      <th>Zambia (ZAM) [ZAM]</th>\n      <td>NaN</td>\n      <td>NaN</td>\n      <td>NaN</td>\n      <td>NaN</td>\n      <td>NaN</td>\n      <td>NaN</td>\n      <td>NaN</td>\n      <td>NaN</td>\n      <td>NaN</td>\n      <td>NaN</td>\n      <td>NaN</td>\n      <td>NaN</td>\n      <td>NaN</td>\n      <td>NaN</td>\n      <td>NaN</td>\n    </tr>\n    <tr>\n      <th>Zimbabwe (ZIM) [ZIM]</th>\n      <td>12.0</td>\n      <td>3.0</td>\n      <td>4.0</td>\n      <td>1.0</td>\n      <td>8.0</td>\n      <td>1.0</td>\n      <td>0.0</td>\n      <td>0.0</td>\n      <td>0.0</td>\n      <td>0.0</td>\n      <td>13.0</td>\n      <td>3.0</td>\n      <td>4.0</td>\n      <td>1.0</td>\n      <td>8.0</td>\n    </tr>\n    <tr>\n      <th>Mixed team (ZZX) [ZZX]</th>\n      <td>3.0</td>\n      <td>8.0</td>\n      <td>5.0</td>\n      <td>4.0</td>\n      <td>17.0</td>\n      <td>0.0</td>\n      <td>0.0</td>\n      <td>0.0</td>\n      <td>0.0</td>\n      <td>0.0</td>\n      <td>3.0</td>\n      <td>8.0</td>\n      <td>5.0</td>\n      <td>4.0</td>\n      <td>17.0</td>\n    </tr>\n    <tr>\n      <th>Totals</th>\n      <td>27.0</td>\n      <td>4809.0</td>\n      <td>4775.0</td>\n      <td>5130.0</td>\n      <td>14714.0</td>\n      <td>22.0</td>\n      <td>959.0</td>\n      <td>958.0</td>\n      <td>948.0</td>\n      <td>2865.0</td>\n      <td>49.0</td>\n      <td>5768.0</td>\n      <td>5733.0</td>\n      <td>6078.0</td>\n      <td>17579.0</td>\n    </tr>\n  </tbody>\n</table>\n<p>147 rows × 15 columns</p>\n</div>"
     },
     "metadata": {},
     "output_type": "execute_result",
     "execution_count": 47
    }
   ],
   "source": [
    "only_gold"
   ],
   "metadata": {
    "collapsed": false,
    "pycharm": {
     "name": "#%%\n",
     "is_executing": false
    }
   }
  },
  {
   "cell_type": "code",
   "execution_count": 48,
   "outputs": [
    {
     "data": {
      "text/plain": "<bound method Series.count of Afghanistan (AFG)                                  NaN\nAlgeria (ALG)                                      5.0\nArgentina (ARG)                                   18.0\nArmenia (ARM)                                      1.0\nAustralasia (ANZ) [ANZ]                            3.0\n                                                 ...  \nIndependent Olympic Participants (IOP) [IOP]       NaN\nZambia (ZAM) [ZAM]                                 NaN\nZimbabwe (ZIM) [ZIM]                               3.0\nMixed team (ZZX) [ZZX]                             8.0\nTotals                                          4809.0\nName: Gold, Length: 147, dtype: float64>"
     },
     "metadata": {},
     "output_type": "execute_result",
     "execution_count": 48
    }
   ],
   "source": [
    "only_gold['Gold'].count()"
   ],
   "metadata": {
    "collapsed": false,
    "pycharm": {
     "name": "#%%\n",
     "is_executing": false
    }
   }
  },
  {
   "cell_type": "code",
   "execution_count": null,
   "outputs": [],
   "source": [
    "\n"
   ],
   "metadata": {
    "collapsed": false,
    "pycharm": {
     "name": "#%%\n"
    }
   }
  }
 ],
 "metadata": {
  "kernelspec": {
   "display_name": "Python 3",
   "language": "python",
   "name": "python3"
  },
  "language_info": {
   "codemirror_mode": {
    "name": "ipython",
    "version": 2
   },
   "file_extension": ".py",
   "mimetype": "text/x-python",
   "name": "python",
   "nbconvert_exporter": "python",
   "pygments_lexer": "ipython2",
   "version": "2.7.6"
  },
  "pycharm": {
   "stem_cell": {
    "cell_type": "raw",
    "source": [],
    "metadata": {
     "collapsed": false
    }
   }
  }
 },
 "nbformat": 4,
 "nbformat_minor": 0
}