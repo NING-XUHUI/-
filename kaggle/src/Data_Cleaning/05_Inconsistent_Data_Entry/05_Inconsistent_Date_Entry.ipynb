{
 "cells": [
  {
   "cell_type": "code",
   "execution_count": 2,
   "metadata": {
    "collapsed": true
   },
   "outputs": [],
   "source": [
    "# modules we'll use\n",
    "import pandas as pd\n",
    "import numpy as np\n",
    "\n",
    "# helpful modules\n",
    "import fuzzywuzzy\n",
    "from fuzzywuzzy import process\n",
    "import chardet\n",
    "\n",
    "# read in all our data\n",
    "professors = pd.read_csv('../../../datasets/Data_Cleaning/pakistan-intellectual-capital/pakistan_intellectual_capital.csv')\n",
    "\n",
    "# set seed for reproducibility\n",
    "np.random.seed(0)"
   ]
  },
  {
   "cell_type": "code",
   "execution_count": 4,
   "outputs": [
    {
     "name": "stdout",
     "output_type": "stream",
     "text": [
      "All done !\n"
     ]
    }
   ],
   "source": [
    "# convert to lower case\n",
    "professors['Country'] = professors['Country'].str.lower()\n",
    "# remove trailing white spaces\n",
    "professors['Country'] = professors['Country'].str.strip()\n",
    "\n",
    "# get the top 10 closest matches to \"south korea\"\n",
    "countries = professors['Country'].unique()\n",
    "matches = fuzzywuzzy.process.extract(\"south korea\", countries, limit=10, scorer=fuzzywuzzy.fuzz.token_sort_ratio)\n",
    "\n",
    "\n",
    "def replace_matches_in_columns(df, column, string_to_match, min_ratio = 47):\n",
    "    # get a list of unique strings\n",
    "    strings = df[column].unique()\n",
    "\n",
    "    # get the top 10 closest matches to our input string\n",
    "    matches = fuzzywuzzy.process.extract(string_to_match, strings,\n",
    "                                         limit=10, scorer=fuzzywuzzy.fuzz.token_sort_ratio)\n",
    "\n",
    "    # only get matches with ratio > 90\n",
    "    close_matches = [matches[0] for matches in matches if matches[1] >= min_ratio]\n",
    "\n",
    "    # get the rows of all the close matches with the input matches\n",
    "    rows_with_matches = df[column].isin(close_matches)\n",
    "\n",
    "    # replace all rows with close matches with the input matches\n",
    "    df.loc[rows_with_matches, column] = string_to_match\n",
    "\n",
    "    # let us know the function's done\n",
    "    print(\"All done !\")\n",
    "\n",
    "replace_matches_in_columns(df=professors, column='Country', string_to_match='south_korea')\n",
    "countries = professors['Country'].unique()"
   ],
   "metadata": {
    "collapsed": false,
    "pycharm": {
     "name": "#%%\n"
    }
   }
  },
  {
   "cell_type": "code",
   "execution_count": 5,
   "outputs": [],
   "source": [
    "professors['Graduated from'] = professors['Graduated from'].str.strip()"
   ],
   "metadata": {
    "collapsed": false,
    "pycharm": {
     "name": "#%%\n"
    }
   }
  },
  {
   "cell_type": "code",
   "execution_count": 6,
   "outputs": [
    {
     "data": {
      "text/plain": "0                           Asian Institute of Technology\n1                           Asian Institute of Technology\n2                           Asian Institute of Technology\n3                           Asian Institute of Technology\n4       Balochistan University of Information Technolo...\n                              ...                        \n1137                                                  JNU\n1138                                             Grenoble\n1139                          Florida Atlantic University\n1140    Ghulam Ishaq Khan Institute of Science and Tec...\n1141                            Seoul National University\nName: Graduated from, Length: 1142, dtype: object"
     },
     "execution_count": 6,
     "metadata": {},
     "output_type": "execute_result"
    }
   ],
   "source": [
    "professors['Graduated from']"
   ],
   "metadata": {
    "collapsed": false,
    "pycharm": {
     "name": "#%%\n"
    }
   }
  },
  {
   "cell_type": "code",
   "execution_count": 7,
   "outputs": [
    {
     "data": {
      "text/plain": "array(['australia', 'austria', 'canada', 'china', 'finland', 'france',\n       'germany', 'greece', 'hongkong', 'ireland', 'italy', 'japan',\n       'macau', 'malaysia', 'mauritius', 'netherland', 'new zealand',\n       'norway', 'pakistan', 'portugal', 'russian federation',\n       'saudi arabia', 'scotland', 'singapore', 'south korea',\n       'south_korea', 'spain', 'sweden', 'thailand', 'turkey', 'uk',\n       'urbana', 'usa', 'usofa'], dtype=object)"
     },
     "execution_count": 7,
     "metadata": {},
     "output_type": "execute_result"
    }
   ],
   "source": [
    "# get all the unique values in the 'City' column\n",
    "countries = professors['Country'].unique()\n",
    "\n",
    "# sort them alphabetically and then take a closer look\n",
    "countries.sort()\n",
    "countries"
   ],
   "metadata": {
    "collapsed": false,
    "pycharm": {
     "name": "#%%\n"
    }
   }
  },
  {
   "cell_type": "code",
   "execution_count": 8,
   "outputs": [
    {
     "name": "stdout",
     "output_type": "stream",
     "text": [
      "All done !\n"
     ]
    }
   ],
   "source": [
    "matches = fuzzywuzzy.process.extract('usa', countries, limit=10, scorer=fuzzywuzzy.fuzz.token_sort_ratio)\n",
    "replace_matches_in_columns(df=professors, column='Country', string_to_match='usa', min_ratio=70)"
   ],
   "metadata": {
    "collapsed": false,
    "pycharm": {
     "name": "#%%\n"
    }
   }
  },
  {
   "cell_type": "code",
   "execution_count": 9,
   "outputs": [
    {
     "data": {
      "text/plain": "      Unnamed: 0    S#            Teacher Name  \\\n0              2     3         Dr. Abdul Basit   \n1              4     5         Dr. Waheed Noor   \n2              5     6        Dr. Junaid Baber   \n3              6     7     Dr. Maheen Bakhtyar   \n4             24    25             Samina Azim   \n...          ...   ...                     ...   \n1137        1974  1975        Dr. Ahmar Rashid   \n1138        1975  1976       Dr. Fawad Hussain   \n1139        1977  1978    Dr. Rashad M Jillani   \n1140        1979  1980  Dr. Shahabuddin Ansari   \n1141        1980  1981         Dr. Sajid Anwar   \n\n               University Currently Teaching  \\\n0                  University of Balochistan   \n1                  University of Balochistan   \n2                  University of Balochistan   \n3                  University of Balochistan   \n4     Sardar Bahadur Khan Women's University   \n...                                      ...   \n1137             Ghulam Ishaq Khan Institute   \n1138             Ghulam Ishaq Khan Institute   \n1139             Ghulam Ishaq Khan Institute   \n1140             Ghulam Ishaq Khan Institute   \n1141             Ghulam Ishaq Khan Institute   \n\n                            Department Province University Located  \\\n0                Computer Science & IT                 Balochistan   \n1                Computer Science & IT                 Balochistan   \n2                Computer Science & IT                 Balochistan   \n3                Computer Science & IT                 Balochistan   \n4                     Computer Science                 Balochistan   \n...                                ...                         ...   \n1137  Computer Science and Engineering                         KPK   \n1138  Computer Science and Engineering                         KPK   \n1139  Computer Science and Engineering                         KPK   \n1140  Computer Science and Engineering                         KPK   \n1141  Computer Science and Engineering                         KPK   \n\n              Designation Terminal Degree  \\\n0     Assistant Professor             PhD   \n1     Assistant Professor             PhD   \n2     Assistant Professor             PhD   \n3     Assistant Professor             PhD   \n4                Lecturer              BS   \n...                   ...             ...   \n1137  Associate Professor             PhD   \n1138  Associate Professor             PhD   \n1139  Assistant Professor             PhD   \n1140  Assistant Professor             PhD   \n1141  Assistant Professor             PhD   \n\n                                         Graduated from      Country    Year  \\\n0                         Asian Institute of Technology     thailand     NaN   \n1                         Asian Institute of Technology     thailand     NaN   \n2                         Asian Institute of Technology     thailand     NaN   \n3                         Asian Institute of Technology     thailand     NaN   \n4     Balochistan University of Information Technolo...     pakistan  2005.0   \n...                                                 ...          ...     ...   \n1137                                                JNU  south korea     NaN   \n1138                                           Grenoble       france     NaN   \n1139                        Florida Atlantic University          usa  2012.0   \n1140  Ghulam Ishaq Khan Institute of Science and Tec...     pakistan     NaN   \n1141                          Seoul National University  south korea     NaN   \n\n              Area of Specialization/Research Interests Other Information  \n0                           Software Engineering & DBMS               NaN  \n1                                                  DBMS               NaN  \n2             Information processing, Multimedia mining               NaN  \n3     NLP, Information Retrieval, Question Answering...               NaN  \n4                         VLSI Electronics DLD Database               NaN  \n...                                                 ...               ...  \n1137  Electrical Impedance Tomography, Inverse algor...               NaN  \n1138  Machine Learning, Big Data Anaysis, Data Minin...               NaN  \n1139  Digital Multimedia Systems, Video Compression ...               NaN  \n1140  Medical Image Processing and Analysis, Digital...               NaN  \n1141                 Pruning and Quantizing CNN, GPGPU,               NaN  \n\n[1142 rows x 13 columns]",
      "text/html": "<div>\n<style scoped>\n    .dataframe tbody tr th:only-of-type {\n        vertical-align: middle;\n    }\n\n    .dataframe tbody tr th {\n        vertical-align: top;\n    }\n\n    .dataframe thead th {\n        text-align: right;\n    }\n</style>\n<table border=\"1\" class=\"dataframe\">\n  <thead>\n    <tr style=\"text-align: right;\">\n      <th></th>\n      <th>Unnamed: 0</th>\n      <th>S#</th>\n      <th>Teacher Name</th>\n      <th>University Currently Teaching</th>\n      <th>Department</th>\n      <th>Province University Located</th>\n      <th>Designation</th>\n      <th>Terminal Degree</th>\n      <th>Graduated from</th>\n      <th>Country</th>\n      <th>Year</th>\n      <th>Area of Specialization/Research Interests</th>\n      <th>Other Information</th>\n    </tr>\n  </thead>\n  <tbody>\n    <tr>\n      <th>0</th>\n      <td>2</td>\n      <td>3</td>\n      <td>Dr. Abdul Basit</td>\n      <td>University of Balochistan</td>\n      <td>Computer Science &amp; IT</td>\n      <td>Balochistan</td>\n      <td>Assistant Professor</td>\n      <td>PhD</td>\n      <td>Asian Institute of Technology</td>\n      <td>thailand</td>\n      <td>NaN</td>\n      <td>Software Engineering &amp; DBMS</td>\n      <td>NaN</td>\n    </tr>\n    <tr>\n      <th>1</th>\n      <td>4</td>\n      <td>5</td>\n      <td>Dr. Waheed Noor</td>\n      <td>University of Balochistan</td>\n      <td>Computer Science &amp; IT</td>\n      <td>Balochistan</td>\n      <td>Assistant Professor</td>\n      <td>PhD</td>\n      <td>Asian Institute of Technology</td>\n      <td>thailand</td>\n      <td>NaN</td>\n      <td>DBMS</td>\n      <td>NaN</td>\n    </tr>\n    <tr>\n      <th>2</th>\n      <td>5</td>\n      <td>6</td>\n      <td>Dr. Junaid Baber</td>\n      <td>University of Balochistan</td>\n      <td>Computer Science &amp; IT</td>\n      <td>Balochistan</td>\n      <td>Assistant Professor</td>\n      <td>PhD</td>\n      <td>Asian Institute of Technology</td>\n      <td>thailand</td>\n      <td>NaN</td>\n      <td>Information processing, Multimedia mining</td>\n      <td>NaN</td>\n    </tr>\n    <tr>\n      <th>3</th>\n      <td>6</td>\n      <td>7</td>\n      <td>Dr. Maheen Bakhtyar</td>\n      <td>University of Balochistan</td>\n      <td>Computer Science &amp; IT</td>\n      <td>Balochistan</td>\n      <td>Assistant Professor</td>\n      <td>PhD</td>\n      <td>Asian Institute of Technology</td>\n      <td>thailand</td>\n      <td>NaN</td>\n      <td>NLP, Information Retrieval, Question Answering...</td>\n      <td>NaN</td>\n    </tr>\n    <tr>\n      <th>4</th>\n      <td>24</td>\n      <td>25</td>\n      <td>Samina Azim</td>\n      <td>Sardar Bahadur Khan Women's University</td>\n      <td>Computer Science</td>\n      <td>Balochistan</td>\n      <td>Lecturer</td>\n      <td>BS</td>\n      <td>Balochistan University of Information Technolo...</td>\n      <td>pakistan</td>\n      <td>2005.0</td>\n      <td>VLSI Electronics DLD Database</td>\n      <td>NaN</td>\n    </tr>\n    <tr>\n      <th>...</th>\n      <td>...</td>\n      <td>...</td>\n      <td>...</td>\n      <td>...</td>\n      <td>...</td>\n      <td>...</td>\n      <td>...</td>\n      <td>...</td>\n      <td>...</td>\n      <td>...</td>\n      <td>...</td>\n      <td>...</td>\n      <td>...</td>\n    </tr>\n    <tr>\n      <th>1137</th>\n      <td>1974</td>\n      <td>1975</td>\n      <td>Dr. Ahmar Rashid</td>\n      <td>Ghulam Ishaq Khan Institute</td>\n      <td>Computer Science and Engineering</td>\n      <td>KPK</td>\n      <td>Associate Professor</td>\n      <td>PhD</td>\n      <td>JNU</td>\n      <td>south korea</td>\n      <td>NaN</td>\n      <td>Electrical Impedance Tomography, Inverse algor...</td>\n      <td>NaN</td>\n    </tr>\n    <tr>\n      <th>1138</th>\n      <td>1975</td>\n      <td>1976</td>\n      <td>Dr. Fawad Hussain</td>\n      <td>Ghulam Ishaq Khan Institute</td>\n      <td>Computer Science and Engineering</td>\n      <td>KPK</td>\n      <td>Associate Professor</td>\n      <td>PhD</td>\n      <td>Grenoble</td>\n      <td>france</td>\n      <td>NaN</td>\n      <td>Machine Learning, Big Data Anaysis, Data Minin...</td>\n      <td>NaN</td>\n    </tr>\n    <tr>\n      <th>1139</th>\n      <td>1977</td>\n      <td>1978</td>\n      <td>Dr. Rashad M Jillani</td>\n      <td>Ghulam Ishaq Khan Institute</td>\n      <td>Computer Science and Engineering</td>\n      <td>KPK</td>\n      <td>Assistant Professor</td>\n      <td>PhD</td>\n      <td>Florida Atlantic University</td>\n      <td>usa</td>\n      <td>2012.0</td>\n      <td>Digital Multimedia Systems, Video Compression ...</td>\n      <td>NaN</td>\n    </tr>\n    <tr>\n      <th>1140</th>\n      <td>1979</td>\n      <td>1980</td>\n      <td>Dr. Shahabuddin Ansari</td>\n      <td>Ghulam Ishaq Khan Institute</td>\n      <td>Computer Science and Engineering</td>\n      <td>KPK</td>\n      <td>Assistant Professor</td>\n      <td>PhD</td>\n      <td>Ghulam Ishaq Khan Institute of Science and Tec...</td>\n      <td>pakistan</td>\n      <td>NaN</td>\n      <td>Medical Image Processing and Analysis, Digital...</td>\n      <td>NaN</td>\n    </tr>\n    <tr>\n      <th>1141</th>\n      <td>1980</td>\n      <td>1981</td>\n      <td>Dr. Sajid Anwar</td>\n      <td>Ghulam Ishaq Khan Institute</td>\n      <td>Computer Science and Engineering</td>\n      <td>KPK</td>\n      <td>Assistant Professor</td>\n      <td>PhD</td>\n      <td>Seoul National University</td>\n      <td>south korea</td>\n      <td>NaN</td>\n      <td>Pruning and Quantizing CNN, GPGPU,</td>\n      <td>NaN</td>\n    </tr>\n  </tbody>\n</table>\n<p>1142 rows × 13 columns</p>\n</div>"
     },
     "execution_count": 9,
     "metadata": {},
     "output_type": "execute_result"
    }
   ],
   "source": [
    "professors"
   ],
   "metadata": {
    "collapsed": false,
    "pycharm": {
     "name": "#%%\n"
    }
   }
  },
  {
   "cell_type": "code",
   "execution_count": null,
   "outputs": [],
   "source": [],
   "metadata": {
    "collapsed": false,
    "pycharm": {
     "name": "#%%\n"
    }
   }
  }
 ],
 "metadata": {
  "kernelspec": {
   "display_name": "Python 3",
   "language": "python",
   "name": "python3"
  },
  "language_info": {
   "codemirror_mode": {
    "name": "ipython",
    "version": 2
   },
   "file_extension": ".py",
   "mimetype": "text/x-python",
   "name": "python",
   "nbconvert_exporter": "python",
   "pygments_lexer": "ipython2",
   "version": "2.7.6"
  }
 },
 "nbformat": 4,
 "nbformat_minor": 0
}