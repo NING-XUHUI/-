{
 "cells": [
  {
   "cell_type": "code",
   "execution_count": 1,
   "metadata": {
    "collapsed": true
   },
   "outputs": [
    {
     "name": "stdout",
     "output_type": "stream",
     "text": [
      "Setup complete\n"
     ]
    }
   ],
   "source": [
    "import pandas as pd\n",
    "\n",
    "reviews = pd.read_csv('../../../datasets/Pandas/wine-reviews/winemag-data-130k-v2.csv', index_col=0)\n",
    "print('Setup complete')"
   ]
  },
  {
   "cell_type": "code",
   "execution_count": 3,
   "outputs": [
    {
     "data": {
      "text/plain": "taster_twitter_handle\n@AnneInVino          3685\n@JoeCz               5147\n@bkfiona               27\n@gordone_cellars     4177\n@kerinokeefe        10776\n@laurbuzz            1835\n@mattkettmann        6332\n@paulgwine           9532\n@suskostrzewa        1085\n@vboone              9537\n@vossroger          25514\n@wawinereport        4966\n@wineschach         15134\n@winewchristina         6\n@worldwineguys       1005\nName: taster_twitter_handle, dtype: int64"
     },
     "execution_count": 3,
     "metadata": {},
     "output_type": "execute_result"
    }
   ],
   "source": [
    "reviews_written = reviews.groupby('taster_twitter_handle').size()\n",
    "# or\n",
    "reviews_written = reviews.groupby('taster_twitter_handle').taster_twitter_handle.count()\n",
    "reviews_written"
   ],
   "metadata": {
    "collapsed": false,
    "pycharm": {
     "name": "#%%\n"
    }
   }
  },
  {
   "cell_type": "code",
   "execution_count": 4,
   "outputs": [
    {
     "data": {
      "text/plain": "price\n4.0       86\n5.0       87\n6.0       88\n7.0       91\n8.0       91\n          ..\n1900.0    98\n2000.0    97\n2013.0    91\n2500.0    96\n3300.0    88\nName: points, Length: 390, dtype: int64"
     },
     "execution_count": 4,
     "metadata": {},
     "output_type": "execute_result"
    }
   ],
   "source": [
    "best_rating_per_price = reviews.groupby('price')['points'].max().sort_index()\n",
    "best_rating_per_price"
   ],
   "metadata": {
    "collapsed": false,
    "pycharm": {
     "name": "#%%\n"
    }
   }
  },
  {
   "cell_type": "code",
   "execution_count": 7,
   "outputs": [
    {
     "data": {
      "text/plain": "              min    max\nvariety                 \nAbouriou     15.0   75.0\nAgiorgitiko  10.0   66.0\nAglianico     6.0  180.0\nAidani       27.0   27.0\nAiren         8.0   10.0\n...           ...    ...\nZinfandel     5.0  100.0\nZlahtina     13.0   16.0\nZweigelt      9.0   70.0\nÇalkarası    19.0   19.0\nŽilavka      15.0   15.0\n\n[707 rows x 2 columns]",
      "text/html": "<div>\n<style scoped>\n    .dataframe tbody tr th:only-of-type {\n        vertical-align: middle;\n    }\n\n    .dataframe tbody tr th {\n        vertical-align: top;\n    }\n\n    .dataframe thead th {\n        text-align: right;\n    }\n</style>\n<table border=\"1\" class=\"dataframe\">\n  <thead>\n    <tr style=\"text-align: right;\">\n      <th></th>\n      <th>min</th>\n      <th>max</th>\n    </tr>\n    <tr>\n      <th>variety</th>\n      <th></th>\n      <th></th>\n    </tr>\n  </thead>\n  <tbody>\n    <tr>\n      <th>Abouriou</th>\n      <td>15.0</td>\n      <td>75.0</td>\n    </tr>\n    <tr>\n      <th>Agiorgitiko</th>\n      <td>10.0</td>\n      <td>66.0</td>\n    </tr>\n    <tr>\n      <th>Aglianico</th>\n      <td>6.0</td>\n      <td>180.0</td>\n    </tr>\n    <tr>\n      <th>Aidani</th>\n      <td>27.0</td>\n      <td>27.0</td>\n    </tr>\n    <tr>\n      <th>Airen</th>\n      <td>8.0</td>\n      <td>10.0</td>\n    </tr>\n    <tr>\n      <th>...</th>\n      <td>...</td>\n      <td>...</td>\n    </tr>\n    <tr>\n      <th>Zinfandel</th>\n      <td>5.0</td>\n      <td>100.0</td>\n    </tr>\n    <tr>\n      <th>Zlahtina</th>\n      <td>13.0</td>\n      <td>16.0</td>\n    </tr>\n    <tr>\n      <th>Zweigelt</th>\n      <td>9.0</td>\n      <td>70.0</td>\n    </tr>\n    <tr>\n      <th>Çalkarası</th>\n      <td>19.0</td>\n      <td>19.0</td>\n    </tr>\n    <tr>\n      <th>Žilavka</th>\n      <td>15.0</td>\n      <td>15.0</td>\n    </tr>\n  </tbody>\n</table>\n<p>707 rows × 2 columns</p>\n</div>"
     },
     "execution_count": 7,
     "metadata": {},
     "output_type": "execute_result"
    }
   ],
   "source": [
    "price_extremes = reviews.groupby('variety')['price'].agg([min, max])\n",
    "price_extremes"
   ],
   "metadata": {
    "collapsed": false,
    "pycharm": {
     "name": "#%%\n"
    }
   }
  },
  {
   "cell_type": "code",
   "execution_count": 8,
   "outputs": [
    {
     "data": {
      "text/plain": "                                  min    max\nvariety                                     \nRamisco                         495.0  495.0\nTerrantez                       236.0  236.0\nFrancisa                        160.0  160.0\nRosenmuskateller                150.0  150.0\nTinta Negra Mole                112.0  112.0\n...                               ...    ...\nRoscetto                          NaN    NaN\nSauvignon Blanc-Sauvignon Gris    NaN    NaN\nTempranillo-Malbec                NaN    NaN\nVital                             NaN    NaN\nZelen                             NaN    NaN\n\n[707 rows x 2 columns]",
      "text/html": "<div>\n<style scoped>\n    .dataframe tbody tr th:only-of-type {\n        vertical-align: middle;\n    }\n\n    .dataframe tbody tr th {\n        vertical-align: top;\n    }\n\n    .dataframe thead th {\n        text-align: right;\n    }\n</style>\n<table border=\"1\" class=\"dataframe\">\n  <thead>\n    <tr style=\"text-align: right;\">\n      <th></th>\n      <th>min</th>\n      <th>max</th>\n    </tr>\n    <tr>\n      <th>variety</th>\n      <th></th>\n      <th></th>\n    </tr>\n  </thead>\n  <tbody>\n    <tr>\n      <th>Ramisco</th>\n      <td>495.0</td>\n      <td>495.0</td>\n    </tr>\n    <tr>\n      <th>Terrantez</th>\n      <td>236.0</td>\n      <td>236.0</td>\n    </tr>\n    <tr>\n      <th>Francisa</th>\n      <td>160.0</td>\n      <td>160.0</td>\n    </tr>\n    <tr>\n      <th>Rosenmuskateller</th>\n      <td>150.0</td>\n      <td>150.0</td>\n    </tr>\n    <tr>\n      <th>Tinta Negra Mole</th>\n      <td>112.0</td>\n      <td>112.0</td>\n    </tr>\n    <tr>\n      <th>...</th>\n      <td>...</td>\n      <td>...</td>\n    </tr>\n    <tr>\n      <th>Roscetto</th>\n      <td>NaN</td>\n      <td>NaN</td>\n    </tr>\n    <tr>\n      <th>Sauvignon Blanc-Sauvignon Gris</th>\n      <td>NaN</td>\n      <td>NaN</td>\n    </tr>\n    <tr>\n      <th>Tempranillo-Malbec</th>\n      <td>NaN</td>\n      <td>NaN</td>\n    </tr>\n    <tr>\n      <th>Vital</th>\n      <td>NaN</td>\n      <td>NaN</td>\n    </tr>\n    <tr>\n      <th>Zelen</th>\n      <td>NaN</td>\n      <td>NaN</td>\n    </tr>\n  </tbody>\n</table>\n<p>707 rows × 2 columns</p>\n</div>"
     },
     "execution_count": 8,
     "metadata": {},
     "output_type": "execute_result"
    }
   ],
   "source": [
    "sorted_varieties = price_extremes.sort_values(by=['min', 'max'], ascending=False)\n",
    "sorted_varieties"
   ],
   "metadata": {
    "collapsed": false,
    "pycharm": {
     "name": "#%%\n"
    }
   }
  },
  {
   "cell_type": "code",
   "execution_count": 12,
   "outputs": [
    {
     "data": {
      "text/plain": "taster_name\nAlexander Peartree    85.855422\nAnna Lee C. Iijima    88.415629\nAnne Krebiehl MW      90.562551\nCarrie Dykes          86.395683\nChristina Pickard     87.833333\nFiona Adams           86.888889\nJeff Jenssen          88.319756\nJim Gordon            88.626287\nJoe Czerwinski        88.536235\nKerin O’Keefe         88.867947\nLauren Buzzeo         87.739510\nMatt Kettmann         90.008686\nMichael Schachner     86.907493\nMike DeSimone         89.101167\nPaul Gregutt          89.082564\nRoger Voss            88.708003\nSean P. Sullivan      88.755739\nSusan Kostrzewa       86.609217\nVirginie Boone        89.213379\nName: points, dtype: float64"
     },
     "execution_count": 12,
     "metadata": {},
     "output_type": "execute_result"
    }
   ],
   "source": [
    "reviewer_mean_ratings = reviews.groupby('taster_name').points.mean()\n",
    "reviewer_mean_ratings"
   ],
   "metadata": {
    "collapsed": false,
    "pycharm": {
     "name": "#%%\n"
    }
   }
  },
  {
   "cell_type": "code",
   "execution_count": 15,
   "outputs": [
    {
     "data": {
      "text/plain": "country    variety                 \nUS         Pinot Noir                  9885\n           Cabernet Sauvignon          7315\n           Chardonnay                  6801\nFrance     Bordeaux-style Red Blend    4725\nItaly      Red Blend                   3624\n                                       ... \nUruguay    Tempranillo-Tannat             1\nItaly      Pignolo                        1\n           Muscat                         1\n           Moscato di Noto                1\nArgentina  Barbera                        1\nLength: 1612, dtype: int64"
     },
     "execution_count": 15,
     "metadata": {},
     "output_type": "execute_result"
    }
   ],
   "source": [
    "country_variety_counts = reviews.groupby(['country', 'variety']).size().sort_values(ascending=False)\n",
    "country_variety_counts"
   ],
   "metadata": {
    "collapsed": false,
    "pycharm": {
     "name": "#%%\n"
    }
   }
  },
  {
   "cell_type": "code",
   "execution_count": null,
   "outputs": [],
   "source": [],
   "metadata": {
    "collapsed": false,
    "pycharm": {
     "name": "#%%\n"
    }
   }
  }
 ],
 "metadata": {
  "kernelspec": {
   "display_name": "Python 3",
   "language": "python",
   "name": "python3"
  },
  "language_info": {
   "codemirror_mode": {
    "name": "ipython",
    "version": 2
   },
   "file_extension": ".py",
   "mimetype": "text/x-python",
   "name": "python",
   "nbconvert_exporter": "python",
   "pygments_lexer": "ipython2",
   "version": "2.7.6"
  }
 },
 "nbformat": 4,
 "nbformat_minor": 0
}