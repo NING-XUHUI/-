{
 "cells": [
  {
   "cell_type": "code",
   "execution_count": 1,
   "metadata": {
    "collapsed": true
   },
   "outputs": [],
   "source": [
    "# In this exercise, you will use your new knowledge to train\n",
    "# a model gradient boosting\n",
    "\n",
    "# Run this code cell without changes to load training and validation sets\n",
    "\n",
    "import pandas as pd\n",
    "from sklearn.model_selection import train_test_split\n",
    "\n",
    "# Read the data\n",
    "X = pd.read_csv('../../datasets/home-data-for-ml-course/train.csv', index_col='Id')\n",
    "X_test_full = pd.read_csv('../../datasets/home-data-for-ml-course/test.csv', index_col='Id')\n",
    "\n",
    "# Remove rows with missing target, separate target from predictors\n",
    "X.dropna(axis=0, subset=['SalePrice'], inplace=True)\n",
    "y = X.SalePrice\n",
    "X.drop(['SalePrice'], inplace=True, axis=1)\n",
    "\n",
    "# Break off validation set from training data\n",
    "X_train_full, X_valid_full, y_train, y_valid = train_test_split(X, y,\n",
    "                                                                train_size=0.8,\n",
    "                                                                test_size=0.2,\n",
    "                                                                random_state=0)\n",
    "# \"Cardinality\" means the number of unique values in a column\n",
    "# Select categorical columns with relatively low cardinality (convenient but arbitrary)\n",
    "low_cardinality_cols = [cname for cname in X_train_full.columns if\n",
    "                        X_train_full[cname].nunique() < 10 and\n",
    "                        X_train_full[cname].dtype == \"object\"]\n",
    "\n",
    "# Select numeric columns\n",
    "numeric_cols = [cname for cname in X_train_full.columns if\n",
    "                X_train_full[cname].dtype in ['int64', 'float64']]\n",
    "\n",
    "# Keep selected columns only\n",
    "my_cols = low_cardinality_cols + numeric_cols\n",
    "X_train = X_train_full[my_cols].copy()\n",
    "X_valid = X_valid_full[my_cols].copy()\n",
    "X_test = X_test_full[my_cols].copy()\n",
    "\n",
    "# One-hot encode the data (to shorten the code, we use pandas)\n",
    "X_train = pd.get_dummies(X_train)\n",
    "X_valid = pd.get_dummies(X_valid)\n",
    "X_test = pd.get_dummies(X_test)\n",
    "X_train, X_valid = X_train.align(X_valid, join='left', axis=1)\n",
    "X_train, X_test = X_train.align(X_test, join='left', axis=1)"
   ]
  },
  {
   "cell_type": "markdown",
   "source": [
    "# Step 1: Build model\n",
    "## Part A\n",
    "\n",
    "In this step, you'll build and train and your first model with gradient boosting\n",
    "\n",
    "    1. Begin by setting my_model_1 to an XGBoost model. Use the XGBoost class, and\n",
    "    set the random seed to 0 (random_state=0). Leave all other parameters as default.\n",
    "    2. Then, fit the model to the training data in X_train and y_train.\n"
   ],
   "metadata": {
    "collapsed": false,
    "pycharm": {
     "name": "#%% md\n"
    }
   }
  },
  {
   "cell_type": "code",
   "execution_count": 2,
   "outputs": [
    {
     "data": {
      "text/plain": "XGBRegressor(base_score=0.5, booster='gbtree', colsample_bylevel=1,\n             colsample_bynode=1, colsample_bytree=1, gamma=0, gpu_id=-1,\n             importance_type='gain', interaction_constraints='',\n             learning_rate=0.300000012, max_delta_step=0, max_depth=6,\n             min_child_weight=1, missing=nan, monotone_constraints='()',\n             n_estimators=100, n_jobs=0, num_parallel_tree=1, random_state=0,\n             reg_alpha=0, reg_lambda=1, scale_pos_weight=1, subsample=1,\n             tree_method='exact', validate_parameters=1, verbosity=None)"
     },
     "execution_count": 2,
     "metadata": {},
     "output_type": "execute_result"
    }
   ],
   "source": [
    "from xgboost import XGBRegressor\n",
    "\n",
    "# Define the model\n",
    "my_model_1 = XGBRegressor(random_state=0)\n",
    "\n",
    "# Fit the model\n",
    "my_model_1.fit(X_train, y_train)\n",
    "\n"
   ],
   "metadata": {
    "collapsed": false,
    "pycharm": {
     "name": "#%%\n"
    }
   }
  },
  {
   "cell_type": "markdown",
   "source": [
    "## Part B\n",
    "\n",
    "Set predictions_1 to the model's predictions for the validation data. Recall that the validation features are\n",
    "stored in X_valid."
   ],
   "metadata": {
    "collapsed": false,
    "pycharm": {
     "name": "#%% md\n"
    }
   }
  },
  {
   "cell_type": "code",
   "execution_count": 3,
   "outputs": [],
   "source": [
    "from sklearn.metrics import mean_absolute_error\n",
    "# Get predictions\n",
    "predictions_1 = my_model_1.predict(X_valid)"
   ],
   "metadata": {
    "collapsed": false,
    "pycharm": {
     "name": "#%%\n"
    }
   }
  },
  {
   "cell_type": "markdown",
   "source": [
    "## Part C\n",
    "\n",
    "Finally, use the mean_absolute_error() function to calculate the MAE corresponding to the\n",
    "predictions for the validation set. Recall that the labels for the validation data are\n",
    "stored in y_valid.\n",
    "\n"
   ],
   "metadata": {
    "collapsed": false,
    "pycharm": {
     "name": "#%% md\n"
    }
   }
  },
  {
   "cell_type": "code",
   "execution_count": 4,
   "outputs": [
    {
     "name": "stdout",
     "output_type": "stream",
     "text": [
      "MAE : 17662.736729452055\n"
     ]
    }
   ],
   "source": [
    "mae_1 = mean_absolute_error(predictions_1, y_valid)\n",
    "\n",
    "print(\"MAE :\", mae_1)"
   ],
   "metadata": {
    "collapsed": false,
    "pycharm": {
     "name": "#%%\n"
    }
   }
  },
  {
   "cell_type": "markdown",
   "source": [
    "# Step 2: Improve the model\n",
    "\n",
    "Now that you've trained a default model as baseline, it's time to tinker with the parameters,\n",
    "to see if you can get better performance!\n",
    "\n",
    "    1. Begin by setting my_model_2 to an XGBoost model, using the XGBRegressor class. Use\n",
    "    what you learned in the previous tutorial to figure out how to change the default\n",
    "    parameters (like n_estimators and learning_rate) to get better results.\n",
    "    2. Then, fit the model to the training data in X_train and y_train\n",
    "    3. Set predictions_2 to the model's predictions for the validation data. Recall that the\n",
    "    validation features are stored in X_valid.\n",
    "    4. Finally, use the MAE function to calculate the MAE corresponding to the predictions on\n",
    "    the validation set. Recall that the labels for the validation data are stored in y_valid.\n",
    "\n",
    "    In order for this step to be marked correct, your model in my_model_2 must attain lower\n",
    "    MAE than the model in my_model_1.\n",
    "\n"
   ],
   "metadata": {
    "collapsed": false,
    "pycharm": {
     "name": "#%% md\n"
    }
   }
  },
  {
   "cell_type": "code",
   "execution_count": 6,
   "outputs": [
    {
     "name": "stdout",
     "output_type": "stream",
     "text": [
      "MAE :  16688.691513270547\n"
     ]
    }
   ],
   "source": [
    "# Define the model\n",
    "my_model_2 = XGBRegressor(n_estimators=1000, learning_rate=0.05)\n",
    "\n",
    "# Fit the model\n",
    "my_model_2.fit(X_train, y_train)\n",
    "\n",
    "# Get predictions\n",
    "predictions_2 = my_model_2.predict(X_valid)\n",
    "\n",
    "# Calculate MAE\n",
    "mae_2 = mean_absolute_error(y_valid, predictions_2)\n",
    "print(\"MAE : \", mae_2)"
   ],
   "metadata": {
    "collapsed": false,
    "pycharm": {
     "name": "#%%\n"
    }
   }
  },
  {
   "cell_type": "markdown",
   "source": [
    "# Break the model\n",
    "In this step, you will create a model that performs worse than the original model in Step 1.\n",
    "This will help you to develop your intuition for how to set parameters. You might even find\n",
    "that you accidentally get better performance, which is ultimately a nice problem to have and\n",
    "a valuable learning experience!\n",
    "\n",
    "    1. Begin by setting my_model_3 to an XGBoost model, using XGBRegressor class. Use what you\n",
    "    learned in the previous tutorial to figure out how to change the default parameters to\n",
    "    design a model to get high MAE.\n",
    "    2. Then, fit the model to the training data in X_train and y_train.\n",
    "    3. Set predictions_3 to the model's predictions for the validation data.\n",
    "    4. Finallym use MAE funtion to calculate the MAE corresponding to the predictions on validation\n",
    "    set.\n",
    "\n",
    "    In order for this step to be marked correct, your model in my_model_3 must attain higher MAE\n",
    "    than the model in my_model_1.\n"
   ],
   "metadata": {
    "collapsed": false,
    "pycharm": {
     "name": "#%% md\n"
    }
   }
  },
  {
   "cell_type": "code",
   "execution_count": 8,
   "outputs": [
    {
     "name": "stdout",
     "output_type": "stream",
     "text": [
      "MAE :  127895.0828807256\n"
     ]
    }
   ],
   "source": [
    "# Define the model\n",
    "my_model_3 = XGBRegressor(n_estimators=1)\n",
    "\n",
    "# Fit the model\n",
    "my_model_3.fit(X_train, y_train)\n",
    "\n",
    "# Get predictions\n",
    "predictions_3 = my_model_3.predict(X_valid)\n",
    "\n",
    "# Calculate MAE\n",
    "mae_3 = mean_absolute_error(y_valid, predictions_3)\n",
    "\n",
    "print(\"MAE : \", mae_3)"
   ],
   "metadata": {
    "collapsed": false,
    "pycharm": {
     "name": "#%%\n"
    }
   }
  },
  {
   "cell_type": "code",
   "execution_count": null,
   "outputs": [],
   "source": [],
   "metadata": {
    "collapsed": false,
    "pycharm": {
     "name": "#%%\n"
    }
   }
  }
 ],
 "metadata": {
  "kernelspec": {
   "display_name": "Python 3",
   "language": "python",
   "name": "python3"
  },
  "language_info": {
   "codemirror_mode": {
    "name": "ipython",
    "version": 2
   },
   "file_extension": ".py",
   "mimetype": "text/x-python",
   "name": "python",
   "nbconvert_exporter": "python",
   "pygments_lexer": "ipython2",
   "version": "2.7.6"
  }
 },
 "nbformat": 4,
 "nbformat_minor": 0
}