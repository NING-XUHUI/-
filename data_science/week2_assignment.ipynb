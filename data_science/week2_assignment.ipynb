{
 "cells": [
  {
   "cell_type": "code",
   "execution_count": 11,
   "metadata": {
    "collapsed": true,
    "pycharm": {
     "is_executing": false
    }
   },
   "outputs": [],
   "source": [
    "import pandas as pd\n",
    "import numpy as np\n",
    "\n"
   ]
  },
  {
   "cell_type": "code",
   "execution_count": 12,
   "outputs": [],
   "source": [
    "df = pd.read_csv('olympics.csv',skiprows=1,index_col=0)"
   ],
   "metadata": {
    "collapsed": false,
    "pycharm": {
     "name": "#%%\n",
     "is_executing": false
    }
   }
  },
  {
   "cell_type": "code",
   "execution_count": 13,
   "outputs": [
    {
     "data": {
      "text/plain": "                                              ? Summer  01 !  02 !  03 !  \\\nAfghanistan (AFG)                                   13     0     0     2   \nAlgeria (ALG)                                       12     5     2     8   \nArgentina (ARG)                                     23    18    24    28   \nArmenia (ARM)                                        5     1     2     9   \nAustralasia (ANZ) [ANZ]                              2     3     4     5   \n...                                                ...   ...   ...   ...   \nYugoslavia (YUG) [YUG]                              16    26    29    28   \nIndependent Olympic Participants (IOP) [IOP]         1     0     1     2   \nZambia (ZAM) [ZAM]                                  12     0     1     1   \nZimbabwe (ZIM) [ZIM]                                12     3     4     1   \nMixed team (ZZX) [ZZX]                               3     8     5     4   \n\n                                              Total  ? Winter  01 !.1  02 !.1  \\\nAfghanistan (AFG)                                 2         0       0       0   \nAlgeria (ALG)                                    15         3       0       0   \nArgentina (ARG)                                  70        18       0       0   \nArmenia (ARM)                                    12         6       0       0   \nAustralasia (ANZ) [ANZ]                          12         0       0       0   \n...                                             ...       ...     ...     ...   \nYugoslavia (YUG) [YUG]                           83        14       0       3   \nIndependent Olympic Participants (IOP) [IOP]      3         0       0       0   \nZambia (ZAM) [ZAM]                                2         0       0       0   \nZimbabwe (ZIM) [ZIM]                              8         1       0       0   \nMixed team (ZZX) [ZZX]                           17         0       0       0   \n\n                                              03 !.1  Total.1  ? Games  \\\nAfghanistan (AFG)                                  0        0       13   \nAlgeria (ALG)                                      0        0       15   \nArgentina (ARG)                                    0        0       41   \nArmenia (ARM)                                      0        0       11   \nAustralasia (ANZ) [ANZ]                            0        0        2   \n...                                              ...      ...      ...   \nYugoslavia (YUG) [YUG]                             1        4       30   \nIndependent Olympic Participants (IOP) [IOP]       0        0        1   \nZambia (ZAM) [ZAM]                                 0        0       12   \nZimbabwe (ZIM) [ZIM]                               0        0       13   \nMixed team (ZZX) [ZZX]                             0        0        3   \n\n                                              01 !.2  02 !.2  03 !.2  \\\nAfghanistan (AFG)                                  0       0       2   \nAlgeria (ALG)                                      5       2       8   \nArgentina (ARG)                                   18      24      28   \nArmenia (ARM)                                      1       2       9   \nAustralasia (ANZ) [ANZ]                            3       4       5   \n...                                              ...     ...     ...   \nYugoslavia (YUG) [YUG]                            26      32      29   \nIndependent Olympic Participants (IOP) [IOP]       0       1       2   \nZambia (ZAM) [ZAM]                                 0       1       1   \nZimbabwe (ZIM) [ZIM]                               3       4       1   \nMixed team (ZZX) [ZZX]                             8       5       4   \n\n                                              Combined total  \nAfghanistan (AFG)                                          2  \nAlgeria (ALG)                                             15  \nArgentina (ARG)                                           70  \nArmenia (ARM)                                             12  \nAustralasia (ANZ) [ANZ]                                   12  \n...                                                      ...  \nYugoslavia (YUG) [YUG]                                    87  \nIndependent Olympic Participants (IOP) [IOP]               3  \nZambia (ZAM) [ZAM]                                         2  \nZimbabwe (ZIM) [ZIM]                                       8  \nMixed team (ZZX) [ZZX]                                    17  \n\n[146 rows x 15 columns]",
      "text/html": "<div>\n<style scoped>\n    .dataframe tbody tr th:only-of-type {\n        vertical-align: middle;\n    }\n\n    .dataframe tbody tr th {\n        vertical-align: top;\n    }\n\n    .dataframe thead th {\n        text-align: right;\n    }\n</style>\n<table border=\"1\" class=\"dataframe\">\n  <thead>\n    <tr style=\"text-align: right;\">\n      <th></th>\n      <th>? Summer</th>\n      <th>01 !</th>\n      <th>02 !</th>\n      <th>03 !</th>\n      <th>Total</th>\n      <th>? Winter</th>\n      <th>01 !.1</th>\n      <th>02 !.1</th>\n      <th>03 !.1</th>\n      <th>Total.1</th>\n      <th>? Games</th>\n      <th>01 !.2</th>\n      <th>02 !.2</th>\n      <th>03 !.2</th>\n      <th>Combined total</th>\n    </tr>\n  </thead>\n  <tbody>\n    <tr>\n      <th>Afghanistan (AFG)</th>\n      <td>13</td>\n      <td>0</td>\n      <td>0</td>\n      <td>2</td>\n      <td>2</td>\n      <td>0</td>\n      <td>0</td>\n      <td>0</td>\n      <td>0</td>\n      <td>0</td>\n      <td>13</td>\n      <td>0</td>\n      <td>0</td>\n      <td>2</td>\n      <td>2</td>\n    </tr>\n    <tr>\n      <th>Algeria (ALG)</th>\n      <td>12</td>\n      <td>5</td>\n      <td>2</td>\n      <td>8</td>\n      <td>15</td>\n      <td>3</td>\n      <td>0</td>\n      <td>0</td>\n      <td>0</td>\n      <td>0</td>\n      <td>15</td>\n      <td>5</td>\n      <td>2</td>\n      <td>8</td>\n      <td>15</td>\n    </tr>\n    <tr>\n      <th>Argentina (ARG)</th>\n      <td>23</td>\n      <td>18</td>\n      <td>24</td>\n      <td>28</td>\n      <td>70</td>\n      <td>18</td>\n      <td>0</td>\n      <td>0</td>\n      <td>0</td>\n      <td>0</td>\n      <td>41</td>\n      <td>18</td>\n      <td>24</td>\n      <td>28</td>\n      <td>70</td>\n    </tr>\n    <tr>\n      <th>Armenia (ARM)</th>\n      <td>5</td>\n      <td>1</td>\n      <td>2</td>\n      <td>9</td>\n      <td>12</td>\n      <td>6</td>\n      <td>0</td>\n      <td>0</td>\n      <td>0</td>\n      <td>0</td>\n      <td>11</td>\n      <td>1</td>\n      <td>2</td>\n      <td>9</td>\n      <td>12</td>\n    </tr>\n    <tr>\n      <th>Australasia (ANZ) [ANZ]</th>\n      <td>2</td>\n      <td>3</td>\n      <td>4</td>\n      <td>5</td>\n      <td>12</td>\n      <td>0</td>\n      <td>0</td>\n      <td>0</td>\n      <td>0</td>\n      <td>0</td>\n      <td>2</td>\n      <td>3</td>\n      <td>4</td>\n      <td>5</td>\n      <td>12</td>\n    </tr>\n    <tr>\n      <th>...</th>\n      <td>...</td>\n      <td>...</td>\n      <td>...</td>\n      <td>...</td>\n      <td>...</td>\n      <td>...</td>\n      <td>...</td>\n      <td>...</td>\n      <td>...</td>\n      <td>...</td>\n      <td>...</td>\n      <td>...</td>\n      <td>...</td>\n      <td>...</td>\n      <td>...</td>\n    </tr>\n    <tr>\n      <th>Yugoslavia (YUG) [YUG]</th>\n      <td>16</td>\n      <td>26</td>\n      <td>29</td>\n      <td>28</td>\n      <td>83</td>\n      <td>14</td>\n      <td>0</td>\n      <td>3</td>\n      <td>1</td>\n      <td>4</td>\n      <td>30</td>\n      <td>26</td>\n      <td>32</td>\n      <td>29</td>\n      <td>87</td>\n    </tr>\n    <tr>\n      <th>Independent Olympic Participants (IOP) [IOP]</th>\n      <td>1</td>\n      <td>0</td>\n      <td>1</td>\n      <td>2</td>\n      <td>3</td>\n      <td>0</td>\n      <td>0</td>\n      <td>0</td>\n      <td>0</td>\n      <td>0</td>\n      <td>1</td>\n      <td>0</td>\n      <td>1</td>\n      <td>2</td>\n      <td>3</td>\n    </tr>\n    <tr>\n      <th>Zambia (ZAM) [ZAM]</th>\n      <td>12</td>\n      <td>0</td>\n      <td>1</td>\n      <td>1</td>\n      <td>2</td>\n      <td>0</td>\n      <td>0</td>\n      <td>0</td>\n      <td>0</td>\n      <td>0</td>\n      <td>12</td>\n      <td>0</td>\n      <td>1</td>\n      <td>1</td>\n      <td>2</td>\n    </tr>\n    <tr>\n      <th>Zimbabwe (ZIM) [ZIM]</th>\n      <td>12</td>\n      <td>3</td>\n      <td>4</td>\n      <td>1</td>\n      <td>8</td>\n      <td>1</td>\n      <td>0</td>\n      <td>0</td>\n      <td>0</td>\n      <td>0</td>\n      <td>13</td>\n      <td>3</td>\n      <td>4</td>\n      <td>1</td>\n      <td>8</td>\n    </tr>\n    <tr>\n      <th>Mixed team (ZZX) [ZZX]</th>\n      <td>3</td>\n      <td>8</td>\n      <td>5</td>\n      <td>4</td>\n      <td>17</td>\n      <td>0</td>\n      <td>0</td>\n      <td>0</td>\n      <td>0</td>\n      <td>0</td>\n      <td>3</td>\n      <td>8</td>\n      <td>5</td>\n      <td>4</td>\n      <td>17</td>\n    </tr>\n  </tbody>\n</table>\n<p>146 rows × 15 columns</p>\n</div>"
     },
     "metadata": {},
     "output_type": "execute_result",
     "execution_count": 13
    }
   ],
   "source": [
    "df = df.drop('Totals')\n",
    "df"
   ],
   "metadata": {
    "collapsed": false,
    "pycharm": {
     "name": "#%%\n",
     "is_executing": false
    }
   }
  },
  {
   "cell_type": "code",
   "execution_count": 14,
   "outputs": [],
   "source": [
    "for col in df.columns:\n",
    "    if col[:2]=='01':\n",
    "        df.rename(columns={col:'Gold'+col[4:]}, inplace=True)\n",
    "    if col[:2]=='02':\n",
    "        df.rename(columns={col:'Silver'+col[4:]}, inplace=True)\n",
    "    if col[:2]=='03':\n",
    "        df.rename(columns={col:'Bronze'+col[4:]}, inplace=True)\n",
    "    if col[:1]=='№':\n",
    "        df.rename(columns={col:'#'+col[1:]}, inplace=True)"
   ],
   "metadata": {
    "collapsed": false,
    "pycharm": {
     "name": "#%%\n",
     "is_executing": false
    }
   }
  },
  {
   "cell_type": "code",
   "execution_count": 15,
   "outputs": [
    {
     "data": {
      "text/plain": "    SUMLEV  REGION  DIVISION  STATE  COUNTY   STNAME                 CTYNAME  \\\n0       40       3         6      1       0  Alabama                 Alabama   \n1       50       3         6      1       1  Alabama          Autauga County   \n2       50       3         6      1       3  Alabama          Baldwin County   \n3       50       3         6      1       5  Alabama          Barbour County   \n4       50       3         6      1       7  Alabama             Bibb County   \n..     ...     ...       ...    ...     ...      ...                     ...   \n65      50       3         6      1     129  Alabama       Washington County   \n66      50       3         6      1     131  Alabama           Wilcox County   \n67      50       3         6      1     133  Alabama          Winston County   \n68      40       4         9      2       0   Alaska                  Alaska   \n69      50       4         9      2      13   Alaska  Aleutians East Borough   \n\n    CENSUS2010POP  ESTIMATESBASE2010  POPESTIMATE2010  ...  RDOMESTICMIG2011  \\\n0         4779736            4780127          4785161  ...          0.002295   \n1           54571              54571            54660  ...          7.242091   \n2          182265             182265           183193  ...         14.832960   \n3           27457              27457            27341  ...         -4.728132   \n4           22915              22919            22861  ...         -5.527043   \n..            ...                ...              ...  ...               ...   \n65          17581              17583            17610  ...        -14.708407   \n66          11670              11665            11557  ...         -7.029724   \n67          24484              24483            24401  ...          0.410332   \n68         710231             710249           714021  ...         -1.173489   \n69           3141               3141             3169  ...         -5.604858   \n\n    RDOMESTICMIG2012  RDOMESTICMIG2013  RDOMESTICMIG2014  RDOMESTICMIG2015  \\\n0          -0.193196          0.381066          0.582002         -0.467369   \n1          -2.915927         -3.012349          2.265971         -2.530799   \n2          17.647293         21.845705         19.243287         17.197872   \n3          -2.500690         -7.056824         -3.904217        -10.543299   \n4          -5.068871         -6.201001         -0.177537          0.177258   \n..               ...               ...               ...               ...   \n65        -13.062030        -11.181733          1.067236         -0.950486   \n66        -10.239356        -12.314507        -13.835235          0.090453   \n67         -3.916234          2.441548          1.077609         -6.669724   \n68         -1.946424         -3.915107        -14.438910        -10.407475   \n69        -12.221204        -17.257039        -27.748454        -16.221087   \n\n    RNETMIG2011  RNETMIG2012  RNETMIG2013  RNETMIG2014  RNETMIG2015  \n0      1.030015     0.826644     1.383282     1.724718     0.712594  \n1      7.606016    -2.626146    -2.722002     2.592270    -2.187333  \n2     15.844176    18.559627    22.727626    20.317142    18.293499  \n3     -4.874741    -2.758113    -7.167664    -3.978583   -10.543299  \n4     -5.088389    -4.363636    -5.403729     0.754533     1.107861  \n..          ...          ...          ...          ...          ...  \n65   -13.849940   -12.075121   -10.122411     2.193763     0.118811  \n66    -7.029724   -10.239356   -12.314507   -13.835235     0.090453  \n67     0.410332    -3.957457     2.400166     1.036162    -6.711409  \n68     0.931274     1.818497    -0.757148   -11.271709    -6.881838  \n69    19.305620     8.249313     5.752346    -3.920977     7.509763  \n\n[70 rows x 100 columns]",
      "text/html": "<div>\n<style scoped>\n    .dataframe tbody tr th:only-of-type {\n        vertical-align: middle;\n    }\n\n    .dataframe tbody tr th {\n        vertical-align: top;\n    }\n\n    .dataframe thead th {\n        text-align: right;\n    }\n</style>\n<table border=\"1\" class=\"dataframe\">\n  <thead>\n    <tr style=\"text-align: right;\">\n      <th></th>\n      <th>SUMLEV</th>\n      <th>REGION</th>\n      <th>DIVISION</th>\n      <th>STATE</th>\n      <th>COUNTY</th>\n      <th>STNAME</th>\n      <th>CTYNAME</th>\n      <th>CENSUS2010POP</th>\n      <th>ESTIMATESBASE2010</th>\n      <th>POPESTIMATE2010</th>\n      <th>...</th>\n      <th>RDOMESTICMIG2011</th>\n      <th>RDOMESTICMIG2012</th>\n      <th>RDOMESTICMIG2013</th>\n      <th>RDOMESTICMIG2014</th>\n      <th>RDOMESTICMIG2015</th>\n      <th>RNETMIG2011</th>\n      <th>RNETMIG2012</th>\n      <th>RNETMIG2013</th>\n      <th>RNETMIG2014</th>\n      <th>RNETMIG2015</th>\n    </tr>\n  </thead>\n  <tbody>\n    <tr>\n      <th>0</th>\n      <td>40</td>\n      <td>3</td>\n      <td>6</td>\n      <td>1</td>\n      <td>0</td>\n      <td>Alabama</td>\n      <td>Alabama</td>\n      <td>4779736</td>\n      <td>4780127</td>\n      <td>4785161</td>\n      <td>...</td>\n      <td>0.002295</td>\n      <td>-0.193196</td>\n      <td>0.381066</td>\n      <td>0.582002</td>\n      <td>-0.467369</td>\n      <td>1.030015</td>\n      <td>0.826644</td>\n      <td>1.383282</td>\n      <td>1.724718</td>\n      <td>0.712594</td>\n    </tr>\n    <tr>\n      <th>1</th>\n      <td>50</td>\n      <td>3</td>\n      <td>6</td>\n      <td>1</td>\n      <td>1</td>\n      <td>Alabama</td>\n      <td>Autauga County</td>\n      <td>54571</td>\n      <td>54571</td>\n      <td>54660</td>\n      <td>...</td>\n      <td>7.242091</td>\n      <td>-2.915927</td>\n      <td>-3.012349</td>\n      <td>2.265971</td>\n      <td>-2.530799</td>\n      <td>7.606016</td>\n      <td>-2.626146</td>\n      <td>-2.722002</td>\n      <td>2.592270</td>\n      <td>-2.187333</td>\n    </tr>\n    <tr>\n      <th>2</th>\n      <td>50</td>\n      <td>3</td>\n      <td>6</td>\n      <td>1</td>\n      <td>3</td>\n      <td>Alabama</td>\n      <td>Baldwin County</td>\n      <td>182265</td>\n      <td>182265</td>\n      <td>183193</td>\n      <td>...</td>\n      <td>14.832960</td>\n      <td>17.647293</td>\n      <td>21.845705</td>\n      <td>19.243287</td>\n      <td>17.197872</td>\n      <td>15.844176</td>\n      <td>18.559627</td>\n      <td>22.727626</td>\n      <td>20.317142</td>\n      <td>18.293499</td>\n    </tr>\n    <tr>\n      <th>3</th>\n      <td>50</td>\n      <td>3</td>\n      <td>6</td>\n      <td>1</td>\n      <td>5</td>\n      <td>Alabama</td>\n      <td>Barbour County</td>\n      <td>27457</td>\n      <td>27457</td>\n      <td>27341</td>\n      <td>...</td>\n      <td>-4.728132</td>\n      <td>-2.500690</td>\n      <td>-7.056824</td>\n      <td>-3.904217</td>\n      <td>-10.543299</td>\n      <td>-4.874741</td>\n      <td>-2.758113</td>\n      <td>-7.167664</td>\n      <td>-3.978583</td>\n      <td>-10.543299</td>\n    </tr>\n    <tr>\n      <th>4</th>\n      <td>50</td>\n      <td>3</td>\n      <td>6</td>\n      <td>1</td>\n      <td>7</td>\n      <td>Alabama</td>\n      <td>Bibb County</td>\n      <td>22915</td>\n      <td>22919</td>\n      <td>22861</td>\n      <td>...</td>\n      <td>-5.527043</td>\n      <td>-5.068871</td>\n      <td>-6.201001</td>\n      <td>-0.177537</td>\n      <td>0.177258</td>\n      <td>-5.088389</td>\n      <td>-4.363636</td>\n      <td>-5.403729</td>\n      <td>0.754533</td>\n      <td>1.107861</td>\n    </tr>\n    <tr>\n      <th>...</th>\n      <td>...</td>\n      <td>...</td>\n      <td>...</td>\n      <td>...</td>\n      <td>...</td>\n      <td>...</td>\n      <td>...</td>\n      <td>...</td>\n      <td>...</td>\n      <td>...</td>\n      <td>...</td>\n      <td>...</td>\n      <td>...</td>\n      <td>...</td>\n      <td>...</td>\n      <td>...</td>\n      <td>...</td>\n      <td>...</td>\n      <td>...</td>\n      <td>...</td>\n      <td>...</td>\n    </tr>\n    <tr>\n      <th>65</th>\n      <td>50</td>\n      <td>3</td>\n      <td>6</td>\n      <td>1</td>\n      <td>129</td>\n      <td>Alabama</td>\n      <td>Washington County</td>\n      <td>17581</td>\n      <td>17583</td>\n      <td>17610</td>\n      <td>...</td>\n      <td>-14.708407</td>\n      <td>-13.062030</td>\n      <td>-11.181733</td>\n      <td>1.067236</td>\n      <td>-0.950486</td>\n      <td>-13.849940</td>\n      <td>-12.075121</td>\n      <td>-10.122411</td>\n      <td>2.193763</td>\n      <td>0.118811</td>\n    </tr>\n    <tr>\n      <th>66</th>\n      <td>50</td>\n      <td>3</td>\n      <td>6</td>\n      <td>1</td>\n      <td>131</td>\n      <td>Alabama</td>\n      <td>Wilcox County</td>\n      <td>11670</td>\n      <td>11665</td>\n      <td>11557</td>\n      <td>...</td>\n      <td>-7.029724</td>\n      <td>-10.239356</td>\n      <td>-12.314507</td>\n      <td>-13.835235</td>\n      <td>0.090453</td>\n      <td>-7.029724</td>\n      <td>-10.239356</td>\n      <td>-12.314507</td>\n      <td>-13.835235</td>\n      <td>0.090453</td>\n    </tr>\n    <tr>\n      <th>67</th>\n      <td>50</td>\n      <td>3</td>\n      <td>6</td>\n      <td>1</td>\n      <td>133</td>\n      <td>Alabama</td>\n      <td>Winston County</td>\n      <td>24484</td>\n      <td>24483</td>\n      <td>24401</td>\n      <td>...</td>\n      <td>0.410332</td>\n      <td>-3.916234</td>\n      <td>2.441548</td>\n      <td>1.077609</td>\n      <td>-6.669724</td>\n      <td>0.410332</td>\n      <td>-3.957457</td>\n      <td>2.400166</td>\n      <td>1.036162</td>\n      <td>-6.711409</td>\n    </tr>\n    <tr>\n      <th>68</th>\n      <td>40</td>\n      <td>4</td>\n      <td>9</td>\n      <td>2</td>\n      <td>0</td>\n      <td>Alaska</td>\n      <td>Alaska</td>\n      <td>710231</td>\n      <td>710249</td>\n      <td>714021</td>\n      <td>...</td>\n      <td>-1.173489</td>\n      <td>-1.946424</td>\n      <td>-3.915107</td>\n      <td>-14.438910</td>\n      <td>-10.407475</td>\n      <td>0.931274</td>\n      <td>1.818497</td>\n      <td>-0.757148</td>\n      <td>-11.271709</td>\n      <td>-6.881838</td>\n    </tr>\n    <tr>\n      <th>69</th>\n      <td>50</td>\n      <td>4</td>\n      <td>9</td>\n      <td>2</td>\n      <td>13</td>\n      <td>Alaska</td>\n      <td>Aleutians East Borough</td>\n      <td>3141</td>\n      <td>3141</td>\n      <td>3169</td>\n      <td>...</td>\n      <td>-5.604858</td>\n      <td>-12.221204</td>\n      <td>-17.257039</td>\n      <td>-27.748454</td>\n      <td>-16.221087</td>\n      <td>19.305620</td>\n      <td>8.249313</td>\n      <td>5.752346</td>\n      <td>-3.920977</td>\n      <td>7.509763</td>\n    </tr>\n  </tbody>\n</table>\n<p>70 rows × 100 columns</p>\n</div>"
     },
     "metadata": {},
     "output_type": "execute_result",
     "execution_count": 15
    }
   ],
   "source": [
    "cencus_df = pd.read_csv('census.csv')\n",
    "cencus_df.head(70)"
   ],
   "metadata": {
    "collapsed": false,
    "pycharm": {
     "name": "#%%\n",
     "is_executing": false
    }
   }
  },
  {
   "cell_type": "code",
   "execution_count": 16,
   "outputs": [],
   "source": [
    "num = list(cencus_df['STATE'].unique())"
   ],
   "metadata": {
    "collapsed": false,
    "pycharm": {
     "name": "#%%\n",
     "is_executing": false
    }
   }
  },
  {
   "cell_type": "code",
   "execution_count": 17,
   "outputs": [
    {
     "data": {
      "text/plain": "[1,\n 2,\n 4,\n 5,\n 6,\n 8,\n 9,\n 10,\n 11,\n 12,\n 13,\n 15,\n 16,\n 17,\n 18,\n 19,\n 20,\n 21,\n 22,\n 23,\n 24,\n 25,\n 26,\n 27,\n 28,\n 29,\n 30,\n 31,\n 32,\n 33,\n 34,\n 35,\n 36,\n 37,\n 38,\n 39,\n 40,\n 41,\n 42,\n 44,\n 45,\n 46,\n 47,\n 48,\n 49,\n 50,\n 51,\n 53,\n 54,\n 55,\n 56]"
     },
     "metadata": {},
     "output_type": "execute_result",
     "execution_count": 17
    }
   ],
   "source": [
    "num\n"
   ],
   "metadata": {
    "collapsed": false,
    "pycharm": {
     "name": "#%%\n",
     "is_executing": false
    }
   }
  },
  {
   "cell_type": "code",
   "execution_count": 17,
   "outputs": [],
   "source": [],
   "metadata": {
    "collapsed": false,
    "pycharm": {
     "name": "#%%\n",
     "is_executing": false
    }
   }
  },
  {
   "cell_type": "code",
   "execution_count": 18,
   "outputs": [],
   "source": [
    "def a():\n",
    "    num = list(cencus_df['STATE'].unique())\n",
    "\n",
    "    cencus_df_1 = pd.DataFrame()\n",
    "\n",
    "    cencus_count = []\n",
    "    for i in num:\n",
    "        cencus_df_1 = cencus_df_1.append(cencus_df[cencus_df['STATE'] == i].iloc[1:].nlargest(3,'CENSUS2010POP'))\n",
    "        cencus_count.append(sum(cencus_df_1[cencus_df_1['STATE']==i]['CENSUS2010POP']))\n",
    "    cencus_count = pd.Series(cencus_count, index=cencus_df['STNAME'].unique())\n",
    "    a = list(cencus_count.nlargest(3).index)\n",
    "    return a\n"
   ],
   "metadata": {
    "collapsed": false,
    "pycharm": {
     "name": "#%%\n",
     "is_executing": false
    }
   }
  },
  {
   "cell_type": "code",
   "execution_count": 9,
   "outputs": [
    {
     "traceback": [
      "\u001b[0;31m---------------------------------------------------------------------------\u001b[0m",
      "\u001b[0;31mNameError\u001b[0m                                 Traceback (most recent call last)",
      "\u001b[0;32m<ipython-input-9-37b9efcf34da>\u001b[0m in \u001b[0;36m<module>\u001b[0;34m\u001b[0m\n\u001b[0;32m----> 1\u001b[0;31m \u001b[0mcencus_df_1\u001b[0m \u001b[0;34m=\u001b[0m \u001b[0mcencus_df_1\u001b[0m\u001b[0;34m.\u001b[0m\u001b[0mappend\u001b[0m\u001b[0;34m(\u001b[0m\u001b[0mcencus_df\u001b[0m\u001b[0;34m[\u001b[0m\u001b[0mcencus_df\u001b[0m\u001b[0;34m[\u001b[0m\u001b[0;34m'STATE'\u001b[0m\u001b[0;34m]\u001b[0m\u001b[0;34m==\u001b[0m\u001b[0;36m1\u001b[0m\u001b[0;34m]\u001b[0m\u001b[0;34m)\u001b[0m\u001b[0;34m\u001b[0m\u001b[0;34m\u001b[0m\u001b[0m\n\u001b[0m\u001b[1;32m      2\u001b[0m \u001b[0;34m\u001b[0m\u001b[0m\n",
      "\u001b[0;31mNameError\u001b[0m: name 'cencus_df_1' is not defined"
     ],
     "ename": "NameError",
     "evalue": "name 'cencus_df_1' is not defined",
     "output_type": "error"
    }
   ],
   "source": [
    "cencus_df_1 = cencus_df_1.append(cencus_df[cencus_df['STATE']==1])"
   ],
   "metadata": {
    "collapsed": false,
    "pycharm": {
     "name": "#%%\n",
     "is_executing": false
    }
   }
  },
  {
   "cell_type": "code",
   "execution_count": 19,
   "outputs": [
    {
     "data": {
      "text/plain": "    SUMLEV  REGION  DIVISION  STATE  COUNTY   STNAME           CTYNAME  \\\n0       40       3         6      1       0  Alabama           Alabama   \n37      50       3         6      1      73  Alabama  Jefferson County   \n49      50       3         6      1      97  Alabama     Mobile County   \n\n    CENSUS2010POP  ESTIMATESBASE2010  POPESTIMATE2010  ...  RDOMESTICMIG2011  \\\n0         4779736            4780127          4785161  ...          0.002295   \n37         658466             658350           658116  ...         -4.138628   \n49         412992             413143           413332  ...         -5.242052   \n\n    RDOMESTICMIG2012  RDOMESTICMIG2013  RDOMESTICMIG2014  RDOMESTICMIG2015  \\\n0          -0.193196          0.381066          0.582002         -0.467369   \n37         -4.492646         -1.664873         -0.970225         -3.337536   \n49         -3.722733         -3.181655         -2.311087         -3.873201   \n\n    RNETMIG2011  RNETMIG2012  RNETMIG2013  RNETMIG2014  RNETMIG2015  \n0      1.030015     0.826644     1.383282     1.724718     0.712594  \n37    -2.985041    -3.536344    -0.647113     0.221333    -2.126089  \n49    -3.751237    -2.281051    -1.753896    -0.759909    -2.288272  \n\n[3 rows x 100 columns]",
      "text/html": "<div>\n<style scoped>\n    .dataframe tbody tr th:only-of-type {\n        vertical-align: middle;\n    }\n\n    .dataframe tbody tr th {\n        vertical-align: top;\n    }\n\n    .dataframe thead th {\n        text-align: right;\n    }\n</style>\n<table border=\"1\" class=\"dataframe\">\n  <thead>\n    <tr style=\"text-align: right;\">\n      <th></th>\n      <th>SUMLEV</th>\n      <th>REGION</th>\n      <th>DIVISION</th>\n      <th>STATE</th>\n      <th>COUNTY</th>\n      <th>STNAME</th>\n      <th>CTYNAME</th>\n      <th>CENSUS2010POP</th>\n      <th>ESTIMATESBASE2010</th>\n      <th>POPESTIMATE2010</th>\n      <th>...</th>\n      <th>RDOMESTICMIG2011</th>\n      <th>RDOMESTICMIG2012</th>\n      <th>RDOMESTICMIG2013</th>\n      <th>RDOMESTICMIG2014</th>\n      <th>RDOMESTICMIG2015</th>\n      <th>RNETMIG2011</th>\n      <th>RNETMIG2012</th>\n      <th>RNETMIG2013</th>\n      <th>RNETMIG2014</th>\n      <th>RNETMIG2015</th>\n    </tr>\n  </thead>\n  <tbody>\n    <tr>\n      <th>0</th>\n      <td>40</td>\n      <td>3</td>\n      <td>6</td>\n      <td>1</td>\n      <td>0</td>\n      <td>Alabama</td>\n      <td>Alabama</td>\n      <td>4779736</td>\n      <td>4780127</td>\n      <td>4785161</td>\n      <td>...</td>\n      <td>0.002295</td>\n      <td>-0.193196</td>\n      <td>0.381066</td>\n      <td>0.582002</td>\n      <td>-0.467369</td>\n      <td>1.030015</td>\n      <td>0.826644</td>\n      <td>1.383282</td>\n      <td>1.724718</td>\n      <td>0.712594</td>\n    </tr>\n    <tr>\n      <th>37</th>\n      <td>50</td>\n      <td>3</td>\n      <td>6</td>\n      <td>1</td>\n      <td>73</td>\n      <td>Alabama</td>\n      <td>Jefferson County</td>\n      <td>658466</td>\n      <td>658350</td>\n      <td>658116</td>\n      <td>...</td>\n      <td>-4.138628</td>\n      <td>-4.492646</td>\n      <td>-1.664873</td>\n      <td>-0.970225</td>\n      <td>-3.337536</td>\n      <td>-2.985041</td>\n      <td>-3.536344</td>\n      <td>-0.647113</td>\n      <td>0.221333</td>\n      <td>-2.126089</td>\n    </tr>\n    <tr>\n      <th>49</th>\n      <td>50</td>\n      <td>3</td>\n      <td>6</td>\n      <td>1</td>\n      <td>97</td>\n      <td>Alabama</td>\n      <td>Mobile County</td>\n      <td>412992</td>\n      <td>413143</td>\n      <td>413332</td>\n      <td>...</td>\n      <td>-5.242052</td>\n      <td>-3.722733</td>\n      <td>-3.181655</td>\n      <td>-2.311087</td>\n      <td>-3.873201</td>\n      <td>-3.751237</td>\n      <td>-2.281051</td>\n      <td>-1.753896</td>\n      <td>-0.759909</td>\n      <td>-2.288272</td>\n    </tr>\n  </tbody>\n</table>\n<p>3 rows × 100 columns</p>\n</div>"
     },
     "metadata": {},
     "output_type": "execute_result",
     "execution_count": 19
    }
   ],
   "source": [
    "cencus_df[cencus_df['STATE']==1].nlargest(3,'CENSUS2010POP')"
   ],
   "metadata": {
    "collapsed": false,
    "pycharm": {
     "name": "#%%\n",
     "is_executing": false
    }
   }
  },
  {
   "cell_type": "code",
   "execution_count": 23,
   "outputs": [
    {
     "traceback": [
      "\u001b[0;31m---------------------------------------------------------------------------\u001b[0m",
      "\u001b[0;31mNameError\u001b[0m                                 Traceback (most recent call last)",
      "\u001b[0;32m<ipython-input-23-00226c44196a>\u001b[0m in \u001b[0;36m<module>\u001b[0;34m\u001b[0m\n\u001b[1;32m      1\u001b[0m \u001b[0mcencus_count\u001b[0m \u001b[0;34m=\u001b[0m \u001b[0;34m[\u001b[0m\u001b[0;34m]\u001b[0m\u001b[0;34m\u001b[0m\u001b[0;34m\u001b[0m\u001b[0m\n\u001b[0;32m----> 2\u001b[0;31m \u001b[0mcencus_count\u001b[0m\u001b[0;34m.\u001b[0m\u001b[0mappend\u001b[0m\u001b[0;34m(\u001b[0m\u001b[0msum\u001b[0m\u001b[0;34m(\u001b[0m\u001b[0mcencus_df_1\u001b[0m\u001b[0;34m[\u001b[0m\u001b[0mcencus_df_1\u001b[0m\u001b[0;34m[\u001b[0m\u001b[0;34m'STATE'\u001b[0m\u001b[0;34m]\u001b[0m\u001b[0;34m==\u001b[0m\u001b[0mi\u001b[0m\u001b[0;34m]\u001b[0m\u001b[0;34m)\u001b[0m\u001b[0;34m)\u001b[0m\u001b[0;34m\u001b[0m\u001b[0;34m\u001b[0m\u001b[0m\n\u001b[0m\u001b[1;32m      3\u001b[0m \u001b[0;34m\u001b[0m\u001b[0m\n",
      "\u001b[0;31mNameError\u001b[0m: name 'cencus_df_1' is not defined"
     ],
     "ename": "NameError",
     "evalue": "name 'cencus_df_1' is not defined",
     "output_type": "error"
    }
   ],
   "source": [
    "cencus_count = []\n",
    "cencus_count.append(sum(cencus_df_1[cencus_df_1['STATE']==i]))"
   ],
   "metadata": {
    "collapsed": false,
    "pycharm": {
     "name": "#%%\n",
     "is_executing": false
    }
   }
  },
  {
   "cell_type": "code",
   "execution_count": null,
   "outputs": [],
   "source": [
    "\n"
   ],
   "metadata": {
    "collapsed": false,
    "pycharm": {
     "name": "#%%\n"
    }
   }
  }
 ],
 "metadata": {
  "kernelspec": {
   "display_name": "Python 3",
   "language": "python",
   "name": "python3"
  },
  "language_info": {
   "codemirror_mode": {
    "name": "ipython",
    "version": 2
   },
   "file_extension": ".py",
   "mimetype": "text/x-python",
   "name": "python",
   "nbconvert_exporter": "python",
   "pygments_lexer": "ipython2",
   "version": "2.7.6"
  },
  "pycharm": {
   "stem_cell": {
    "cell_type": "raw",
    "source": [],
    "metadata": {
     "collapsed": false
    }
   }
  }
 },
 "nbformat": 4,
 "nbformat_minor": 0
}