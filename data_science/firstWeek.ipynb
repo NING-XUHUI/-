{
 "cells": [
  {
   "cell_type": "code",
   "execution_count": 2,
   "metadata": {
    "collapsed": true,
    "pycharm": {
     "is_executing": false
    }
   },
   "outputs": [
    {
     "data": {
      "text/plain": "3"
     },
     "metadata": {},
     "output_type": "execute_result",
     "execution_count": 2
    }
   ],
   "source": [
    "x = 1\n",
    "y = 2\n",
    "x + y\n",
    "\n"
   ]
  },
  {
   "cell_type": "code",
   "execution_count": 3,
   "outputs": [
    {
     "data": {
      "text/plain": "1"
     },
     "metadata": {},
     "output_type": "execute_result",
     "execution_count": 3
    }
   ],
   "source": [
    "x"
   ],
   "metadata": {
    "collapsed": false,
    "pycharm": {
     "name": "#%%\n",
     "is_executing": false
    }
   }
  },
  {
   "cell_type": "code",
   "execution_count": 4,
   "outputs": [
    {
     "data": {
      "text/plain": "3"
     },
     "metadata": {},
     "output_type": "execute_result",
     "execution_count": 4
    }
   ],
   "source": [
    "def add_numbers(x, y):\n",
    "    return x + y\n",
    "\n",
    "add_numbers(1, 2)"
   ],
   "metadata": {
    "collapsed": false,
    "pycharm": {
     "name": "#%%\n",
     "is_executing": false
    }
   }
  },
  {
   "cell_type": "code",
   "execution_count": 5,
   "outputs": [
    {
     "data": {
      "text/plain": "6"
     },
     "metadata": {},
     "output_type": "execute_result",
     "execution_count": 5
    }
   ],
   "source": [
    "def add_numbers(x, y, z=None):\n",
    "    if z is None:\n",
    "        return x + y\n",
    "    else:\n",
    "        return x + y + z\n",
    "    \n",
    "\n",
    "add_numbers(1,2,3)"
   ],
   "metadata": {
    "collapsed": false,
    "pycharm": {
     "name": "#%%\n",
     "is_executing": false
    }
   }
  },
  {
   "cell_type": "code",
   "execution_count": 6,
   "outputs": [],
   "source": [
    "# The Python Programing types and sequences\n",
    "\n"
   ],
   "metadata": {
    "collapsed": false,
    "pycharm": {
     "name": "#%%\n",
     "is_executing": false
    }
   }
  },
  {
   "cell_type": "code",
   "execution_count": 7,
   "outputs": [
    {
     "data": {
      "text/plain": "str"
     },
     "metadata": {},
     "output_type": "execute_result",
     "execution_count": 7
    }
   ],
   "source": [
    "type(\"this is a string\")"
   ],
   "metadata": {
    "collapsed": false,
    "pycharm": {
     "name": "#%%\n",
     "is_executing": false
    }
   }
  },
  {
   "cell_type": "code",
   "execution_count": 8,
   "outputs": [
    {
     "data": {
      "text/plain": "NoneType"
     },
     "metadata": {},
     "output_type": "execute_result",
     "execution_count": 8
    }
   ],
   "source": [
    "type(None)"
   ],
   "metadata": {
    "collapsed": false,
    "pycharm": {
     "name": "#%%\n",
     "is_executing": false
    }
   }
  },
  {
   "cell_type": "code",
   "execution_count": 9,
   "outputs": [
    {
     "data": {
      "text/plain": "int"
     },
     "metadata": {},
     "output_type": "execute_result",
     "execution_count": 9
    }
   ],
   "source": [
    "type(1)"
   ],
   "metadata": {
    "collapsed": false,
    "pycharm": {
     "name": "#%%\n",
     "is_executing": false
    }
   }
  },
  {
   "cell_type": "code",
   "execution_count": 10,
   "outputs": [
    {
     "data": {
      "text/plain": "float"
     },
     "metadata": {},
     "output_type": "execute_result",
     "execution_count": 10
    }
   ],
   "source": [
    "type(1.5)"
   ],
   "metadata": {
    "collapsed": false,
    "pycharm": {
     "name": "#%%\n",
     "is_executing": false
    }
   }
  },
  {
   "cell_type": "code",
   "execution_count": 11,
   "outputs": [
    {
     "data": {
      "text/plain": "function"
     },
     "metadata": {},
     "output_type": "execute_result",
     "execution_count": 11
    }
   ],
   "source": [
    "type(add_numbers)"
   ],
   "metadata": {
    "collapsed": false,
    "pycharm": {
     "name": "#%%\n",
     "is_executing": false
    }
   }
  },
  {
   "cell_type": "code",
   "execution_count": 13,
   "outputs": [
    {
     "data": {
      "text/plain": "tuple"
     },
     "metadata": {},
     "output_type": "execute_result",
     "execution_count": 13
    }
   ],
   "source": [
    "x = (1, 'a', 2, 'b')\n",
    "type(x)"
   ],
   "metadata": {
    "collapsed": false,
    "pycharm": {
     "name": "#%%\n",
     "is_executing": false
    }
   }
  },
  {
   "cell_type": "code",
   "execution_count": 14,
   "outputs": [
    {
     "data": {
      "text/plain": "list"
     },
     "metadata": {},
     "output_type": "execute_result",
     "execution_count": 14
    }
   ],
   "source": [
    "x = [1, 'a', 2, 'b']\n",
    "type(x)"
   ],
   "metadata": {
    "collapsed": false,
    "pycharm": {
     "name": "#%%\n",
     "is_executing": false
    }
   }
  },
  {
   "cell_type": "code",
   "execution_count": 15,
   "outputs": [
    {
     "name": "stdout",
     "text": [
      "[1, 'a', 2, 'b', 3.3]\n"
     ],
     "output_type": "stream"
    }
   ],
   "source": [
    "x.append(3.3)\n",
    "print(x)"
   ],
   "metadata": {
    "collapsed": false,
    "pycharm": {
     "name": "#%%\n",
     "is_executing": false
    }
   }
  },
  {
   "cell_type": "code",
   "execution_count": 16,
   "outputs": [
    {
     "name": "stdout",
     "text": [
      "1\n",
      "a\n",
      "2\n",
      "b\n",
      "3.3\n"
     ],
     "output_type": "stream"
    }
   ],
   "source": [
    "for item in x:\n",
    "    print(item)\n"
   ],
   "metadata": {
    "collapsed": false,
    "pycharm": {
     "name": "#%%\n",
     "is_executing": false
    }
   }
  },
  {
   "cell_type": "code",
   "execution_count": 17,
   "outputs": [
    {
     "name": "stdout",
     "text": [
      "1\n",
      "a\n",
      "2\n",
      "b\n",
      "3.3\n"
     ],
     "output_type": "stream"
    }
   ],
   "source": [
    "i = 0\n",
    "while( i != len(x)):\n",
    "    print(x[i])\n",
    "    i = i + 1\n",
    "    \n"
   ],
   "metadata": {
    "collapsed": false,
    "pycharm": {
     "name": "#%%\n",
     "is_executing": false
    }
   }
  },
  {
   "cell_type": "code",
   "execution_count": 18,
   "outputs": [
    {
     "data": {
      "text/plain": "[1, 2, 3, 4]"
     },
     "metadata": {},
     "output_type": "execute_result",
     "execution_count": 18
    }
   ],
   "source": [
    "[1,2] + [3,4]"
   ],
   "metadata": {
    "collapsed": false,
    "pycharm": {
     "name": "#%%\n",
     "is_executing": false
    }
   }
  },
  {
   "cell_type": "code",
   "execution_count": 19,
   "outputs": [
    {
     "data": {
      "text/plain": "[2, 2, 2]"
     },
     "metadata": {},
     "output_type": "execute_result",
     "execution_count": 19
    }
   ],
   "source": [
    "[2] * 3\n",
    "\n"
   ],
   "metadata": {
    "collapsed": false,
    "pycharm": {
     "name": "#%%\n",
     "is_executing": false
    }
   }
  },
  {
   "cell_type": "code",
   "execution_count": 20,
   "outputs": [
    {
     "data": {
      "text/plain": "True"
     },
     "metadata": {},
     "output_type": "execute_result",
     "execution_count": 20
    }
   ],
   "source": [
    "1 in [1,2,3]"
   ],
   "metadata": {
    "collapsed": false,
    "pycharm": {
     "name": "#%%\n",
     "is_executing": false
    }
   }
  },
  {
   "cell_type": "code",
   "execution_count": 22,
   "outputs": [
    {
     "name": "stdout",
     "text": [
      "t\n",
      "t\n",
      "th\n"
     ],
     "output_type": "stream"
    }
   ],
   "source": [
    "x = 'this is a string'\n",
    "print(x[0])\n",
    "print(x[0:1])\n",
    "print(x[0:2])"
   ],
   "metadata": {
    "collapsed": false,
    "pycharm": {
     "name": "#%%\n",
     "is_executing": false
    }
   }
  },
  {
   "cell_type": "code",
   "execution_count": 23,
   "outputs": [
    {
     "data": {
      "text/plain": "'g'"
     },
     "metadata": {},
     "output_type": "execute_result",
     "execution_count": 23
    }
   ],
   "source": [
    "x[-1]"
   ],
   "metadata": {
    "collapsed": false,
    "pycharm": {
     "name": "#%%\n",
     "is_executing": false
    }
   }
  },
  {
   "cell_type": "code",
   "execution_count": 25,
   "outputs": [
    {
     "data": {
      "text/plain": "'ri'"
     },
     "metadata": {},
     "output_type": "execute_result",
     "execution_count": 25
    }
   ],
   "source": [
    "x[-4:-2]"
   ],
   "metadata": {
    "collapsed": false,
    "pycharm": {
     "name": "#%%\n",
     "is_executing": false
    }
   }
  },
  {
   "cell_type": "code",
   "execution_count": 26,
   "outputs": [
    {
     "name": "stdout",
     "text": [
      "Christopher Brooks\n",
      "ChristopherChristopherChristopher\n",
      "True\n"
     ],
     "output_type": "stream"
    }
   ],
   "source": [
    "firstname = \"Christopher\"\n",
    "lastname = \"Brooks\"\n",
    "\n",
    "print(firstname + ' ' + lastname)\n",
    "print(firstname * 3)\n",
    "print('Chris' in firstname)\n",
    "\n"
   ],
   "metadata": {
    "collapsed": false,
    "pycharm": {
     "name": "#%%\n",
     "is_executing": false
    }
   }
  },
  {
   "cell_type": "code",
   "execution_count": 28,
   "outputs": [
    {
     "name": "stdout",
     "text": [
      "Christopher\n",
      "Brooks\n"
     ],
     "output_type": "stream"
    }
   ],
   "source": [
    "firstname = 'Christopher Arthur Hansen Brooks'.split(' ')[0]\n",
    "lastname = 'Christopher Arthur Hansen Brooks'.split(' ')[-1]\n",
    "print(firstname)\n",
    "print(lastname)"
   ],
   "metadata": {
    "collapsed": false,
    "pycharm": {
     "name": "#%%\n",
     "is_executing": false
    }
   }
  },
  {
   "cell_type": "code",
   "execution_count": 29,
   "outputs": [
    {
     "traceback": [
      "\u001b[0;31m---------------------------------------------------------------------------\u001b[0m",
      "\u001b[0;31mTypeError\u001b[0m                                 Traceback (most recent call last)",
      "\u001b[0;32m<ipython-input-29-9d01956b24db>\u001b[0m in \u001b[0;36m<module>\u001b[0;34m\u001b[0m\n\u001b[0;32m----> 1\u001b[0;31m \u001b[0;34m'Chris'\u001b[0m \u001b[0;34m+\u001b[0m \u001b[0;36m2\u001b[0m\u001b[0;34m\u001b[0m\u001b[0;34m\u001b[0m\u001b[0m\n\u001b[0m",
      "\u001b[0;31mTypeError\u001b[0m: can only concatenate str (not \"int\") to str"
     ],
     "ename": "TypeError",
     "evalue": "can only concatenate str (not \"int\") to str",
     "output_type": "error"
    }
   ],
   "source": [
    "'Chris' + 2"
   ],
   "metadata": {
    "collapsed": false,
    "pycharm": {
     "name": "#%%\n",
     "is_executing": false
    }
   }
  },
  {
   "cell_type": "code",
   "execution_count": 30,
   "outputs": [
    {
     "data": {
      "text/plain": "'Chris2'"
     },
     "metadata": {},
     "output_type": "execute_result",
     "execution_count": 30
    }
   ],
   "source": [
    "'Chris' + str(2)"
   ],
   "metadata": {
    "collapsed": false,
    "pycharm": {
     "name": "#%%\n",
     "is_executing": false
    }
   }
  },
  {
   "cell_type": "code",
   "execution_count": 31,
   "outputs": [
    {
     "data": {
      "text/plain": "'brooksc@umich.edu'"
     },
     "metadata": {},
     "output_type": "execute_result",
     "execution_count": 31
    }
   ],
   "source": [
    "x = {'Christopher Brooks':'brooksc@umich.edu','Bill Gates':'billg@microsoft.com'}\n",
    "x['Christopher Brooks']\n",
    "\n"
   ],
   "metadata": {
    "collapsed": false,
    "pycharm": {
     "name": "#%%\n",
     "is_executing": false
    }
   }
  },
  {
   "cell_type": "code",
   "execution_count": 32,
   "outputs": [],
   "source": [
    "x['Kevyn Collins-Thompson'] = None\n",
    "x['Kevyn Collins-Thompson']"
   ],
   "metadata": {
    "collapsed": false,
    "pycharm": {
     "name": "#%%\n",
     "is_executing": false
    }
   }
  },
  {
   "cell_type": "code",
   "execution_count": 33,
   "outputs": [
    {
     "name": "stdout",
     "text": [
      "brooksc@umich.edu\n",
      "billg@microsoft.com\n",
      "None\n"
     ],
     "output_type": "stream"
    }
   ],
   "source": [
    "for name in x:\n",
    "    print(x[name])"
   ],
   "metadata": {
    "collapsed": false,
    "pycharm": {
     "name": "#%%\n",
     "is_executing": false
    }
   }
  },
  {
   "cell_type": "code",
   "execution_count": 34,
   "outputs": [
    {
     "name": "stdout",
     "text": [
      "brooksc@umich.edu\n",
      "billg@microsoft.com\n",
      "None\n"
     ],
     "output_type": "stream"
    }
   ],
   "source": [
    "for email in x.values():\n",
    "    print(email)"
   ],
   "metadata": {
    "collapsed": false,
    "pycharm": {
     "name": "#%%\n",
     "is_executing": false
    }
   }
  },
  {
   "cell_type": "code",
   "execution_count": 35,
   "outputs": [
    {
     "name": "stdout",
     "text": [
      "Christopher Brooks\n",
      "brooksc@umich.edu\n",
      "Bill Gates\n",
      "billg@microsoft.com\n",
      "Kevyn Collins-Thompson\n",
      "None\n"
     ],
     "output_type": "stream"
    }
   ],
   "source": [
    "for name, email in x.items():\n",
    "    print(name)\n",
    "    print(email)\n",
    "\n",
    "\n"
   ],
   "metadata": {
    "collapsed": false,
    "pycharm": {
     "name": "#%%\n",
     "is_executing": false
    }
   }
  },
  {
   "cell_type": "code",
   "execution_count": 36,
   "outputs": [],
   "source": [
    "x = ('Christopher','Brooks','brooksch@umich,edu')\n",
    "fname, lname, email = x"
   ],
   "metadata": {
    "collapsed": false,
    "pycharm": {
     "name": "#%%\n",
     "is_executing": false
    }
   }
  },
  {
   "cell_type": "code",
   "execution_count": 37,
   "outputs": [
    {
     "data": {
      "text/plain": "'Christopher'"
     },
     "metadata": {},
     "output_type": "execute_result",
     "execution_count": 37
    }
   ],
   "source": [
    "fname\n",
    "\n"
   ],
   "metadata": {
    "collapsed": false,
    "pycharm": {
     "name": "#%%\n",
     "is_executing": false
    }
   }
  },
  {
   "cell_type": "code",
   "execution_count": 38,
   "outputs": [
    {
     "data": {
      "text/plain": "'Brooks'"
     },
     "metadata": {},
     "output_type": "execute_result",
     "execution_count": 38
    }
   ],
   "source": [
    "lname"
   ],
   "metadata": {
    "collapsed": false,
    "pycharm": {
     "name": "#%%\n",
     "is_executing": false
    }
   }
  },
  {
   "cell_type": "code",
   "execution_count": 39,
   "outputs": [
    {
     "data": {
      "text/plain": "'brooksch@umich,edu'"
     },
     "metadata": {},
     "output_type": "execute_result",
     "execution_count": 39
    }
   ],
   "source": [
    "email"
   ],
   "metadata": {
    "collapsed": false,
    "pycharm": {
     "name": "#%%\n",
     "is_executing": false
    }
   }
  },
  {
   "cell_type": "code",
   "execution_count": 40,
   "outputs": [
    {
     "traceback": [
      "\u001b[0;31m---------------------------------------------------------------------------\u001b[0m",
      "\u001b[0;31mValueError\u001b[0m                                Traceback (most recent call last)",
      "\u001b[0;32m<ipython-input-40-fcb8a7847d18>\u001b[0m in \u001b[0;36m<module>\u001b[0;34m\u001b[0m\n\u001b[1;32m      1\u001b[0m \u001b[0mx\u001b[0m \u001b[0;34m=\u001b[0m \u001b[0;34m(\u001b[0m\u001b[0;34m'Christopher'\u001b[0m\u001b[0;34m,\u001b[0m\u001b[0;34m'Brooks'\u001b[0m\u001b[0;34m,\u001b[0m\u001b[0;34m'brooksch@umich.edu'\u001b[0m\u001b[0;34m,\u001b[0m\u001b[0;34m'Ann Arbor'\u001b[0m\u001b[0;34m)\u001b[0m\u001b[0;34m\u001b[0m\u001b[0;34m\u001b[0m\u001b[0m\n\u001b[0;32m----> 2\u001b[0;31m \u001b[0mfname\u001b[0m\u001b[0;34m,\u001b[0m \u001b[0mlname\u001b[0m\u001b[0;34m,\u001b[0m \u001b[0memail\u001b[0m \u001b[0;34m=\u001b[0m \u001b[0mx\u001b[0m\u001b[0;34m\u001b[0m\u001b[0;34m\u001b[0m\u001b[0m\n\u001b[0m",
      "\u001b[0;31mValueError\u001b[0m: too many values to unpack (expected 3)"
     ],
     "ename": "ValueError",
     "evalue": "too many values to unpack (expected 3)",
     "output_type": "error"
    }
   ],
   "source": [
    "x = ('Christopher','Brooks','brooksch@umich.edu','Ann Arbor')\n",
    "fname, lname, email = x"
   ],
   "metadata": {
    "collapsed": false,
    "pycharm": {
     "name": "#%%\n",
     "is_executing": false
    }
   }
  },
  {
   "cell_type": "code",
   "execution_count": 48,
   "outputs": [
    {
     "name": "stdout",
     "text": [
      "Chris bought 4 item(s) at a price of 3.24 each for a total of 12.96\n"
     ],
     "output_type": "stream"
    }
   ],
   "source": [
    "sales_record = {'price':3.24,\n",
    "                'num_items':4,\n",
    "                'person':'Chris'}\n",
    "\n",
    "sales_statement = '{} bought {} item(s) at a price of {} each for a total of {}'\n",
    "\n",
    "print(sales_statement.format(sales_record['person'],\n",
    "                             sales_record['num_items'],\n",
    "                             sales_record['price'],\n",
    "                             sales_record['num_items'] * sales_record['price']))\n"
   ],
   "metadata": {
    "collapsed": false,
    "pycharm": {
     "name": "#%%\n",
     "is_executing": false
    }
   }
  },
  {
   "cell_type": "code",
   "execution_count": 2,
   "outputs": [
    {
     "data": {
      "text/plain": "[OrderedDict([('MPG', '18.0'),\n              ('Cylinders', '8'),\n              ('Displacement', '307.0'),\n              ('Horsepower', '130.0'),\n              ('Weight', '3504.0'),\n              ('Acceleration', '12.0'),\n              ('Model Year', '70'),\n              ('Origin', '1'),\n              ('Car Name', 'chevrolet chevelle malibu')]),\n OrderedDict([('MPG', '15.0'),\n              ('Cylinders', '8'),\n              ('Displacement', '350.0'),\n              ('Horsepower', '165.0'),\n              ('Weight', '3693.0'),\n              ('Acceleration', '11.5'),\n              ('Model Year', '70'),\n              ('Origin', '1'),\n              ('Car Name', 'buick skylark 320')]),\n OrderedDict([('MPG', '18.0'),\n              ('Cylinders', '8'),\n              ('Displacement', '318.0'),\n              ('Horsepower', '150.0'),\n              ('Weight', '3436.0'),\n              ('Acceleration', '11.0'),\n              ('Model Year', '70'),\n              ('Origin', '1'),\n              ('Car Name', 'plymouth satellite')])]"
     },
     "metadata": {},
     "output_type": "execute_result",
     "execution_count": 2
    }
   ],
   "source": [
    "import csv\n",
    "%precision 2\n",
    "\n",
    "with open('./auto-mpg-new.csv') as csvfile:\n",
    "    mpg = list(csv.DictReader(csvfile))\n",
    "    \n",
    "mpg[:3]\n",
    "\n"
   ],
   "metadata": {
    "collapsed": false,
    "pycharm": {
     "name": "#%%\n",
     "is_executing": false
    }
   }
  },
  {
   "cell_type": "code",
   "execution_count": 3,
   "outputs": [
    {
     "data": {
      "text/plain": "392"
     },
     "metadata": {},
     "output_type": "execute_result",
     "execution_count": 3
    }
   ],
   "source": [
    "len(mpg)\n",
    "\n"
   ],
   "metadata": {
    "collapsed": false,
    "pycharm": {
     "name": "#%%\n",
     "is_executing": false
    }
   }
  },
  {
   "cell_type": "code",
   "execution_count": 4,
   "outputs": [
    {
     "data": {
      "text/plain": "odict_keys(['MPG', 'Cylinders', 'Displacement', 'Horsepower', 'Weight', 'Acceleration', 'Model Year', 'Origin', 'Car Name'])"
     },
     "metadata": {},
     "output_type": "execute_result",
     "execution_count": 4
    }
   ],
   "source": [
    "mpg[0].keys()"
   ],
   "metadata": {
    "collapsed": false,
    "pycharm": {
     "name": "#%%\n",
     "is_executing": false
    }
   }
  },
  {
   "cell_type": "code",
   "execution_count": 5,
   "outputs": [
    {
     "data": {
      "text/plain": "23.45"
     },
     "metadata": {},
     "output_type": "execute_result",
     "execution_count": 5
    }
   ],
   "source": [
    "sum(float(i['MPG']) for i in mpg) / len(mpg)\n"
   ],
   "metadata": {
    "collapsed": false,
    "pycharm": {
     "name": "#%%\n",
     "is_executing": false
    }
   }
  },
  {
   "cell_type": "code",
   "execution_count": 6,
   "outputs": [
    {
     "data": {
      "text/plain": "{'3', '4', '5', '6', '8'}"
     },
     "metadata": {},
     "output_type": "execute_result",
     "execution_count": 6
    }
   ],
   "source": [
    "cylinders = set(d['Cylinders'] for d in mpg)\n",
    "cylinders\n"
   ],
   "metadata": {
    "collapsed": false,
    "pycharm": {
     "name": "#%%\n",
     "is_executing": false
    }
   }
  },
  {
   "cell_type": "code",
   "execution_count": 7,
   "outputs": [
    {
     "data": {
      "text/plain": "[('3', 13.25), ('4', 16.58), ('5', 18.63), ('6', 16.25), ('8', 12.96)]"
     },
     "metadata": {},
     "output_type": "execute_result",
     "execution_count": 7
    }
   ],
   "source": [
    "AccMpgByCyl = []\n",
    "\n",
    "for c in cylinders:\n",
    "    summpg = 0\n",
    "    cyltypecount = 0\n",
    "    for d in mpg:\n",
    "        if d['Cylinders'] == c:\n",
    "            summpg += float(d['Acceleration'])\n",
    "            cyltypecount += 1\n",
    "    AccMpgByCyl.append((c,summpg/cyltypecount))\n",
    "\n",
    "AccMpgByCyl.sort(key=lambda x:x[0])\n",
    "AccMpgByCyl\n",
    "    \n"
   ],
   "metadata": {
    "collapsed": false,
    "pycharm": {
     "name": "#%%\n",
     "is_executing": false
    }
   }
  },
  {
   "cell_type": "code",
   "execution_count": 9,
   "outputs": [
    {
     "data": {
      "text/plain": "{'amc ambassador brougham',\n 'amc ambassador dpl',\n 'amc ambassador sst',\n 'amc concord',\n 'amc concord d/l',\n 'amc concord dl 6',\n 'amc gremlin',\n 'amc hornet',\n 'amc hornet sportabout (sw)',\n 'amc matador',\n 'amc matador (sw)',\n 'amc pacer',\n 'amc pacer d/l',\n 'amc rebel sst',\n 'amc spirit dl',\n 'audi 100 ls',\n 'audi 100ls',\n 'audi 4000',\n 'audi 5000',\n 'audi 5000s (diesel)',\n 'audi fox',\n 'bmw 2002',\n 'bmw 320i',\n 'buick century',\n 'buick century 350',\n 'buick century limited',\n 'buick century luxus (sw)',\n 'buick century special',\n 'buick electra 225 custom',\n 'buick estate wagon (sw)',\n 'buick lesabre custom',\n 'buick opel isuzu deluxe',\n 'buick regal sport coupe (turbo)',\n 'buick skyhawk',\n 'buick skylark',\n 'buick skylark 320',\n 'buick skylark limited',\n 'cadillac eldorado',\n 'cadillac seville',\n 'capri ii',\n 'chevroelt chevelle malibu',\n 'chevrolet bel air',\n 'chevrolet camaro',\n 'chevrolet caprice classic',\n 'chevrolet cavalier',\n 'chevrolet cavalier 2-door',\n 'chevrolet cavalier wagon',\n 'chevrolet chevelle concours (sw)',\n 'chevrolet chevelle malibu',\n 'chevrolet chevelle malibu classic',\n 'chevrolet chevette',\n 'chevrolet citation',\n 'chevrolet concours',\n 'chevrolet impala',\n 'chevrolet malibu',\n 'chevrolet malibu classic (sw)',\n 'chevrolet monte carlo',\n 'chevrolet monte carlo landau',\n 'chevrolet monte carlo s',\n 'chevrolet monza 2+2',\n 'chevrolet nova',\n 'chevrolet nova custom',\n 'chevrolet vega',\n 'chevrolet vega (sw)',\n 'chevrolet vega 2300',\n 'chevrolet woody',\n 'chevy c10',\n 'chevy c20',\n 'chevy s-10',\n 'chrysler cordoba',\n 'chrysler lebaron medallion',\n 'chrysler lebaron salon',\n 'chrysler lebaron town @ country (sw)',\n 'chrysler new yorker brougham',\n 'chrysler newport royal',\n 'datsun 1200',\n 'datsun 200-sx',\n 'datsun 200sx',\n 'datsun 210',\n 'datsun 210 mpg',\n 'datsun 280-zx',\n 'datsun 310',\n 'datsun 310 gx',\n 'datsun 510',\n 'datsun 510 (sw)',\n 'datsun 510 hatchback',\n 'datsun 610',\n 'datsun 710',\n 'datsun 810',\n 'datsun 810 maxima',\n 'datsun b-210',\n 'datsun b210',\n 'datsun b210 gx',\n 'datsun f-10 hatchback',\n 'datsun pl510',\n 'dodge aries se',\n 'dodge aries wagon (sw)',\n 'dodge aspen',\n 'dodge aspen 6',\n 'dodge aspen se',\n 'dodge challenger se',\n 'dodge charger 2.2',\n 'dodge colt',\n 'dodge colt (sw)',\n 'dodge colt hardtop',\n 'dodge colt hatchback custom',\n 'dodge colt m/m',\n 'dodge coronet brougham',\n 'dodge coronet custom',\n 'dodge coronet custom (sw)',\n 'dodge d100',\n 'dodge d200',\n 'dodge dart custom',\n 'dodge diplomat',\n 'dodge magnum xe',\n 'dodge monaco (sw)',\n 'dodge monaco brougham',\n 'dodge omni',\n 'dodge rampage',\n 'dodge st. regis',\n 'fiat 124 sport coupe',\n 'fiat 124 tc',\n 'fiat 124b',\n 'fiat 128',\n 'fiat 131',\n 'fiat strada custom',\n 'fiat x1.9',\n 'ford country',\n 'ford country squire (sw)',\n 'ford escort 2h',\n 'ford escort 4w',\n 'ford f108',\n 'ford f250',\n 'ford fairmont',\n 'ford fairmont (auto)',\n 'ford fairmont (man)',\n 'ford fairmont 4',\n 'ford fairmont futura',\n 'ford fiesta',\n 'ford futura',\n 'ford galaxie 500',\n 'ford gran torino',\n 'ford gran torino (sw)',\n 'ford granada',\n 'ford granada ghia',\n 'ford granada gl',\n 'ford granada l',\n 'ford ltd',\n 'ford ltd landau',\n 'ford maverick',\n 'ford mustang',\n 'ford mustang gl',\n 'ford mustang ii',\n 'ford mustang ii 2+2',\n 'ford pinto',\n 'ford pinto (sw)',\n 'ford pinto runabout',\n 'ford ranger',\n 'ford thunderbird',\n 'ford torino',\n 'ford torino 500',\n 'hi 1200d',\n 'honda accord',\n 'honda accord cvcc',\n 'honda accord lx',\n 'honda civic',\n 'honda civic (auto)',\n 'honda civic 1300',\n 'honda civic 1500 gl',\n 'honda civic cvcc',\n 'honda prelude',\n 'maxda glc deluxe',\n 'maxda rx3',\n 'mazda 626',\n 'mazda glc',\n 'mazda glc 4',\n 'mazda glc custom',\n 'mazda glc custom l',\n 'mazda glc deluxe',\n 'mazda rx-4',\n 'mazda rx-7 gs',\n 'mazda rx2 coupe',\n 'mercedes benz 300d',\n 'mercedes-benz 240d',\n 'mercedes-benz 280s',\n 'mercury capri 2000',\n 'mercury capri v6',\n 'mercury cougar brougham',\n 'mercury grand marquis',\n 'mercury lynx l',\n 'mercury marquis',\n 'mercury marquis brougham',\n 'mercury monarch',\n 'mercury monarch ghia',\n 'mercury zephyr',\n 'mercury zephyr 6',\n 'nissan stanza xe',\n 'oldsmobile cutlass ciera (diesel)',\n 'oldsmobile cutlass ls',\n 'oldsmobile cutlass salon brougham',\n 'oldsmobile cutlass supreme',\n 'oldsmobile delta 88 royale',\n 'oldsmobile omega',\n 'oldsmobile omega brougham',\n 'oldsmobile starfire sx',\n 'oldsmobile vista cruiser',\n 'opel 1900',\n 'opel manta',\n 'peugeot 304',\n 'peugeot 504',\n 'peugeot 504 (sw)',\n 'peugeot 505s turbo diesel',\n 'peugeot 604sl',\n \"plymouth 'cuda 340\",\n 'plymouth arrow gs',\n 'plymouth champ',\n 'plymouth cricket',\n 'plymouth custom suburb',\n 'plymouth duster',\n 'plymouth fury',\n 'plymouth fury gran sedan',\n 'plymouth fury iii',\n 'plymouth grand fury',\n 'plymouth horizon',\n 'plymouth horizon 4',\n 'plymouth horizon miser',\n 'plymouth horizon tc3',\n 'plymouth reliant',\n 'plymouth sapporo',\n 'plymouth satellite',\n 'plymouth satellite custom',\n 'plymouth satellite custom (sw)',\n 'plymouth satellite sebring',\n 'plymouth valiant',\n 'plymouth valiant custom',\n 'plymouth volare',\n 'plymouth volare custom',\n 'plymouth volare premier v8',\n 'pontiac astro',\n 'pontiac catalina',\n 'pontiac catalina brougham',\n 'pontiac firebird',\n 'pontiac grand prix',\n 'pontiac grand prix lj',\n 'pontiac j2000 se hatchback',\n 'pontiac lemans v6',\n 'pontiac phoenix',\n 'pontiac phoenix lj',\n 'pontiac safari (sw)',\n 'pontiac sunbird coupe',\n 'pontiac ventura sj',\n 'renault 12 (sw)',\n 'renault 12tl',\n 'renault 5 gtl',\n 'saab 99e',\n 'saab 99gle',\n 'saab 99le',\n 'subaru',\n 'subaru dl',\n 'toyota carina',\n 'toyota celica gt',\n 'toyota celica gt liftback',\n 'toyota corolla',\n 'toyota corolla 1200',\n 'toyota corolla 1600 (sw)',\n 'toyota corolla liftback',\n 'toyota corolla tercel',\n 'toyota corona',\n 'toyota corona hardtop',\n 'toyota corona liftback',\n 'toyota corona mark ii',\n 'toyota cressida',\n 'toyota mark ii',\n 'toyota starlet',\n 'toyota tercel',\n 'toyouta corona mark ii (sw)',\n 'triumph tr7 coupe',\n 'vokswagen rabbit',\n 'volkswagen 1131 deluxe sedan',\n 'volkswagen 411 (sw)',\n 'volkswagen dasher',\n 'volkswagen jetta',\n 'volkswagen model 111',\n 'volkswagen rabbit',\n 'volkswagen rabbit custom',\n 'volkswagen rabbit custom diesel',\n 'volkswagen rabbit l',\n 'volkswagen scirocco',\n 'volkswagen super beetle',\n 'volkswagen type 3',\n 'volvo 144ea',\n 'volvo 145e (sw)',\n 'volvo 244dl',\n 'volvo 245',\n 'volvo 264gl',\n 'volvo diesel',\n 'vw dasher (diesel)',\n 'vw pickup',\n 'vw rabbit',\n 'vw rabbit c (diesel)',\n 'vw rabbit custom'}"
     },
     "metadata": {},
     "output_type": "execute_result",
     "execution_count": 9
    }
   ],
   "source": [
    "vehiclename = set(d['Car Name'] for d in mpg)\n",
    "vehiclename\n"
   ],
   "metadata": {
    "collapsed": false,
    "pycharm": {
     "name": "#%%\n",
     "is_executing": false
    }
   }
  },
  {
   "cell_type": "code",
   "execution_count": 10,
   "outputs": [
    {
     "data": {
      "text/plain": "301"
     },
     "metadata": {},
     "output_type": "execute_result",
     "execution_count": 10
    }
   ],
   "source": [
    "len(vehiclename)"
   ],
   "metadata": {
    "collapsed": false,
    "pycharm": {
     "name": "#%%\n",
     "is_executing": false
    }
   }
  },
  {
   "cell_type": "code",
   "execution_count": 2,
   "outputs": [],
   "source": [
    "import datetime as dt\n",
    "import time as tm"
   ],
   "metadata": {
    "collapsed": false,
    "pycharm": {
     "name": "#%%\n",
     "is_executing": false
    }
   }
  },
  {
   "cell_type": "code",
   "execution_count": 3,
   "outputs": [
    {
     "data": {
      "text/plain": "1599320681.674356"
     },
     "metadata": {},
     "output_type": "execute_result",
     "execution_count": 3
    }
   ],
   "source": [
    "tm.time()"
   ],
   "metadata": {
    "collapsed": false,
    "pycharm": {
     "name": "#%%\n",
     "is_executing": false
    }
   }
  },
  {
   "cell_type": "code",
   "execution_count": 5,
   "outputs": [
    {
     "data": {
      "text/plain": "datetime.datetime(2020, 9, 5, 23, 45, 10, 945131)"
     },
     "metadata": {},
     "output_type": "execute_result",
     "execution_count": 5
    }
   ],
   "source": [
    "dtnow = dt.datetime.fromtimestamp(tm.time())\n",
    "dtnow"
   ],
   "metadata": {
    "collapsed": false,
    "pycharm": {
     "name": "#%%\n",
     "is_executing": false
    }
   }
  },
  {
   "cell_type": "code",
   "execution_count": 6,
   "outputs": [
    {
     "data": {
      "text/plain": "datetime.timedelta(days=100)"
     },
     "metadata": {},
     "output_type": "execute_result",
     "execution_count": 6
    }
   ],
   "source": [
    "delta = dt.timedelta(100)\n",
    "delta\n",
    "\n"
   ],
   "metadata": {
    "collapsed": false,
    "pycharm": {
     "name": "#%%\n",
     "is_executing": false
    }
   }
  },
  {
   "cell_type": "code",
   "execution_count": 7,
   "outputs": [],
   "source": [
    "today = dt.date.today()"
   ],
   "metadata": {
    "collapsed": false,
    "pycharm": {
     "name": "#%%\n",
     "is_executing": false
    }
   }
  },
  {
   "cell_type": "code",
   "execution_count": 8,
   "outputs": [
    {
     "data": {
      "text/plain": "datetime.date(2020, 5, 28)"
     },
     "metadata": {},
     "output_type": "execute_result",
     "execution_count": 8
    }
   ],
   "source": [
    "today - delta"
   ],
   "metadata": {
    "collapsed": false,
    "pycharm": {
     "name": "#%%\n",
     "is_executing": false
    }
   }
  },
  {
   "cell_type": "code",
   "execution_count": 9,
   "outputs": [
    {
     "data": {
      "text/plain": "True"
     },
     "metadata": {},
     "output_type": "execute_result",
     "execution_count": 9
    }
   ],
   "source": [
    "today > today - delta"
   ],
   "metadata": {
    "collapsed": false,
    "pycharm": {
     "name": "#%%\n",
     "is_executing": false
    }
   }
  },
  {
   "cell_type": "code",
   "execution_count": 1,
   "outputs": [],
   "source": [
    "class Person:\n",
    "    department = 'School of Information'\n",
    "    \n",
    "    def set_name(self, new_name):\n",
    "        self.name = new_name\n",
    "    def set_location(self, new_location):\n",
    "        self.location = new_location\n",
    "\n"
   ],
   "metadata": {
    "collapsed": false,
    "pycharm": {
     "name": "#%%\n",
     "is_executing": false
    }
   }
  },
  {
   "cell_type": "code",
   "execution_count": 2,
   "outputs": [
    {
     "name": "stdout",
     "text": [
      "Christopher Brooks live in Ann Arbor, MI, USA and works in the department School of Information\n"
     ],
     "output_type": "stream"
    }
   ],
   "source": [
    "person = Person()\n",
    "person.set_name('Christopher Brooks')\n",
    "person.set_location('Ann Arbor, MI, USA')\n",
    "print('{} live in {} and works in the department {}'.format(person.name,person.location,person.department))\n",
    "\n",
    "\n"
   ],
   "metadata": {
    "collapsed": false,
    "pycharm": {
     "name": "#%%\n",
     "is_executing": false
    }
   }
  },
  {
   "cell_type": "code",
   "execution_count": 3,
   "outputs": [
    {
     "data": {
      "text/plain": "<map at 0x1110a3cd0>"
     },
     "metadata": {},
     "output_type": "execute_result",
     "execution_count": 3
    }
   ],
   "source": [
    "store1 = [10.00, 11.00, 12.34, 2.34]\n",
    "store2 = [9.00, 11.10, 12.34, 2.01]\n",
    "cheapest = map(min, store1, store2)\n",
    "cheapest\n",
    "\n"
   ],
   "metadata": {
    "collapsed": false,
    "pycharm": {
     "name": "#%%\n",
     "is_executing": false
    }
   }
  },
  {
   "cell_type": "code",
   "execution_count": 4,
   "outputs": [
    {
     "name": "stdout",
     "text": [
      "9.0\n",
      "11.0\n",
      "12.34\n",
      "2.01\n"
     ],
     "output_type": "stream"
    }
   ],
   "source": [
    "for i in cheapest:\n",
    "    print(i)\n",
    "\n"
   ],
   "metadata": {
    "collapsed": false,
    "pycharm": {
     "name": "#%%\n",
     "is_executing": false
    }
   }
  },
  {
   "cell_type": "code",
   "execution_count": 5,
   "outputs": [],
   "source": [
    "my_function = lambda a,b,c : a + b\n"
   ],
   "metadata": {
    "collapsed": false,
    "pycharm": {
     "name": "#%%\n",
     "is_executing": false
    }
   }
  },
  {
   "cell_type": "code",
   "execution_count": 6,
   "outputs": [
    {
     "data": {
      "text/plain": "3"
     },
     "metadata": {},
     "output_type": "execute_result",
     "execution_count": 6
    }
   ],
   "source": [
    "my_function(1,2,3)"
   ],
   "metadata": {
    "collapsed": false,
    "pycharm": {
     "name": "#%%\n",
     "is_executing": false
    }
   }
  },
  {
   "cell_type": "code",
   "execution_count": 7,
   "outputs": [],
   "source": [
    "people = ['Dr. Christopher Brooks', 'Dr. Kevyn Collins-Thompson', 'Dr. VG Vinod Vydiswaran', 'Dr. Daniel Romero']"
   ],
   "metadata": {
    "collapsed": false,
    "pycharm": {
     "name": "#%%\n",
     "is_executing": false
    }
   }
  },
  {
   "cell_type": "code",
   "execution_count": 9,
   "outputs": [
    {
     "data": {
      "text/plain": "'Dr. Brooks'"
     },
     "metadata": {},
     "output_type": "execute_result",
     "execution_count": 9
    }
   ],
   "source": [
    "def split_title_and_name(person):\n",
    "    return person.split()[0] + ' ' + person.split()[-1]"
   ],
   "metadata": {
    "collapsed": false,
    "pycharm": {
     "name": "#%%\n",
     "is_executing": false
    }
   }
  },
  {
   "cell_type": "code",
   "execution_count": 16,
   "outputs": [
    {
     "name": "stdout",
     "text": [
      "True\n",
      "True\n",
      "True\n",
      "True\n"
     ],
     "output_type": "stream"
    }
   ],
   "source": [
    "for person in people:\n",
    "    print(split_title_and_name(person) == (lambda p:person.split()[0] + ' ' + person.split()[-1])(person))\n"
   ],
   "metadata": {
    "collapsed": false,
    "pycharm": {
     "name": "#%%\n",
     "is_executing": false
    }
   }
  },
  {
   "cell_type": "code",
   "execution_count": 13,
   "outputs": [
    {
     "data": {
      "text/plain": "True"
     },
     "metadata": {},
     "output_type": "execute_result",
     "execution_count": 13
    }
   ],
   "source": [
    "list(map(split_title_and_name,people)) == list(map(lambda person:person.split()[0] + ' ' + person.split()[-1],people))"
   ],
   "metadata": {
    "collapsed": false,
    "pycharm": {
     "name": "#%%\n",
     "is_executing": false
    }
   }
  },
  {
   "cell_type": "code",
   "execution_count": 17,
   "outputs": [
    {
     "data": {
      "text/plain": "[0,\n 2,\n 4,\n 6,\n 8,\n 10,\n 12,\n 14,\n 16,\n 18,\n 20,\n 22,\n 24,\n 26,\n 28,\n 30,\n 32,\n 34,\n 36,\n 38,\n 40,\n 42,\n 44,\n 46,\n 48,\n 50,\n 52,\n 54,\n 56,\n 58,\n 60,\n 62,\n 64,\n 66,\n 68,\n 70,\n 72,\n 74,\n 76,\n 78,\n 80,\n 82,\n 84,\n 86,\n 88,\n 90,\n 92,\n 94,\n 96,\n 98,\n 100,\n 102,\n 104,\n 106,\n 108,\n 110,\n 112,\n 114,\n 116,\n 118,\n 120,\n 122,\n 124,\n 126,\n 128,\n 130,\n 132,\n 134,\n 136,\n 138,\n 140,\n 142,\n 144,\n 146,\n 148,\n 150,\n 152,\n 154,\n 156,\n 158,\n 160,\n 162,\n 164,\n 166,\n 168,\n 170,\n 172,\n 174,\n 176,\n 178,\n 180,\n 182,\n 184,\n 186,\n 188,\n 190,\n 192,\n 194,\n 196,\n 198,\n 200,\n 202,\n 204,\n 206,\n 208,\n 210,\n 212,\n 214,\n 216,\n 218,\n 220,\n 222,\n 224,\n 226,\n 228,\n 230,\n 232,\n 234,\n 236,\n 238,\n 240,\n 242,\n 244,\n 246,\n 248,\n 250,\n 252,\n 254,\n 256,\n 258,\n 260,\n 262,\n 264,\n 266,\n 268,\n 270,\n 272,\n 274,\n 276,\n 278,\n 280,\n 282,\n 284,\n 286,\n 288,\n 290,\n 292,\n 294,\n 296,\n 298,\n 300,\n 302,\n 304,\n 306,\n 308,\n 310,\n 312,\n 314,\n 316,\n 318,\n 320,\n 322,\n 324,\n 326,\n 328,\n 330,\n 332,\n 334,\n 336,\n 338,\n 340,\n 342,\n 344,\n 346,\n 348,\n 350,\n 352,\n 354,\n 356,\n 358,\n 360,\n 362,\n 364,\n 366,\n 368,\n 370,\n 372,\n 374,\n 376,\n 378,\n 380,\n 382,\n 384,\n 386,\n 388,\n 390,\n 392,\n 394,\n 396,\n 398,\n 400,\n 402,\n 404,\n 406,\n 408,\n 410,\n 412,\n 414,\n 416,\n 418,\n 420,\n 422,\n 424,\n 426,\n 428,\n 430,\n 432,\n 434,\n 436,\n 438,\n 440,\n 442,\n 444,\n 446,\n 448,\n 450,\n 452,\n 454,\n 456,\n 458,\n 460,\n 462,\n 464,\n 466,\n 468,\n 470,\n 472,\n 474,\n 476,\n 478,\n 480,\n 482,\n 484,\n 486,\n 488,\n 490,\n 492,\n 494,\n 496,\n 498,\n 500,\n 502,\n 504,\n 506,\n 508,\n 510,\n 512,\n 514,\n 516,\n 518,\n 520,\n 522,\n 524,\n 526,\n 528,\n 530,\n 532,\n 534,\n 536,\n 538,\n 540,\n 542,\n 544,\n 546,\n 548,\n 550,\n 552,\n 554,\n 556,\n 558,\n 560,\n 562,\n 564,\n 566,\n 568,\n 570,\n 572,\n 574,\n 576,\n 578,\n 580,\n 582,\n 584,\n 586,\n 588,\n 590,\n 592,\n 594,\n 596,\n 598,\n 600,\n 602,\n 604,\n 606,\n 608,\n 610,\n 612,\n 614,\n 616,\n 618,\n 620,\n 622,\n 624,\n 626,\n 628,\n 630,\n 632,\n 634,\n 636,\n 638,\n 640,\n 642,\n 644,\n 646,\n 648,\n 650,\n 652,\n 654,\n 656,\n 658,\n 660,\n 662,\n 664,\n 666,\n 668,\n 670,\n 672,\n 674,\n 676,\n 678,\n 680,\n 682,\n 684,\n 686,\n 688,\n 690,\n 692,\n 694,\n 696,\n 698,\n 700,\n 702,\n 704,\n 706,\n 708,\n 710,\n 712,\n 714,\n 716,\n 718,\n 720,\n 722,\n 724,\n 726,\n 728,\n 730,\n 732,\n 734,\n 736,\n 738,\n 740,\n 742,\n 744,\n 746,\n 748,\n 750,\n 752,\n 754,\n 756,\n 758,\n 760,\n 762,\n 764,\n 766,\n 768,\n 770,\n 772,\n 774,\n 776,\n 778,\n 780,\n 782,\n 784,\n 786,\n 788,\n 790,\n 792,\n 794,\n 796,\n 798,\n 800,\n 802,\n 804,\n 806,\n 808,\n 810,\n 812,\n 814,\n 816,\n 818,\n 820,\n 822,\n 824,\n 826,\n 828,\n 830,\n 832,\n 834,\n 836,\n 838,\n 840,\n 842,\n 844,\n 846,\n 848,\n 850,\n 852,\n 854,\n 856,\n 858,\n 860,\n 862,\n 864,\n 866,\n 868,\n 870,\n 872,\n 874,\n 876,\n 878,\n 880,\n 882,\n 884,\n 886,\n 888,\n 890,\n 892,\n 894,\n 896,\n 898,\n 900,\n 902,\n 904,\n 906,\n 908,\n 910,\n 912,\n 914,\n 916,\n 918,\n 920,\n 922,\n 924,\n 926,\n 928,\n 930,\n 932,\n 934,\n 936,\n 938,\n 940,\n 942,\n 944,\n 946,\n 948,\n 950,\n 952,\n 954,\n 956,\n 958,\n 960,\n 962,\n 964,\n 966,\n 968,\n 970,\n 972,\n 974,\n 976,\n 978,\n 980,\n 982,\n 984,\n 986,\n 988,\n 990,\n 992,\n 994,\n 996,\n 998]"
     },
     "metadata": {},
     "output_type": "execute_result",
     "execution_count": 17
    }
   ],
   "source": [
    "my_list = []\n",
    "for number in range(0,1000):\n",
    "    if(number % 2 == 0):\n",
    "        my_list.append(number)\n",
    "my_list\n",
    "\n"
   ],
   "metadata": {
    "collapsed": false,
    "pycharm": {
     "name": "#%%\n",
     "is_executing": false
    }
   }
  },
  {
   "cell_type": "code",
   "execution_count": 19,
   "outputs": [
    {
     "data": {
      "text/plain": "[0,\n 2,\n 4,\n 6,\n 8,\n 10,\n 12,\n 14,\n 16,\n 18,\n 20,\n 22,\n 24,\n 26,\n 28,\n 30,\n 32,\n 34,\n 36,\n 38,\n 40,\n 42,\n 44,\n 46,\n 48,\n 50,\n 52,\n 54,\n 56,\n 58,\n 60,\n 62,\n 64,\n 66,\n 68,\n 70,\n 72,\n 74,\n 76,\n 78,\n 80,\n 82,\n 84,\n 86,\n 88,\n 90,\n 92,\n 94,\n 96,\n 98,\n 100,\n 102,\n 104,\n 106,\n 108,\n 110,\n 112,\n 114,\n 116,\n 118,\n 120,\n 122,\n 124,\n 126,\n 128,\n 130,\n 132,\n 134,\n 136,\n 138,\n 140,\n 142,\n 144,\n 146,\n 148,\n 150,\n 152,\n 154,\n 156,\n 158,\n 160,\n 162,\n 164,\n 166,\n 168,\n 170,\n 172,\n 174,\n 176,\n 178,\n 180,\n 182,\n 184,\n 186,\n 188,\n 190,\n 192,\n 194,\n 196,\n 198,\n 200,\n 202,\n 204,\n 206,\n 208,\n 210,\n 212,\n 214,\n 216,\n 218,\n 220,\n 222,\n 224,\n 226,\n 228,\n 230,\n 232,\n 234,\n 236,\n 238,\n 240,\n 242,\n 244,\n 246,\n 248,\n 250,\n 252,\n 254,\n 256,\n 258,\n 260,\n 262,\n 264,\n 266,\n 268,\n 270,\n 272,\n 274,\n 276,\n 278,\n 280,\n 282,\n 284,\n 286,\n 288,\n 290,\n 292,\n 294,\n 296,\n 298,\n 300,\n 302,\n 304,\n 306,\n 308,\n 310,\n 312,\n 314,\n 316,\n 318,\n 320,\n 322,\n 324,\n 326,\n 328,\n 330,\n 332,\n 334,\n 336,\n 338,\n 340,\n 342,\n 344,\n 346,\n 348,\n 350,\n 352,\n 354,\n 356,\n 358,\n 360,\n 362,\n 364,\n 366,\n 368,\n 370,\n 372,\n 374,\n 376,\n 378,\n 380,\n 382,\n 384,\n 386,\n 388,\n 390,\n 392,\n 394,\n 396,\n 398,\n 400,\n 402,\n 404,\n 406,\n 408,\n 410,\n 412,\n 414,\n 416,\n 418,\n 420,\n 422,\n 424,\n 426,\n 428,\n 430,\n 432,\n 434,\n 436,\n 438,\n 440,\n 442,\n 444,\n 446,\n 448,\n 450,\n 452,\n 454,\n 456,\n 458,\n 460,\n 462,\n 464,\n 466,\n 468,\n 470,\n 472,\n 474,\n 476,\n 478,\n 480,\n 482,\n 484,\n 486,\n 488,\n 490,\n 492,\n 494,\n 496,\n 498,\n 500,\n 502,\n 504,\n 506,\n 508,\n 510,\n 512,\n 514,\n 516,\n 518,\n 520,\n 522,\n 524,\n 526,\n 528,\n 530,\n 532,\n 534,\n 536,\n 538,\n 540,\n 542,\n 544,\n 546,\n 548,\n 550,\n 552,\n 554,\n 556,\n 558,\n 560,\n 562,\n 564,\n 566,\n 568,\n 570,\n 572,\n 574,\n 576,\n 578,\n 580,\n 582,\n 584,\n 586,\n 588,\n 590,\n 592,\n 594,\n 596,\n 598,\n 600,\n 602,\n 604,\n 606,\n 608,\n 610,\n 612,\n 614,\n 616,\n 618,\n 620,\n 622,\n 624,\n 626,\n 628,\n 630,\n 632,\n 634,\n 636,\n 638,\n 640,\n 642,\n 644,\n 646,\n 648,\n 650,\n 652,\n 654,\n 656,\n 658,\n 660,\n 662,\n 664,\n 666,\n 668,\n 670,\n 672,\n 674,\n 676,\n 678,\n 680,\n 682,\n 684,\n 686,\n 688,\n 690,\n 692,\n 694,\n 696,\n 698,\n 700,\n 702,\n 704,\n 706,\n 708,\n 710,\n 712,\n 714,\n 716,\n 718,\n 720,\n 722,\n 724,\n 726,\n 728,\n 730,\n 732,\n 734,\n 736,\n 738,\n 740,\n 742,\n 744,\n 746,\n 748,\n 750,\n 752,\n 754,\n 756,\n 758,\n 760,\n 762,\n 764,\n 766,\n 768,\n 770,\n 772,\n 774,\n 776,\n 778,\n 780,\n 782,\n 784,\n 786,\n 788,\n 790,\n 792,\n 794,\n 796,\n 798,\n 800,\n 802,\n 804,\n 806,\n 808,\n 810,\n 812,\n 814,\n 816,\n 818,\n 820,\n 822,\n 824,\n 826,\n 828,\n 830,\n 832,\n 834,\n 836,\n 838,\n 840,\n 842,\n 844,\n 846,\n 848,\n 850,\n 852,\n 854,\n 856,\n 858,\n 860,\n 862,\n 864,\n 866,\n 868,\n 870,\n 872,\n 874,\n 876,\n 878,\n 880,\n 882,\n 884,\n 886,\n 888,\n 890,\n 892,\n 894,\n 896,\n 898,\n 900,\n 902,\n 904,\n 906,\n 908,\n 910,\n 912,\n 914,\n 916,\n 918,\n 920,\n 922,\n 924,\n 926,\n 928,\n 930,\n 932,\n 934,\n 936,\n 938,\n 940,\n 942,\n 944,\n 946,\n 948,\n 950,\n 952,\n 954,\n 956,\n 958,\n 960,\n 962,\n 964,\n 966,\n 968,\n 970,\n 972,\n 974,\n 976,\n 978,\n 980,\n 982,\n 984,\n 986,\n 988,\n 990,\n 992,\n 994,\n 996,\n 998]"
     },
     "metadata": {},
     "output_type": "execute_result",
     "execution_count": 19
    }
   ],
   "source": [
    "my_list = [number for number in range(0,1000) if number % 2 == 0]\n",
    "my_list\n"
   ],
   "metadata": {
    "collapsed": false,
    "pycharm": {
     "name": "#%%\n",
     "is_executing": false
    }
   }
  },
  {
   "cell_type": "code",
   "execution_count": null,
   "outputs": [],
   "source": [
    "\n"
   ],
   "metadata": {
    "collapsed": false,
    "pycharm": {
     "name": "#%%\n"
    }
   }
  }
 ],
 "metadata": {
  "kernelspec": {
   "name": "pycharm-d3142e9b",
   "language": "python",
   "display_name": "PyCharm (data_science)"
  },
  "language_info": {
   "codemirror_mode": {
    "name": "ipython",
    "version": 2
   },
   "file_extension": ".py",
   "mimetype": "text/x-python",
   "name": "python",
   "nbconvert_exporter": "python",
   "pygments_lexer": "ipython2",
   "version": "2.7.6"
  },
  "pycharm": {
   "stem_cell": {
    "cell_type": "raw",
    "source": [],
    "metadata": {
     "collapsed": false
    }
   }
  }
 },
 "nbformat": 4,
 "nbformat_minor": 0
}