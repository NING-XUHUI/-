{
 "cells": [
  {
   "cell_type": "markdown",
   "metadata": {},
   "source": [
    "# 汽车安全性评估数据分类"
   ]
  },
  {
   "cell_type": "code",
   "execution_count": 1,
   "metadata": {},
   "outputs": [
    {
     "data": {
      "text/html": [
       "<div>\n",
       "<style scoped>\n",
       "    .dataframe tbody tr th:only-of-type {\n",
       "        vertical-align: middle;\n",
       "    }\n",
       "\n",
       "    .dataframe tbody tr th {\n",
       "        vertical-align: top;\n",
       "    }\n",
       "\n",
       "    .dataframe thead th {\n",
       "        text-align: right;\n",
       "    }\n",
       "</style>\n",
       "<table border=\"1\" class=\"dataframe\">\n",
       "  <thead>\n",
       "    <tr style=\"text-align: right;\">\n",
       "      <th></th>\n",
       "      <th>buying</th>\n",
       "      <th>maint</th>\n",
       "      <th>doors</th>\n",
       "      <th>persons</th>\n",
       "      <th>lug_boot</th>\n",
       "      <th>safety</th>\n",
       "      <th>class</th>\n",
       "    </tr>\n",
       "  </thead>\n",
       "  <tbody>\n",
       "    <tr>\n",
       "      <th>0</th>\n",
       "      <td>vhigh</td>\n",
       "      <td>vhigh</td>\n",
       "      <td>2</td>\n",
       "      <td>2</td>\n",
       "      <td>small</td>\n",
       "      <td>low</td>\n",
       "      <td>unacc</td>\n",
       "    </tr>\n",
       "    <tr>\n",
       "      <th>1</th>\n",
       "      <td>vhigh</td>\n",
       "      <td>vhigh</td>\n",
       "      <td>2</td>\n",
       "      <td>2</td>\n",
       "      <td>small</td>\n",
       "      <td>med</td>\n",
       "      <td>unacc</td>\n",
       "    </tr>\n",
       "    <tr>\n",
       "      <th>2</th>\n",
       "      <td>vhigh</td>\n",
       "      <td>vhigh</td>\n",
       "      <td>2</td>\n",
       "      <td>2</td>\n",
       "      <td>small</td>\n",
       "      <td>high</td>\n",
       "      <td>unacc</td>\n",
       "    </tr>\n",
       "    <tr>\n",
       "      <th>3</th>\n",
       "      <td>vhigh</td>\n",
       "      <td>vhigh</td>\n",
       "      <td>2</td>\n",
       "      <td>2</td>\n",
       "      <td>med</td>\n",
       "      <td>low</td>\n",
       "      <td>unacc</td>\n",
       "    </tr>\n",
       "    <tr>\n",
       "      <th>4</th>\n",
       "      <td>vhigh</td>\n",
       "      <td>vhigh</td>\n",
       "      <td>2</td>\n",
       "      <td>2</td>\n",
       "      <td>med</td>\n",
       "      <td>med</td>\n",
       "      <td>unacc</td>\n",
       "    </tr>\n",
       "  </tbody>\n",
       "</table>\n",
       "</div>"
      ],
      "text/plain": [
       "  buying  maint doors persons lug_boot safety  class\n",
       "0  vhigh  vhigh     2       2    small    low  unacc\n",
       "1  vhigh  vhigh     2       2    small    med  unacc\n",
       "2  vhigh  vhigh     2       2    small   high  unacc\n",
       "3  vhigh  vhigh     2       2      med    low  unacc\n",
       "4  vhigh  vhigh     2       2      med    med  unacc"
      ]
     },
     "execution_count": 1,
     "metadata": {},
     "output_type": "execute_result"
    }
   ],
   "source": [
    "import pandas as pd\n",
    "\n",
    "# 加载数据集\n",
    "df = pd.read_csv(\n",
    "    \"http://labfile.oss.aliyuncs.com/courses/1211/car.data\", header=None)\n",
    "# 设置列名\n",
    "df.columns = ['buying', 'maint', 'doors',\n",
    "              'persons', 'lug_boot', 'safety', 'class']\n",
    "df.head()"
   ]
  },
  {
   "cell_type": "code",
   "execution_count": 2,
   "metadata": {},
   "outputs": [],
   "source": [
    "from sklearn.model_selection import train_test_split\n",
    "\n",
    "X = df.iloc[:,:-1] #特征\n",
    "y = df['class'] # 目标\n",
    "\n",
    "X_train, X_test, y_train, y_test = train_test_split(X,y,test_size=0.2,random_state=1)"
   ]
  },
  {
   "cell_type": "code",
   "execution_count": 3,
   "metadata": {},
   "outputs": [],
   "source": [
    "import tensorflow as tf"
   ]
  },
  {
   "cell_type": "code",
   "execution_count": 4,
   "metadata": {},
   "outputs": [
    {
     "name": "stdout",
     "output_type": "stream",
     "text": [
      "Train on 1382 samples, validate on 346 samples\n",
      "Epoch 1/30\n",
      "1382/1382 [==============================] - 1s 543us/sample - loss: 1.1372 - accuracy: 0.5745 - val_loss: 0.8193 - val_accuracy: 0.7514\n",
      "Epoch 2/30\n",
      "1382/1382 [==============================] - 0s 48us/sample - loss: 0.7921 - accuracy: 0.6874 - val_loss: 0.6466 - val_accuracy: 0.7514\n",
      "Epoch 3/30\n",
      "1382/1382 [==============================] - 0s 48us/sample - loss: 0.6535 - accuracy: 0.7069 - val_loss: 0.5451 - val_accuracy: 0.7803\n",
      "Epoch 4/30\n",
      "1382/1382 [==============================] - 0s 47us/sample - loss: 0.5444 - accuracy: 0.7750 - val_loss: 0.4464 - val_accuracy: 0.8382\n",
      "Epoch 5/30\n",
      "1382/1382 [==============================] - 0s 47us/sample - loss: 0.4515 - accuracy: 0.8343 - val_loss: 0.3758 - val_accuracy: 0.8526\n",
      "Epoch 6/30\n",
      "1382/1382 [==============================] - 0s 49us/sample - loss: 0.3850 - accuracy: 0.8654 - val_loss: 0.3237 - val_accuracy: 0.8584\n",
      "Epoch 7/30\n",
      "1382/1382 [==============================] - 0s 46us/sample - loss: 0.3351 - accuracy: 0.8792 - val_loss: 0.2878 - val_accuracy: 0.8728\n",
      "Epoch 8/30\n",
      "1382/1382 [==============================] - 0s 49us/sample - loss: 0.2965 - accuracy: 0.8893 - val_loss: 0.2562 - val_accuracy: 0.8902\n",
      "Epoch 9/30\n",
      "1382/1382 [==============================] - 0s 46us/sample - loss: 0.2669 - accuracy: 0.9059 - val_loss: 0.2366 - val_accuracy: 0.8960\n",
      "Epoch 10/30\n",
      "1382/1382 [==============================] - 0s 47us/sample - loss: 0.2418 - accuracy: 0.9103 - val_loss: 0.2159 - val_accuracy: 0.8988\n",
      "Epoch 11/30\n",
      "1382/1382 [==============================] - 0s 49us/sample - loss: 0.2201 - accuracy: 0.9211 - val_loss: 0.1985 - val_accuracy: 0.9104\n",
      "Epoch 12/30\n",
      "1382/1382 [==============================] - 0s 50us/sample - loss: 0.2013 - accuracy: 0.9262 - val_loss: 0.1823 - val_accuracy: 0.9277\n",
      "Epoch 13/30\n",
      "1382/1382 [==============================] - 0s 49us/sample - loss: 0.1841 - accuracy: 0.9305 - val_loss: 0.1735 - val_accuracy: 0.9220\n",
      "Epoch 14/30\n",
      "1382/1382 [==============================] - 0s 45us/sample - loss: 0.1701 - accuracy: 0.9457 - val_loss: 0.1596 - val_accuracy: 0.9306\n",
      "Epoch 15/30\n",
      "1382/1382 [==============================] - 0s 47us/sample - loss: 0.1579 - accuracy: 0.9479 - val_loss: 0.1501 - val_accuracy: 0.9393\n",
      "Epoch 16/30\n",
      "1382/1382 [==============================] - 0s 45us/sample - loss: 0.1425 - accuracy: 0.9602 - val_loss: 0.1372 - val_accuracy: 0.9509\n",
      "Epoch 17/30\n",
      "1382/1382 [==============================] - 0s 52us/sample - loss: 0.1277 - accuracy: 0.9602 - val_loss: 0.1262 - val_accuracy: 0.9566\n",
      "Epoch 18/30\n",
      "1382/1382 [==============================] - 0s 47us/sample - loss: 0.1166 - accuracy: 0.9747 - val_loss: 0.1194 - val_accuracy: 0.9566\n",
      "Epoch 19/30\n",
      "1382/1382 [==============================] - 0s 46us/sample - loss: 0.1084 - accuracy: 0.9768 - val_loss: 0.1104 - val_accuracy: 0.9595\n",
      "Epoch 20/30\n",
      "1382/1382 [==============================] - 0s 47us/sample - loss: 0.1005 - accuracy: 0.9812 - val_loss: 0.1053 - val_accuracy: 0.9595\n",
      "Epoch 21/30\n",
      "1382/1382 [==============================] - 0s 46us/sample - loss: 0.0924 - accuracy: 0.9855 - val_loss: 0.0998 - val_accuracy: 0.9653\n",
      "Epoch 22/30\n",
      "1382/1382 [==============================] - 0s 46us/sample - loss: 0.0856 - accuracy: 0.9884 - val_loss: 0.0944 - val_accuracy: 0.9595\n",
      "Epoch 23/30\n",
      "1382/1382 [==============================] - 0s 47us/sample - loss: 0.0795 - accuracy: 0.9884 - val_loss: 0.0863 - val_accuracy: 0.9740\n",
      "Epoch 24/30\n",
      "1382/1382 [==============================] - 0s 46us/sample - loss: 0.0747 - accuracy: 0.9884 - val_loss: 0.0817 - val_accuracy: 0.9740\n",
      "Epoch 25/30\n",
      "1382/1382 [==============================] - 0s 50us/sample - loss: 0.0692 - accuracy: 0.9870 - val_loss: 0.0782 - val_accuracy: 0.9769\n",
      "Epoch 26/30\n",
      "1382/1382 [==============================] - 0s 46us/sample - loss: 0.0644 - accuracy: 0.9913 - val_loss: 0.0760 - val_accuracy: 0.9711\n",
      "Epoch 27/30\n",
      "1382/1382 [==============================] - 0s 53us/sample - loss: 0.0611 - accuracy: 0.9906 - val_loss: 0.0710 - val_accuracy: 0.9769\n",
      "Epoch 28/30\n",
      "1382/1382 [==============================] - 0s 48us/sample - loss: 0.0574 - accuracy: 0.9935 - val_loss: 0.0726 - val_accuracy: 0.9740\n",
      "Epoch 29/30\n",
      "1382/1382 [==============================] - 0s 47us/sample - loss: 0.0545 - accuracy: 0.9906 - val_loss: 0.0675 - val_accuracy: 0.9740\n",
      "Epoch 30/30\n",
      "1382/1382 [==============================] - 0s 46us/sample - loss: 0.0500 - accuracy: 0.9935 - val_loss: 0.0650 - val_accuracy: 0.9769\n"
     ]
    },
    {
     "data": {
      "text/plain": [
       "<tensorflow.python.keras.callbacks.History at 0x7f9876be3390>"
      ]
     },
     "execution_count": 4,
     "metadata": {},
     "output_type": "execute_result"
    }
   ],
   "source": [
    "\"\"\"挑战：按要求构建神经网络模型\"\"\"\n",
    "# 获取独热编码\n",
    "X_train = pd.get_dummies(X_train).values\n",
    "X_test = pd.get_dummies(X_test).values\n",
    "y_train = pd.get_dummies(y_train).values\n",
    "y_test = pd.get_dummies(y_test).values\n",
    "\n",
    "model = tf.keras.Sequential() # 顺序模型\n",
    "model.add(tf.keras.layers.Dense(units=30, input_dim=21, activation='relu')) # 隐含层1\n",
    "model.add(tf.keras.layers.Dense(units=20, activation='relu'))  # 隐含层2\n",
    "model.add(tf.keras.layers.Dense(units=4,activation='softmax')) # 输出层\n",
    "\n",
    "model.compile(optimizer='adam', loss='categorical_crossentropy', metrics=['accuracy'])\n",
    "model.fit(X_train, y_train, batch_size=32, epochs=30, validation_data=(X_test, y_test))\n",
    "\n",
    "\n"
   ]
  },
  {
   "cell_type": "code",
   "execution_count": null,
   "metadata": {},
   "outputs": [],
   "source": []
  }
 ],
 "metadata": {
  "kernelspec": {
   "display_name": "Python 3",
   "language": "python",
   "name": "python3"
  },
  "language_info": {
   "codemirror_mode": {
    "name": "ipython",
    "version": 3
   },
   "file_extension": ".py",
   "mimetype": "text/x-python",
   "name": "python",
   "nbconvert_exporter": "python",
   "pygments_lexer": "ipython3",
   "version": "3.7.8"
  }
 },
 "nbformat": 4,
 "nbformat_minor": 4
}
