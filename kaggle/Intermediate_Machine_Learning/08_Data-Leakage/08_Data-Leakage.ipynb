{
 "cells": [
  {
   "cell_type": "markdown",
   "metadata": {
    "collapsed": true,
    "pycharm": {
     "name": "#%% md\n"
    }
   },
   "source": [
    "# Step 1: The Data Science of Shoelaces\n",
    "\n",
    "Nike has hired you as a data science consultant to help them save money on shoe materials.\n",
    "Your first assignment is to review a model one of their employees built to predict how many\n",
    "shoelaces they'll need each month. The features going into the machine learning model include :\n",
    "\n",
    "    1. The current month(January, February, etc)\n",
    "    2. Advertising expenditures in the previous month\n",
    "    3. Various macroeconomic features (like the unemployment rate) as of the beginning of\n",
    "    the current month\n",
    "    4. The amount of leather they ended up using in the current month\n",
    "\n",
    "    The results show the model is almost perfectly accurate if you include the feature about\n",
    "    how much leather they used. But it is only moderately accurate if you leave that feature\n",
    "    out. You realize this is because the amount of leather they use is a perfect indicator\n",
    "    of how many shoes they producem which in turn tells you how many shoelaces they need.\n",
    "\n",
    "    Do you think the leather used feature constitutes a source of data leakage ?\n",
    "    If you answer is \"it depends\", what does it depend on ?\n",
    "\n",
    "    After you have thought about your answer, check it against the solution below.\n"
   ]
  },
  {
   "cell_type": "markdown",
   "source": [
    "# Step 2: Return of the Shoelaces\n",
    "\n",
    "You have a new idea. You could use the amount of leather Nike ordered (rather than the\n",
    "amount they actually used) leading up to a given month as a predictor in your shoelace\n",
    "model.\n",
    "\n",
    "Does this change your answer about whether there is a leakage problem ? If your answer\n",
    "\"it depends\", what does it depend on ?\n",
    "\n"
   ],
   "metadata": {
    "collapsed": false,
    "pycharm": {
     "name": "#%% md\n"
    }
   }
  },
  {
   "cell_type": "markdown",
   "source": [
    "# Step 3: Getting Rich With Cryptocurrencies ?\n",
    "\n",
    "You saved Nike so much money that they gave you a bonus. Congratulations.\n",
    "\n",
    "Your friend, who is also a data scientist, says he has built a model that will let you\n",
    "turn your bonus into millions of dollars. Specifically, his model predicts the price of\n",
    "a new cryptocurrency one day ahead of the amount of prediction. His plan is to purchase\n",
    "the cryptocurrency whenever the model says the price of the currency is about to go up.\n",
    "\n",
    "The most important features in his model are:\n",
    "\n",
    "    1. Current price of the currency\n",
    "    2. Amount of the currency sold in the last 24 hours\n",
    "    3. Change in the currency price in the last 24 hours\n",
    "    4. Change in the currency price in the last 1 hour\n",
    "    5. Number of new tweets in the last 24 hours that mention the currency\n",
    "\n",
    "    The value of the crytocurrency in dollars has fluctuated up and down by over\n",
    "    ... He says this is proof his model is accurate, and you should invest with him, buying\n",
    "    the currency whenever  the model says it is about to go up.\n",
    "\n",
    "    Is he right ? If there is a problem with his model, what is it ?\n",
    "\n"
   ],
   "metadata": {
    "collapsed": false,
    "pycharm": {
     "name": "#%% md\n"
    }
   }
  },
  {
   "cell_type": "markdown",
   "source": [
    "# Step 4: Preventing Infections\n",
    "\n",
    "An agency that provides healthcare wants to predict which patients from a rare surgery are at risk of infection, so it can alert the nurses to be especially careful when following up with those patients.\n",
    "You want to build a model. Each row in the modeling dataset will be a single patient who received the surgery, and the prediction target will be whether they got an infection.\n",
    "Some surgeons may do the procedure in a manner that raises or lowers the risk of infection. But how can you best incorporate the surgeon information into the model?\n",
    "You have a clever idea.\n",
    "\n",
    "    1. Take all surgeries by each surgeon and calculate the infection rate among those surgeons.\n",
    "    2. For each patient in the data, find out who the surgeon was and plug in that surgeon's average infection rate as a feature.\n",
    "Does this pose any target leakage issues? Does it pose any train-test contamination issues?"
   ],
   "metadata": {
    "collapsed": false,
    "pycharm": {
     "name": "#%% md\n"
    }
   }
  },
  {
   "cell_type": "markdown",
   "source": [
    "# Step 5: Housing Prices\n",
    "\n",
    "You will build a model to predict housing prices. The model will be deployed on an ongoing basis, to predict the price of a new house when a description is added to a website. Here are four features that could be used as predictors.\n",
    "\n",
    "    1. Size of the house (in square meters)\n",
    "    2. Average sales price of homes in the same neighborhood\n",
    "    3. Latitude and longitude of the house\n",
    "    4. Whether the house has a basement\n",
    "\n",
    "You have historic data to train and validate the model.\n",
    "Which of the features is most likely to be a source of leakage?"
   ],
   "metadata": {
    "collapsed": false,
    "pycharm": {
     "name": "#%% md\n"
    }
   }
  }
 ],
 "metadata": {
  "kernelspec": {
   "display_name": "Python 3",
   "language": "python",
   "name": "python3"
  },
  "language_info": {
   "codemirror_mode": {
    "name": "ipython",
    "version": 2
   },
   "file_extension": ".py",
   "mimetype": "text/x-python",
   "name": "python",
   "nbconvert_exporter": "python",
   "pygments_lexer": "ipython2",
   "version": "2.7.6"
  }
 },
 "nbformat": 4,
 "nbformat_minor": 0
}