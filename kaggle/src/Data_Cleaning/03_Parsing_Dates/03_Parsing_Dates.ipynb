{
 "cells": [
  {
   "cell_type": "code",
   "execution_count": 1,
   "metadata": {
    "collapsed": true
   },
   "outputs": [],
   "source": [
    "import pandas as pd\n",
    "import numpy as np\n",
    "import seaborn as sns\n",
    "import datetime\n",
    "\n",
    "# read in our data\n",
    "earthquake = pd.read_csv('../../../datasets/Data_Cleaning/earthquake-database/database.csv')\n",
    "\n",
    "# set seed for reproducibility\n",
    "np.random.seed(0)"
   ]
  },
  {
   "cell_type": "code",
   "execution_count": 2,
   "outputs": [
    {
     "data": {
      "text/plain": "dtype('O')"
     },
     "execution_count": 2,
     "metadata": {},
     "output_type": "execute_result"
    }
   ],
   "source": [
    "earthquake.Date.dtype"
   ],
   "metadata": {
    "collapsed": false,
    "pycharm": {
     "name": "#%%\n"
    }
   }
  },
  {
   "cell_type": "code",
   "execution_count": 4,
   "outputs": [
    {
     "data": {
      "text/plain": "                          Date                      Time  Latitude  Longitude  \\\n3378  1975-02-23T02:58:41.000Z  1975-02-23T02:58:41.000Z     8.017    124.075   \n3379                02/23/1975                  03:53:36   -21.727    -71.356   \n3380                02/23/1975                  07:34:11   -10.879    166.667   \n3381                02/25/1975                  05:20:05    -7.388    149.798   \n3382                02/26/1975                  04:48:55    85.047     97.969   \n\n            Type  Depth  Depth Error  Depth Seismic Stations  Magnitude  \\\n3378  Earthquake  623.0          NaN                     NaN        5.6   \n3379  Earthquake   33.0          NaN                     NaN        5.6   \n3380  Earthquake   33.0          NaN                     NaN        5.5   \n3381  Earthquake   33.0          NaN                     NaN        5.5   \n3382  Earthquake   33.0          NaN                     NaN        5.6   \n\n     Magnitude Type  ...  Magnitude Seismic Stations  Azimuthal Gap  \\\n3378             MB  ...                         NaN            NaN   \n3379             MB  ...                         NaN            NaN   \n3380             MS  ...                         NaN            NaN   \n3381             MB  ...                         NaN            NaN   \n3382             MS  ...                         NaN            NaN   \n\n      Horizontal Distance  Horizontal Error  Root Mean Square          ID  \\\n3378                  NaN               NaN               NaN  USP0000A09   \n3379                  NaN               NaN               NaN  USP0000A0A   \n3380                  NaN               NaN               NaN  USP0000A0C   \n3381                  NaN               NaN               NaN  USP0000A12   \n3382                  NaN               NaN               NaN  USP0000A1H   \n\n     Source Location Source Magnitude Source    Status  \n3378     US              US               US  Reviewed  \n3379     US              US               US  Reviewed  \n3380     US              US               US  Reviewed  \n3381     US              US               US  Reviewed  \n3382     US              US               US  Reviewed  \n\n[5 rows x 21 columns]",
      "text/html": "<div>\n<style scoped>\n    .dataframe tbody tr th:only-of-type {\n        vertical-align: middle;\n    }\n\n    .dataframe tbody tr th {\n        vertical-align: top;\n    }\n\n    .dataframe thead th {\n        text-align: right;\n    }\n</style>\n<table border=\"1\" class=\"dataframe\">\n  <thead>\n    <tr style=\"text-align: right;\">\n      <th></th>\n      <th>Date</th>\n      <th>Time</th>\n      <th>Latitude</th>\n      <th>Longitude</th>\n      <th>Type</th>\n      <th>Depth</th>\n      <th>Depth Error</th>\n      <th>Depth Seismic Stations</th>\n      <th>Magnitude</th>\n      <th>Magnitude Type</th>\n      <th>...</th>\n      <th>Magnitude Seismic Stations</th>\n      <th>Azimuthal Gap</th>\n      <th>Horizontal Distance</th>\n      <th>Horizontal Error</th>\n      <th>Root Mean Square</th>\n      <th>ID</th>\n      <th>Source</th>\n      <th>Location Source</th>\n      <th>Magnitude Source</th>\n      <th>Status</th>\n    </tr>\n  </thead>\n  <tbody>\n    <tr>\n      <th>3378</th>\n      <td>1975-02-23T02:58:41.000Z</td>\n      <td>1975-02-23T02:58:41.000Z</td>\n      <td>8.017</td>\n      <td>124.075</td>\n      <td>Earthquake</td>\n      <td>623.0</td>\n      <td>NaN</td>\n      <td>NaN</td>\n      <td>5.6</td>\n      <td>MB</td>\n      <td>...</td>\n      <td>NaN</td>\n      <td>NaN</td>\n      <td>NaN</td>\n      <td>NaN</td>\n      <td>NaN</td>\n      <td>USP0000A09</td>\n      <td>US</td>\n      <td>US</td>\n      <td>US</td>\n      <td>Reviewed</td>\n    </tr>\n    <tr>\n      <th>3379</th>\n      <td>02/23/1975</td>\n      <td>03:53:36</td>\n      <td>-21.727</td>\n      <td>-71.356</td>\n      <td>Earthquake</td>\n      <td>33.0</td>\n      <td>NaN</td>\n      <td>NaN</td>\n      <td>5.6</td>\n      <td>MB</td>\n      <td>...</td>\n      <td>NaN</td>\n      <td>NaN</td>\n      <td>NaN</td>\n      <td>NaN</td>\n      <td>NaN</td>\n      <td>USP0000A0A</td>\n      <td>US</td>\n      <td>US</td>\n      <td>US</td>\n      <td>Reviewed</td>\n    </tr>\n    <tr>\n      <th>3380</th>\n      <td>02/23/1975</td>\n      <td>07:34:11</td>\n      <td>-10.879</td>\n      <td>166.667</td>\n      <td>Earthquake</td>\n      <td>33.0</td>\n      <td>NaN</td>\n      <td>NaN</td>\n      <td>5.5</td>\n      <td>MS</td>\n      <td>...</td>\n      <td>NaN</td>\n      <td>NaN</td>\n      <td>NaN</td>\n      <td>NaN</td>\n      <td>NaN</td>\n      <td>USP0000A0C</td>\n      <td>US</td>\n      <td>US</td>\n      <td>US</td>\n      <td>Reviewed</td>\n    </tr>\n    <tr>\n      <th>3381</th>\n      <td>02/25/1975</td>\n      <td>05:20:05</td>\n      <td>-7.388</td>\n      <td>149.798</td>\n      <td>Earthquake</td>\n      <td>33.0</td>\n      <td>NaN</td>\n      <td>NaN</td>\n      <td>5.5</td>\n      <td>MB</td>\n      <td>...</td>\n      <td>NaN</td>\n      <td>NaN</td>\n      <td>NaN</td>\n      <td>NaN</td>\n      <td>NaN</td>\n      <td>USP0000A12</td>\n      <td>US</td>\n      <td>US</td>\n      <td>US</td>\n      <td>Reviewed</td>\n    </tr>\n    <tr>\n      <th>3382</th>\n      <td>02/26/1975</td>\n      <td>04:48:55</td>\n      <td>85.047</td>\n      <td>97.969</td>\n      <td>Earthquake</td>\n      <td>33.0</td>\n      <td>NaN</td>\n      <td>NaN</td>\n      <td>5.6</td>\n      <td>MS</td>\n      <td>...</td>\n      <td>NaN</td>\n      <td>NaN</td>\n      <td>NaN</td>\n      <td>NaN</td>\n      <td>NaN</td>\n      <td>USP0000A1H</td>\n      <td>US</td>\n      <td>US</td>\n      <td>US</td>\n      <td>Reviewed</td>\n    </tr>\n  </tbody>\n</table>\n<p>5 rows × 21 columns</p>\n</div>"
     },
     "execution_count": 4,
     "metadata": {},
     "output_type": "execute_result"
    }
   ],
   "source": [
    "# Most of the entries in the 'Data' column follow the same format:\n",
    "# \"month/day/four-digit yera\". However, the entry at index 3378 follows\n",
    "# a completely different pattern.\n",
    "earthquake[3378:3383]"
   ],
   "metadata": {
    "collapsed": false,
    "pycharm": {
     "name": "#%%\n"
    }
   }
  },
  {
   "cell_type": "code",
   "execution_count": 6,
   "outputs": [
    {
     "data": {
      "text/plain": "0        10\n1        10\n2        10\n3        10\n4        10\n         ..\n23407    10\n23408    10\n23409    10\n23410    10\n23411    10\nName: Date, Length: 23412, dtype: int64"
     },
     "execution_count": 6,
     "metadata": {},
     "output_type": "execute_result"
    }
   ],
   "source": [
    "# This does appear to be an issue with data entry: ideally, all entries in\n",
    "# the column have the same format. We can get an idea of how widespread this\n",
    "# issue is by checking the length of each entry in \"Date\" column.\n",
    "date_lengths = earthquake.Date.str.len()\n",
    "date_lengths"
   ],
   "metadata": {
    "collapsed": false,
    "pycharm": {
     "name": "#%%\n"
    }
   }
  },
  {
   "cell_type": "code",
   "execution_count": 7,
   "outputs": [
    {
     "data": {
      "text/plain": "10    23409\n24        3\nName: Date, dtype: int64"
     },
     "execution_count": 7,
     "metadata": {},
     "output_type": "execute_result"
    }
   ],
   "source": [
    "date_lengths.value_counts()"
   ],
   "metadata": {
    "collapsed": false,
    "pycharm": {
     "name": "#%%\n"
    }
   }
  },
  {
   "cell_type": "code",
   "execution_count": 11,
   "outputs": [
    {
     "name": "stdout",
     "output_type": "stream",
     "text": [
      "Indices with corrupted data: [ 3378  7512 20650]\n"
     ]
    },
    {
     "data": {
      "text/plain": "                           Date                      Time  Latitude  \\\n3378   1975-02-23T02:58:41.000Z  1975-02-23T02:58:41.000Z     8.017   \n7512   1985-04-28T02:53:41.530Z  1985-04-28T02:53:41.530Z   -32.998   \n20650  2011-03-13T02:23:34.520Z  2011-03-13T02:23:34.520Z    36.344   \n\n       Longitude        Type  Depth  Depth Error  Depth Seismic Stations  \\\n3378     124.075  Earthquake  623.0          NaN                     NaN   \n7512     -71.766  Earthquake   33.0          NaN                     NaN   \n20650    142.344  Earthquake   10.1         13.9                   289.0   \n\n       Magnitude Magnitude Type  ...  Magnitude Seismic Stations  \\\n3378         5.6             MB  ...                         NaN   \n7512         5.6             MW  ...                         NaN   \n20650        5.8            MWC  ...                         NaN   \n\n       Azimuthal Gap  Horizontal Distance  Horizontal Error  Root Mean Square  \\\n3378             NaN                  NaN               NaN               NaN   \n7512             NaN                  NaN               NaN              1.30   \n20650           32.3                  NaN               NaN              1.06   \n\n               ID Source Location Source Magnitude Source    Status  \n3378   USP0000A09     US              US               US  Reviewed  \n7512   USP0002E81     US              US              HRV  Reviewed  \n20650  USP000HWQP     US              US             GCMT  Reviewed  \n\n[3 rows x 21 columns]",
      "text/html": "<div>\n<style scoped>\n    .dataframe tbody tr th:only-of-type {\n        vertical-align: middle;\n    }\n\n    .dataframe tbody tr th {\n        vertical-align: top;\n    }\n\n    .dataframe thead th {\n        text-align: right;\n    }\n</style>\n<table border=\"1\" class=\"dataframe\">\n  <thead>\n    <tr style=\"text-align: right;\">\n      <th></th>\n      <th>Date</th>\n      <th>Time</th>\n      <th>Latitude</th>\n      <th>Longitude</th>\n      <th>Type</th>\n      <th>Depth</th>\n      <th>Depth Error</th>\n      <th>Depth Seismic Stations</th>\n      <th>Magnitude</th>\n      <th>Magnitude Type</th>\n      <th>...</th>\n      <th>Magnitude Seismic Stations</th>\n      <th>Azimuthal Gap</th>\n      <th>Horizontal Distance</th>\n      <th>Horizontal Error</th>\n      <th>Root Mean Square</th>\n      <th>ID</th>\n      <th>Source</th>\n      <th>Location Source</th>\n      <th>Magnitude Source</th>\n      <th>Status</th>\n    </tr>\n  </thead>\n  <tbody>\n    <tr>\n      <th>3378</th>\n      <td>1975-02-23T02:58:41.000Z</td>\n      <td>1975-02-23T02:58:41.000Z</td>\n      <td>8.017</td>\n      <td>124.075</td>\n      <td>Earthquake</td>\n      <td>623.0</td>\n      <td>NaN</td>\n      <td>NaN</td>\n      <td>5.6</td>\n      <td>MB</td>\n      <td>...</td>\n      <td>NaN</td>\n      <td>NaN</td>\n      <td>NaN</td>\n      <td>NaN</td>\n      <td>NaN</td>\n      <td>USP0000A09</td>\n      <td>US</td>\n      <td>US</td>\n      <td>US</td>\n      <td>Reviewed</td>\n    </tr>\n    <tr>\n      <th>7512</th>\n      <td>1985-04-28T02:53:41.530Z</td>\n      <td>1985-04-28T02:53:41.530Z</td>\n      <td>-32.998</td>\n      <td>-71.766</td>\n      <td>Earthquake</td>\n      <td>33.0</td>\n      <td>NaN</td>\n      <td>NaN</td>\n      <td>5.6</td>\n      <td>MW</td>\n      <td>...</td>\n      <td>NaN</td>\n      <td>NaN</td>\n      <td>NaN</td>\n      <td>NaN</td>\n      <td>1.30</td>\n      <td>USP0002E81</td>\n      <td>US</td>\n      <td>US</td>\n      <td>HRV</td>\n      <td>Reviewed</td>\n    </tr>\n    <tr>\n      <th>20650</th>\n      <td>2011-03-13T02:23:34.520Z</td>\n      <td>2011-03-13T02:23:34.520Z</td>\n      <td>36.344</td>\n      <td>142.344</td>\n      <td>Earthquake</td>\n      <td>10.1</td>\n      <td>13.9</td>\n      <td>289.0</td>\n      <td>5.8</td>\n      <td>MWC</td>\n      <td>...</td>\n      <td>NaN</td>\n      <td>32.3</td>\n      <td>NaN</td>\n      <td>NaN</td>\n      <td>1.06</td>\n      <td>USP000HWQP</td>\n      <td>US</td>\n      <td>US</td>\n      <td>GCMT</td>\n      <td>Reviewed</td>\n    </tr>\n  </tbody>\n</table>\n<p>3 rows × 21 columns</p>\n</div>"
     },
     "execution_count": 11,
     "metadata": {},
     "output_type": "execute_result"
    }
   ],
   "source": [
    "indices = np.where([date_lengths == 24])[1]\n",
    "print('Indices with corrupted data:', indices)\n",
    "earthquake.loc[indices]\n"
   ],
   "metadata": {
    "collapsed": false,
    "pycharm": {
     "name": "#%%\n"
    }
   }
  },
  {
   "cell_type": "code",
   "execution_count": 12,
   "outputs": [],
   "source": [
    "earthquake.loc[3378, \"Date\"] = \"02/23/1975\"\n",
    "earthquake.loc[7512, \"Date\"] = \"04/28/1985\"\n",
    "earthquake.loc[20650, \"Date\"] = \"03/13/2011\"\n",
    "earthquake['date_parsed'] = pd.to_datetime(earthquake['Date'], format=\"%m/%d/%Y\")"
   ],
   "metadata": {
    "collapsed": false,
    "pycharm": {
     "name": "#%%\n"
    }
   }
  },
  {
   "cell_type": "code",
   "execution_count": 13,
   "outputs": [
    {
     "data": {
      "text/plain": "0       1965-01-02\n1       1965-01-04\n2       1965-01-05\n3       1965-01-08\n4       1965-01-09\n           ...    \n23407   2016-12-28\n23408   2016-12-28\n23409   2016-12-28\n23410   2016-12-29\n23411   2016-12-30\nName: date_parsed, Length: 23412, dtype: datetime64[ns]"
     },
     "execution_count": 13,
     "metadata": {},
     "output_type": "execute_result"
    }
   ],
   "source": [
    "earthquake['date_parsed']"
   ],
   "metadata": {
    "collapsed": false,
    "pycharm": {
     "name": "#%%\n"
    }
   }
  },
  {
   "cell_type": "code",
   "execution_count": 14,
   "outputs": [
    {
     "data": {
      "text/plain": "0         2\n1         4\n2         5\n3         8\n4         9\n         ..\n23407    28\n23408    28\n23409    28\n23410    29\n23411    30\nName: date_parsed, Length: 23412, dtype: int64"
     },
     "execution_count": 14,
     "metadata": {},
     "output_type": "execute_result"
    }
   ],
   "source": [
    "day_of_month_earthquakes = earthquake['date_parsed'].dt.day\n",
    "day_of_month_earthquakes"
   ],
   "metadata": {
    "collapsed": false,
    "pycharm": {
     "name": "#%%\n"
    }
   }
  },
  {
   "cell_type": "code",
   "execution_count": null,
   "outputs": [],
   "source": [],
   "metadata": {
    "collapsed": false,
    "pycharm": {
     "name": "#%%\n"
    }
   }
  }
 ],
 "metadata": {
  "kernelspec": {
   "display_name": "Python 3",
   "language": "python",
   "name": "python3"
  },
  "language_info": {
   "codemirror_mode": {
    "name": "ipython",
    "version": 2
   },
   "file_extension": ".py",
   "mimetype": "text/x-python",
   "name": "python",
   "nbconvert_exporter": "python",
   "pygments_lexer": "ipython2",
   "version": "2.7.6"
  }
 },
 "nbformat": 4,
 "nbformat_minor": 0
}