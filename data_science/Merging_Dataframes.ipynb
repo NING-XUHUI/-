{
 "cells": [
  {
   "cell_type": "code",
   "execution_count": 1,
   "metadata": {
    "collapsed": true,
    "pycharm": {
     "is_executing": false
    }
   },
   "outputs": [],
   "source": [
    "import pandas as pd"
   ]
  },
  {
   "cell_type": "code",
   "execution_count": 2,
   "outputs": [
    {
     "data": {
      "text/plain": "          Name Item Purchased  Cost\nStore 1  Chris         Sponge  22.5\nStore 1  Kevyn   Kitty Litter   2.5\nStore 2  Filip          Spoon   5.0",
      "text/html": "<div>\n<style scoped>\n    .dataframe tbody tr th:only-of-type {\n        vertical-align: middle;\n    }\n\n    .dataframe tbody tr th {\n        vertical-align: top;\n    }\n\n    .dataframe thead th {\n        text-align: right;\n    }\n</style>\n<table border=\"1\" class=\"dataframe\">\n  <thead>\n    <tr style=\"text-align: right;\">\n      <th></th>\n      <th>Name</th>\n      <th>Item Purchased</th>\n      <th>Cost</th>\n    </tr>\n  </thead>\n  <tbody>\n    <tr>\n      <th>Store 1</th>\n      <td>Chris</td>\n      <td>Sponge</td>\n      <td>22.5</td>\n    </tr>\n    <tr>\n      <th>Store 1</th>\n      <td>Kevyn</td>\n      <td>Kitty Litter</td>\n      <td>2.5</td>\n    </tr>\n    <tr>\n      <th>Store 2</th>\n      <td>Filip</td>\n      <td>Spoon</td>\n      <td>5.0</td>\n    </tr>\n  </tbody>\n</table>\n</div>"
     },
     "metadata": {},
     "output_type": "execute_result",
     "execution_count": 2
    }
   ],
   "source": [
    "df = pd.DataFrame([{'Name':'Chris','Item Purchased':'Sponge','Cost':22.50},\n",
    "                   {'Name':'Kevyn','Item Purchased':'Kitty Litter','Cost':2.50},\n",
    "                   {'Name':'Filip','Item Purchased':'Spoon','Cost':5.00}],\n",
    "                  index = ['Store 1','Store 1','Store 2'])\n",
    "df"
   ],
   "metadata": {
    "collapsed": false,
    "pycharm": {
     "name": "#%%\n",
     "is_executing": false
    }
   }
  },
  {
   "cell_type": "code",
   "execution_count": 3,
   "outputs": [
    {
     "data": {
      "text/plain": "          Name Item Purchased  Cost        Date\nStore 1  Chris         Sponge  22.5  December 1\nStore 1  Kevyn   Kitty Litter   2.5   January 1\nStore 2  Filip          Spoon   5.0     mid-day",
      "text/html": "<div>\n<style scoped>\n    .dataframe tbody tr th:only-of-type {\n        vertical-align: middle;\n    }\n\n    .dataframe tbody tr th {\n        vertical-align: top;\n    }\n\n    .dataframe thead th {\n        text-align: right;\n    }\n</style>\n<table border=\"1\" class=\"dataframe\">\n  <thead>\n    <tr style=\"text-align: right;\">\n      <th></th>\n      <th>Name</th>\n      <th>Item Purchased</th>\n      <th>Cost</th>\n      <th>Date</th>\n    </tr>\n  </thead>\n  <tbody>\n    <tr>\n      <th>Store 1</th>\n      <td>Chris</td>\n      <td>Sponge</td>\n      <td>22.5</td>\n      <td>December 1</td>\n    </tr>\n    <tr>\n      <th>Store 1</th>\n      <td>Kevyn</td>\n      <td>Kitty Litter</td>\n      <td>2.5</td>\n      <td>January 1</td>\n    </tr>\n    <tr>\n      <th>Store 2</th>\n      <td>Filip</td>\n      <td>Spoon</td>\n      <td>5.0</td>\n      <td>mid-day</td>\n    </tr>\n  </tbody>\n</table>\n</div>"
     },
     "metadata": {},
     "output_type": "execute_result",
     "execution_count": 3
    }
   ],
   "source": [
    "df['Date'] = ['December 1','January 1','mid-day']\n",
    "df"
   ],
   "metadata": {
    "collapsed": false,
    "pycharm": {
     "name": "#%%\n",
     "is_executing": false
    }
   }
  },
  {
   "cell_type": "code",
   "execution_count": 4,
   "outputs": [
    {
     "data": {
      "text/plain": "          Name Item Purchased  Cost        Date  Delivered\nStore 1  Chris         Sponge  22.5  December 1       True\nStore 1  Kevyn   Kitty Litter   2.5   January 1       True\nStore 2  Filip          Spoon   5.0     mid-day       True",
      "text/html": "<div>\n<style scoped>\n    .dataframe tbody tr th:only-of-type {\n        vertical-align: middle;\n    }\n\n    .dataframe tbody tr th {\n        vertical-align: top;\n    }\n\n    .dataframe thead th {\n        text-align: right;\n    }\n</style>\n<table border=\"1\" class=\"dataframe\">\n  <thead>\n    <tr style=\"text-align: right;\">\n      <th></th>\n      <th>Name</th>\n      <th>Item Purchased</th>\n      <th>Cost</th>\n      <th>Date</th>\n      <th>Delivered</th>\n    </tr>\n  </thead>\n  <tbody>\n    <tr>\n      <th>Store 1</th>\n      <td>Chris</td>\n      <td>Sponge</td>\n      <td>22.5</td>\n      <td>December 1</td>\n      <td>True</td>\n    </tr>\n    <tr>\n      <th>Store 1</th>\n      <td>Kevyn</td>\n      <td>Kitty Litter</td>\n      <td>2.5</td>\n      <td>January 1</td>\n      <td>True</td>\n    </tr>\n    <tr>\n      <th>Store 2</th>\n      <td>Filip</td>\n      <td>Spoon</td>\n      <td>5.0</td>\n      <td>mid-day</td>\n      <td>True</td>\n    </tr>\n  </tbody>\n</table>\n</div>"
     },
     "metadata": {},
     "output_type": "execute_result",
     "execution_count": 4
    }
   ],
   "source": [
    "df['Delivered'] = True\n",
    "df\n"
   ],
   "metadata": {
    "collapsed": false,
    "pycharm": {
     "name": "#%%\n",
     "is_executing": false
    }
   }
  },
  {
   "cell_type": "code",
   "execution_count": 5,
   "outputs": [
    {
     "data": {
      "text/plain": "          Name Item Purchased  Cost        Date  Delivered  feedback\nStore 1  Chris         Sponge  22.5  December 1       True  Positive\nStore 1  Kevyn   Kitty Litter   2.5   January 1       True      None\nStore 2  Filip          Spoon   5.0     mid-day       True  Negative",
      "text/html": "<div>\n<style scoped>\n    .dataframe tbody tr th:only-of-type {\n        vertical-align: middle;\n    }\n\n    .dataframe tbody tr th {\n        vertical-align: top;\n    }\n\n    .dataframe thead th {\n        text-align: right;\n    }\n</style>\n<table border=\"1\" class=\"dataframe\">\n  <thead>\n    <tr style=\"text-align: right;\">\n      <th></th>\n      <th>Name</th>\n      <th>Item Purchased</th>\n      <th>Cost</th>\n      <th>Date</th>\n      <th>Delivered</th>\n      <th>feedback</th>\n    </tr>\n  </thead>\n  <tbody>\n    <tr>\n      <th>Store 1</th>\n      <td>Chris</td>\n      <td>Sponge</td>\n      <td>22.5</td>\n      <td>December 1</td>\n      <td>True</td>\n      <td>Positive</td>\n    </tr>\n    <tr>\n      <th>Store 1</th>\n      <td>Kevyn</td>\n      <td>Kitty Litter</td>\n      <td>2.5</td>\n      <td>January 1</td>\n      <td>True</td>\n      <td>None</td>\n    </tr>\n    <tr>\n      <th>Store 2</th>\n      <td>Filip</td>\n      <td>Spoon</td>\n      <td>5.0</td>\n      <td>mid-day</td>\n      <td>True</td>\n      <td>Negative</td>\n    </tr>\n  </tbody>\n</table>\n</div>"
     },
     "metadata": {},
     "output_type": "execute_result",
     "execution_count": 5
    }
   ],
   "source": [
    "df['feedback'] = ['Positive',None,'Negative']\n",
    "df"
   ],
   "metadata": {
    "collapsed": false,
    "pycharm": {
     "name": "#%%\n",
     "is_executing": false
    }
   }
  },
  {
   "cell_type": "code",
   "execution_count": 6,
   "outputs": [
    {
     "data": {
      "text/plain": "     index   Name Item Purchased  Cost        Date  Delivered  feedback\n0  Store 1  Chris         Sponge  22.5  December 1       True  Positive\n1  Store 1  Kevyn   Kitty Litter   2.5         NaN       True      None\n2  Store 2  Filip          Spoon   5.0     mid-day       True  Negative",
      "text/html": "<div>\n<style scoped>\n    .dataframe tbody tr th:only-of-type {\n        vertical-align: middle;\n    }\n\n    .dataframe tbody tr th {\n        vertical-align: top;\n    }\n\n    .dataframe thead th {\n        text-align: right;\n    }\n</style>\n<table border=\"1\" class=\"dataframe\">\n  <thead>\n    <tr style=\"text-align: right;\">\n      <th></th>\n      <th>index</th>\n      <th>Name</th>\n      <th>Item Purchased</th>\n      <th>Cost</th>\n      <th>Date</th>\n      <th>Delivered</th>\n      <th>feedback</th>\n    </tr>\n  </thead>\n  <tbody>\n    <tr>\n      <th>0</th>\n      <td>Store 1</td>\n      <td>Chris</td>\n      <td>Sponge</td>\n      <td>22.5</td>\n      <td>December 1</td>\n      <td>True</td>\n      <td>Positive</td>\n    </tr>\n    <tr>\n      <th>1</th>\n      <td>Store 1</td>\n      <td>Kevyn</td>\n      <td>Kitty Litter</td>\n      <td>2.5</td>\n      <td>NaN</td>\n      <td>True</td>\n      <td>None</td>\n    </tr>\n    <tr>\n      <th>2</th>\n      <td>Store 2</td>\n      <td>Filip</td>\n      <td>Spoon</td>\n      <td>5.0</td>\n      <td>mid-day</td>\n      <td>True</td>\n      <td>Negative</td>\n    </tr>\n  </tbody>\n</table>\n</div>"
     },
     "metadata": {},
     "output_type": "execute_result",
     "execution_count": 6
    }
   ],
   "source": [
    "adf = df.reset_index()\n",
    "adf['Date'] = pd.Series({0:'December 1',2:'mid-day'})\n",
    "adf"
   ],
   "metadata": {
    "collapsed": false,
    "pycharm": {
     "name": "#%%\n",
     "is_executing": false
    }
   }
  },
  {
   "cell_type": "code",
   "execution_count": 7,
   "outputs": [
    {
     "name": "stdout",
     "text": [
      "                 Role\n",
      "Name                 \n",
      "Kelly  Director of HR\n",
      "Sally  Course liaison\n",
      "James          Grader\n",
      "\n",
      "            School\n",
      "Name              \n",
      "James     Business\n",
      "Mike           Law\n",
      "Sally  Engineering\n"
     ],
     "output_type": "stream"
    }
   ],
   "source": [
    "staff_df = pd.DataFrame([{'Name':'Kelly','Role':'Director of HR'},\n",
    "                         {'Name':'Sally','Role':'Course liaison'},\n",
    "                         {'Name':'James','Role':'Grader'}])\n",
    "staff_df = staff_df.set_index('Name')\n",
    "student_df = pd.DataFrame([{'Name':'James','School':'Business'},\n",
    "                           {'Name':'Mike','School':'Law'},\n",
    "                           {'Name':'Sally','School':'Engineering'}])\n",
    "student_df = student_df.set_index('Name')\n",
    "\n",
    "print(staff_df)\n",
    "print()\n",
    "print(student_df)"
   ],
   "metadata": {
    "collapsed": false,
    "pycharm": {
     "name": "#%%\n",
     "is_executing": false
    }
   }
  },
  {
   "cell_type": "code",
   "execution_count": 8,
   "outputs": [
    {
     "data": {
      "text/plain": "                 Role       School\nName                              \nJames          Grader     Business\nKelly  Director of HR          NaN\nMike              NaN          Law\nSally  Course liaison  Engineering",
      "text/html": "<div>\n<style scoped>\n    .dataframe tbody tr th:only-of-type {\n        vertical-align: middle;\n    }\n\n    .dataframe tbody tr th {\n        vertical-align: top;\n    }\n\n    .dataframe thead th {\n        text-align: right;\n    }\n</style>\n<table border=\"1\" class=\"dataframe\">\n  <thead>\n    <tr style=\"text-align: right;\">\n      <th></th>\n      <th>Role</th>\n      <th>School</th>\n    </tr>\n    <tr>\n      <th>Name</th>\n      <th></th>\n      <th></th>\n    </tr>\n  </thead>\n  <tbody>\n    <tr>\n      <th>James</th>\n      <td>Grader</td>\n      <td>Business</td>\n    </tr>\n    <tr>\n      <th>Kelly</th>\n      <td>Director of HR</td>\n      <td>NaN</td>\n    </tr>\n    <tr>\n      <th>Mike</th>\n      <td>NaN</td>\n      <td>Law</td>\n    </tr>\n    <tr>\n      <th>Sally</th>\n      <td>Course liaison</td>\n      <td>Engineering</td>\n    </tr>\n  </tbody>\n</table>\n</div>"
     },
     "metadata": {},
     "output_type": "execute_result",
     "execution_count": 8
    }
   ],
   "source": [
    "pd.merge(staff_df,student_df,how='outer',left_index=True,right_index=True)\n"
   ],
   "metadata": {
    "collapsed": false,
    "pycharm": {
     "name": "#%%\n",
     "is_executing": false
    }
   }
  },
  {
   "cell_type": "code",
   "execution_count": 9,
   "outputs": [
    {
     "data": {
      "text/plain": "                 Role       School\nName                              \nSally  Course liaison  Engineering\nJames          Grader     Business",
      "text/html": "<div>\n<style scoped>\n    .dataframe tbody tr th:only-of-type {\n        vertical-align: middle;\n    }\n\n    .dataframe tbody tr th {\n        vertical-align: top;\n    }\n\n    .dataframe thead th {\n        text-align: right;\n    }\n</style>\n<table border=\"1\" class=\"dataframe\">\n  <thead>\n    <tr style=\"text-align: right;\">\n      <th></th>\n      <th>Role</th>\n      <th>School</th>\n    </tr>\n    <tr>\n      <th>Name</th>\n      <th></th>\n      <th></th>\n    </tr>\n  </thead>\n  <tbody>\n    <tr>\n      <th>Sally</th>\n      <td>Course liaison</td>\n      <td>Engineering</td>\n    </tr>\n    <tr>\n      <th>James</th>\n      <td>Grader</td>\n      <td>Business</td>\n    </tr>\n  </tbody>\n</table>\n</div>"
     },
     "metadata": {},
     "output_type": "execute_result",
     "execution_count": 9
    }
   ],
   "source": [
    "pd.merge(staff_df,student_df,how='inner',left_index=True,right_index=True)\n"
   ],
   "metadata": {
    "collapsed": false,
    "pycharm": {
     "name": "#%%\n",
     "is_executing": false
    }
   }
  },
  {
   "cell_type": "code",
   "execution_count": 10,
   "outputs": [
    {
     "data": {
      "text/plain": "                 Role       School\nName                              \nJames          Grader     Business\nMike              NaN          Law\nSally  Course liaison  Engineering",
      "text/html": "<div>\n<style scoped>\n    .dataframe tbody tr th:only-of-type {\n        vertical-align: middle;\n    }\n\n    .dataframe tbody tr th {\n        vertical-align: top;\n    }\n\n    .dataframe thead th {\n        text-align: right;\n    }\n</style>\n<table border=\"1\" class=\"dataframe\">\n  <thead>\n    <tr style=\"text-align: right;\">\n      <th></th>\n      <th>Role</th>\n      <th>School</th>\n    </tr>\n    <tr>\n      <th>Name</th>\n      <th></th>\n      <th></th>\n    </tr>\n  </thead>\n  <tbody>\n    <tr>\n      <th>James</th>\n      <td>Grader</td>\n      <td>Business</td>\n    </tr>\n    <tr>\n      <th>Mike</th>\n      <td>NaN</td>\n      <td>Law</td>\n    </tr>\n    <tr>\n      <th>Sally</th>\n      <td>Course liaison</td>\n      <td>Engineering</td>\n    </tr>\n  </tbody>\n</table>\n</div>"
     },
     "metadata": {},
     "output_type": "execute_result",
     "execution_count": 10
    }
   ],
   "source": [
    "pd.merge(staff_df,student_df,how='right',left_index=True,right_index=True)"
   ],
   "metadata": {
    "collapsed": false,
    "pycharm": {
     "name": "#%%\n",
     "is_executing": false
    }
   }
  },
  {
   "cell_type": "code",
   "execution_count": 11,
   "outputs": [
    {
     "data": {
      "text/plain": "                 Role       School\nName                              \nKelly  Director of HR          NaN\nSally  Course liaison  Engineering\nJames          Grader     Business",
      "text/html": "<div>\n<style scoped>\n    .dataframe tbody tr th:only-of-type {\n        vertical-align: middle;\n    }\n\n    .dataframe tbody tr th {\n        vertical-align: top;\n    }\n\n    .dataframe thead th {\n        text-align: right;\n    }\n</style>\n<table border=\"1\" class=\"dataframe\">\n  <thead>\n    <tr style=\"text-align: right;\">\n      <th></th>\n      <th>Role</th>\n      <th>School</th>\n    </tr>\n    <tr>\n      <th>Name</th>\n      <th></th>\n      <th></th>\n    </tr>\n  </thead>\n  <tbody>\n    <tr>\n      <th>Kelly</th>\n      <td>Director of HR</td>\n      <td>NaN</td>\n    </tr>\n    <tr>\n      <th>Sally</th>\n      <td>Course liaison</td>\n      <td>Engineering</td>\n    </tr>\n    <tr>\n      <th>James</th>\n      <td>Grader</td>\n      <td>Business</td>\n    </tr>\n  </tbody>\n</table>\n</div>"
     },
     "metadata": {},
     "output_type": "execute_result",
     "execution_count": 11
    }
   ],
   "source": [
    "pd.merge(staff_df,student_df,how='left',left_index=True,right_index=True)"
   ],
   "metadata": {
    "collapsed": false,
    "pycharm": {
     "name": "#%%\n",
     "is_executing": false
    }
   }
  },
  {
   "cell_type": "code",
   "execution_count": 12,
   "outputs": [
    {
     "data": {
      "text/plain": "      SUMLEV  REGION  DIVISION  STATE  COUNTY   STNAME            CTYNAME  \\\n0         40       3         6      1       0  Alabama            Alabama   \n1         50       3         6      1       1  Alabama     Autauga County   \n2         50       3         6      1       3  Alabama     Baldwin County   \n3         50       3         6      1       5  Alabama     Barbour County   \n4         50       3         6      1       7  Alabama        Bibb County   \n...      ...     ...       ...    ...     ...      ...                ...   \n3188      50       4         8     56      37  Wyoming  Sweetwater County   \n3189      50       4         8     56      39  Wyoming       Teton County   \n3190      50       4         8     56      41  Wyoming       Uinta County   \n3191      50       4         8     56      43  Wyoming    Washakie County   \n3192      50       4         8     56      45  Wyoming      Weston County   \n\n      CENSUS2010POP  ESTIMATESBASE2010  POPESTIMATE2010  ...  \\\n0           4779736            4780127          4785161  ...   \n1             54571              54571            54660  ...   \n2            182265             182265           183193  ...   \n3             27457              27457            27341  ...   \n4             22915              22919            22861  ...   \n...             ...                ...              ...  ...   \n3188          43806              43806            43593  ...   \n3189          21294              21294            21297  ...   \n3190          21118              21118            21102  ...   \n3191           8533               8533             8545  ...   \n3192           7208               7208             7181  ...   \n\n      RDOMESTICMIG2011  RDOMESTICMIG2012  RDOMESTICMIG2013  RDOMESTICMIG2014  \\\n0             0.002295         -0.193196          0.381066          0.582002   \n1             7.242091         -2.915927         -3.012349          2.265971   \n2            14.832960         17.647293         21.845705         19.243287   \n3            -4.728132         -2.500690         -7.056824         -3.904217   \n4            -5.527043         -5.068871         -6.201001         -0.177537   \n...                ...               ...               ...               ...   \n3188          1.072643         16.243199         -5.339774        -14.252889   \n3189         -1.589565          0.972695         19.525929         14.143021   \n3190        -17.755986         -4.916350         -6.902954        -14.215862   \n3191        -11.637475         -0.827815         -2.013502        -17.781491   \n3192        -11.752361         -8.040059         12.372583          1.533635   \n\n      RDOMESTICMIG2015  RNETMIG2011  RNETMIG2012  RNETMIG2013  RNETMIG2014  \\\n0            -0.467369     1.030015     0.826644     1.383282     1.724718   \n1            -2.530799     7.606016    -2.626146    -2.722002     2.592270   \n2            17.197872    15.844176    18.559627    22.727626    20.317142   \n3           -10.543299    -4.874741    -2.758113    -7.167664    -3.978583   \n4             0.177258    -5.088389    -4.363636    -5.403729     0.754533   \n...                ...          ...          ...          ...          ...   \n3188        -14.248864     1.255221    16.243199    -5.295460   -14.075283   \n3189         -0.564849     0.654527     2.408578    21.160658    16.308671   \n3190        -12.127022   -18.136812    -5.536861    -7.521840   -14.740608   \n3191          1.682288   -11.990126    -1.182592    -2.250385   -18.020168   \n3192          6.935294   -12.032179    -8.040059    12.372583     1.533635   \n\n      RNETMIG2015  \n0        0.712594  \n1       -2.187333  \n2       18.293499  \n3      -10.543299  \n4        1.107861  \n...           ...  \n3188   -14.070195  \n3189     1.520747  \n3190   -12.606351  \n3191     1.441961  \n3192     6.935294  \n\n[3193 rows x 100 columns]",
      "text/html": "<div>\n<style scoped>\n    .dataframe tbody tr th:only-of-type {\n        vertical-align: middle;\n    }\n\n    .dataframe tbody tr th {\n        vertical-align: top;\n    }\n\n    .dataframe thead th {\n        text-align: right;\n    }\n</style>\n<table border=\"1\" class=\"dataframe\">\n  <thead>\n    <tr style=\"text-align: right;\">\n      <th></th>\n      <th>SUMLEV</th>\n      <th>REGION</th>\n      <th>DIVISION</th>\n      <th>STATE</th>\n      <th>COUNTY</th>\n      <th>STNAME</th>\n      <th>CTYNAME</th>\n      <th>CENSUS2010POP</th>\n      <th>ESTIMATESBASE2010</th>\n      <th>POPESTIMATE2010</th>\n      <th>...</th>\n      <th>RDOMESTICMIG2011</th>\n      <th>RDOMESTICMIG2012</th>\n      <th>RDOMESTICMIG2013</th>\n      <th>RDOMESTICMIG2014</th>\n      <th>RDOMESTICMIG2015</th>\n      <th>RNETMIG2011</th>\n      <th>RNETMIG2012</th>\n      <th>RNETMIG2013</th>\n      <th>RNETMIG2014</th>\n      <th>RNETMIG2015</th>\n    </tr>\n  </thead>\n  <tbody>\n    <tr>\n      <th>0</th>\n      <td>40</td>\n      <td>3</td>\n      <td>6</td>\n      <td>1</td>\n      <td>0</td>\n      <td>Alabama</td>\n      <td>Alabama</td>\n      <td>4779736</td>\n      <td>4780127</td>\n      <td>4785161</td>\n      <td>...</td>\n      <td>0.002295</td>\n      <td>-0.193196</td>\n      <td>0.381066</td>\n      <td>0.582002</td>\n      <td>-0.467369</td>\n      <td>1.030015</td>\n      <td>0.826644</td>\n      <td>1.383282</td>\n      <td>1.724718</td>\n      <td>0.712594</td>\n    </tr>\n    <tr>\n      <th>1</th>\n      <td>50</td>\n      <td>3</td>\n      <td>6</td>\n      <td>1</td>\n      <td>1</td>\n      <td>Alabama</td>\n      <td>Autauga County</td>\n      <td>54571</td>\n      <td>54571</td>\n      <td>54660</td>\n      <td>...</td>\n      <td>7.242091</td>\n      <td>-2.915927</td>\n      <td>-3.012349</td>\n      <td>2.265971</td>\n      <td>-2.530799</td>\n      <td>7.606016</td>\n      <td>-2.626146</td>\n      <td>-2.722002</td>\n      <td>2.592270</td>\n      <td>-2.187333</td>\n    </tr>\n    <tr>\n      <th>2</th>\n      <td>50</td>\n      <td>3</td>\n      <td>6</td>\n      <td>1</td>\n      <td>3</td>\n      <td>Alabama</td>\n      <td>Baldwin County</td>\n      <td>182265</td>\n      <td>182265</td>\n      <td>183193</td>\n      <td>...</td>\n      <td>14.832960</td>\n      <td>17.647293</td>\n      <td>21.845705</td>\n      <td>19.243287</td>\n      <td>17.197872</td>\n      <td>15.844176</td>\n      <td>18.559627</td>\n      <td>22.727626</td>\n      <td>20.317142</td>\n      <td>18.293499</td>\n    </tr>\n    <tr>\n      <th>3</th>\n      <td>50</td>\n      <td>3</td>\n      <td>6</td>\n      <td>1</td>\n      <td>5</td>\n      <td>Alabama</td>\n      <td>Barbour County</td>\n      <td>27457</td>\n      <td>27457</td>\n      <td>27341</td>\n      <td>...</td>\n      <td>-4.728132</td>\n      <td>-2.500690</td>\n      <td>-7.056824</td>\n      <td>-3.904217</td>\n      <td>-10.543299</td>\n      <td>-4.874741</td>\n      <td>-2.758113</td>\n      <td>-7.167664</td>\n      <td>-3.978583</td>\n      <td>-10.543299</td>\n    </tr>\n    <tr>\n      <th>4</th>\n      <td>50</td>\n      <td>3</td>\n      <td>6</td>\n      <td>1</td>\n      <td>7</td>\n      <td>Alabama</td>\n      <td>Bibb County</td>\n      <td>22915</td>\n      <td>22919</td>\n      <td>22861</td>\n      <td>...</td>\n      <td>-5.527043</td>\n      <td>-5.068871</td>\n      <td>-6.201001</td>\n      <td>-0.177537</td>\n      <td>0.177258</td>\n      <td>-5.088389</td>\n      <td>-4.363636</td>\n      <td>-5.403729</td>\n      <td>0.754533</td>\n      <td>1.107861</td>\n    </tr>\n    <tr>\n      <th>...</th>\n      <td>...</td>\n      <td>...</td>\n      <td>...</td>\n      <td>...</td>\n      <td>...</td>\n      <td>...</td>\n      <td>...</td>\n      <td>...</td>\n      <td>...</td>\n      <td>...</td>\n      <td>...</td>\n      <td>...</td>\n      <td>...</td>\n      <td>...</td>\n      <td>...</td>\n      <td>...</td>\n      <td>...</td>\n      <td>...</td>\n      <td>...</td>\n      <td>...</td>\n      <td>...</td>\n    </tr>\n    <tr>\n      <th>3188</th>\n      <td>50</td>\n      <td>4</td>\n      <td>8</td>\n      <td>56</td>\n      <td>37</td>\n      <td>Wyoming</td>\n      <td>Sweetwater County</td>\n      <td>43806</td>\n      <td>43806</td>\n      <td>43593</td>\n      <td>...</td>\n      <td>1.072643</td>\n      <td>16.243199</td>\n      <td>-5.339774</td>\n      <td>-14.252889</td>\n      <td>-14.248864</td>\n      <td>1.255221</td>\n      <td>16.243199</td>\n      <td>-5.295460</td>\n      <td>-14.075283</td>\n      <td>-14.070195</td>\n    </tr>\n    <tr>\n      <th>3189</th>\n      <td>50</td>\n      <td>4</td>\n      <td>8</td>\n      <td>56</td>\n      <td>39</td>\n      <td>Wyoming</td>\n      <td>Teton County</td>\n      <td>21294</td>\n      <td>21294</td>\n      <td>21297</td>\n      <td>...</td>\n      <td>-1.589565</td>\n      <td>0.972695</td>\n      <td>19.525929</td>\n      <td>14.143021</td>\n      <td>-0.564849</td>\n      <td>0.654527</td>\n      <td>2.408578</td>\n      <td>21.160658</td>\n      <td>16.308671</td>\n      <td>1.520747</td>\n    </tr>\n    <tr>\n      <th>3190</th>\n      <td>50</td>\n      <td>4</td>\n      <td>8</td>\n      <td>56</td>\n      <td>41</td>\n      <td>Wyoming</td>\n      <td>Uinta County</td>\n      <td>21118</td>\n      <td>21118</td>\n      <td>21102</td>\n      <td>...</td>\n      <td>-17.755986</td>\n      <td>-4.916350</td>\n      <td>-6.902954</td>\n      <td>-14.215862</td>\n      <td>-12.127022</td>\n      <td>-18.136812</td>\n      <td>-5.536861</td>\n      <td>-7.521840</td>\n      <td>-14.740608</td>\n      <td>-12.606351</td>\n    </tr>\n    <tr>\n      <th>3191</th>\n      <td>50</td>\n      <td>4</td>\n      <td>8</td>\n      <td>56</td>\n      <td>43</td>\n      <td>Wyoming</td>\n      <td>Washakie County</td>\n      <td>8533</td>\n      <td>8533</td>\n      <td>8545</td>\n      <td>...</td>\n      <td>-11.637475</td>\n      <td>-0.827815</td>\n      <td>-2.013502</td>\n      <td>-17.781491</td>\n      <td>1.682288</td>\n      <td>-11.990126</td>\n      <td>-1.182592</td>\n      <td>-2.250385</td>\n      <td>-18.020168</td>\n      <td>1.441961</td>\n    </tr>\n    <tr>\n      <th>3192</th>\n      <td>50</td>\n      <td>4</td>\n      <td>8</td>\n      <td>56</td>\n      <td>45</td>\n      <td>Wyoming</td>\n      <td>Weston County</td>\n      <td>7208</td>\n      <td>7208</td>\n      <td>7181</td>\n      <td>...</td>\n      <td>-11.752361</td>\n      <td>-8.040059</td>\n      <td>12.372583</td>\n      <td>1.533635</td>\n      <td>6.935294</td>\n      <td>-12.032179</td>\n      <td>-8.040059</td>\n      <td>12.372583</td>\n      <td>1.533635</td>\n      <td>6.935294</td>\n    </tr>\n  </tbody>\n</table>\n<p>3193 rows × 100 columns</p>\n</div>"
     },
     "metadata": {},
     "output_type": "execute_result",
     "execution_count": 12
    }
   ],
   "source": [
    "df = pd.read_csv('./census.csv')\n",
    "df\n"
   ],
   "metadata": {
    "collapsed": false,
    "pycharm": {
     "name": "#%%\n",
     "is_executing": false
    }
   }
  },
  {
   "cell_type": "code",
   "execution_count": 13,
   "outputs": [
    {
     "data": {
      "text/plain": "                           SUMLEV  REGION  DIVISION  STATE  COUNTY  \\\nSTNAME  CTYNAME                                                      \nAlabama Autauga County       50.0     3.0       6.0    1.0     1.0   \n        Baldwin County       50.0     3.0       6.0    1.0     3.0   \n        Barbour County       50.0     3.0       6.0    1.0     5.0   \n        Bibb County          50.0     3.0       6.0    1.0     7.0   \n        Blount County        50.0     3.0       6.0    1.0     9.0   \n...                           ...     ...       ...    ...     ...   \nWyoming Sweetwater County    50.0     4.0       8.0   56.0    37.0   \n        Teton County         50.0     4.0       8.0   56.0    39.0   \n        Uinta County         50.0     4.0       8.0   56.0    41.0   \n        Washakie County      50.0     4.0       8.0   56.0    43.0   \n        Weston County        50.0     4.0       8.0   56.0    45.0   \n\n                           CENSUS2010POP  Estimates Base 2010  \\\nSTNAME  CTYNAME                                                 \nAlabama Autauga County           54571.0              54571.0   \n        Baldwin County          182265.0             182265.0   \n        Barbour County           27457.0              27457.0   \n        Bibb County              22915.0              22919.0   \n        Blount County            57322.0              57322.0   \n...                                  ...                  ...   \nWyoming Sweetwater County        43806.0              43806.0   \n        Teton County             21294.0              21294.0   \n        Uinta County             21118.0              21118.0   \n        Washakie County           8533.0               8533.0   \n        Weston County             7208.0               7208.0   \n\n                           POPESTIMATE2010  POPESTIMATE2011  POPESTIMATE2012  \\\nSTNAME  CTYNAME                                                                \nAlabama Autauga County             54660.0          55253.0          55175.0   \n        Baldwin County            183193.0         186659.0         190396.0   \n        Barbour County             27341.0          27226.0          27159.0   \n        Bibb County                22861.0          22733.0          22642.0   \n        Blount County              57373.0          57711.0          57776.0   \n...                                    ...              ...              ...   \nWyoming Sweetwater County          43593.0          44041.0          45104.0   \n        Teton County               21297.0          21482.0          21697.0   \n        Uinta County               21102.0          20912.0          20989.0   \n        Washakie County             8545.0           8469.0           8443.0   \n        Weston County               7181.0           7114.0           7065.0   \n\n                           ...  RDOMESTICMIG2011  RDOMESTICMIG2012  \\\nSTNAME  CTYNAME            ...                                       \nAlabama Autauga County     ...          7.242091         -2.915927   \n        Baldwin County     ...         14.832960         17.647293   \n        Barbour County     ...         -4.728132         -2.500690   \n        Bibb County        ...         -5.527043         -5.068871   \n        Blount County      ...          1.807375         -1.177622   \n...                        ...               ...               ...   \nWyoming Sweetwater County  ...          1.072643         16.243199   \n        Teton County       ...         -1.589565          0.972695   \n        Uinta County       ...        -17.755986         -4.916350   \n        Washakie County    ...        -11.637475         -0.827815   \n        Weston County      ...        -11.752361         -8.040059   \n\n                           RDOMESTICMIG2013  RDOMESTICMIG2014  \\\nSTNAME  CTYNAME                                                 \nAlabama Autauga County            -3.012349          2.265971   \n        Baldwin County            21.845705         19.243287   \n        Barbour County            -7.056824         -3.904217   \n        Bibb County               -6.201001         -0.177537   \n        Blount County             -1.748766         -2.062535   \n...                                     ...               ...   \nWyoming Sweetwater County         -5.339774        -14.252889   \n        Teton County              19.525929         14.143021   \n        Uinta County              -6.902954        -14.215862   \n        Washakie County           -2.013502        -17.781491   \n        Weston County             12.372583          1.533635   \n\n                           RDOMESTICMIG2015  RNETMIG2011  RNETMIG2012  \\\nSTNAME  CTYNAME                                                         \nAlabama Autauga County            -2.530799     7.606016    -2.626146   \n        Baldwin County            17.197872    15.844176    18.559627   \n        Barbour County           -10.543299    -4.874741    -2.758113   \n        Bibb County                0.177258    -5.088389    -4.363636   \n        Blount County             -1.369970     1.859511    -0.848580   \n...                                     ...          ...          ...   \nWyoming Sweetwater County        -14.248864     1.255221    16.243199   \n        Teton County              -0.564849     0.654527     2.408578   \n        Uinta County             -12.127022   -18.136812    -5.536861   \n        Washakie County            1.682288   -11.990126    -1.182592   \n        Weston County              6.935294   -12.032179    -8.040059   \n\n                           RNETMIG2013  RNETMIG2014  RNETMIG2015  \nSTNAME  CTYNAME                                                   \nAlabama Autauga County       -2.722002     2.592270    -2.187333  \n        Baldwin County       22.727626    20.317142    18.293499  \n        Barbour County       -7.167664    -3.978583   -10.543299  \n        Bibb County          -5.403729     0.754533     1.107861  \n        Blount County        -1.402476    -1.577232    -0.884411  \n...                                ...          ...          ...  \nWyoming Sweetwater County    -5.295460   -14.075283   -14.070195  \n        Teton County         21.160658    16.308671     1.520747  \n        Uinta County         -7.521840   -14.740608   -12.606351  \n        Washakie County      -2.250385   -18.020168     1.441961  \n        Weston County        12.372583     1.533635     6.935294  \n\n[3142 rows x 98 columns]",
      "text/html": "<div>\n<style scoped>\n    .dataframe tbody tr th:only-of-type {\n        vertical-align: middle;\n    }\n\n    .dataframe tbody tr th {\n        vertical-align: top;\n    }\n\n    .dataframe thead th {\n        text-align: right;\n    }\n</style>\n<table border=\"1\" class=\"dataframe\">\n  <thead>\n    <tr style=\"text-align: right;\">\n      <th></th>\n      <th></th>\n      <th>SUMLEV</th>\n      <th>REGION</th>\n      <th>DIVISION</th>\n      <th>STATE</th>\n      <th>COUNTY</th>\n      <th>CENSUS2010POP</th>\n      <th>Estimates Base 2010</th>\n      <th>POPESTIMATE2010</th>\n      <th>POPESTIMATE2011</th>\n      <th>POPESTIMATE2012</th>\n      <th>...</th>\n      <th>RDOMESTICMIG2011</th>\n      <th>RDOMESTICMIG2012</th>\n      <th>RDOMESTICMIG2013</th>\n      <th>RDOMESTICMIG2014</th>\n      <th>RDOMESTICMIG2015</th>\n      <th>RNETMIG2011</th>\n      <th>RNETMIG2012</th>\n      <th>RNETMIG2013</th>\n      <th>RNETMIG2014</th>\n      <th>RNETMIG2015</th>\n    </tr>\n    <tr>\n      <th>STNAME</th>\n      <th>CTYNAME</th>\n      <th></th>\n      <th></th>\n      <th></th>\n      <th></th>\n      <th></th>\n      <th></th>\n      <th></th>\n      <th></th>\n      <th></th>\n      <th></th>\n      <th></th>\n      <th></th>\n      <th></th>\n      <th></th>\n      <th></th>\n      <th></th>\n      <th></th>\n      <th></th>\n      <th></th>\n      <th></th>\n      <th></th>\n    </tr>\n  </thead>\n  <tbody>\n    <tr>\n      <th rowspan=\"5\" valign=\"top\">Alabama</th>\n      <th>Autauga County</th>\n      <td>50.0</td>\n      <td>3.0</td>\n      <td>6.0</td>\n      <td>1.0</td>\n      <td>1.0</td>\n      <td>54571.0</td>\n      <td>54571.0</td>\n      <td>54660.0</td>\n      <td>55253.0</td>\n      <td>55175.0</td>\n      <td>...</td>\n      <td>7.242091</td>\n      <td>-2.915927</td>\n      <td>-3.012349</td>\n      <td>2.265971</td>\n      <td>-2.530799</td>\n      <td>7.606016</td>\n      <td>-2.626146</td>\n      <td>-2.722002</td>\n      <td>2.592270</td>\n      <td>-2.187333</td>\n    </tr>\n    <tr>\n      <th>Baldwin County</th>\n      <td>50.0</td>\n      <td>3.0</td>\n      <td>6.0</td>\n      <td>1.0</td>\n      <td>3.0</td>\n      <td>182265.0</td>\n      <td>182265.0</td>\n      <td>183193.0</td>\n      <td>186659.0</td>\n      <td>190396.0</td>\n      <td>...</td>\n      <td>14.832960</td>\n      <td>17.647293</td>\n      <td>21.845705</td>\n      <td>19.243287</td>\n      <td>17.197872</td>\n      <td>15.844176</td>\n      <td>18.559627</td>\n      <td>22.727626</td>\n      <td>20.317142</td>\n      <td>18.293499</td>\n    </tr>\n    <tr>\n      <th>Barbour County</th>\n      <td>50.0</td>\n      <td>3.0</td>\n      <td>6.0</td>\n      <td>1.0</td>\n      <td>5.0</td>\n      <td>27457.0</td>\n      <td>27457.0</td>\n      <td>27341.0</td>\n      <td>27226.0</td>\n      <td>27159.0</td>\n      <td>...</td>\n      <td>-4.728132</td>\n      <td>-2.500690</td>\n      <td>-7.056824</td>\n      <td>-3.904217</td>\n      <td>-10.543299</td>\n      <td>-4.874741</td>\n      <td>-2.758113</td>\n      <td>-7.167664</td>\n      <td>-3.978583</td>\n      <td>-10.543299</td>\n    </tr>\n    <tr>\n      <th>Bibb County</th>\n      <td>50.0</td>\n      <td>3.0</td>\n      <td>6.0</td>\n      <td>1.0</td>\n      <td>7.0</td>\n      <td>22915.0</td>\n      <td>22919.0</td>\n      <td>22861.0</td>\n      <td>22733.0</td>\n      <td>22642.0</td>\n      <td>...</td>\n      <td>-5.527043</td>\n      <td>-5.068871</td>\n      <td>-6.201001</td>\n      <td>-0.177537</td>\n      <td>0.177258</td>\n      <td>-5.088389</td>\n      <td>-4.363636</td>\n      <td>-5.403729</td>\n      <td>0.754533</td>\n      <td>1.107861</td>\n    </tr>\n    <tr>\n      <th>Blount County</th>\n      <td>50.0</td>\n      <td>3.0</td>\n      <td>6.0</td>\n      <td>1.0</td>\n      <td>9.0</td>\n      <td>57322.0</td>\n      <td>57322.0</td>\n      <td>57373.0</td>\n      <td>57711.0</td>\n      <td>57776.0</td>\n      <td>...</td>\n      <td>1.807375</td>\n      <td>-1.177622</td>\n      <td>-1.748766</td>\n      <td>-2.062535</td>\n      <td>-1.369970</td>\n      <td>1.859511</td>\n      <td>-0.848580</td>\n      <td>-1.402476</td>\n      <td>-1.577232</td>\n      <td>-0.884411</td>\n    </tr>\n    <tr>\n      <th>...</th>\n      <th>...</th>\n      <td>...</td>\n      <td>...</td>\n      <td>...</td>\n      <td>...</td>\n      <td>...</td>\n      <td>...</td>\n      <td>...</td>\n      <td>...</td>\n      <td>...</td>\n      <td>...</td>\n      <td>...</td>\n      <td>...</td>\n      <td>...</td>\n      <td>...</td>\n      <td>...</td>\n      <td>...</td>\n      <td>...</td>\n      <td>...</td>\n      <td>...</td>\n      <td>...</td>\n      <td>...</td>\n    </tr>\n    <tr>\n      <th rowspan=\"5\" valign=\"top\">Wyoming</th>\n      <th>Sweetwater County</th>\n      <td>50.0</td>\n      <td>4.0</td>\n      <td>8.0</td>\n      <td>56.0</td>\n      <td>37.0</td>\n      <td>43806.0</td>\n      <td>43806.0</td>\n      <td>43593.0</td>\n      <td>44041.0</td>\n      <td>45104.0</td>\n      <td>...</td>\n      <td>1.072643</td>\n      <td>16.243199</td>\n      <td>-5.339774</td>\n      <td>-14.252889</td>\n      <td>-14.248864</td>\n      <td>1.255221</td>\n      <td>16.243199</td>\n      <td>-5.295460</td>\n      <td>-14.075283</td>\n      <td>-14.070195</td>\n    </tr>\n    <tr>\n      <th>Teton County</th>\n      <td>50.0</td>\n      <td>4.0</td>\n      <td>8.0</td>\n      <td>56.0</td>\n      <td>39.0</td>\n      <td>21294.0</td>\n      <td>21294.0</td>\n      <td>21297.0</td>\n      <td>21482.0</td>\n      <td>21697.0</td>\n      <td>...</td>\n      <td>-1.589565</td>\n      <td>0.972695</td>\n      <td>19.525929</td>\n      <td>14.143021</td>\n      <td>-0.564849</td>\n      <td>0.654527</td>\n      <td>2.408578</td>\n      <td>21.160658</td>\n      <td>16.308671</td>\n      <td>1.520747</td>\n    </tr>\n    <tr>\n      <th>Uinta County</th>\n      <td>50.0</td>\n      <td>4.0</td>\n      <td>8.0</td>\n      <td>56.0</td>\n      <td>41.0</td>\n      <td>21118.0</td>\n      <td>21118.0</td>\n      <td>21102.0</td>\n      <td>20912.0</td>\n      <td>20989.0</td>\n      <td>...</td>\n      <td>-17.755986</td>\n      <td>-4.916350</td>\n      <td>-6.902954</td>\n      <td>-14.215862</td>\n      <td>-12.127022</td>\n      <td>-18.136812</td>\n      <td>-5.536861</td>\n      <td>-7.521840</td>\n      <td>-14.740608</td>\n      <td>-12.606351</td>\n    </tr>\n    <tr>\n      <th>Washakie County</th>\n      <td>50.0</td>\n      <td>4.0</td>\n      <td>8.0</td>\n      <td>56.0</td>\n      <td>43.0</td>\n      <td>8533.0</td>\n      <td>8533.0</td>\n      <td>8545.0</td>\n      <td>8469.0</td>\n      <td>8443.0</td>\n      <td>...</td>\n      <td>-11.637475</td>\n      <td>-0.827815</td>\n      <td>-2.013502</td>\n      <td>-17.781491</td>\n      <td>1.682288</td>\n      <td>-11.990126</td>\n      <td>-1.182592</td>\n      <td>-2.250385</td>\n      <td>-18.020168</td>\n      <td>1.441961</td>\n    </tr>\n    <tr>\n      <th>Weston County</th>\n      <td>50.0</td>\n      <td>4.0</td>\n      <td>8.0</td>\n      <td>56.0</td>\n      <td>45.0</td>\n      <td>7208.0</td>\n      <td>7208.0</td>\n      <td>7181.0</td>\n      <td>7114.0</td>\n      <td>7065.0</td>\n      <td>...</td>\n      <td>-11.752361</td>\n      <td>-8.040059</td>\n      <td>12.372583</td>\n      <td>1.533635</td>\n      <td>6.935294</td>\n      <td>-12.032179</td>\n      <td>-8.040059</td>\n      <td>12.372583</td>\n      <td>1.533635</td>\n      <td>6.935294</td>\n    </tr>\n  </tbody>\n</table>\n<p>3142 rows × 98 columns</p>\n</div>"
     },
     "metadata": {},
     "output_type": "execute_result",
     "execution_count": 13
    }
   ],
   "source": [
    "(df.where(df['SUMLEV'] == 50)\n",
    " .dropna()\n",
    " .set_index(['STNAME','CTYNAME'])\n",
    " .rename(columns={'ESTIMATESBASE2010':'Estimates Base 2010'}))"
   ],
   "metadata": {
    "collapsed": false,
    "pycharm": {
     "name": "#%%\n",
     "is_executing": false
    }
   }
  },
  {
   "cell_type": "code",
   "execution_count": 14,
   "outputs": [],
   "source": [
    "import numpy as np\n",
    "\n",
    "def min_max(row):\n",
    "    data = row[['POPESTIMATE2010',\n",
    "                'POPESTIMATE2011',\n",
    "                'POPESTIMATE2012',\n",
    "                'POPESTIMATE2013',\n",
    "                'POPESTIMATE2014',\n",
    "                'POPESTIMATE2015']]\n",
    "    return pd.Series({'min':np.min(data),'max':np.max(data)})\n",
    "\n",
    "    \n"
   ],
   "metadata": {
    "collapsed": false,
    "pycharm": {
     "name": "#%%\n",
     "is_executing": false
    }
   }
  },
  {
   "cell_type": "code",
   "execution_count": 15,
   "outputs": [
    {
     "data": {
      "text/plain": "          min      max\n0     4785161  4858979\n1       54660    55347\n2      183193   203709\n3       26489    27341\n4       22512    22861\n...       ...      ...\n3188    43593    45162\n3189    21297    23125\n3190    20822    21102\n3191     8316     8545\n3192     7065     7234\n\n[3193 rows x 2 columns]",
      "text/html": "<div>\n<style scoped>\n    .dataframe tbody tr th:only-of-type {\n        vertical-align: middle;\n    }\n\n    .dataframe tbody tr th {\n        vertical-align: top;\n    }\n\n    .dataframe thead th {\n        text-align: right;\n    }\n</style>\n<table border=\"1\" class=\"dataframe\">\n  <thead>\n    <tr style=\"text-align: right;\">\n      <th></th>\n      <th>min</th>\n      <th>max</th>\n    </tr>\n  </thead>\n  <tbody>\n    <tr>\n      <th>0</th>\n      <td>4785161</td>\n      <td>4858979</td>\n    </tr>\n    <tr>\n      <th>1</th>\n      <td>54660</td>\n      <td>55347</td>\n    </tr>\n    <tr>\n      <th>2</th>\n      <td>183193</td>\n      <td>203709</td>\n    </tr>\n    <tr>\n      <th>3</th>\n      <td>26489</td>\n      <td>27341</td>\n    </tr>\n    <tr>\n      <th>4</th>\n      <td>22512</td>\n      <td>22861</td>\n    </tr>\n    <tr>\n      <th>...</th>\n      <td>...</td>\n      <td>...</td>\n    </tr>\n    <tr>\n      <th>3188</th>\n      <td>43593</td>\n      <td>45162</td>\n    </tr>\n    <tr>\n      <th>3189</th>\n      <td>21297</td>\n      <td>23125</td>\n    </tr>\n    <tr>\n      <th>3190</th>\n      <td>20822</td>\n      <td>21102</td>\n    </tr>\n    <tr>\n      <th>3191</th>\n      <td>8316</td>\n      <td>8545</td>\n    </tr>\n    <tr>\n      <th>3192</th>\n      <td>7065</td>\n      <td>7234</td>\n    </tr>\n  </tbody>\n</table>\n<p>3193 rows × 2 columns</p>\n</div>"
     },
     "metadata": {},
     "output_type": "execute_result",
     "execution_count": 15
    }
   ],
   "source": [
    "df.apply(min_max,axis=1)"
   ],
   "metadata": {
    "collapsed": false,
    "pycharm": {
     "name": "#%%\n",
     "is_executing": false
    }
   }
  },
  {
   "cell_type": "code",
   "execution_count": 16,
   "outputs": [
    {
     "data": {
      "text/plain": "0       4858979\n1         55347\n2        203709\n3         27341\n4         22861\n         ...   \n3188      45162\n3189      23125\n3190      21102\n3191       8545\n3192       7234\nLength: 3193, dtype: int64"
     },
     "metadata": {},
     "output_type": "execute_result",
     "execution_count": 16
    }
   ],
   "source": [
    "rows = ['POPESTIMATE2010',\n",
    "                'POPESTIMATE2011',\n",
    "                'POPESTIMATE2012',\n",
    "                'POPESTIMATE2013',\n",
    "                'POPESTIMATE2014',\n",
    "                'POPESTIMATE2015']\n",
    "df.apply(lambda x: np.max(x[rows]), axis=1)\n",
    "\n"
   ],
   "metadata": {
    "collapsed": false,
    "pycharm": {
     "name": "#%%\n",
     "is_executing": false
    }
   }
  },
  {
   "cell_type": "code",
   "execution_count": null,
   "outputs": [],
   "source": [
    "\n"
   ],
   "metadata": {
    "collapsed": false,
    "pycharm": {
     "name": "#%%\n"
    }
   }
  }
 ],
 "metadata": {
  "kernelspec": {
   "display_name": "Python 3",
   "language": "python",
   "name": "python3"
  },
  "language_info": {
   "codemirror_mode": {
    "name": "ipython",
    "version": 2
   },
   "file_extension": ".py",
   "mimetype": "text/x-python",
   "name": "python",
   "nbconvert_exporter": "python",
   "pygments_lexer": "ipython2",
   "version": "2.7.6"
  },
  "pycharm": {
   "stem_cell": {
    "cell_type": "raw",
    "source": [],
    "metadata": {
     "collapsed": false
    }
   }
  }
 },
 "nbformat": 4,
 "nbformat_minor": 0
}